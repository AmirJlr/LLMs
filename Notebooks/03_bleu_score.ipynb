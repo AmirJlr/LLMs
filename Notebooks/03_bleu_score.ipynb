{
  "cells": [
    {
      "cell_type": "code",
      "source": [
        "from nltk.translate.bleu_score import sentence_bleu\n",
        "\n",
        "reference = [\"من از این که یک فنجان  قهوه گرم مینوشم خوشحال هستم.\".split()]\n",
        "generated = \"من از این که قهوه مینوشم خوشحال هستم.\".split()\n",
        "\n",
        "# Compute BLEU score\n",
        "bleu_score = sentence_bleu(reference, generated)\n",
        "bleu_score\n"
      ],
      "metadata": {
        "id": "jt-U-jcKLvMt",
        "outputId": "e1cd07ba-4b29-4eb1-9317-7a918f089157",
        "colab": {
          "base_uri": "https://localhost:8080/"
        }
      },
      "execution_count": 5,
      "outputs": [
        {
          "output_type": "execute_result",
          "data": {
            "text/plain": [
              "0.355310106137518"
            ]
          },
          "metadata": {},
          "execution_count": 5
        }
      ]
    },
    {
      "cell_type": "code",
      "source": [
        "reference = [\"من از این که یک فنجان  قهوه گرم مینوشم خوشحال هستم.\".split()]\n",
        "generated = \"من از این که قهوه گرم مینوشم خوشحال هستم.\".split()\n",
        "\n",
        "# Compute BLEU score\n",
        "bleu_score = sentence_bleu(reference, generated)\n",
        "bleu_score\n"
      ],
      "metadata": {
        "id": "fFjIZJN_MkbK",
        "outputId": "32a11fe2-90a5-48fe-fdde-a68c404c2167",
        "colab": {
          "base_uri": "https://localhost:8080/"
        }
      },
      "execution_count": 6,
      "outputs": [
        {
          "output_type": "execute_result",
          "data": {
            "text/plain": [
              "0.598690849764947"
            ]
          },
          "metadata": {},
          "execution_count": 6
        }
      ]
    },
    {
      "cell_type": "code",
      "source": [
        "reference = [\"من از این که یک فنجان  قهوه گرم مینوشم خوشحال هستم.\".split()]\n",
        "generated = \"من از این که یک فنجان قهوه مینوشم خوشحال هستم.\".split()\n",
        "\n",
        "# Compute BLEU score\n",
        "bleu_score = sentence_bleu(reference, generated)\n",
        "bleu_score\n"
      ],
      "metadata": {
        "id": "2rU7339jM4ct",
        "outputId": "ca830f5b-1bc9-4fd7-8437-17415bf8d072",
        "colab": {
          "base_uri": "https://localhost:8080/"
        }
      },
      "execution_count": 7,
      "outputs": [
        {
          "output_type": "execute_result",
          "data": {
            "text/plain": [
              "0.710866788975034"
            ]
          },
          "metadata": {},
          "execution_count": 7
        }
      ]
    },
    {
      "cell_type": "code",
      "source": [
        "reference = [\"من از این که یک فنجان  قهوه گرم مینوشم خوشحال هستم.\".split()]\n",
        "generated = \"من از این که یک فنجان قهوه گرم مینوشم خوشحال هستم.\".split()\n",
        "\n",
        "# Compute BLEU score\n",
        "bleu_score = sentence_bleu(reference, generated)\n",
        "bleu_score\n"
      ],
      "metadata": {
        "id": "lUJtNhf6NBWZ",
        "outputId": "003c773b-d610-45ef-85a9-0c06d01ad45b",
        "colab": {
          "base_uri": "https://localhost:8080/"
        }
      },
      "execution_count": 9,
      "outputs": [
        {
          "output_type": "execute_result",
          "data": {
            "text/plain": [
              "1.0"
            ]
          },
          "metadata": {},
          "execution_count": 9
        }
      ]
    },
    {
      "cell_type": "code",
      "source": [],
      "metadata": {
        "id": "ZzIv9zLPNaON"
      },
      "execution_count": null,
      "outputs": []
    }
  ],
  "metadata": {
    "colab": {
      "name": "Welcome To Colab",
      "provenance": []
    },
    "kernelspec": {
      "display_name": "Python 3",
      "name": "python3"
    }
  },
  "nbformat": 4,
  "nbformat_minor": 0
}