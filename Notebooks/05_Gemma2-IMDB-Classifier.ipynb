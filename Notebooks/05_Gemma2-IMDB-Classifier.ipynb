{
 "cells": [
  {
   "cell_type": "code",
   "execution_count": 54,
   "id": "a16f17f3-29d7-4857-89de-044ecd668d03",
   "metadata": {},
   "outputs": [
    {
     "name": "stderr",
     "output_type": "stream",
     "text": [
      "huggingface/tokenizers: The current process just got forked, after parallelism has already been used. Disabling parallelism to avoid deadlocks...\n",
      "To disable this warning, you can either:\n",
      "\t- Avoid using `tokenizers` before the fork if possible\n",
      "\t- Explicitly set the environment variable TOKENIZERS_PARALLELISM=(true | false)\n"
     ]
    },
    {
     "name": "stdout",
     "output_type": "stream",
     "text": [
      "Note: you may need to restart the kernel to use updated packages.\n"
     ]
    }
   ],
   "source": [
    "%pip install \\\n",
    "    transformers \\\n",
    "    datasets \\\n",
    "    evaluate \\\n",
    "    rouge_score\\\n",
    "    loralib \\\n",
    "    bitsandbytes  \\\n",
    "    scikit-learn \\\n",
    "    peft --quiet"
   ]
  },
  {
   "cell_type": "markdown",
   "id": "199d31a2-8f75-4834-85f5-3252ce57821f",
   "metadata": {},
   "source": [
    "## Loading Libraries"
   ]
  },
  {
   "cell_type": "code",
   "execution_count": 1,
   "id": "a4592a74-2781-4034-8a9c-e1e08a5b3ced",
   "metadata": {},
   "outputs": [],
   "source": [
    "import torch\n",
    "import pandas as pd\n",
    "from datasets import Dataset, load_dataset\n",
    "from peft import LoraConfig, PeftModel, prepare_model_for_kbit_training, get_peft_model\n",
    "from transformers import (\n",
    "    AutoTokenizer,\n",
    "    BitsAndBytesConfig,\n",
    "    TrainingArguments,\n",
    "    AutoModelForSequenceClassification, \n",
    "    TrainingArguments, \n",
    "    Trainer,\n",
    "    EarlyStoppingCallback,\n",
    "    DataCollatorWithPadding)\n",
    "\n",
    "import bitsandbytes as bnb\n",
    "\n",
    "import evaluate\n",
    "import numpy as np\n",
    "\n",
    "import random"
   ]
  },
  {
   "cell_type": "markdown",
   "id": "416ef3bf-f36d-4795-a648-222a3266a355",
   "metadata": {},
   "source": [
    "## Logging In to Hugging Face"
   ]
  },
  {
   "cell_type": "markdown",
   "id": "9ef00ffd-b753-4ed3-8cc6-32564b5037bc",
   "metadata": {},
   "source": [
    "**It is necessary for local fine-tuning of Gemma**\n",
    "\n",
    "    Create an Account: Visit https://huggingface.co/ and sign up for a free account.\n",
    "    Generate an Access Token: Go to your profile settings (top right corner) -> Access Tokens -> Create a new token. This token grants access to Hugging Face features like uploading fine-tuned models."
   ]
  },
  {
   "cell_type": "code",
   "execution_count": 2,
   "id": "4d312ba2-b401-4826-b5f2-438d0d0d84f8",
   "metadata": {},
   "outputs": [],
   "source": [
    "#copy toj=ken from https://huggingface.co/settings/tokens\n",
    "import huggingface_hub\n",
    "hf_token = 'hf_...' # put your User Access Tokens here \n",
    "# ابتدا login کنید\n",
    "huggingface_hub.login(token=hf_token)"
   ]
  },
  {
   "cell_type": "code",
   "execution_count": 3,
   "id": "99208c8e-43a5-495a-8ac3-b2003a638d8f",
   "metadata": {},
   "outputs": [
    {
     "name": "stdout",
     "output_type": "stream",
     "text": [
      "aapalireza\n"
     ]
    }
   ],
   "source": [
    "!huggingface-cli whoami"
   ]
  },
  {
   "cell_type": "markdown",
   "id": "5dff1040-5845-4ac8-a2f1-0718b964d5f9",
   "metadata": {},
   "source": [
    "## load the imdb dataset"
   ]
  },
  {
   "cell_type": "code",
   "execution_count": 8,
   "id": "3a7bcd83-0cea-4bc0-97f3-82d1570ebf85",
   "metadata": {},
   "outputs": [],
   "source": [
    "dataset_imdb = load_dataset(\"imdb\")"
   ]
  },
  {
   "cell_type": "markdown",
   "id": "071f6da9-4008-4ac6-9ee5-7a773c305721",
   "metadata": {},
   "source": [
    "### reduce the dataset (optional)"
   ]
  },
  {
   "cell_type": "code",
   "execution_count": 10,
   "id": "c41432ec-f5d7-4fa5-8897-dc3e04e868cc",
   "metadata": {},
   "outputs": [
    {
     "data": {
      "text/plain": [
       "DatasetDict({\n",
       "    train: Dataset({\n",
       "        features: ['text', 'label'],\n",
       "        num_rows: 2500\n",
       "    })\n",
       "    test: Dataset({\n",
       "        features: ['text', 'label'],\n",
       "        num_rows: 2500\n",
       "    })\n",
       "})"
      ]
     },
     "execution_count": 10,
     "metadata": {},
     "output_type": "execute_result"
    }
   ],
   "source": [
    "from datasets import DatasetDict\n",
    "\n",
    "reduction_rate    = 0.1\n",
    "num_train_to_keep = int(reduction_rate * dataset_imdb[\"train\"].num_rows)\n",
    "num_test_to_keep  = int(reduction_rate * dataset_imdb[\"test\"].num_rows)\n",
    "\n",
    "def select_random_indices(dataset, num_to_keep):\n",
    "    indices = list(range(dataset.num_rows))\n",
    "    random.shuffle(indices)\n",
    "    return indices[:num_to_keep]\n",
    "\n",
    "train_indices = select_random_indices(dataset_imdb[\"train\"], num_train_to_keep)\n",
    "test_indices  = select_random_indices(dataset_imdb[\"test\"], num_test_to_keep)\n",
    "\n",
    "dataset_imdb  = DatasetDict({\n",
    "    \"train\": dataset_imdb[\"train\"].select(train_indices),\n",
    "    \"test\": dataset_imdb[\"test\"].select(test_indices),\n",
    "})\n",
    "\n",
    "dataset_imdb"
   ]
  },
  {
   "cell_type": "markdown",
   "id": "ae7e8578-e5c2-4896-8c0b-b7e050f86797",
   "metadata": {},
   "source": [
    "## Tokenization and Quantization"
   ]
  },
  {
   "cell_type": "code",
   "execution_count": 11,
   "id": "11fbff86-2698-4efb-8d02-504992db73e6",
   "metadata": {},
   "outputs": [
    {
     "data": {
      "application/vnd.jupyter.widget-view+json": {
       "model_id": "5aa71d7b595a4e28ba726e0d6893f5dd",
       "version_major": 2,
       "version_minor": 0
      },
      "text/plain": [
       "tokenizer_config.json:   0%|          | 0.00/34.2k [00:00<?, ?B/s]"
      ]
     },
     "metadata": {},
     "output_type": "display_data"
    },
    {
     "data": {
      "application/vnd.jupyter.widget-view+json": {
       "model_id": "0449e25a867b4896a5c7558c80110455",
       "version_major": 2,
       "version_minor": 0
      },
      "text/plain": [
       "tokenizer.model:   0%|          | 0.00/4.24M [00:00<?, ?B/s]"
      ]
     },
     "metadata": {},
     "output_type": "display_data"
    },
    {
     "data": {
      "application/vnd.jupyter.widget-view+json": {
       "model_id": "bae82ea12c474216bff47ada9f8341db",
       "version_major": 2,
       "version_minor": 0
      },
      "text/plain": [
       "tokenizer.json:   0%|          | 0.00/17.5M [00:00<?, ?B/s]"
      ]
     },
     "metadata": {},
     "output_type": "display_data"
    },
    {
     "data": {
      "application/vnd.jupyter.widget-view+json": {
       "model_id": "30b66978e38c4df19d06e9a8a14c53b1",
       "version_major": 2,
       "version_minor": 0
      },
      "text/plain": [
       "special_tokens_map.json:   0%|          | 0.00/636 [00:00<?, ?B/s]"
      ]
     },
     "metadata": {},
     "output_type": "display_data"
    },
    {
     "name": "stdout",
     "output_type": "stream",
     "text": [
      " Vocab size of the model google/gemma-2b-it: 256000\n"
     ]
    }
   ],
   "source": [
    "model_id  = \"google/gemma-2b-it\"\n",
    "tokenizer = AutoTokenizer.from_pretrained(model_id)\n",
    "print(f' Vocab size of the model {model_id}: {len(tokenizer.get_vocab())}')\n"
   ]
  },
  {
   "cell_type": "code",
   "execution_count": 14,
   "id": "480f9481-5928-4490-aa2d-c6b7fa875a8d",
   "metadata": {},
   "outputs": [],
   "source": [
    "def preprocess_function(examples):\n",
    "    return tokenizer(examples[\"text\"], truncation=True,  max_length=512)"
   ]
  },
  {
   "cell_type": "code",
   "execution_count": 21,
   "id": "89275a4b-6eef-4522-98c5-e04255fc17a4",
   "metadata": {},
   "outputs": [
    {
     "data": {
      "application/vnd.jupyter.widget-view+json": {
       "model_id": "3aa8d93979bf494ba6327bf2d1d771ca",
       "version_major": 2,
       "version_minor": 0
      },
      "text/plain": [
       "Map:   0%|          | 0/2500 [00:00<?, ? examples/s]"
      ]
     },
     "metadata": {},
     "output_type": "display_data"
    }
   ],
   "source": [
    "tokenized_imdb = dataset_imdb.map(preprocess_function, batched=True)"
   ]
  },
  {
   "cell_type": "markdown",
   "id": "1bea2d16-291e-419c-8b56-5a5166688e05",
   "metadata": {},
   "source": [
    "This creates a new dataset named tokenized_imdb with additional columns:\n",
    "\n",
    "    input_ids: Numerical representation of the text using tokenizer vocabulary.\n",
    "    attention_mask: Mask to indicate valid elements in padded sequences."
   ]
  },
  {
   "cell_type": "code",
   "execution_count": 42,
   "id": "9c3a559c-0a94-4c5f-99c4-bea18a446e36",
   "metadata": {},
   "outputs": [
    {
     "data": {
      "text/plain": [
       "DatasetDict({\n",
       "    train: Dataset({\n",
       "        features: ['text', 'label', 'input_ids', 'attention_mask'],\n",
       "        num_rows: 2500\n",
       "    })\n",
       "    test: Dataset({\n",
       "        features: ['text', 'label', 'input_ids', 'attention_mask'],\n",
       "        num_rows: 2500\n",
       "    })\n",
       "})"
      ]
     },
     "execution_count": 42,
     "metadata": {},
     "output_type": "execute_result"
    }
   ],
   "source": [
    "tokenized_imdb"
   ]
  },
  {
   "cell_type": "code",
   "execution_count": 46,
   "id": "df264373-6619-4663-b404-4b0785a65ac0",
   "metadata": {},
   "outputs": [
    {
     "name": "stdout",
     "output_type": "stream",
     "text": [
      "228\n",
      "210\n",
      "512\n",
      "210\n",
      "324\n",
      "164\n",
      "120\n",
      "512\n",
      "138\n",
      "164\n"
     ]
    }
   ],
   "source": [
    "for i in range(10):\n",
    "    print(len(tokenized_imdb['train'][i]['input_ids']))"
   ]
  },
  {
   "cell_type": "markdown",
   "id": "700bf84e-2927-40fc-b3ab-270bd3f6bba1",
   "metadata": {},
   "source": [
    "## Label Preparation"
   ]
  },
  {
   "cell_type": "code",
   "execution_count": 43,
   "id": "d4902a6b-8338-48d8-a665-9c52f8d2e7f1",
   "metadata": {},
   "outputs": [],
   "source": [
    "id2label = {0: \"NEGATIVE\", 1: \"POSITIVE\"}\n",
    "label2id = {\"NEGATIVE\": 0, \"POSITIVE\": 1}"
   ]
  },
  {
   "cell_type": "code",
   "execution_count": 47,
   "id": "b29a967c-df8b-42a2-ba04-d58002bf6efe",
   "metadata": {},
   "outputs": [],
   "source": [
    "data_collator = DataCollatorWithPadding(tokenizer=tokenizer)"
   ]
  },
  {
   "cell_type": "markdown",
   "id": "28c3c1d9-f068-48b2-9de3-236f8462bcd7",
   "metadata": {},
   "source": [
    "## Defining Evaluation Metrics"
   ]
  },
  {
   "cell_type": "code",
   "execution_count": 55,
   "id": "f3f4ac62-8e35-4ad7-b822-ced70b46b9fb",
   "metadata": {},
   "outputs": [
    {
     "data": {
      "application/vnd.jupyter.widget-view+json": {
       "model_id": "d55f6e4309434f9cb30e23341f9380ac",
       "version_major": 2,
       "version_minor": 0
      },
      "text/plain": [
       "Downloading builder script:   0%|          | 0.00/6.79k [00:00<?, ?B/s]"
      ]
     },
     "metadata": {},
     "output_type": "display_data"
    },
    {
     "data": {
      "application/vnd.jupyter.widget-view+json": {
       "model_id": "4899902baab34fb8b911e58bbe195975",
       "version_major": 2,
       "version_minor": 0
      },
      "text/plain": [
       "Downloading builder script:   0%|          | 0.00/7.56k [00:00<?, ?B/s]"
      ]
     },
     "metadata": {},
     "output_type": "display_data"
    },
    {
     "data": {
      "application/vnd.jupyter.widget-view+json": {
       "model_id": "8ad151362cda4e5a9950de994e000e24",
       "version_major": 2,
       "version_minor": 0
      },
      "text/plain": [
       "Downloading builder script:   0%|          | 0.00/7.38k [00:00<?, ?B/s]"
      ]
     },
     "metadata": {},
     "output_type": "display_data"
    }
   ],
   "source": [
    "metric = evaluate.combine([\"accuracy\", \"f1\", \"precision\", \"recall\"])\n",
    "\n",
    "def compute_metrics(eval_pred):\n",
    "    predictions, labels = eval_pred\n",
    "    predictions = np.argmax(predictions, axis=1)  # Convert probabilities to predicted labels\n",
    "    return metric.compute(predictions=predictions, references=labels)"
   ]
  },
  {
   "cell_type": "markdown",
   "id": "b3902181-0351-4c63-8b64-a41185748ad9",
   "metadata": {},
   "source": [
    "## Quantization Configuration"
   ]
  },
  {
   "cell_type": "code",
   "execution_count": 56,
   "id": "9be0a0cc-420c-449b-92d4-2e89b4597847",
   "metadata": {},
   "outputs": [],
   "source": [
    "bnb_config = BitsAndBytesConfig(\n",
    "    load_in_4bit=True,  # Enables 4-bit quantization\n",
    "    bnb_4bit_use_double_quant=True,  # Use double quantization for potentially higher accuracy (optional)\n",
    "    bnb_4bit_quant_type=\"nf4\",  # Quantization type (specifics depend on hardware and library)\n",
    "    bnb_4bit_compute_dtype=torch.bfloat16  # Compute dtype for improved efficiency (optional)\n",
    ")"
   ]
  },
  {
   "cell_type": "markdown",
   "id": "b0517566-1c0c-4e42-bc73-2c8dbd8b885d",
   "metadata": {},
   "source": [
    "## Loading GEMMA-2b in 4-bit"
   ]
  },
  {
   "cell_type": "code",
   "execution_count": 57,
   "id": "2b48cdb6-56f5-47e0-a193-fc6b8d5891fa",
   "metadata": {},
   "outputs": [
    {
     "data": {
      "application/vnd.jupyter.widget-view+json": {
       "model_id": "71e81ec2e85447829acb871762f12cf5",
       "version_major": 2,
       "version_minor": 0
      },
      "text/plain": [
       "config.json:   0%|          | 0.00/627 [00:00<?, ?B/s]"
      ]
     },
     "metadata": {},
     "output_type": "display_data"
    },
    {
     "data": {
      "application/vnd.jupyter.widget-view+json": {
       "model_id": "e8223880cb8c47eb9ef56e9e73fabed2",
       "version_major": 2,
       "version_minor": 0
      },
      "text/plain": [
       "model.safetensors.index.json:   0%|          | 0.00/13.5k [00:00<?, ?B/s]"
      ]
     },
     "metadata": {},
     "output_type": "display_data"
    },
    {
     "data": {
      "application/vnd.jupyter.widget-view+json": {
       "model_id": "04f3fb2765214a70b292744e811bea24",
       "version_major": 2,
       "version_minor": 0
      },
      "text/plain": [
       "Fetching 2 files:   0%|          | 0/2 [00:00<?, ?it/s]"
      ]
     },
     "metadata": {},
     "output_type": "display_data"
    },
    {
     "data": {
      "application/vnd.jupyter.widget-view+json": {
       "model_id": "84b09520d30441a4969c9a49dc5b4ecf",
       "version_major": 2,
       "version_minor": 0
      },
      "text/plain": [
       "model-00002-of-00002.safetensors:   0%|          | 0.00/67.1M [00:00<?, ?B/s]"
      ]
     },
     "metadata": {},
     "output_type": "display_data"
    },
    {
     "data": {
      "application/vnd.jupyter.widget-view+json": {
       "model_id": "9ced7b7990c64557bd167b38ee8fbc92",
       "version_major": 2,
       "version_minor": 0
      },
      "text/plain": [
       "model-00001-of-00002.safetensors:   0%|          | 0.00/4.95G [00:00<?, ?B/s]"
      ]
     },
     "metadata": {},
     "output_type": "display_data"
    },
    {
     "data": {
      "application/vnd.jupyter.widget-view+json": {
       "model_id": "426aa3f3d7f74d47b0451b3e0cb8ea05",
       "version_major": 2,
       "version_minor": 0
      },
      "text/plain": [
       "Loading checkpoint shards:   0%|          | 0/2 [00:00<?, ?it/s]"
      ]
     },
     "metadata": {},
     "output_type": "display_data"
    },
    {
     "name": "stderr",
     "output_type": "stream",
     "text": [
      "Some weights of GemmaForSequenceClassification were not initialized from the model checkpoint at google/gemma-2b-it and are newly initialized: ['score.weight']\n",
      "You should probably TRAIN this model on a down-stream task to be able to use it for predictions and inference.\n"
     ]
    }
   ],
   "source": [
    "model = AutoModelForSequenceClassification.from_pretrained(\n",
    "    model_id,  # \"google/gemma-2b-it\"\n",
    "    num_labels=2,  # Number of output labels (2 for binary sentiment classification)\n",
    "    id2label=id2label,  # {0: \"NEGATIVE\", 1: \"POSITIVE\"} \n",
    "    label2id=label2id,  # {\"NEGATIVE\": 0, \"POSITIVE\": 1}\n",
    "    quantization_config=bnb_config  # configuration for quantization \n",
    ")"
   ]
  },
  {
   "cell_type": "markdown",
   "id": "43e8307e-9e95-4762-9b30-ac615ce8ea41",
   "metadata": {},
   "source": [
    "## Fine-Tuning with LoRA Adapter"
   ]
  },
  {
   "cell_type": "markdown",
   "id": "d8c14aa9-ab4a-4525-8568-6f59a03f8ef3",
   "metadata": {},
   "source": [
    "زمانی از prepare_model_for_kbit_training استفاده کنید که:\n",
    "\n",
    "    حافظه GPU محدود دارید\n",
    "    می‌خواهید سرعت آموزش را افزایش دهید\n",
    "    با مدل‌های خیلی بزرگ کار می‌کنید\n",
    "    از کوانتیزاسیون 8-bit استفاده می‌کنید\n"
   ]
  },
  {
   "cell_type": "code",
   "execution_count": 59,
   "id": "c86519aa-5ee7-41d4-944f-c37be5c1afb6",
   "metadata": {},
   "outputs": [],
   "source": [
    "model = prepare_model_for_kbit_training(model)"
   ]
  },
  {
   "cell_type": "code",
   "execution_count": 60,
   "id": "e85d31dc-cac4-42a0-a007-279ccee21969",
   "metadata": {},
   "outputs": [
    {
     "name": "stdout",
     "output_type": "stream",
     "text": [
      "['up_proj', 'q_proj', 'k_proj', 'gate_proj', 'down_proj', 'o_proj', 'v_proj']\n"
     ]
    }
   ],
   "source": [
    "def find_linear_names(model):\n",
    "    \"\"\"\n",
    "    This function identifies all linear layer names within a model that use 4-bit quantization.\n",
    "    Args:\n",
    "        model (torch.nn.Module): The PyTorch model to inspect.\n",
    "    Returns:\n",
    "        list: A list containing the names of all identified linear layers with 4-bit quantization.\n",
    "    \"\"\"\n",
    "    cls = bnb.nn.Linear4bit  \n",
    "\n",
    "    # Set to store identified layer names\n",
    "    lora_module_names = set()\n",
    "\n",
    "    # Iterate through named modules in the model\n",
    "    for name, module in model.named_modules():\n",
    "        # Check if the current module is an instance of the 4-bit linear layer class\n",
    "        if isinstance(module, cls):\n",
    "            names = name.split('.')\n",
    "            lora_module_names.add(names[0] if len(names) == 1 else names[-1])\n",
    "\n",
    "        # Special case: remove 'lm_head' if present\n",
    "        if 'lm_head' in lora_module_names: \n",
    "            lora_module_names.remove('lm_head')\n",
    "    return list(lora_module_names)\n",
    "\n",
    "# Example usage:\n",
    "modules = find_linear_names(model)\n",
    "print(modules)"
   ]
  },
  {
   "cell_type": "code",
   "execution_count": 61,
   "id": "cc72bc31-1261-45b3-ba36-9439ef469d15",
   "metadata": {},
   "outputs": [
    {
     "name": "stdout",
     "output_type": "stream",
     "text": [
      "trainable params: 78,450,688 || all params: 2,584,627,200 || trainable%: 3.0353\n"
     ]
    }
   ],
   "source": [
    "lora_config = LoraConfig(\n",
    "    r=64,  # Reduction factor (lower r means more parameters in the adapter)\n",
    "    lora_alpha=32,  # Dimensionality of the adapter projection\n",
    "    target_modules=modules,  # List of modules to apply the LoRA adapter\n",
    "    lora_dropout=0.05,  # Dropout rate for the adapter\n",
    "    bias=\"none\",  # Bias configuration for the adapter\n",
    "    task_type=\"SEQ_CLS\"  # Task type (sequence classification in this case)\n",
    ")\n",
    "\n",
    "model = get_peft_model(model, lora_config)\n",
    "model.print_trainable_parameters()"
   ]
  },
  {
   "cell_type": "markdown",
   "id": "e1326f71-31cd-4117-abf7-fdce70256e48",
   "metadata": {},
   "source": [
    "## Training Arguments"
   ]
  },
  {
   "cell_type": "code",
   "execution_count": 67,
   "id": "7684e45e-8b58-4821-b1fa-8883a9b954e8",
   "metadata": {},
   "outputs": [],
   "source": [
    "training_args = TrainingArguments(\n",
    "    output_dir=\"epoch_weights\",  # Output directory for checkpoints\n",
    "    learning_rate=2e-5,  # Learning rate for the optimizer\n",
    "    per_device_train_batch_size=1,  # Batch size per device\n",
    "    per_device_eval_batch_size=1,  # Batch size per device for evaluation \n",
    "    num_train_epochs=5,  # Number of training epochs\n",
    "    weight_decay=0.01,  # Weight decay for regularization\n",
    "    eval_strategy='epoch',  # Evaluate after each epoch\n",
    "    save_strategy=\"epoch\",  # Save model checkpoints after each epoch\n",
    "    load_best_model_at_end=True,  # Load the best model based on the chosen metric\n",
    "    push_to_hub=False,  # Disable pushing the model to the Hugging Face Hub \n",
    "    report_to=\"none\",  # Disable logging to Weight&Bias\n",
    "    metric_for_best_model='eval_loss'  # Metric for selecting the best model \n",
    ")"
   ]
  },
  {
   "cell_type": "markdown",
   "id": "0160d293-a289-41b7-adde-fc5ddc167dbd",
   "metadata": {},
   "source": [
    "## Early Stopping (Optional)"
   ]
  },
  {
   "cell_type": "code",
   "execution_count": 68,
   "id": "e29b147f-bf88-473f-b1ad-3b05c2d2f760",
   "metadata": {},
   "outputs": [],
   "source": [
    "early_stop = EarlyStoppingCallback(early_stopping_patience=1, early_stopping_threshold=.0)"
   ]
  },
  {
   "cell_type": "markdown",
   "id": "20c83ae1-5000-412e-8221-cb4cb78014c4",
   "metadata": {},
   "source": [
    "## Starting the Training"
   ]
  },
  {
   "cell_type": "code",
   "execution_count": 69,
   "id": "79e7d960-d573-4619-854f-900376e0ac35",
   "metadata": {},
   "outputs": [
    {
     "name": "stderr",
     "output_type": "stream",
     "text": [
      "/tmp/ipykernel_3386/1513076208.py:1: FutureWarning: `tokenizer` is deprecated and will be removed in version 5.0.0 for `Trainer.__init__`. Use `processing_class` instead.\n",
      "  trainer = Trainer(\n",
      "No label_names provided for model class `PeftModelForSequenceClassification`. Since `PeftModel` hides base models input arguments, if label_names is not given, label_names can't be set automatically within `Trainer`. Note that empty label_names list will be used instead.\n",
      "`use_cache=True` is incompatible with gradient checkpointing. Setting `use_cache=False`.\n",
      "/venv/main/lib/python3.10/site-packages/torch/_dynamo/eval_frame.py:632: UserWarning: torch.utils.checkpoint: the use_reentrant parameter should be passed explicitly. In version 2.5 we will raise an exception if use_reentrant is not passed. use_reentrant=False is recommended, but if you need to preserve the current default behavior, you can pass use_reentrant=True. Refer to docs for more details on the differences between the two variants.\n",
      "  return fn(*args, **kwargs)\n"
     ]
    },
    {
     "data": {
      "text/html": [
       "\n",
       "    <div>\n",
       "      \n",
       "      <progress value='5000' max='12500' style='width:300px; height:20px; vertical-align: middle;'></progress>\n",
       "      [ 5000/12500 39:59 < 1:00:00, 2.08 it/s, Epoch 2/5]\n",
       "    </div>\n",
       "    <table border=\"1\" class=\"dataframe\">\n",
       "  <thead>\n",
       " <tr style=\"text-align: left;\">\n",
       "      <th>Epoch</th>\n",
       "      <th>Training Loss</th>\n",
       "      <th>Validation Loss</th>\n",
       "      <th>Accuracy</th>\n",
       "      <th>F1</th>\n",
       "      <th>Precision</th>\n",
       "      <th>Recall</th>\n",
       "    </tr>\n",
       "  </thead>\n",
       "  <tbody>\n",
       "    <tr>\n",
       "      <td>1</td>\n",
       "      <td>0.320800</td>\n",
       "      <td>0.419146</td>\n",
       "      <td>0.935200</td>\n",
       "      <td>0.936120</td>\n",
       "      <td>0.906799</td>\n",
       "      <td>0.967400</td>\n",
       "    </tr>\n",
       "    <tr>\n",
       "      <td>2</td>\n",
       "      <td>0.060400</td>\n",
       "      <td>0.426101</td>\n",
       "      <td>0.941600</td>\n",
       "      <td>0.939268</td>\n",
       "      <td>0.959218</td>\n",
       "      <td>0.920130</td>\n",
       "    </tr>\n",
       "  </tbody>\n",
       "</table><p>"
      ],
      "text/plain": [
       "<IPython.core.display.HTML object>"
      ]
     },
     "metadata": {},
     "output_type": "display_data"
    },
    {
     "name": "stderr",
     "output_type": "stream",
     "text": [
      "/venv/main/lib/python3.10/site-packages/peft/utils/other.py:1110: UserWarning: Unable to fetch remote file due to the following error (ProtocolError('Connection aborted.', RemoteDisconnected('Remote end closed connection without response')), '(Request ID: c6297790-e675-4a9e-9eea-cde4d8ed81a9)') - silently ignoring the lookup for the file config.json in google/gemma-2b-it.\n",
      "  warnings.warn(\n",
      "/venv/main/lib/python3.10/site-packages/peft/utils/save_and_load.py:236: UserWarning: Could not find a config file in google/gemma-2b-it - will assume that the vocabulary was not modified.\n",
      "  warnings.warn(\n",
      "/venv/main/lib/python3.10/site-packages/torch/_dynamo/eval_frame.py:632: UserWarning: torch.utils.checkpoint: the use_reentrant parameter should be passed explicitly. In version 2.5 we will raise an exception if use_reentrant is not passed. use_reentrant=False is recommended, but if you need to preserve the current default behavior, you can pass use_reentrant=True. Refer to docs for more details on the differences between the two variants.\n",
      "  return fn(*args, **kwargs)\n"
     ]
    },
    {
     "data": {
      "text/plain": [
       "TrainOutput(global_step=5000, training_loss=0.32335407485961914, metrics={'train_runtime': 2400.1422, 'train_samples_per_second': 5.208, 'train_steps_per_second': 5.208, 'total_flos': 1.6345330182144e+16, 'train_loss': 0.32335407485961914, 'epoch': 2.0})"
      ]
     },
     "execution_count": 69,
     "metadata": {},
     "output_type": "execute_result"
    }
   ],
   "source": [
    "trainer = Trainer(\n",
    "    model=model,  # The LoRA-adapted model\n",
    "    args=training_args,  # Training arguments\n",
    "    train_dataset=tokenized_imdb[\"train\"],  # Training dataset\n",
    "    eval_dataset=tokenized_imdb[\"test\"],  # Evaluation dataset\n",
    "    tokenizer=tokenizer,  # Tokenizer for processing text\n",
    "    data_collator=data_collator,  # Data collator for preparing batches\n",
    "    compute_metrics=compute_metrics,  # Function to calculate evaluation metrics\n",
    "    callbacks=[early_stop]  # Optional early stopping callback\n",
    ")\n",
    "\n",
    "trainer.train()"
   ]
  },
  {
   "cell_type": "markdown",
   "id": "35444907-987c-429e-8cc0-458548e92d6e",
   "metadata": {},
   "source": [
    "## save model"
   ]
  },
  {
   "cell_type": "code",
   "execution_count": 74,
   "id": "39c934b6-f829-4f70-a538-ba88df2d012d",
   "metadata": {},
   "outputs": [],
   "source": [
    "peft_model_path=\"./peft-gemma-imdb\"\n",
    "\n",
    "trainer.model.save_pretrained(peft_model_path)\n"
   ]
  },
  {
   "cell_type": "code",
   "execution_count": 75,
   "id": "97ef812d-0b48-4cf5-9a42-156c7d253e1e",
   "metadata": {},
   "outputs": [
    {
     "data": {
      "text/plain": [
       "('./peft-gemma-imdb/tokenizer_config.json',\n",
       " './peft-gemma-imdb/special_tokens_map.json',\n",
       " './peft-gemma-imdb/tokenizer.json')"
      ]
     },
     "execution_count": 75,
     "metadata": {},
     "output_type": "execute_result"
    }
   ],
   "source": [
    "tokenizer.save_pretrained(peft_model_path)"
   ]
  },
  {
   "cell_type": "markdown",
   "id": "faebcd23-f41a-4615-bc2a-5b3b993d62fd",
   "metadata": {},
   "source": [
    "## load the saved model"
   ]
  },
  {
   "cell_type": "code",
   "execution_count": 76,
   "id": "36f811a3-6bf4-4736-8368-2c9f80a5f530",
   "metadata": {},
   "outputs": [
    {
     "data": {
      "application/vnd.jupyter.widget-view+json": {
       "model_id": "46cd0b58ef794709894e975b522ed906",
       "version_major": 2,
       "version_minor": 0
      },
      "text/plain": [
       "Loading checkpoint shards:   0%|          | 0/2 [00:00<?, ?it/s]"
      ]
     },
     "metadata": {},
     "output_type": "display_data"
    },
    {
     "name": "stderr",
     "output_type": "stream",
     "text": [
      "Some weights of GemmaForSequenceClassification were not initialized from the model checkpoint at google/gemma-2b-it and are newly initialized: ['score.weight']\n",
      "You should probably TRAIN this model on a down-stream task to be able to use it for predictions and inference.\n"
     ]
    }
   ],
   "source": [
    "model = AutoModelForSequenceClassification.from_pretrained(\n",
    "   peft_model_path, num_labels=2, \n",
    "    id2label=id2label, \n",
    "    label2id=label2id,\n",
    "    quantization_config=bnb_config,\n",
    ")"
   ]
  },
  {
   "cell_type": "markdown",
   "id": "75675e5e-ff1c-4721-ba59-2d00c9a272a1",
   "metadata": {},
   "source": [
    "## Making Predictions"
   ]
  },
  {
   "cell_type": "code",
   "execution_count": 77,
   "id": "bf01545e-fa07-49a3-827c-3cf0e2a896d3",
   "metadata": {},
   "outputs": [],
   "source": [
    "def predict(input_text):\n",
    "    \"\"\"\n",
    "    Predicts the sentiment label for a given text input.\n",
    "\n",
    "    Args:\n",
    "        input_text (str): The text to predict the sentiment for.\n",
    "\n",
    "    Returns:\n",
    "        float: The predicted probability of the text being positive sentiment.\n",
    "    \"\"\"\n",
    "    inputs = tokenizer(input_text, return_tensors=\"pt\").to(\"cuda\")  # Convert to PyTorch tensors and move to GPU (if available)\n",
    "    with torch.no_grad():\n",
    "        outputs = model(**inputs).logits  # Get the model's output logits\n",
    "    y_prob = torch.sigmoid(outputs).tolist()[0]  # Apply sigmoid activation and convert to list\n",
    "    return np.round(y_prob, 5)  # Round the predicted probability to 5 decimal places"
   ]
  },
  {
   "cell_type": "code",
   "execution_count": 86,
   "id": "df98d01d-c950-4b19-88ae-b15b5c189a0d",
   "metadata": {},
   "outputs": [
    {
     "data": {
      "text/plain": [
       "array([0.09204, 0.99756])"
      ]
     },
     "execution_count": 86,
     "metadata": {},
     "output_type": "execute_result"
    }
   ],
   "source": [
    "predict(\"The movie was the best movie I have ever seen!!!\")"
   ]
  },
  {
   "cell_type": "code",
   "execution_count": 78,
   "id": "dea97ed1-3ce9-4845-b331-0aa1f41c2d07",
   "metadata": {},
   "outputs": [
    {
     "data": {
      "text/plain": [
       "array([0.30786, 0.99707])"
      ]
     },
     "execution_count": 78,
     "metadata": {},
     "output_type": "execute_result"
    }
   ],
   "source": [
    "predict(\"The movie was perfect\")"
   ]
  },
  {
   "cell_type": "code",
   "execution_count": 79,
   "id": "c0f8bfb5-5873-4f35-bf10-aa8b31b75b78",
   "metadata": {},
   "outputs": [
    {
     "data": {
      "text/plain": [
       "array([0.96533, 0.40112])"
      ]
     },
     "execution_count": 79,
     "metadata": {},
     "output_type": "execute_result"
    }
   ],
   "source": [
    "predict(\"The movie was boring\")"
   ]
  },
  {
   "cell_type": "code",
   "execution_count": 84,
   "id": "f54166fb-6478-45d8-825c-b31c5a3e50b4",
   "metadata": {},
   "outputs": [
    {
     "data": {
      "text/plain": [
       "array([0.86816, 0.94971])"
      ]
     },
     "execution_count": 84,
     "metadata": {},
     "output_type": "execute_result"
    }
   ],
   "source": [
    "predict(\"The movie was not bad, it was good\")"
   ]
  },
  {
   "cell_type": "code",
   "execution_count": 85,
   "id": "97b91ab9-e66b-40ef-9936-87a5ac16e33d",
   "metadata": {},
   "outputs": [
    {
     "data": {
      "text/plain": [
       "array([0.99805, 0.01698])"
      ]
     },
     "execution_count": 85,
     "metadata": {},
     "output_type": "execute_result"
    }
   ],
   "source": [
    "predict(\"The movie was not good, it was bad\")"
   ]
  },
  {
   "cell_type": "code",
   "execution_count": 81,
   "id": "c0f9d4e9-c53c-4411-8bf5-00eb5cdfdc34",
   "metadata": {},
   "outputs": [
    {
     "name": "stdout",
     "output_type": "stream",
     "text": [
      "Model Accuracy on Test Data: 1.0000\n"
     ]
    },
    {
     "data": {
      "text/html": [
       "<div>\n",
       "<style scoped>\n",
       "    .dataframe tbody tr th:only-of-type {\n",
       "        vertical-align: middle;\n",
       "    }\n",
       "\n",
       "    .dataframe tbody tr th {\n",
       "        vertical-align: top;\n",
       "    }\n",
       "\n",
       "    .dataframe thead th {\n",
       "        text-align: right;\n",
       "    }\n",
       "</style>\n",
       "<table border=\"1\" class=\"dataframe\">\n",
       "  <thead>\n",
       "    <tr style=\"text-align: right;\">\n",
       "      <th></th>\n",
       "      <th>text</th>\n",
       "      <th>label</th>\n",
       "      <th>prediction</th>\n",
       "      <th>y_pred</th>\n",
       "    </tr>\n",
       "  </thead>\n",
       "  <tbody>\n",
       "    <tr>\n",
       "      <th>0</th>\n",
       "      <td>Not the best plot in the world, but the comedy...</td>\n",
       "      <td>1</td>\n",
       "      <td>[0.0079, 0.99902]</td>\n",
       "      <td>1</td>\n",
       "    </tr>\n",
       "    <tr>\n",
       "      <th>1</th>\n",
       "      <td>This is truly one of the worst films I have ev...</td>\n",
       "      <td>0</td>\n",
       "      <td>[0.99316, 0.00213]</td>\n",
       "      <td>0</td>\n",
       "    </tr>\n",
       "    <tr>\n",
       "      <th>2</th>\n",
       "      <td>This film was very different form the previous...</td>\n",
       "      <td>1</td>\n",
       "      <td>[0.01037, 0.99902]</td>\n",
       "      <td>1</td>\n",
       "    </tr>\n",
       "    <tr>\n",
       "      <th>3</th>\n",
       "      <td>When I saw the trailers for this movie, it loo...</td>\n",
       "      <td>0</td>\n",
       "      <td>[0.9917, 0.00415]</td>\n",
       "      <td>0</td>\n",
       "    </tr>\n",
       "    <tr>\n",
       "      <th>4</th>\n",
       "      <td>This zany film rivals the Ghost and Mr. Chicke...</td>\n",
       "      <td>1</td>\n",
       "      <td>[0.02153, 0.99951]</td>\n",
       "      <td>1</td>\n",
       "    </tr>\n",
       "  </tbody>\n",
       "</table>\n",
       "</div>"
      ],
      "text/plain": [
       "                                                text  label  \\\n",
       "0  Not the best plot in the world, but the comedy...      1   \n",
       "1  This is truly one of the worst films I have ev...      0   \n",
       "2  This film was very different form the previous...      1   \n",
       "3  When I saw the trailers for this movie, it loo...      0   \n",
       "4  This zany film rivals the Ghost and Mr. Chicke...      1   \n",
       "\n",
       "           prediction  y_pred  \n",
       "0   [0.0079, 0.99902]       1  \n",
       "1  [0.99316, 0.00213]       0  \n",
       "2  [0.01037, 0.99902]       1  \n",
       "3   [0.9917, 0.00415]       0  \n",
       "4  [0.02153, 0.99951]       1  "
      ]
     },
     "execution_count": 81,
     "metadata": {},
     "output_type": "execute_result"
    }
   ],
   "source": [
    "df_test = pd.DataFrame(dataset_imdb['test']).head(10) \n",
    "\n",
    "df_test['prediction'] = df_test['text'].map(predict)\n",
    "df_test['y_pred'] = df_test['prediction'].apply(lambda x: np.argmax(x, axis=0))\n",
    "accuracy = (df_test['y_pred'] == df_test['label']).mean()\n",
    "print(f\"Model Accuracy on Test Data: {accuracy:.4f}\")\n",
    "df_test.head()"
   ]
  },
  {
   "cell_type": "code",
   "execution_count": null,
   "id": "9b2ee4dd-7450-4bb4-89e9-a0cdf8c08330",
   "metadata": {},
   "outputs": [],
   "source": []
  }
 ],
 "metadata": {
  "kernelspec": {
   "display_name": "Python3 (ipykernel)",
   "language": "python",
   "name": "python3"
  },
  "language_info": {
   "codemirror_mode": {
    "name": "ipython",
    "version": 3
   },
   "file_extension": ".py",
   "mimetype": "text/x-python",
   "name": "python",
   "nbconvert_exporter": "python",
   "pygments_lexer": "ipython3",
   "version": "3.10.12"
  }
 },
 "nbformat": 4,
 "nbformat_minor": 5
}
