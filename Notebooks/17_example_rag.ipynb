{
  "cells": [
    {
      "cell_type": "code",
      "execution_count": 1,
      "metadata": {
        "id": "Tl_M3BJpgVVn",
        "outputId": "301c0000-c4ca-46eb-d347-cc9cf01c0869",
        "colab": {
          "base_uri": "https://localhost:8080/"
        }
      },
      "outputs": [
        {
          "output_type": "stream",
          "name": "stdout",
          "text": [
            "Requirement already satisfied: transformers in /usr/local/lib/python3.11/dist-packages (4.52.4)\n",
            "Requirement already satisfied: filelock in /usr/local/lib/python3.11/dist-packages (from transformers) (3.18.0)\n",
            "Requirement already satisfied: huggingface-hub<1.0,>=0.30.0 in /usr/local/lib/python3.11/dist-packages (from transformers) (0.33.0)\n",
            "Requirement already satisfied: numpy>=1.17 in /usr/local/lib/python3.11/dist-packages (from transformers) (2.0.2)\n",
            "Requirement already satisfied: packaging>=20.0 in /usr/local/lib/python3.11/dist-packages (from transformers) (24.2)\n",
            "Requirement already satisfied: pyyaml>=5.1 in /usr/local/lib/python3.11/dist-packages (from transformers) (6.0.2)\n",
            "Requirement already satisfied: regex!=2019.12.17 in /usr/local/lib/python3.11/dist-packages (from transformers) (2024.11.6)\n",
            "Requirement already satisfied: requests in /usr/local/lib/python3.11/dist-packages (from transformers) (2.32.3)\n",
            "Requirement already satisfied: tokenizers<0.22,>=0.21 in /usr/local/lib/python3.11/dist-packages (from transformers) (0.21.2)\n",
            "Requirement already satisfied: safetensors>=0.4.3 in /usr/local/lib/python3.11/dist-packages (from transformers) (0.5.3)\n",
            "Requirement already satisfied: tqdm>=4.27 in /usr/local/lib/python3.11/dist-packages (from transformers) (4.67.1)\n",
            "Requirement already satisfied: fsspec>=2023.5.0 in /usr/local/lib/python3.11/dist-packages (from huggingface-hub<1.0,>=0.30.0->transformers) (2025.3.2)\n",
            "Requirement already satisfied: typing-extensions>=3.7.4.3 in /usr/local/lib/python3.11/dist-packages (from huggingface-hub<1.0,>=0.30.0->transformers) (4.14.0)\n",
            "Requirement already satisfied: hf-xet<2.0.0,>=1.1.2 in /usr/local/lib/python3.11/dist-packages (from huggingface-hub<1.0,>=0.30.0->transformers) (1.1.5)\n",
            "Requirement already satisfied: charset-normalizer<4,>=2 in /usr/local/lib/python3.11/dist-packages (from requests->transformers) (3.4.2)\n",
            "Requirement already satisfied: idna<4,>=2.5 in /usr/local/lib/python3.11/dist-packages (from requests->transformers) (3.10)\n",
            "Requirement already satisfied: urllib3<3,>=1.21.1 in /usr/local/lib/python3.11/dist-packages (from requests->transformers) (2.4.0)\n",
            "Requirement already satisfied: certifi>=2017.4.17 in /usr/local/lib/python3.11/dist-packages (from requests->transformers) (2025.6.15)\n",
            "Requirement already satisfied: langchain[docarray] in /usr/local/lib/python3.11/dist-packages (0.3.26)\n",
            "\u001b[33mWARNING: langchain 0.3.26 does not provide the extra 'docarray'\u001b[0m\u001b[33m\n",
            "\u001b[0mRequirement already satisfied: langchain-core<1.0.0,>=0.3.66 in /usr/local/lib/python3.11/dist-packages (from langchain[docarray]) (0.3.66)\n",
            "Requirement already satisfied: langchain-text-splitters<1.0.0,>=0.3.8 in /usr/local/lib/python3.11/dist-packages (from langchain[docarray]) (0.3.8)\n",
            "Requirement already satisfied: langsmith>=0.1.17 in /usr/local/lib/python3.11/dist-packages (from langchain[docarray]) (0.4.1)\n",
            "Requirement already satisfied: pydantic<3.0.0,>=2.7.4 in /usr/local/lib/python3.11/dist-packages (from langchain[docarray]) (2.11.7)\n",
            "Requirement already satisfied: SQLAlchemy<3,>=1.4 in /usr/local/lib/python3.11/dist-packages (from langchain[docarray]) (2.0.41)\n",
            "Requirement already satisfied: requests<3,>=2 in /usr/local/lib/python3.11/dist-packages (from langchain[docarray]) (2.32.3)\n",
            "Requirement already satisfied: PyYAML>=5.3 in /usr/local/lib/python3.11/dist-packages (from langchain[docarray]) (6.0.2)\n",
            "Requirement already satisfied: tenacity!=8.4.0,<10.0.0,>=8.1.0 in /usr/local/lib/python3.11/dist-packages (from langchain-core<1.0.0,>=0.3.66->langchain[docarray]) (8.5.0)\n",
            "Requirement already satisfied: jsonpatch<2.0,>=1.33 in /usr/local/lib/python3.11/dist-packages (from langchain-core<1.0.0,>=0.3.66->langchain[docarray]) (1.33)\n",
            "Requirement already satisfied: packaging<25,>=23.2 in /usr/local/lib/python3.11/dist-packages (from langchain-core<1.0.0,>=0.3.66->langchain[docarray]) (24.2)\n",
            "Requirement already satisfied: typing-extensions>=4.7 in /usr/local/lib/python3.11/dist-packages (from langchain-core<1.0.0,>=0.3.66->langchain[docarray]) (4.14.0)\n",
            "Requirement already satisfied: httpx<1,>=0.23.0 in /usr/local/lib/python3.11/dist-packages (from langsmith>=0.1.17->langchain[docarray]) (0.28.1)\n",
            "Requirement already satisfied: orjson<4.0.0,>=3.9.14 in /usr/local/lib/python3.11/dist-packages (from langsmith>=0.1.17->langchain[docarray]) (3.10.18)\n",
            "Requirement already satisfied: requests-toolbelt<2.0.0,>=1.0.0 in /usr/local/lib/python3.11/dist-packages (from langsmith>=0.1.17->langchain[docarray]) (1.0.0)\n",
            "Requirement already satisfied: zstandard<0.24.0,>=0.23.0 in /usr/local/lib/python3.11/dist-packages (from langsmith>=0.1.17->langchain[docarray]) (0.23.0)\n",
            "Requirement already satisfied: annotated-types>=0.6.0 in /usr/local/lib/python3.11/dist-packages (from pydantic<3.0.0,>=2.7.4->langchain[docarray]) (0.7.0)\n",
            "Requirement already satisfied: pydantic-core==2.33.2 in /usr/local/lib/python3.11/dist-packages (from pydantic<3.0.0,>=2.7.4->langchain[docarray]) (2.33.2)\n",
            "Requirement already satisfied: typing-inspection>=0.4.0 in /usr/local/lib/python3.11/dist-packages (from pydantic<3.0.0,>=2.7.4->langchain[docarray]) (0.4.1)\n",
            "Requirement already satisfied: charset-normalizer<4,>=2 in /usr/local/lib/python3.11/dist-packages (from requests<3,>=2->langchain[docarray]) (3.4.2)\n",
            "Requirement already satisfied: idna<4,>=2.5 in /usr/local/lib/python3.11/dist-packages (from requests<3,>=2->langchain[docarray]) (3.10)\n",
            "Requirement already satisfied: urllib3<3,>=1.21.1 in /usr/local/lib/python3.11/dist-packages (from requests<3,>=2->langchain[docarray]) (2.4.0)\n",
            "Requirement already satisfied: certifi>=2017.4.17 in /usr/local/lib/python3.11/dist-packages (from requests<3,>=2->langchain[docarray]) (2025.6.15)\n",
            "Requirement already satisfied: greenlet>=1 in /usr/local/lib/python3.11/dist-packages (from SQLAlchemy<3,>=1.4->langchain[docarray]) (3.2.3)\n",
            "Requirement already satisfied: anyio in /usr/local/lib/python3.11/dist-packages (from httpx<1,>=0.23.0->langsmith>=0.1.17->langchain[docarray]) (4.9.0)\n",
            "Requirement already satisfied: httpcore==1.* in /usr/local/lib/python3.11/dist-packages (from httpx<1,>=0.23.0->langsmith>=0.1.17->langchain[docarray]) (1.0.9)\n",
            "Requirement already satisfied: h11>=0.16 in /usr/local/lib/python3.11/dist-packages (from httpcore==1.*->httpx<1,>=0.23.0->langsmith>=0.1.17->langchain[docarray]) (0.16.0)\n",
            "Requirement already satisfied: jsonpointer>=1.9 in /usr/local/lib/python3.11/dist-packages (from jsonpatch<2.0,>=1.33->langchain-core<1.0.0,>=0.3.66->langchain[docarray]) (3.0.0)\n",
            "Requirement already satisfied: sniffio>=1.1 in /usr/local/lib/python3.11/dist-packages (from anyio->httpx<1,>=0.23.0->langsmith>=0.1.17->langchain[docarray]) (1.3.1)\n",
            "Collecting pypdf\n",
            "  Downloading pypdf-5.7.0-py3-none-any.whl.metadata (7.2 kB)\n",
            "Downloading pypdf-5.7.0-py3-none-any.whl (305 kB)\n",
            "\u001b[2K   \u001b[90m━━━━━━━━━━━━━━━━━━━━━━━━━━━━━━━━━━━━━━━━\u001b[0m \u001b[32m305.5/305.5 kB\u001b[0m \u001b[31m7.1 MB/s\u001b[0m eta \u001b[36m0:00:00\u001b[0m\n",
            "\u001b[?25hInstalling collected packages: pypdf\n",
            "Successfully installed pypdf-5.7.0\n",
            "Collecting langchain_huggingface\n",
            "  Downloading langchain_huggingface-0.3.0-py3-none-any.whl.metadata (996 bytes)\n",
            "Requirement already satisfied: langchain-core<1.0.0,>=0.3.65 in /usr/local/lib/python3.11/dist-packages (from langchain_huggingface) (0.3.66)\n",
            "Requirement already satisfied: tokenizers>=0.19.1 in /usr/local/lib/python3.11/dist-packages (from langchain_huggingface) (0.21.2)\n",
            "Requirement already satisfied: huggingface-hub>=0.30.2 in /usr/local/lib/python3.11/dist-packages (from langchain_huggingface) (0.33.0)\n",
            "Requirement already satisfied: filelock in /usr/local/lib/python3.11/dist-packages (from huggingface-hub>=0.30.2->langchain_huggingface) (3.18.0)\n",
            "Requirement already satisfied: fsspec>=2023.5.0 in /usr/local/lib/python3.11/dist-packages (from huggingface-hub>=0.30.2->langchain_huggingface) (2025.3.2)\n",
            "Requirement already satisfied: packaging>=20.9 in /usr/local/lib/python3.11/dist-packages (from huggingface-hub>=0.30.2->langchain_huggingface) (24.2)\n",
            "Requirement already satisfied: pyyaml>=5.1 in /usr/local/lib/python3.11/dist-packages (from huggingface-hub>=0.30.2->langchain_huggingface) (6.0.2)\n",
            "Requirement already satisfied: requests in /usr/local/lib/python3.11/dist-packages (from huggingface-hub>=0.30.2->langchain_huggingface) (2.32.3)\n",
            "Requirement already satisfied: tqdm>=4.42.1 in /usr/local/lib/python3.11/dist-packages (from huggingface-hub>=0.30.2->langchain_huggingface) (4.67.1)\n",
            "Requirement already satisfied: typing-extensions>=3.7.4.3 in /usr/local/lib/python3.11/dist-packages (from huggingface-hub>=0.30.2->langchain_huggingface) (4.14.0)\n",
            "Requirement already satisfied: hf-xet<2.0.0,>=1.1.2 in /usr/local/lib/python3.11/dist-packages (from huggingface-hub>=0.30.2->langchain_huggingface) (1.1.5)\n",
            "Requirement already satisfied: langsmith>=0.3.45 in /usr/local/lib/python3.11/dist-packages (from langchain-core<1.0.0,>=0.3.65->langchain_huggingface) (0.4.1)\n",
            "Requirement already satisfied: tenacity!=8.4.0,<10.0.0,>=8.1.0 in /usr/local/lib/python3.11/dist-packages (from langchain-core<1.0.0,>=0.3.65->langchain_huggingface) (8.5.0)\n",
            "Requirement already satisfied: jsonpatch<2.0,>=1.33 in /usr/local/lib/python3.11/dist-packages (from langchain-core<1.0.0,>=0.3.65->langchain_huggingface) (1.33)\n",
            "Requirement already satisfied: pydantic>=2.7.4 in /usr/local/lib/python3.11/dist-packages (from langchain-core<1.0.0,>=0.3.65->langchain_huggingface) (2.11.7)\n",
            "Requirement already satisfied: jsonpointer>=1.9 in /usr/local/lib/python3.11/dist-packages (from jsonpatch<2.0,>=1.33->langchain-core<1.0.0,>=0.3.65->langchain_huggingface) (3.0.0)\n",
            "Requirement already satisfied: httpx<1,>=0.23.0 in /usr/local/lib/python3.11/dist-packages (from langsmith>=0.3.45->langchain-core<1.0.0,>=0.3.65->langchain_huggingface) (0.28.1)\n",
            "Requirement already satisfied: orjson<4.0.0,>=3.9.14 in /usr/local/lib/python3.11/dist-packages (from langsmith>=0.3.45->langchain-core<1.0.0,>=0.3.65->langchain_huggingface) (3.10.18)\n",
            "Requirement already satisfied: requests-toolbelt<2.0.0,>=1.0.0 in /usr/local/lib/python3.11/dist-packages (from langsmith>=0.3.45->langchain-core<1.0.0,>=0.3.65->langchain_huggingface) (1.0.0)\n",
            "Requirement already satisfied: zstandard<0.24.0,>=0.23.0 in /usr/local/lib/python3.11/dist-packages (from langsmith>=0.3.45->langchain-core<1.0.0,>=0.3.65->langchain_huggingface) (0.23.0)\n",
            "Requirement already satisfied: annotated-types>=0.6.0 in /usr/local/lib/python3.11/dist-packages (from pydantic>=2.7.4->langchain-core<1.0.0,>=0.3.65->langchain_huggingface) (0.7.0)\n",
            "Requirement already satisfied: pydantic-core==2.33.2 in /usr/local/lib/python3.11/dist-packages (from pydantic>=2.7.4->langchain-core<1.0.0,>=0.3.65->langchain_huggingface) (2.33.2)\n",
            "Requirement already satisfied: typing-inspection>=0.4.0 in /usr/local/lib/python3.11/dist-packages (from pydantic>=2.7.4->langchain-core<1.0.0,>=0.3.65->langchain_huggingface) (0.4.1)\n",
            "Requirement already satisfied: charset-normalizer<4,>=2 in /usr/local/lib/python3.11/dist-packages (from requests->huggingface-hub>=0.30.2->langchain_huggingface) (3.4.2)\n",
            "Requirement already satisfied: idna<4,>=2.5 in /usr/local/lib/python3.11/dist-packages (from requests->huggingface-hub>=0.30.2->langchain_huggingface) (3.10)\n",
            "Requirement already satisfied: urllib3<3,>=1.21.1 in /usr/local/lib/python3.11/dist-packages (from requests->huggingface-hub>=0.30.2->langchain_huggingface) (2.4.0)\n",
            "Requirement already satisfied: certifi>=2017.4.17 in /usr/local/lib/python3.11/dist-packages (from requests->huggingface-hub>=0.30.2->langchain_huggingface) (2025.6.15)\n",
            "Requirement already satisfied: anyio in /usr/local/lib/python3.11/dist-packages (from httpx<1,>=0.23.0->langsmith>=0.3.45->langchain-core<1.0.0,>=0.3.65->langchain_huggingface) (4.9.0)\n",
            "Requirement already satisfied: httpcore==1.* in /usr/local/lib/python3.11/dist-packages (from httpx<1,>=0.23.0->langsmith>=0.3.45->langchain-core<1.0.0,>=0.3.65->langchain_huggingface) (1.0.9)\n",
            "Requirement already satisfied: h11>=0.16 in /usr/local/lib/python3.11/dist-packages (from httpcore==1.*->httpx<1,>=0.23.0->langsmith>=0.3.45->langchain-core<1.0.0,>=0.3.65->langchain_huggingface) (0.16.0)\n",
            "Requirement already satisfied: sniffio>=1.1 in /usr/local/lib/python3.11/dist-packages (from anyio->httpx<1,>=0.23.0->langsmith>=0.3.45->langchain-core<1.0.0,>=0.3.65->langchain_huggingface) (1.3.1)\n",
            "Downloading langchain_huggingface-0.3.0-py3-none-any.whl (27 kB)\n",
            "Installing collected packages: langchain_huggingface\n",
            "Successfully installed langchain_huggingface-0.3.0\n",
            "Collecting bitsandbytes\n",
            "  Downloading bitsandbytes-0.46.0-py3-none-manylinux_2_24_x86_64.whl.metadata (10 kB)\n",
            "Requirement already satisfied: torch<3,>=2.2 in /usr/local/lib/python3.11/dist-packages (from bitsandbytes) (2.6.0+cu124)\n",
            "Requirement already satisfied: numpy>=1.17 in /usr/local/lib/python3.11/dist-packages (from bitsandbytes) (2.0.2)\n",
            "Requirement already satisfied: filelock in /usr/local/lib/python3.11/dist-packages (from torch<3,>=2.2->bitsandbytes) (3.18.0)\n",
            "Requirement already satisfied: typing-extensions>=4.10.0 in /usr/local/lib/python3.11/dist-packages (from torch<3,>=2.2->bitsandbytes) (4.14.0)\n",
            "Requirement already satisfied: networkx in /usr/local/lib/python3.11/dist-packages (from torch<3,>=2.2->bitsandbytes) (3.5)\n",
            "Requirement already satisfied: jinja2 in /usr/local/lib/python3.11/dist-packages (from torch<3,>=2.2->bitsandbytes) (3.1.6)\n",
            "Requirement already satisfied: fsspec in /usr/local/lib/python3.11/dist-packages (from torch<3,>=2.2->bitsandbytes) (2025.3.2)\n",
            "Collecting nvidia-cuda-nvrtc-cu12==12.4.127 (from torch<3,>=2.2->bitsandbytes)\n",
            "  Downloading nvidia_cuda_nvrtc_cu12-12.4.127-py3-none-manylinux2014_x86_64.whl.metadata (1.5 kB)\n",
            "Collecting nvidia-cuda-runtime-cu12==12.4.127 (from torch<3,>=2.2->bitsandbytes)\n",
            "  Downloading nvidia_cuda_runtime_cu12-12.4.127-py3-none-manylinux2014_x86_64.whl.metadata (1.5 kB)\n",
            "Collecting nvidia-cuda-cupti-cu12==12.4.127 (from torch<3,>=2.2->bitsandbytes)\n",
            "  Downloading nvidia_cuda_cupti_cu12-12.4.127-py3-none-manylinux2014_x86_64.whl.metadata (1.6 kB)\n",
            "Collecting nvidia-cudnn-cu12==9.1.0.70 (from torch<3,>=2.2->bitsandbytes)\n",
            "  Downloading nvidia_cudnn_cu12-9.1.0.70-py3-none-manylinux2014_x86_64.whl.metadata (1.6 kB)\n",
            "Collecting nvidia-cublas-cu12==12.4.5.8 (from torch<3,>=2.2->bitsandbytes)\n",
            "  Downloading nvidia_cublas_cu12-12.4.5.8-py3-none-manylinux2014_x86_64.whl.metadata (1.5 kB)\n",
            "Collecting nvidia-cufft-cu12==11.2.1.3 (from torch<3,>=2.2->bitsandbytes)\n",
            "  Downloading nvidia_cufft_cu12-11.2.1.3-py3-none-manylinux2014_x86_64.whl.metadata (1.5 kB)\n",
            "Collecting nvidia-curand-cu12==10.3.5.147 (from torch<3,>=2.2->bitsandbytes)\n",
            "  Downloading nvidia_curand_cu12-10.3.5.147-py3-none-manylinux2014_x86_64.whl.metadata (1.5 kB)\n",
            "Collecting nvidia-cusolver-cu12==11.6.1.9 (from torch<3,>=2.2->bitsandbytes)\n",
            "  Downloading nvidia_cusolver_cu12-11.6.1.9-py3-none-manylinux2014_x86_64.whl.metadata (1.6 kB)\n",
            "Collecting nvidia-cusparse-cu12==12.3.1.170 (from torch<3,>=2.2->bitsandbytes)\n",
            "  Downloading nvidia_cusparse_cu12-12.3.1.170-py3-none-manylinux2014_x86_64.whl.metadata (1.6 kB)\n",
            "Requirement already satisfied: nvidia-cusparselt-cu12==0.6.2 in /usr/local/lib/python3.11/dist-packages (from torch<3,>=2.2->bitsandbytes) (0.6.2)\n",
            "Requirement already satisfied: nvidia-nccl-cu12==2.21.5 in /usr/local/lib/python3.11/dist-packages (from torch<3,>=2.2->bitsandbytes) (2.21.5)\n",
            "Requirement already satisfied: nvidia-nvtx-cu12==12.4.127 in /usr/local/lib/python3.11/dist-packages (from torch<3,>=2.2->bitsandbytes) (12.4.127)\n",
            "Collecting nvidia-nvjitlink-cu12==12.4.127 (from torch<3,>=2.2->bitsandbytes)\n",
            "  Downloading nvidia_nvjitlink_cu12-12.4.127-py3-none-manylinux2014_x86_64.whl.metadata (1.5 kB)\n",
            "Requirement already satisfied: triton==3.2.0 in /usr/local/lib/python3.11/dist-packages (from torch<3,>=2.2->bitsandbytes) (3.2.0)\n",
            "Requirement already satisfied: sympy==1.13.1 in /usr/local/lib/python3.11/dist-packages (from torch<3,>=2.2->bitsandbytes) (1.13.1)\n",
            "Requirement already satisfied: mpmath<1.4,>=1.1.0 in /usr/local/lib/python3.11/dist-packages (from sympy==1.13.1->torch<3,>=2.2->bitsandbytes) (1.3.0)\n",
            "Requirement already satisfied: MarkupSafe>=2.0 in /usr/local/lib/python3.11/dist-packages (from jinja2->torch<3,>=2.2->bitsandbytes) (3.0.2)\n",
            "Downloading bitsandbytes-0.46.0-py3-none-manylinux_2_24_x86_64.whl (67.0 MB)\n",
            "\u001b[2K   \u001b[90m━━━━━━━━━━━━━━━━━━━━━━━━━━━━━━━━━━━━━━━━\u001b[0m \u001b[32m67.0/67.0 MB\u001b[0m \u001b[31m11.9 MB/s\u001b[0m eta \u001b[36m0:00:00\u001b[0m\n",
            "\u001b[?25hDownloading nvidia_cublas_cu12-12.4.5.8-py3-none-manylinux2014_x86_64.whl (363.4 MB)\n",
            "\u001b[2K   \u001b[90m━━━━━━━━━━━━━━━━━━━━━━━━━━━━━━━━━━━━━━━━\u001b[0m \u001b[32m363.4/363.4 MB\u001b[0m \u001b[31m4.4 MB/s\u001b[0m eta \u001b[36m0:00:00\u001b[0m\n",
            "\u001b[?25hDownloading nvidia_cuda_cupti_cu12-12.4.127-py3-none-manylinux2014_x86_64.whl (13.8 MB)\n",
            "\u001b[2K   \u001b[90m━━━━━━━━━━━━━━━━━━━━━━━━━━━━━━━━━━━━━━━━\u001b[0m \u001b[32m13.8/13.8 MB\u001b[0m \u001b[31m53.5 MB/s\u001b[0m eta \u001b[36m0:00:00\u001b[0m\n",
            "\u001b[?25hDownloading nvidia_cuda_nvrtc_cu12-12.4.127-py3-none-manylinux2014_x86_64.whl (24.6 MB)\n",
            "\u001b[2K   \u001b[90m━━━━━━━━━━━━━━━━━━━━━━━━━━━━━━━━━━━━━━━━\u001b[0m \u001b[32m24.6/24.6 MB\u001b[0m \u001b[31m31.1 MB/s\u001b[0m eta \u001b[36m0:00:00\u001b[0m\n",
            "\u001b[?25hDownloading nvidia_cuda_runtime_cu12-12.4.127-py3-none-manylinux2014_x86_64.whl (883 kB)\n",
            "\u001b[2K   \u001b[90m━━━━━━━━━━━━━━━━━━━━━━━━━━━━━━━━━━━━━━━━\u001b[0m \u001b[32m883.7/883.7 kB\u001b[0m \u001b[31m45.9 MB/s\u001b[0m eta \u001b[36m0:00:00\u001b[0m\n",
            "\u001b[?25hDownloading nvidia_cudnn_cu12-9.1.0.70-py3-none-manylinux2014_x86_64.whl (664.8 MB)\n",
            "\u001b[2K   \u001b[90m━━━━━━━━━━━━━━━━━━━━━━━━━━━━━━━━━━━━━━━━\u001b[0m \u001b[32m664.8/664.8 MB\u001b[0m \u001b[31m2.2 MB/s\u001b[0m eta \u001b[36m0:00:00\u001b[0m\n",
            "\u001b[?25hDownloading nvidia_cufft_cu12-11.2.1.3-py3-none-manylinux2014_x86_64.whl (211.5 MB)\n",
            "\u001b[2K   \u001b[90m━━━━━━━━━━━━━━━━━━━━━━━━━━━━━━━━━━━━━━━━\u001b[0m \u001b[32m211.5/211.5 MB\u001b[0m \u001b[31m6.9 MB/s\u001b[0m eta \u001b[36m0:00:00\u001b[0m\n",
            "\u001b[?25hDownloading nvidia_curand_cu12-10.3.5.147-py3-none-manylinux2014_x86_64.whl (56.3 MB)\n",
            "\u001b[2K   \u001b[90m━━━━━━━━━━━━━━━━━━━━━━━━━━━━━━━━━━━━━━━━\u001b[0m \u001b[32m56.3/56.3 MB\u001b[0m \u001b[31m14.5 MB/s\u001b[0m eta \u001b[36m0:00:00\u001b[0m\n",
            "\u001b[?25hDownloading nvidia_cusolver_cu12-11.6.1.9-py3-none-manylinux2014_x86_64.whl (127.9 MB)\n",
            "\u001b[2K   \u001b[90m━━━━━━━━━━━━━━━━━━━━━━━━━━━━━━━━━━━━━━━━\u001b[0m \u001b[32m127.9/127.9 MB\u001b[0m \u001b[31m7.4 MB/s\u001b[0m eta \u001b[36m0:00:00\u001b[0m\n",
            "\u001b[?25hDownloading nvidia_cusparse_cu12-12.3.1.170-py3-none-manylinux2014_x86_64.whl (207.5 MB)\n",
            "\u001b[2K   \u001b[90m━━━━━━━━━━━━━━━━━━━━━━━━━━━━━━━━━━━━━━━━\u001b[0m \u001b[32m207.5/207.5 MB\u001b[0m \u001b[31m5.6 MB/s\u001b[0m eta \u001b[36m0:00:00\u001b[0m\n",
            "\u001b[?25hDownloading nvidia_nvjitlink_cu12-12.4.127-py3-none-manylinux2014_x86_64.whl (21.1 MB)\n",
            "\u001b[2K   \u001b[90m━━━━━━━━━━━━━━━━━━━━━━━━━━━━━━━━━━━━━━━━\u001b[0m \u001b[32m21.1/21.1 MB\u001b[0m \u001b[31m108.0 MB/s\u001b[0m eta \u001b[36m0:00:00\u001b[0m\n",
            "\u001b[?25hInstalling collected packages: nvidia-nvjitlink-cu12, nvidia-curand-cu12, nvidia-cufft-cu12, nvidia-cuda-runtime-cu12, nvidia-cuda-nvrtc-cu12, nvidia-cuda-cupti-cu12, nvidia-cublas-cu12, nvidia-cusparse-cu12, nvidia-cudnn-cu12, nvidia-cusolver-cu12, bitsandbytes\n",
            "  Attempting uninstall: nvidia-nvjitlink-cu12\n",
            "    Found existing installation: nvidia-nvjitlink-cu12 12.5.82\n",
            "    Uninstalling nvidia-nvjitlink-cu12-12.5.82:\n",
            "      Successfully uninstalled nvidia-nvjitlink-cu12-12.5.82\n",
            "  Attempting uninstall: nvidia-curand-cu12\n",
            "    Found existing installation: nvidia-curand-cu12 10.3.6.82\n",
            "    Uninstalling nvidia-curand-cu12-10.3.6.82:\n",
            "      Successfully uninstalled nvidia-curand-cu12-10.3.6.82\n",
            "  Attempting uninstall: nvidia-cufft-cu12\n",
            "    Found existing installation: nvidia-cufft-cu12 11.2.3.61\n",
            "    Uninstalling nvidia-cufft-cu12-11.2.3.61:\n",
            "      Successfully uninstalled nvidia-cufft-cu12-11.2.3.61\n",
            "  Attempting uninstall: nvidia-cuda-runtime-cu12\n",
            "    Found existing installation: nvidia-cuda-runtime-cu12 12.5.82\n",
            "    Uninstalling nvidia-cuda-runtime-cu12-12.5.82:\n",
            "      Successfully uninstalled nvidia-cuda-runtime-cu12-12.5.82\n",
            "  Attempting uninstall: nvidia-cuda-nvrtc-cu12\n",
            "    Found existing installation: nvidia-cuda-nvrtc-cu12 12.5.82\n",
            "    Uninstalling nvidia-cuda-nvrtc-cu12-12.5.82:\n",
            "      Successfully uninstalled nvidia-cuda-nvrtc-cu12-12.5.82\n",
            "  Attempting uninstall: nvidia-cuda-cupti-cu12\n",
            "    Found existing installation: nvidia-cuda-cupti-cu12 12.5.82\n",
            "    Uninstalling nvidia-cuda-cupti-cu12-12.5.82:\n",
            "      Successfully uninstalled nvidia-cuda-cupti-cu12-12.5.82\n",
            "  Attempting uninstall: nvidia-cublas-cu12\n",
            "    Found existing installation: nvidia-cublas-cu12 12.5.3.2\n",
            "    Uninstalling nvidia-cublas-cu12-12.5.3.2:\n",
            "      Successfully uninstalled nvidia-cublas-cu12-12.5.3.2\n",
            "  Attempting uninstall: nvidia-cusparse-cu12\n",
            "    Found existing installation: nvidia-cusparse-cu12 12.5.1.3\n",
            "    Uninstalling nvidia-cusparse-cu12-12.5.1.3:\n",
            "      Successfully uninstalled nvidia-cusparse-cu12-12.5.1.3\n",
            "  Attempting uninstall: nvidia-cudnn-cu12\n",
            "    Found existing installation: nvidia-cudnn-cu12 9.3.0.75\n",
            "    Uninstalling nvidia-cudnn-cu12-9.3.0.75:\n",
            "      Successfully uninstalled nvidia-cudnn-cu12-9.3.0.75\n",
            "  Attempting uninstall: nvidia-cusolver-cu12\n",
            "    Found existing installation: nvidia-cusolver-cu12 11.6.3.83\n",
            "    Uninstalling nvidia-cusolver-cu12-11.6.3.83:\n",
            "      Successfully uninstalled nvidia-cusolver-cu12-11.6.3.83\n",
            "Successfully installed bitsandbytes-0.46.0 nvidia-cublas-cu12-12.4.5.8 nvidia-cuda-cupti-cu12-12.4.127 nvidia-cuda-nvrtc-cu12-12.4.127 nvidia-cuda-runtime-cu12-12.4.127 nvidia-cudnn-cu12-9.1.0.70 nvidia-cufft-cu12-11.2.1.3 nvidia-curand-cu12-10.3.5.147 nvidia-cusolver-cu12-11.6.1.9 nvidia-cusparse-cu12-12.3.1.170 nvidia-nvjitlink-cu12-12.4.127\n"
          ]
        }
      ],
      "source": [
        "!pip install transformers\n",
        "!pip install langchain[docarray]\n",
        "!pip install docarray\n",
        "!pip install pypdf\n",
        "!pip install langchain_huggingface\n",
        "!pip install bitsandbytes\n",
        "!pip install langchain-community"
      ]
    },
    {
      "cell_type": "code",
      "source": [
        "from transformers import AutoTokenizer, AutoModelForCausalLM, pipeline\n",
        "from transformers import BitsAndBytesConfig\n",
        "import torch\n",
        "\n",
        "bnb_config = BitsAndBytesConfig(\n",
        "    load_in_4bit=True,\n",
        "    bnb_4bit_use_double_quant=True,\n",
        "    bnb_4bit_compute_dtype=\"float16\",\n",
        "    bnb_4bit_quant_type=\"nf4\"\n",
        ")\n",
        "\n",
        "tokenizer = AutoTokenizer.from_pretrained(\"unsloth/gemma-2-9b-it\", use_fast=True)\n",
        "model = AutoModelForCausalLM.from_pretrained(\n",
        "    \"unsloth/gemma-2-9b-it\",\n",
        "    device_map=\"auto\",\n",
        "    quantization_config=bnb_config,\n",
        "    torch_dtype=torch.float16\n",
        ")\n",
        "\n",
        "text_gen = pipeline(\n",
        "    \"text-generation\",\n",
        "    model=model,\n",
        "    tokenizer=tokenizer,\n",
        "    max_new_tokens=64\n",
        ")"
      ],
      "metadata": {
        "id": "-HP97Hn9twCP",
        "outputId": "d7ef441c-f2f5-43fb-f52a-72dc1a657c21",
        "colab": {
          "base_uri": "https://localhost:8080/",
          "height": 194,
          "referenced_widgets": [
            "35b191fd3b85405e91a60c9472ebd215",
            "50135fc29dee4733a545414bbf193be2",
            "30ef5cfd95c74b3d8d59407435ec67dc",
            "8e125145224a4a409ffaaa7db074fc34",
            "56954f3d493f4b1983120826f01f4a23",
            "45a923d3bf644244aa236bcda810991b",
            "a6c35e578064434c8f700611832f5a45",
            "898253d5f3ee449ba16dd3d00f8e8434",
            "be289233c9604a36b5bb3c42c46dbe79",
            "573aedbe53be4c218ed71c7129dce25b",
            "de7d2205a2044c4bacc80111b0c9c75c"
          ]
        }
      },
      "execution_count": 1,
      "outputs": [
        {
          "output_type": "stream",
          "name": "stderr",
          "text": [
            "/usr/local/lib/python3.11/dist-packages/huggingface_hub/utils/_auth.py:94: UserWarning: \n",
            "The secret `HF_TOKEN` does not exist in your Colab secrets.\n",
            "To authenticate with the Hugging Face Hub, create a token in your settings tab (https://huggingface.co/settings/tokens), set it as secret in your Google Colab and restart your session.\n",
            "You will be able to reuse this secret in all of your notebooks.\n",
            "Please note that authentication is recommended but still optional to access public models or datasets.\n",
            "  warnings.warn(\n"
          ]
        },
        {
          "output_type": "display_data",
          "data": {
            "text/plain": [
              "Loading checkpoint shards:   0%|          | 0/4 [00:00<?, ?it/s]"
            ],
            "application/vnd.jupyter.widget-view+json": {
              "version_major": 2,
              "version_minor": 0,
              "model_id": "35b191fd3b85405e91a60c9472ebd215"
            }
          },
          "metadata": {}
        },
        {
          "output_type": "stream",
          "name": "stderr",
          "text": [
            "Device set to use cuda:0\n"
          ]
        }
      ]
    },
    {
      "cell_type": "code",
      "source": [
        "from langchain_huggingface import HuggingFaceEmbeddings\n",
        "\n",
        "\n",
        "embedding_name = 'sbunlp/fabert'\n",
        "embeddings = HuggingFaceEmbeddings(\n",
        "    model_name=embedding_name,\n",
        "    # model_kwargs={\"trust_remote_code\": True},\n",
        ")"
      ],
      "metadata": {
        "id": "oe6C0FOsmEFL",
        "outputId": "65238c0d-bcf4-40f9-f692-57bd1c7ad5a3",
        "colab": {
          "base_uri": "https://localhost:8080/"
        }
      },
      "execution_count": 2,
      "outputs": [
        {
          "output_type": "stream",
          "name": "stderr",
          "text": [
            "WARNING:sentence_transformers.SentenceTransformer:No sentence-transformers model found with name sbunlp/fabert. Creating a new one with mean pooling.\n",
            "Some weights of BertModel were not initialized from the model checkpoint at sbunlp/fabert and are newly initialized: ['pooler.dense.bias', 'pooler.dense.weight']\n",
            "You should probably TRAIN this model on a down-stream task to be able to use it for predictions and inference.\n"
          ]
        }
      ]
    },
    {
      "cell_type": "code",
      "execution_count": 3,
      "metadata": {
        "id": "f6WOmapugVVo"
      },
      "outputs": [],
      "source": [
        "from langchain_huggingface.llms import HuggingFacePipeline\n",
        "\n",
        "llm = HuggingFacePipeline(pipeline=text_gen)\n",
        "\n",
        "def apply_chat_template_and_response(prompt):\n",
        "    messages = [\n",
        "    {'role': 'user', 'content': prompt}\n",
        "    ]\n",
        "\n",
        "    text = tokenizer.apply_chat_template(\n",
        "        messages,\n",
        "        tokenize=False,\n",
        "        add_generation_prompt=True,\n",
        "        enable_thinking=False\n",
        "    )\n",
        "\n",
        "    return llm.invoke(text).replace(text, '')"
      ]
    },
    {
      "cell_type": "code",
      "execution_count": 8,
      "metadata": {
        "id": "aKyNd40qgVVq",
        "outputId": "62b0115b-7e38-4939-8d40-6426e44a2377",
        "colab": {
          "base_uri": "https://localhost:8080/"
        }
      },
      "outputs": [
        {
          "output_type": "stream",
          "name": "stdout",
          "text": [
            "من Gemma هستم، یک مدل زبان بزرگ که توسط Google DeepMind آموزش دیده ام.\n",
            "\n"
          ]
        }
      ],
      "source": [
        "print(apply_chat_template_and_response(\"اسمت چیه؟\"))"
      ]
    },
    {
      "cell_type": "code",
      "execution_count": 9,
      "metadata": {
        "id": "jH06VO3kgVVq",
        "outputId": "cdace1be-99af-4f57-8447-722de58d69db",
        "colab": {
          "base_uri": "https://localhost:8080/"
        }
      },
      "outputs": [
        {
          "output_type": "stream",
          "name": "stdout",
          "text": [
            "\"هر کجا که عشق باشد، امید است.\"\n",
            "\n",
            "This translates to: **\"Wherever there is love, there is hope.\"**\n",
            "\n",
            "\n",
            "Let me know if you'd like another quote!\n",
            "\n"
          ]
        }
      ],
      "source": [
        "from langchain_core.output_parsers import StrOutputParser\n",
        "\n",
        "parser = StrOutputParser()\n",
        "response_from_model = apply_chat_template_and_response(\"Give me an inspirational quote in persian\")\n",
        "parsed_response = parser.parse(response_from_model)\n",
        "print(parsed_response)"
      ]
    },
    {
      "cell_type": "code",
      "execution_count": 10,
      "metadata": {
        "id": "GRrhZ4vegVVq",
        "outputId": "4442c0cb-3334-4b2b-8bc0-9359554a0771",
        "colab": {
          "base_uri": "https://localhost:8080/",
          "height": 106
        }
      },
      "outputs": [
        {
          "output_type": "execute_result",
          "data": {
            "text/plain": [
              "'\\nYou are a helpful and knowledgeable AI assistant. Use only the information retrieved from the documents to answer the user\\'s question in Persian (Farsi). If the answer is not found in the retrieved context, respond with: \"متاسفانه اطلاعاتی در این مورد ندارم.\" Do not use your own knowledge beyond the provided context. Be accurate, clear, and polite. Never mention the documents or the retrieval process in your response. Just respond naturally in Persian.\\nContext: Here is some context\\n\\nQuestion: Here is a question\\n\\nAnswer:\\n\\n'"
            ],
            "application/vnd.google.colaboratory.intrinsic+json": {
              "type": "string"
            }
          },
          "metadata": {},
          "execution_count": 10
        }
      ],
      "source": [
        "from langchain.prompts import PromptTemplate\n",
        "\n",
        "template = \"\"\"\n",
        "You are a helpful and knowledgeable AI assistant. Use only the information retrieved from the documents to answer the user's question in Persian (Farsi). If the answer is not found in the retrieved context, respond with: \"متاسفانه اطلاعاتی در این مورد ندارم.\" Do not use your own knowledge beyond the provided context. Be accurate, clear, and polite. Never mention the documents or the retrieval process in your response. Just respond naturally in Persian.\n",
        "Context: {context}\n",
        "\n",
        "Question: {question}\n",
        "\n",
        "Answer:\n",
        "\n",
        "\"\"\"\n",
        "\n",
        "prompt = PromptTemplate.from_template(template)\n",
        "prompt.format(context=\"Here is some context\", question=\"Here is a question\")"
      ]
    },
    {
      "cell_type": "code",
      "execution_count": 11,
      "metadata": {
        "id": "MfhbsTk_gVVq",
        "outputId": "a7b789a7-7ee8-4f32-811d-a76e13b6e8d0",
        "colab": {
          "base_uri": "https://localhost:8080/"
        }
      },
      "outputs": [
        {
          "output_type": "stream",
          "name": "stdout",
          "text": [
            "اسم شما علیرضا است. \n",
            "\n"
          ]
        }
      ],
      "source": [
        "context = \"من علیرضا هستم و تهران زندگی میکنم.\"\n",
        "formatted_prompt = prompt.format(context = context, question=\"اسم من چیه؟\")\n",
        "response_from_model = apply_chat_template_and_response(formatted_prompt)\n",
        "parsed_response = parser.parse(response_from_model)\n",
        "print(parsed_response.replace(formatted_prompt, \"\"))"
      ]
    },
    {
      "cell_type": "code",
      "execution_count": 12,
      "metadata": {
        "id": "NFKMvtX0gVVq",
        "outputId": "38b04d23-9743-4e17-e6da-a1f85bbfbd36",
        "colab": {
          "base_uri": "https://localhost:8080/"
        }
      },
      "outputs": [
        {
          "output_type": "stream",
          "name": "stdout",
          "text": [
            "متاسفانه اطلاعاتی در این مورد ندارم. \n",
            "\n"
          ]
        }
      ],
      "source": [
        "formatted_prompt = prompt.format(context=context, question=\"من چند سالمه؟\")\n",
        "response_from_model = apply_chat_template_and_response(formatted_prompt)\n",
        "parsed_response = parser.parse(response_from_model)\n",
        "print(parsed_response.replace(formatted_prompt, \"\"))"
      ]
    },
    {
      "cell_type": "code",
      "source": [
        "!wget -O sample_doc.pdf \"https://github.com/Alireza-Akhavan/datasets_and_models/raw/main/sample_doc.pdf\""
      ],
      "metadata": {
        "id": "cw7NxO3g03od",
        "outputId": "0b7660c1-da8e-485d-f36e-ca14a61001b2",
        "colab": {
          "base_uri": "https://localhost:8080/"
        }
      },
      "execution_count": 13,
      "outputs": [
        {
          "output_type": "stream",
          "name": "stdout",
          "text": [
            "--2025-07-01 16:32:00--  https://github.com/Alireza-Akhavan/datasets_and_models/raw/main/sample_doc.pdf\n",
            "Resolving github.com (github.com)... 140.82.113.4\n",
            "Connecting to github.com (github.com)|140.82.113.4|:443... connected.\n",
            "HTTP request sent, awaiting response... 302 Found\n",
            "Location: https://raw.githubusercontent.com/Alireza-Akhavan/datasets_and_models/main/sample_doc.pdf [following]\n",
            "--2025-07-01 16:32:00--  https://raw.githubusercontent.com/Alireza-Akhavan/datasets_and_models/main/sample_doc.pdf\n",
            "Resolving raw.githubusercontent.com (raw.githubusercontent.com)... 185.199.108.133, 185.199.109.133, 185.199.110.133, ...\n",
            "Connecting to raw.githubusercontent.com (raw.githubusercontent.com)|185.199.108.133|:443... connected.\n",
            "HTTP request sent, awaiting response... 200 OK\n",
            "Length: 242084 (236K) [application/octet-stream]\n",
            "Saving to: ‘sample_doc.pdf’\n",
            "\n",
            "sample_doc.pdf      100%[===================>] 236.41K  --.-KB/s    in 0.02s   \n",
            "\n",
            "2025-07-01 16:32:00 (9.44 MB/s) - ‘sample_doc.pdf’ saved [242084/242084]\n",
            "\n"
          ]
        }
      ]
    },
    {
      "cell_type": "code",
      "execution_count": 15,
      "metadata": {
        "id": "is_mM6rTgVVr",
        "outputId": "fd5d65f1-a1f2-4fa7-e973-645b1a4e25ab",
        "colab": {
          "base_uri": "https://localhost:8080/"
        }
      },
      "outputs": [
        {
          "output_type": "stream",
          "name": "stderr",
          "text": [
            "WARNING:pypdf._reader:Ignoring wrong pointing object 105 0 (offset 0)\n"
          ]
        },
        {
          "output_type": "execute_result",
          "data": {
            "text/plain": [
              "[Document(metadata={'producer': 'Skia/PDF m137 Google Docs Renderer', 'creator': 'PyPDF', 'creationdate': '', 'title': '__شیوه نامه ایجاد و ترمیم سابقه تحصیلی - اصلاح شده نهایی 25 فروردین_', 'source': 'sample_doc.pdf', 'total_pages': 6, 'page': 0, 'page_label': '1'}, page_content='ﺑﺎﺳﻣﮫ ﺗﻌﺎﻟﯽ    اﺻﻼح ﻧﺎﻣﮫ ﺷﯾوه اﺟراﯾﯽ  ﻧﺣوه  اﯾﺟﺎد  و  ﺗرﻣﯾم  ﺳﺎﺑﻘﮫ  ﺗﺣﺻﯾﻠﯽ  ھﺎی آزﻣون  ﻧﮭﺎﯾﯽ  دوره  دوم  ﻣﺗوﺳطﮫ  ﻣﺻوب  \\nﭘﻧﺟﺎه وھﻔﺗﻣﯾن)\\n57\\n(\\n \\nﺟﻠﺳﮫ\\n \\nﮐﻣﯾﺳﯾون\\n \\nﻣﻌﯾن\\n \\nﺷورای ﻋﺎﻟﯽ\\n \\nآﻣوزش\\n \\nو\\n \\nﭘرورش\\n \\nﺗﺎرﯾﺦ\\n \\n27/9/1402\\n  ﺑﮫ اﺳﺗﻧﺎد  ﻣﺻوﺑﮫ  ﺟﻠﺳﮫ  1053  ﺗﺎرﯾﺦ  04/12/1403  ﻣوﺿوع  ﻋﻧﺎوﯾن  دروس  آزﻣون  ﻧﮭﺎﯾﯽ  دوره  دوم  \\nﻣﺗوﺳطﮫ\\n \\nو\\n \\nﭼﮕوﻧﮕﯽ\\n \\nﺗرﻣﯾم\\n \\nﺳﺎﺑﻘﮫ\\n \\nﺗﺣﺻﯾﻠﯽ\\n \\nﺳواﺑق\\n \\nﺗﺣﺻﯾﻠﯽ،\\n \\nﺷﯾوه ﻧﺎﻣﮫ\\n \\nاﺟراﯾﯽ\\n \\nﻧﺣوه\\n \\nاﯾﺟﺎد\\n \\nﺳﺎﺑﻘﮫ\\n \\nﺗﺣﺻﯾﻠﯽ\\n \\nو\\n \\nﺗرﻣﯾم\\n \\nﺳﺎﺑﻘﮫ\\n \\nﺗﺣﺻﯾﻠﯽ\\n \\nآزﻣون ھﺎی\\n \\nﻧﮭﺎﯾﯽ\\n \\nدوره\\n \\nدوم\\n \\nﻣﺗوﺳطﮫ)اﺻﻼﺣﯾﮫ\\n \\nﺷﯾوه ﻧﺎﻣﮫ\\n \\nﻣﺻوب\\n \\nﭘﻧﺟﺎه\\n \\nو\\n \\nھﻔﺗﻣﯾن\\n \\nﺟﻠﺳﮫ\\n \\nﮐﻣﯾﺳﯾون\\n \\nﻣﻌﯾن\\n \\nﺷورای\\n \\nﻋﺎﻟﯽ\\n \\nآﻣوزش\\n \\nو\\n \\nﭘرورش\\n \\nﺗﺎرﯾﺦ\\n \\n27/09/1402\\n(و\\n \\nﻣﺻوﺑﮫ\\n \\nﺟﻠﺳﮫ\\n \\n915\\n \\nﺷورای\\n \\nﻋﺎﻟﯽ\\n \\nاﻧﻘﻼب\\n \\nﻓرھﻧﮕﯽ\\n \\nﺗﺎرﯾﺦ.......\\n \\nﺑﮫ\\n \\nﺷرح\\n \\nزﯾر\\n \\nﺑﮫ\\n \\nﺗﺻوﯾب\\n \\nرﺳﯾد.\\n ﺗﻌﺎرﯾف(اﻟف ﺳﺎﺑﻘﮫ ﺗﺣﺻﯾﻠﯽ:  ﻣطﺎﺑق  ﻣﺎده١  ﻣﺻوﺑﮫ  ﺟﻠﺳﮫ  ٣۴٨  ﺗﺎرﯾﺦ  15/04/1400  ﺷورای  ﻋﺎﻟﯽ  اﻧﻘﻼب  ﻓرھﻧﮕﯽ،  \\nﺳﺎﺑﻘﮫ\\n \\nﺗﺣﺻﯾﻠﯽ\\n \\nﻋﺑﺎرت\\n \\nاﺳت\\n \\nاز؛\\n \\nﻧﻣرات\\n \\nدروس\\n \\nﻋﻣوﻣﯽ\\n \\nو\\n \\nﺗﺧﺻﺻﯽ\\n \\nدوره\\n \\nدوم\\n \\nﻣﺗوﺳطﮫ\\n \\nدر\\n \\nﻧظﺎم\\n \\nآﻣوزﺷﯽ\\n \\n3\\n-\\n3\\n-\\n3\\n-\\n3\\n \\nو\\n \\nدﯾﭘﻠم\\n \\nو\\n \\nﭘﯾش داﻧﺷﮕﺎھﯽ\\n \\nدر\\n \\nﻧظﺎم\\n \\nآﻣوزﺷﯽ\\n \\nﻗﺑﻠﯽ\\n \\nھر\\n \\nرﺷﺗﮫ\\n \\nﺗﺣﺻﯾﻠﯽ\\n \\nدوره\\n \\nﻣﺗوﺳطﮫ\\n \\nاﺳت\\n \\nﮐﮫ\\n \\nاﻣﺗﺣﺎﻧﺎت)آزﻣون ھﺎی(\\n \\nآن\\n \\nﻣطﺎﺑق\\n \\nاﺻول\\n \\nﺳﻧﺟش\\n \\nو\\n \\nاﻧدازه ﮔﯾری،\\n \\nﺑﮫ\\n \\nطور\\n \\nاﺳﺗﺎﻧدارد\\n \\nو\\n \\nﮐﯾﻔﯽ\\n \\nﺗوﺳط\\n \\nوزارت\\n \\nآﻣوزش\\n \\nو\\n \\nﭘرورش\\n \\nﺑﮫ\\n \\nﺻورت\\n \\nﺳراﺳری\\n \\nو\\n \\nﻧﮭﺎﯾﯽ)ﮐﺗﺑﯽ(\\n \\nدر\\n \\nﺳﻧوات\\n \\nﻣﺧﺗﻠف\\n \\nﻣطﺎﺑق\\n \\nﻣﺻوﺑﺎت\\n \\nﺷورای\\n \\nﻋﺎﻟﯽ\\n \\nآﻣوزش\\n \\nو\\n \\nﭘرورش\\n \\nﺑرﮔزار\\n \\nﺷده\\n \\nﺑﺎﺷد.\\n دوره :ﻣﺗوﺳطﮫ اﯾن  دوره  ﺷﺎﻣل  ﻧظﺎم ھﺎی  آﻣوزﺷﯽ  دوره  ﺷش ﺳﺎﻟﮫ  ﻣﺗوﺳطﮫ،  دوره  ﭼﮭﺎرﺳﺎﻟﮫ  ﻣﺗوﺳطﮫ،  \\nدوره\\n \\nﻣﺗوﺳطﮫ\\n \\nﺳﮫ ﺳﺎﻟﮫ\\n \\nﻧﯾم ﺳﺎﻟﯽ\\n \\nواﺣدی/\\n \\nﺳﺎﻟﯽ واﺣدی،\\n \\nدوره\\n \\nﭘﯾش داﻧﺷﮕﺎھﯽ\\n \\nﻧﯾم ﺳﺎﻟﯽ\\n \\nواﺣدی/\\n \\nﺳﺎﻟﯽ\\n \\nواﺣدی\\n \\nو\\n \\nدوره\\n \\nدوم\\n \\nﻣﺗوﺳطﮫ\\n \\nﻧظﺎم\\n \\n3\\n-\\n3\\n-\\n3\\n-\\n3\\n \\nﻣﯽ ﺑﺎﺷد\\n اﯾﺟﺎد ﺳﺎﺑﻘﮫ :ﺗﺣﺻﯾﻠﯽ  ﺷرﮐت  اﻓراد  واﺟد  ﺷراﯾط  و  ﻓﺎﻗد  ﺳﺎﺑﻘﮫ  ﺗﺣﺻﯾﻠﯽ  در  آزﻣون ھﺎی ﻧﮭﺎﯾﯽ ﻧوﺑت  \\nﺧردادﻣﺎه.\\n ﺗرﻣﯾم ﺳﺎﺑﻘﮫ :ﺗﺣﺻﯾﻠﯽ  ﺷرﮐت  ﻣﺟدد  اﻓراد  واﺟد  ﺷراﯾط  و  دارای  ﺳﺎﺑﻘﮫ  ﺗﺣﺻﯾﻠﯽ  در  ﻣﺟﻣوﻋﮫ   آزﻣون  \\nدروس\\n \\nﻧﮭﺎﯾﯽ)دارای\\n \\nﺳﺎﺑﻘﮫ(\\n \\nﯾﮏ ﭘﺎﯾﮫ.\\n دروس ﻣؤﺛر:  دروس  ﻧﮭﺎﯾﯽ  ﮐﮫ  ﺑر  اﺳﺎس  ﻧﺗﺎﯾﺞ  آﻧﮭﺎ  ﻧﻣره  ﮐل  ﺳﺎﺑﻘﮫ  ﺗﺣﺻﯾﻠﯽ  ﻣﺣﺎﺳﺑﮫ  ﻣﯽ ﺷود.  ﻧﻣره ﮐل ﺳﺎﺑﻘﮫ  :ﺗﺣﺻﯾﻠﯽ  ﺑراﺳﺎس  ﺑﻧد  2 - 2  ﻣﺻوﺑﮫ  ﺟﻠﺳﮫ  843  ﻣورخ  15/04/1400  ﺷورای  ﻋﺎﻟﯽ  \\nاﻧﻘﻼب\\n \\nﻓرھﻧﮕﯽ\\n \\nﻧﻣره\\n \\nﮐل\\n \\nﺳﺎﺑﻘﮫ\\n \\nﺗﺣﺻﯾﻠﯽ\\n \\nﻋﺑﺎرت\\n \\nاﺳت\\n \\nاز\\n \\nﻣﯾﺎﻧﮕﯾن\\n \\nﻧﻣره\\n \\nوزﻧﯽ\\n \\nﻧﻣرات\\n \\nﺗراز\\n \\nﺷده\\n \\nدروس\\n \\nﻋﻣوﻣﯽ\\n \\nو\\n \\nﺗﺧﺻﺻﯽ.\\n ھﺎی ﮔروه آزﻣﺎﯾﺷﯽ:  ﺗﻘﺳﯾم ﺑﻧدی  رﺷﺗﮫ ھﺎی  ﺗﺣﺻﯾﻠﯽ  آﻣوزش  ﻋﺎﻟﯽ  ﮐﮫ  ﺷﺎﻣل  ﭘﻧﺞ  ﮔروه:  ﻋﻠوم  رﯾﺎﺿﯽ  و  ﻓﻧﯽ،  \\nﻋﻠوم ﺗﺟرﺑﯽ\\n \\nو\\n \\nﻋﻠوم اﻧﺳﺎﻧﯽ)ﮔروه ھﺎی\\n \\nاﺻﻠﯽ(\\n \\nو\\n \\nزﺑﺎن ھﺎی\\n \\nﺧﺎرﺟﯽ\\n \\nو\\n \\nھﻧر)ﮔروه ھﺎی\\n \\nﻏﯾراﺻﻠﯽ(\\n \\nﻣﯽ ﺑﺎﺷﻧد.\\n (ب ﻣﺷﻣوﻻن اﯾﺟﺎد  ﺳﺎﺑﻘﮫ  :ﺗﺣﺻﯾﻠﯽ  داﻧش آﻣوزان ﺷﺎﺧﮫ  ﻧظری  ﺷﺎﻏل  ﺑﮫ  ﺗﺣﺻﯾل  در  ﭘﺎﯾﮫ ھﺎی  ﯾﺎزدھم  و  دوازدھم،  ﺑﺎ  ﺷرﮐت  در  آزﻣون ھﺎی  \\nﻧﮭﺎﯾﯽ\\n \\nﻧوﺑت\\n \\nﺧردادﻣﺎه،\\n \\nﺳﺎﺑﻘﮫ\\n \\nﺗﺣﺻﯾﻠﯽ\\n \\nﺑرای\\n \\nﮔروه\\n \\nآزﻣﺎﯾﺷﯽ\\n \\nﻣﺗﻧﺎظر\\n \\nﺑﺎ\\n \\nرﺷﺗﮫ\\n \\nﺗﺣﺻﯾﻠﯽ\\n \\nﺧود\\n \\nرا\\n \\nاﯾﺟﺎد\\n \\nﻣﯽ ﻧﻣﺎﯾﻧد.\\n \\nﺳﺎﯾر\\n \\nاﻓراد\\n \\nﮐﮫ\\n \\nﺳﺎﺑﻘﮫ\\n \\nﺗﺣﺻﯾﻠﯽ\\n \\nﻧدارﻧد،\\n \\nﻣﯽ ﺗواﻧﻧد\\n \\nﺻرﻓﺎً\\n \\nﺑرای\\n \\nدروس\\n \\nﻣؤﺛر\\n \\nﯾﮏ\\n \\nﮔروه\\n \\nآزﻣﺎﯾﺷﯽ\\n \\n1'),\n",
              " Document(metadata={'producer': 'Skia/PDF m137 Google Docs Renderer', 'creator': 'PyPDF', 'creationdate': '', 'title': '__شیوه نامه ایجاد و ترمیم سابقه تحصیلی - اصلاح شده نهایی 25 فروردین_', 'source': 'sample_doc.pdf', 'total_pages': 6, 'page': 1, 'page_label': '2'}, page_content='اﺻﻠﯽ و  ﯾﺎ  ﯾﮏ  ﮔروه  آزﻣﺎﯾﺷﯽ  ﻏﯾراﺻﻠﯽ  ﺑر  اﺳﺎس  ﺟداول  ﻋﻧﺎوﯾن  و  ﺿراﯾب  دروس  ﺳواﺑق  ﺗﺣﺻﯾﻠﯽ\\n1 \\n و  \\nﺑﺎ\\n \\nرﻋﺎﯾت\\n \\nﻣوارد\\n \\nزﯾر\\n \\nاﯾﺟﺎد\\n \\nﺳﺎﺑﻘﮫ\\n \\nﻧﻣﺎﯾﻧد:\\n 1-داﻧش آﻣوزان ﭘﺎﯾﮫ  دوازدھم  در  ﺻورت  اﻧﺗﺧﺎب  ﮔروه  آزﻣﺎﯾﺷﯽ  ﻏﯾر  ﻣﺗﻧﺎظر  ﺑﺎ  رﺷﺗﮫ  ﺗﺣﺻﯾﻠﯽ  ﺧود،  \\nﻣﯽ ﺗواﻧﻧد\\n \\nدر\\n \\nدروس\\n \\nﻧﮭﺎﯾﯽ\\n \\nﭘﺎﯾﮫ ھﺎی\\n \\nﯾﺎزدھم\\n \\nو\\n \\nدوازدھم\\n \\nآن\\n \\nﮔروه\\n \\nآزﻣﺎﯾﺷﯽ\\n \\nاﯾﺟﺎد\\n \\nﺳﺎﺑﻘﮫ\\n \\nﮐﻧﻧد.\\n 2- در  ﺻورت  ﺗداﺧل  زﻣﺎﻧﯽ  آزﻣون  درس  اﻧﺗﺧﺎﺑﯽ  ﺑرای  اﯾﺟﺎد  ﺳﺎﺑﻘﮫ  ﺗﺣﺻﯾﻠﯽ  ﺑﺎ  آزﻣون  درس  رﺷﺗﮫ  \\nﺗﺣﺻﯾﻠﯽ،\\n \\nﻣﺗﻘﺎﺿﯽ\\n \\nﺑﺎﯾد\\n \\nدر\\n \\nآزﻣون\\n \\nدرس\\n \\nاﻧﺗﺧﺎﺑﯽ\\n \\nدر\\n \\nﺧردادﻣﺎه\\n \\nو\\n \\nآزﻣون\\n \\nدرس\\n \\nرﺷﺗﮫ\\n \\nﺗﺣﺻﯾﻠﯽ\\n \\nﺧود\\n \\nدر\\n \\nﺷﮭرﯾورﻣﺎه\\n \\nﺷرﮐت\\n \\nﻧﻣﺎﯾد)وﺿﻌﯾت\\n \\nاﯾن\\n \\nدرس\\n \\nدر\\n \\nﺧردادﻣﺎه،\\n \\nﺑﮫ ﻋﻧوان\\n \\nﻏﯾﺑت\\n \\nﻣوﺟﮫ\\n \\nﺛﺑت\\n \\nﻣﯽ ﺷود(.\\n 3- داﻧش آﻣوزان  ﻣدارس  ﺑزرﮔﺳﺎﻻن،  آﻣوزش  از  راه  دور،  اﯾﺛﺎرﮔران  و  داوطﻠب  آزاد  ﮐﮫ  در  آزﻣون  دروس  \\nﻧﮭﺎﯾﯽ\\n \\nﻧوﺑت\\n \\nدی\\n \\nو\\n \\nﺷﮭرﯾورﻣﺎه)ﻧﺎظر\\n \\nﺑﮫ\\n \\nﺑﻧد\\n \\n1\\n \\nﻗﺳﻣت\\n \\nت(\\n \\nﺷرﮐت\\n \\nﻧﻣوده اﻧد،\\n \\nﺑﮫ\\n \\nﺷرط\\n \\nﮐﺳب\\n \\nﺣد\\n \\nﻧﺻﺎب\\n \\nﻗﺑوﻟﯽ\\n \\nدر\\n \\nﻧوﺑت ھﺎی\\n \\nﻣذﮐور،\\n \\nﺑﺎﯾد\\n \\nدر\\n \\nﺧردادﻣﺎه،\\n \\nﺻرﻓﺎً\\n \\nدر\\n \\nآزﻣون\\n \\nاﯾﺟﺎد\\n \\nﺳﺎﺑﻘﮫ\\n \\nآن\\n \\nدروس\\n \\nﺷرﮐت\\n \\nﻧﻣﺎﯾﻧد.\\n 4- ھﻧرﺟوﯾﺎن  ﺷﺎﺧﮫ ھﺎی  ﻓﻧﯽ  و  ﺣرﻓﮫ ای  و  ﮐﺎرداﻧش  ﭘﺎﯾﮫ ھﺎی  ﯾﺎزدھم)ﺻرﻓﺎً  دروس  ﻧﮭﺎﯾﯽ  ﭘﺎﯾﮫ  ﯾﺎزدھم(  و  \\nدوازدھم\\n \\n)دروس\\n \\nﻧﮭﺎﯾﯽ\\n \\nﭘﺎﯾﮫ ھﺎی\\n \\nﯾﺎزدھم\\n \\nو\\n \\nدوازدھم(\\n \\nﻣﯽ ﺗواﻧﻧد\\n \\nدر\\n \\nﯾﮏ\\n \\nﮔروه\\n \\nآزﻣﺎﯾﺷﯽ\\n \\nاﺻﻠﯽ\\n \\nو\\n \\nﯾﺎ\\n \\nﯾﮏ\\n \\nﮔروه\\n \\nآزﻣﺎﯾﺷﯽ\\n \\nﻏﯾراﺻﻠﯽ\\n \\nﻣورد\\n \\nﺗﻘﺎﺿﺎ\\n \\nﺑرای\\n \\nاﯾﺟﺎد\\n \\nﺳﺎﺑﻘﮫ\\n \\nﺗﺣﺻﯾﻠﯽ\\n \\nﺷرﮐت\\n \\nﻧﻣﺎﯾﻧد.\\n 5- ﺗﻣﺎم  ﻓﺎرغ اﻟﺗﺣﺻﯾﻼن  ﺷﺎﺧﮫ  ﻧظری  دﯾﭘﻠم  ﻗﺑل  از  ﺳﺎل  1384  و  ﭘﯾش داﻧﺷﮕﺎھﯽ  ﻗﺑل  از  ﺳﺎل  1391 .  6-داﻧش آﻣوزان و  ﻓﺎرغ اﻟﺗﺣﺻﯾﻼﻧﯽ  ﮐﮫ  ﺳواﺑق  ﺗﺣﺻﯾﻠﯽ  آﻧﺎن  ﻣﻧﻘﺿﯽ  ﺷده  اﺳت.  ﺗﺑﺻره: ﺗﺎ  ﺳﺎل1405،  ﺳواﺑق  ﺗﺣﺻﯾﻠﯽ  ﺷﺎﻣل  ﻧﺗﺎﯾﺞ  آزﻣون ھﺎی  ﻧﮭﺎﯾﯽ  ﺧردادﻣﺎه  1384)دﯾﭘﻠم  و  \\nﺳﺎل\\n1391\\n \\n)ﭘﯾش داﻧﺷﮕﺎھﯽ\\n \\nو\\n \\nﭘس\\n \\nاز\\n \\nآن\\n \\nﻣﯽ ﺑﺎﺷد\\n \\nو\\n \\nدر\\n \\nﺳﺎل ھﺎی\\n \\nﺑﻌدی،\\n \\nزﻣﺎن\\n \\nاﻋﺗﺑﺎر\\n \\nﺳواﺑق\\n \\nﺗﺣﺻﯾﻠﯽ\\n \\nﺗوﺳط\\n \\nﮐﻣﯾﺳﯾون\\n \\nﻣﻌﯾن\\n \\nﺷورای\\n \\nﻋﺎﻟﯽ\\n \\nآﻣوزش\\n \\nو\\n \\nﭘرورش\\n \\nﻣﺷﺧص\\n \\nﻣﯽ ﺷود.\\n 7- ﻓﺎرغ اﻟﺗﺣﺻﯾﻼن  ﺷﺎﺧﮫ  ﻧظری  داوطﻠب  ﺷرﮐت  در  ﮔروه  آزﻣﺎﯾﺷﯽ  ﻏﯾر  ﻣﺗﻧﺎظر  ﺑﺎ  رﺷﺗﮫ  ﺗﺣﺻﯾﻠﯽ  ﺧود.  8- ﻓﺎرغ اﻟﺗﺣﺻﯾﻼن  ﺷﺎﺧﮫ ھﺎی  ﻓﻧﯽ  و  ﺣرﻓﮫ ای  و  ﮐﺎرداﻧش  دوره  ﻣﺗوﺳطﮫ.  9- ﻓﺎرغ اﻟﺗﺣﺻﯾﻼن  ﻣدارس  ﺑﯾن اﻟﻣﻠل  و  دارﻧدﮔﺎن  ﮔواھﯾﻧﺎﻣﮫ  ﻣﻌﺎدل  دوره  ﻣﺗوﺳطﮫ  و  ﭘﯾش داﻧﺷﮕﺎھﯽ  ﺻﺎدره  \\nاز\\n \\nﮐﻣﯾﺳﯾون\\n \\nارزﺷﯾﺎﺑﯽ\\n \\nﻣدارک\\n \\nﺗﺣﺻﯾﻠﯽ\\n \\nﺧﺎرﺟﯽ.\\n 10- طﻼب  ﺣوزه ھﺎی  ﻋﻠﻣﯾﮫ  ﮐﮫ  دارای  ﻣدرک  ﺳطﺢ  ﯾﮏ  ﺣوزوی  ﻣﯽ ﺑﺎﺷﻧد  ﺻرﻓﺎً  در  دروس  ﻣؤﺛر  ﮔروه  \\nآزﻣﺎﯾﺷﯽ\\n \\nﻋﻠوم اﻧﺳﺎﻧﯽ\\n2\\n.\\n 11- ﺳﺎﯾر  ﻓﺎرغ اﻟﺗﺣﺻﯾﻼن  و  داﻧش آﻣوزان  دوره  ﻣﺗوﺳطﮫ  ﻓﺎﻗد  ﺗﻣﺎم  ﯾﺎ  ﺑﺧﺷﯽ  از  ﺳواﺑق  ﺗﺣﺻﯾﻠﯽ.  (پ ﻣﺷﻣوﻻن ﺗرﻣﯾم  ﺳﺎﺑﻘﮫ  :ﺗﺣﺻﯾﻠﯽ   ﺗﻣﺎﻣﯽ اﻓرادی  ﮐﮫ  دارای  ﺳﺎﺑﻘﮫ  ﺗﺣﺻﯾﻠﯽ  ھﺳﺗﻧد؛  ازﺟﻣﻠﮫ  داﻧش آﻣوزان  و  ھﻧرﺟوﯾﺎن  ﭘﺎﯾﮫ  دوازدھم  و  \\nﻓﺎرغ اﻟﺗﺣﺻﯾﻼن\\n \\nﺷﺎﺧﮫ ھﺎی\\n \\nﻧظری،\\n \\nﻓﻧﯽ\\n \\nو\\n \\nﺣرﻓﮫ ای\\n \\nو\\n \\nﮐﺎرداﻧش\\n \\nﺻرﻓﺎً\\n \\nﺑرای\\n \\nدروس\\n \\nﻣؤﺛر\\n \\nﯾﮏ\\n \\nﮔروه\\n \\nآزﻣﺎﯾﺷﯽ\\n \\nاﺻﻠﯽ\\n \\nو\\n \\nﯾﺎ\\n \\nﯾﮏ\\n \\nﮔروه\\n \\nآزﻣﺎﯾﺷﯽ\\n \\nﻏﯾراﺻﻠﯽ\\n \\nﺑر\\n \\nاﺳﺎس\\n \\nﺟداول\\n \\nﻋﻧﺎوﯾن\\n \\nو\\n \\nﺿراﯾب\\n \\nدروس\\n \\nﺳواﺑق\\n \\nﺗﺣﺻﯾﻠﯽ.\\n \\n2\\n   \\nﺑﺮ\\n \\nاﺳﺎس\\n \\nﻣﺼﻮﺑات\\n \\nﺟﻠﺴﮫ\\n \\n548\\n \\nﻣﻮرخ\\n \\n28/07/1383\\n \\nو\\n \\nﺟﻠﺳﮫ\\n \\n368\\n \\nﻣورخ\\n \\n03/11/1374\\n \\nﺷورای\\n \\nﻋﺎﻟﻲ\\n \\nاﻧﻘﻼب\\n \\nﻓﺮھﻨﮕﻲ\\n \\nدرﺧﺻوص\\n \\nاداﻣﮫ\\n \\nﺗﺣﺻﯾل\\n \\nدارﻧدﮔﺎن\\n \\nﻣدارک\\n \\nﺗﺣﺻﯾﻠﯽ\\n \\nﺣوزوی\\n \\nدر\\n \\nداﻧﺷﮕﺎه ھﺎ،\\n \\nدارﻧدﮔﺎن\\n \\nﻣدارک\\n \\nﺣوزوی\\n \\nﻣﯽ ﺗواﻧﻧد\\n \\nﭘس\\n \\nاز\\n \\nﻗﺑوﻟﯽ\\n \\nدر\\n \\nآزﻣون\\n \\nﺳراﺳری\\n \\nدرﺗﻣﺎﻣﯽ\\n \\nرﺷﺗﮫ ھﺎی\\n \\nﻋﻠوم\\n \\nاﻧﺳﺎﻧﯽ\\n \\nدر\\n \\nداﻧﺷﮕﺎه ھﺎ\\n \\nاداﻣﮫ\\n \\nﺗﺣﺻﯾل\\n \\nدھﻧد.\\n \\n1\\n اﯾن ﺟداول  در  ﺻورت  ﻧﯾﺎز  ﺗوﺳط  ﻣﻌﺎوﻧت  آﻣوزش  ﻣﺗوﺳطﮫ/  ﻣرﮐز  ارزﺷﯾﺎﺑﯽ  و  ﺗﺿﻣﯾن  ﮐﯾﻔﯾت  ﻧظﺎم  آﻣوزش  و  ﭘرورش،  ﭘس  از  ﺗﺻوﯾب  در  ﺷورای  ﺳﻧﺟش  و  \\nﭘذﯾرش\\n \\nداﻧﺷﺟو\\n \\nاطﻼع رﺳﺎﻧﯽ\\n \\nﻣﯽ ﺷود.\\n \\n2'),\n",
              " Document(metadata={'producer': 'Skia/PDF m137 Google Docs Renderer', 'creator': 'PyPDF', 'creationdate': '', 'title': '__شیوه نامه ایجاد و ترمیم سابقه تحصیلی - اصلاح شده نهایی 25 فروردین_', 'source': 'sample_doc.pdf', 'total_pages': 6, 'page': 2, 'page_label': '3'}, page_content='(ت ﺷراﯾط اﯾﺟﺎد  و  ﺗرﻣﯾم  ﺳﺎﺑﻘﮫ  ﺗﺣﺻﯾﻠﯽ  1-ﻣﺗﻘﺎﺿﯾﺎن ﻣﯽ ﺗواﻧﻧد  ﺑرای  اﯾﺟﺎد  ﺳﺎﺑﻘﮫ  ﺗﺣﺻﯾﻠﯽ  درس/دروس  ﻣوردﻧظر  ﺧود  را  ﺻرﻓﺎً  در  ﻧوﺑت  \\nﺧردادﻣﺎه\\n3\\n \\nاﻧﺗﺧﺎب\\n \\nو\\n \\nدر\\n \\nآزﻣون\\n \\nﻣرﺑوط\\n \\nﺷرﮐت\\n \\nﻧﻣﺎﯾﻧد.\\n 2-ﺗرﻣﯾم ﺳﺎﺑﻘﮫ  ﺗﺣﺻﯾﻠﯽ  ﺻرﻓﺎً  در  ﺻورت  ﺷرﮐت  در  ﻣﺟﻣوع  دروس  ﻣوﺛر  دارای  ﺳﺎﺑﻘﮫ  ھر  ﭘﺎﯾﮫ  در  ﯾﮏ  \\nﮔروه\\n \\nآزﻣﺎﯾﺷﯽ\\n \\nاﺻﻠﯽ\\n \\nو\\n \\nﯾﺎ\\n \\nﯾﮏ\\n \\nﮔروه\\n \\nآزﻣﺎﯾﺷﯽ\\n \\nﻏﯾراﺻﻠﯽ\\n ﺻرﻓﺎً در ﻧوﺑت  ﺧردادﻣﺎه  و  ﺑدون  ﻣﺣدودﯾت  از  \\nﻣﻧظر\\n \\nﺗﻌداد\\n \\nدﻓﻌﺎت\\n \\nﺷرﮐت\\n \\nدر\\n \\nآزﻣون\\n \\nاﻣﮑﺎن ﭘذﯾر\\n \\nاﺳت.\\n :ﺗﺑﺻره ﺻرﻓﺎً در  ﻧوﺑت  ﺧرداد  1404،  داوطﻠﺑﺎن  ﺗرﻣﯾم  ﺳﺎﺑﻘﮫ  ﺗﺣﺻﯾﻠﯽ  ﺑرای  اوﻟﯾن  ﻣرﺗﺑﮫ،  ﻣﺟﺎز  ﺑﮫ  \\nاﻧﺗﺧﺎب\\n \\nﺗﮏ\\n \\nدرس\\n \\nﻣﯽ\\n \\nﺑﺎﺷﻧد.\\n \\nﺑرای\\n \\nاﯾن\\n \\nﮔروه\\n \\nاز\\n \\nداوطﻠﺑﺎن\\n \\nﮐﮫ\\n \\nدر\\n \\nﯾﮏ\\n \\nدرس\\n \\nدارای\\n \\nﭼﻧد\\n \\nﻧﻣره\\n \\nﻣﯽ\\n \\nﺑﺎﺷﻧد،\\n \\nﺑﯾﺷﺗرﯾن\\n \\nﻧﻣره\\n \\nﺗراز\\n \\nھر\\n \\nدرس\\n \\nﺑرای\\n \\nﻣﺣﺎﺳﺑﮫ\\n \\nﻧﻣره\\n \\nﮐل\\n \\nﺳﺎﺑﻘﮫ\\n \\nﺗﺣﺻﯾﻠﯽ\\n \\nﻟﺣﺎظ\\n \\nﻣﯽ ﺷود. 3- ﺑرای  داوطﻠﺑﺎن  ﺗرﻣﯾم  ﺳﺎﺑﻘﮫ  ﺗﺣﺻﯾﻠﯽ،  در  ﺻورت  ﻋدم  ﺷرﮐت  و  ﻏﯾﺑت)ﻣوﺟﮫ  ﯾﺎ  ﻏﯾرﻣوﺟﮫ(  در  ﯾﮏ  ﯾﺎ  \\nﭼﻧد\\n \\nآزﻣون\\n \\nاﻧﺗﺧﺎب\\n \\nﺷده،\\n \\nﻧﻣرات\\n \\nﮐﺳب\\n \\nﺷده\\n \\nدر\\n \\nﺳﺎﯾر\\n \\nآزﻣون ھﺎی\\n \\nآن\\n \\nﻧوﺑت\\n \\nﻧﯾز\\n \\nﺑﮫ ﻋﻧوان\\n \\nﺳﺎﺑﻘﮫ\\n \\nﺗﺣﺻﯾﻠﯽ\\n \\nﻣﻧظور\\n \\nﻧﺧواھد\\n \\nﺷد)ﺳﺎﺑﻘﮫ\\n \\nﺗﺣﺻﯾﻠﯽ\\n \\nﻣﻌﺗﺑر\\n \\nﭘﯾﺷﯾن\\n \\nﻣﻼک\\n \\nﻋﻣل\\n \\nﻗرار\\n \\nﻣﯽ ﮔﯾرد(.\\n 4-ﻧﻣرات اﯾﺟﺎد  ﺳﺎﺑﻘﮫ  ﺗﺣﺻﯾﻠﯽ  و  ﺗرﻣﯾم  ﺳﺎﺑﻘﮫ  ﺗﺣﺻﯾﻠﯽ  ﺻرﻓﺎً  ﺑﮫ ﻋﻧوان  ﺳﺎﺑﻘﮫ  ﺗﺣﺻﯾﻠﯽ  اﻋﺗﺑﺎر  ﺧواھد  \\nداﺷت\\n \\nو\\n \\nدر\\n \\nﮐﺎرﻧﺎﻣﮫ\\n \\nﺗﺣﺻﯾﻠﯽ\\n \\nﻣﺗﻘﺎﺿﯽ\\n \\nﻣﻧظور\\n \\nﻧﻣﯽ ﺷود.\\n :ﺗﺑﺻره در  ﺻورت  ﺗﻘﺎﺿﺎی  ﮔواھﯽ  ﻧﻣرات  آزﻣون  ﺗرﻣﯾم  ﺳﺎﺑﻘﮫ  ﺗﺣﺻﯾﻠﯽ  ﺗوﺳط  ذی ﻧﻔﻌﺎن  ﺑرای  اراﺋﮫ  ﺑﮫ  \\nﻣراﮐز\\n \\nو\\n \\nﻣؤﺳﺳﺎت\\n \\nآﻣوزﺷﯽ\\n \\nﺧﺎرج\\n \\nاز\\n \\nﮐﺷور\\n \\nو\\n \\nارﺳﺎل\\n \\nدرﺧواﺳت\\n \\nاﯾﺷﺎن\\n \\nاز\\n \\nطرﯾق\\n \\nﻣرﮐز\\n \\nاﻣور\\n \\nﺑﯾن اﻟﻣﻠل\\n \\nو\\n \\nﻣدارس\\n \\nﺧﺎرج\\n \\nاز\\n \\nﮐﺷور،\\n \\nﺻدور\\n \\nﮔواھﯽ\\n \\nﻣذﮐور\\n \\nﺗوﺳط\\n \\nﻣرﮐز\\n \\nارزﺷﯾﺎﺑﯽ\\n \\nو\\n \\nﺗﺿﻣﯾن\\n \\nﮐﯾﻔﯾت\\n \\nﻧظﺎم\\n \\nآﻣوزش\\n \\nو\\n \\nﭘرورش\\n \\nﺑﻼﻣﺎﻧﻊ\\n \\nاﺳت. 5-ﻓراﯾﻧدھﺎی ﺛﺑت ﻧﺎم  و  اﻋﻼم  ﻧﺗﺎﯾﺞ  ﻗطﻌﯽ  آزﻣون ھﺎی  اﯾﺟﺎد  و  ﯾﺎ  ﺗرﻣﯾم  ﺳﺎﺑﻘﮫ  ﺗﺣﺻﯾﻠﯽ،  ﺑدون  ﻣراﺟﻌﮫ  \\nﺣﺿوری\\n \\nﺑﮫ\\n \\nﻣدرﺳﮫ\\n \\nو\\n \\nﺑﮫ ﺻورت\\n \\nاﻟﮑﺗروﻧﯾﮑﯽ\\n \\nاز\\n \\nطرﯾق\\n \\nﭘﻧﺟره\\n \\nواﺣد\\n \\nﺧدﻣﺎت\\n \\nاﻟﮑﺗروﻧﯾﮏ\\n \\nوزارت\\n \\nآﻣوزش وﭘرورش\\n \\nاﻧﺟﺎم\\n \\nﻣﯽ ﺷود)ﮔواھﯽ\\n \\nﯾﺎ\\n \\nﮐﺎرﻧﺎﻣﮫ ای\\n \\nﺑرای\\n \\nﺷرﮐت\\n \\nﮐﻧﻧدﮔﺎن\\n \\nﺻﺎدر\\n \\nﻧﺧواھد\\n \\nﺷد(.\\n ﺗﺑﺻره 1:  ﺑرای  داوطﻠﺑﺎن  ﻣﺷﻐول  ﺑﮫ  ﺗﺣﺻﯾل)داﻧش  آﻣوزان(  درﺧواﺳت  ﺛﺑت  ﺷده،  ﺗوﺳط  ﻣدﯾر  ﻣدرﺳﮫ  \\nﻣﺣل\\n \\nﺗﺣﺻﯾل\\n \\nﺗﮑﻣﯾل،\\n \\nﺗﺄﯾﯾد\\n \\nو\\n \\nﻧﮭﺎﯾﯽ\\n \\nﻣﯽ ﺷود.\\n \\n ﺗﺑﺻره 2:  ﺑرای  ھﻧرﺟوﯾﺎﻧﯽ  ﮐﮫ  در  آزﻣون  ﻧﮭﺎﯾﯽ  دروس  ﻣؤﺛر  در  ﮔروه  آزﻣﺎﯾﺷﯽ  ھﻧر  و  ﻣرﺑوط  ﺑﮫ  رﺷﺗﮫ  \\nﺗﺣﺻﯾﻠﯽ\\n \\nﺧود\\n \\nﺷرﮐت\\n \\nﻣﯽ ﮐﻧﻧد،\\n \\nﻧﻣرات\\n \\nﮐﺳب\\n \\nﺷده\\n \\nﻣﯽ ﺗواﻧد\\n \\nﺑﺎ\\n \\nدرﺧواﺳت\\n \\nذی ﻧﻔﻊ\\n \\nدر\\n \\nﮐﺎرﻧﺎﻣﮫ\\n \\nﺗﺣﺻﯾﻠﯽ\\n \\nﺛﺑت\\n \\n ﺷود.\\n ﺗﺑﺻره 3: ﻧﻣرات  ﺷرﮐت  ﮐﻧﻧدﮔﺎن  آزﻣون ھﺎی  ﻧﮭﺎﯾﯽ  در  ﺣوزه ھﺎی  ﺧﺎرج  از  ﮐﺷور  ﺑﮫ  ﺷرط  اﺣراز  ﺿواﺑط  \\nو\\n \\nﻣﻘررات\\n \\nﺗﺷﮑﯾل\\n \\nﻣرﮐز\\n \\nآزﻣون\\n \\nﻣطﺎﺑق\\n \\nﺷﯾوه\\n \\nﻧﺎﻣﮫ\\n \\nﻣرﺑوط،\\n \\nﺑﮫ\\n \\nﻋﻧوان\\n \\nﺳﺎﺑﻘﮫ\\n \\nﺗﺣﺻﯾﻠﯽ\\n \\nﺑﮫ\\n \\nﺳﺎزﻣﺎن\\n \\nﺳﻧﺟش\\n \\nآﻣوزش\\n \\nﮐﺷور\\n \\nارﺳﺎل\\n \\nﻣﯽ\\n \\nﺷود.\\n \\n3 \\nاز ﻧوﺑت  اﻣﺗﺣﺎﻧﯽ  ﺧردادﻣﺎه  ﺳﺎل1402  و  ﭘس  از  آن،  ﺳﺎﺑﻘﮫ  ﺗﺣﺻﯾﻠﯽ  ﺻرﻓﺎً  ﺷﺎﻣل  ﻧﺗﺎﯾﺞ  آزﻣون ھﺎی  ﻧوﺑت  ﺧردادﻣﺎه  ﻣﯽ ﺑﺎﺷد.  ﺑﮫ  ﻋﺑﺎرت  دﯾﮕر،  از  اﯾن  ﻧوﺑت  آزﻣوﻧﯽ  \\nﺑﮫ\\n \\nﺑﻌد،\\n \\nﻧﻣرات\\n \\nﮐﺳب\\n \\nﺷده\\n \\nدر\\n \\nﻧوﺑت ھﺎی\\n \\nﺷﮭرﯾور\\n \\nو\\n \\nدی ﻣﺎه\\n \\nﺑﮫ\\n \\nﻋﻧوان\\n \\nﺳﺎﺑﻘﮫ\\n \\nﺗﺣﺻﯾﻠﯽ\\n \\nﻟﺣﺎظ\\n \\nﻧﺧواھﻧد\\n \\nﺷد.\\n \\n3'),\n",
              " Document(metadata={'producer': 'Skia/PDF m137 Google Docs Renderer', 'creator': 'PyPDF', 'creationdate': '', 'title': '__شیوه نامه ایجاد و ترمیم سابقه تحصیلی - اصلاح شده نهایی 25 فروردین_', 'source': 'sample_doc.pdf', 'total_pages': 6, 'page': 3, 'page_label': '4'}, page_content='ﺗﺑﺻره 4: ﺑرای  ﺗﺳﮭﯾل  ﺛﺑت ﻧﺎم  ﻣﺗﻘﺎﺿﯾﺎن  اﯾﺟﺎد  و  ﯾﺎ  ﺗرﻣﯾم  ﺳﺎﺑﻘﮫ  ﺗﺣﺻﯾﻠﯽ  در  ﺧﺎرج  از  ﮐﺷور،  ﻣرﮐز  اﻣور  \\nﺑﯾن\\n \\nاﻟﻣﻠل\\n \\nو\\n \\nﻣدارس\\n \\nﺧﺎرج\\n \\nاز\\n \\nﮐﺷور\\n \\nﻧﺳﺑت\\n \\nﺑﮫ\\n \\nاﺧذ\\n \\nﺗﻘﺎﺿﺎ\\n \\nاز\\n \\nﻣﺗﻘﺎﺿﯾﺎن\\n \\nﺑﮫ\\n \\nطرﯾق\\n \\nﻣﻘﺗﺿﯽ\\n \\nاﻗدام\\n \\nو\\n \\nدر\\n \\nﺑﺎزه\\n \\nزﻣﺎﻧﯽ\\n \\nاﻋﻼم\\n \\nﺷده\\n \\nﺑرای\\n \\nﺛﺑت\\n \\nﻧﺎم\\n \\nدر\\n \\nﺳﺎﻣﺎﻧﮫ\\n \\nﻣرﺑوط\\n \\nﺛﺑت\\n \\nﻣﯽ ﻧﻣﺎﯾد.\\n 6-ھزﯾﻧﮫ ﺷرﮐت  در  آزﻣون ھﺎی  ﻧﮭﺎﯾﯽ  ﺑرای  اﯾﺟﺎد  و  ﯾﺎ  ﺗرﻣﯾم  ﺳﺎﺑﻘﮫ  ﺗﺣﺻﯾﻠﯽ  ﺑﮫ  ﺗﻔﮑﯾﮏ  ھر  درس  و  ﻣطﺎﺑق  \\nﻣﺻوﺑﮫ\\n \\nھﯾﺋت\\n \\nوزﯾران\\n \\nاﺧذ\\n \\nﻣﯽ ﺷود.\\n (ث ﺳﺎﯾر ﺿواﺑط  و  ﻧﮑﺎت  :ﺗوﺟﮫ ﻗﺎﺑل  1- ﻧﺣوه  و  ﻣﯾزان  ﮐﺎرﺑرد  ﻧﺗﺎﯾﺞ  ھرﯾﮏ  از  ﺳواﻻت  آزﻣون ھﺎی  ﻧﮭﺎﯾﯽ  در  ﻓراﯾﻧدھﺎی  ﺗوﻟﯾد  ﺳﺎﺑﻘﮫ  ﺗﺣﺻﯾﻠﯽ  و  \\nﻋﻣﻠﮑرد\\n \\n)ﮐﺎرﻧﺎﻣﮫ(\\n \\nﺗﺣﺻﯾﻠﯽ\\n \\nﺗوﺳط\\n \\nﻣرﮐز\\n \\nارزﺷﯾﺎﺑﯽ\\n \\nو\\n \\nﺗﺿﻣﯾن\\n \\nﮐﯾﻔﯾت\\n \\nﻧظﺎم\\n \\nآﻣوزش و ﭘرورش\\n \\nﺗﻌﯾﯾن\\n \\nو\\n \\nاﻋﻣﺎل\\n \\nﻣﯽ ﺷود.\\n 2- داﻧش آﻣوزان  ﺷﺎﺧﮫ  ﻧظری  ﺷﺎﻏل  ﺑﮫ  ﺗﺣﺻﯾل  در  ﻣدارس  ﺑزرﮔﺳﺎﻻن،  آﻣوزش  از  راه  دور،  اﯾﺛﺎرﮔران  و  \\nداوطﻠﺑﺎن\\n \\nآزاد\\n \\nﻣﺟﺎزﻧد\\n \\nﺑدون\\n \\nﻧﯾﺎز\\n \\nﺑﮫ\\n \\nاﺧذ\\n \\nﻣﺟوز\\n \\nاز\\n \\nﮐﻣﯾﺳﯾون\\n \\nﺧﺎص\\n \\nﺗﻣﺎم\\n \\nدروس)ﻧﮭﺎﯾﯽ\\n \\nو\\n \\nﻏﯾر\\n \\nﻧﮭﺎﯾﯽ(\\n \\nرا\\n \\nﻣﻌﺎدل\\n \\nﺑﺎ\\n \\nﯾﮏ ﭘﺎﯾﮫ\\n \\nﺗﺣﺻﯾﻠﯽ\\n \\nﺑﺎ\\n \\nرﻋﺎﯾت\\n \\nﺗواﻟﯽ\\n \\nدروس\\n \\nدر\\n \\nﻧﯾم ﺳﺎل\\n \\nدوم\\n \\nﺳﺎل\\n \\nﺗﺣﺻﯾﻠﯽ\\n \\nاﻧﺗﺧﺎب\\n \\nو\\n \\nدر\\n \\nآزﻣون\\n \\nﺧردادﻣﺎه\\n \\nﺷرﮐت\\n \\nﻧﻣﺎﯾﻧد.\\n 3-  ﺑرای  ﭘذﯾرش  داوطﻠﺑﺎن  ورود  ﺑﮫ  ﻣراﮐز  و  ﻣوﺳﺳﺎت  آﻣوزش  ﻋﺎﻟﯽ  در  ﺳﺎل  ﺗﺣﺻﯾﻠﯽ  \\n1405\\n-\\n1404\\n)ﺧرداد\\n \\n1404\\n(،\\n \\nﺳواﺑق\\n \\nﺗﺣﺻﯾﻠﯽ\\n \\nﭘﺎﯾﮫ\\n \\nﯾﺎزدھم\\n \\nﺑﮫ\\n \\nﺻورت\\n \\nﻣﺛﺑت\\n \\nو\\n \\nﺳواﺑق\\n \\nﺗﺣﺻﯾﻠﯽ\\n \\nﭘﺎﯾﮫ\\n \\nدوازدھم\\n \\nﺑﮫ\\n \\nﺻورت\\n \\nﻗطﻌﯽ\\n \\nاﻋﻣﺎل\\n \\nﻣﯽ\\n \\nﺷود؛\\n \\nﻟذا،\\n \\nﺻرﻓﺎً\\n \\nﺑرای\\n \\nاﯾن\\n \\nﺳﺎل،\\n \\nﻧﻣره\\n \\nﮐل\\n \\nﺳﺎﺑﻘﮫ\\n \\nﺗﺣﺻﯾﻠﯽ\\n \\nﺑراﺳﺎس\\n \\nدو\\n \\nﻣﺟﻣوﻋﮫ\\n \\nﺿراﯾب)ﻣﺟﻣوع\\n \\nﭘﺎﯾﮫ ھﺎی\\n \\nﯾﺎزدھم\\n \\nو\\n \\nدوازدھم\\n \\n/\\n \\nدوازدھم(\\n \\nﻣﺣﺎﺳﺑﮫ\\n \\nو\\n \\nﺑﯾﺷﺗرﯾن\\n \\nﻧﻣره\\n \\nﮐل\\n \\nﺑﺎ\\n \\nﺳﮭم\\n \\nﺷﺻت\\n \\nدرﺻدی\\n \\nدر\\n \\nﭘذﯾرش\\n \\nداوطﻠﺑﺎن\\n \\nورود\\n \\nﺑﮫ\\n \\nرﺷﺗﮫ\\n \\nﻣﺣل ھﺎی\\n \\nﭘرﻣﺗﻘﺎﺿﯽ\\n \\nاﻋﻣﺎل\\n \\nﻣﯽ ﺷود.\\n \\nﺑرای\\n \\nﭘذﯾرش\\n \\nدر\\n \\nﺳﺎل\\n \\nﺗﺣﺻﯾﻠﯽ\\n \\n1406\\n-\\n1405\\n)ﺧرداد\\n \\n1405\\n(\\n \\nو\\n \\nﭘس\\n \\nاز\\n \\nآن،\\n \\nﻧﻣره\\n \\nﮐل\\n \\nﺳﺎﺑﻘﮫ\\n \\nﺗﺣﺻﯾﻠﯽ\\n \\nﺑﺎ\\n \\nﺗرﮐﯾب\\n \\nﻣﺟﻣوع\\n \\nﻧﺗﺎﯾﺞ\\n \\nﺳواﺑق\\n \\nﭘﺎﯾﮫ ھﺎی\\n \\nﯾﺎزدھم\\n \\nو\\n \\nدوازدھم\\n \\nﻣﺣﺎﺳﺑﮫ\\n \\nو\\n \\nﺑﺎ\\n \\nﺳﮭم\\n \\nﺷﺻت\\n \\nدرﺻدی)ﺑﯾﺳت\\n \\nدرﺻد\\n \\nﭘﺎﯾﮫ\\n \\nﯾﺎزدھم\\n \\nو\\n \\nﭼﮭل\\n \\nدرﺻد\\n \\nﭘﺎﯾﮫ\\n \\nدوازدھم(\\n \\nو\\n \\nﺑﮫ\\n \\nﺻورت\\n \\nﻗطﻌﯽ\\n \\nاﻋﻣﺎل\\n \\nﻣﯽ ﺷود.\\n 4- ﺑر  اﺳﺎس  ﻣﺻوﺑﮫ  ﺟﻠﺳﮫ  33  ﺗﺎرﯾﺦ  12/09/1401  ﺷورای  ﺳﻧﺟش  و  ﭘذﯾرش  داﻧﺷﺟو،  ﺳﮭم  ﻧﻣره  ﮐل  \\nﺳﺎﺑﻘﮫ\\n \\nﺗﺣﺻﯾﻠﯽ\\n \\nﻗﺎﺑل \\n \\nﺟﺎﯾﮕزﯾﻧﯽ\\n \\nﺑﺎ\\n \\nآزﻣون\\n \\nاﺧﺗﺻﺎﺻﯽ)ﺳراﺳری(\\n \\nﻧﯾﺳت.\\n \\nﻟذا،\\n \\nﺗﻣﺎﻣﯽ\\n \\nداوطﻠﺑﺎن\\n \\nﻓﺎﻗد\\n \\nﺳﺎﺑﻘﮫ\\n \\nﺗﺣﺻﯾﻠﯽ\\n \\nﯾﺎ\\n \\nدارای\\n \\nﺳﺎﺑﻘﮫ\\n \\nﺗﺣﺻﯾﻠﯽ\\n \\nﻧﺎﻗص،\\n \\nﺑﺎﯾد\\n \\nﻧﺳﺑت\\n \\nﺑﮫ\\n \\nاﯾﺟﺎد\\n \\nﺳﺎﺑﻘﮫ\\n \\nﺗﺣﺻﯾﻠﯽ\\n \\nاز\\n \\nطرﯾق\\n \\nﺷرﮐت\\n \\nدر\\n \\nآزﻣون ھﺎی\\n \\nﻧﮭﺎﯾﯽ)ﻧظﺎم\\n \\n3\\n-\\n3\\n-\\n6\\n(\\n \\nﮐﮫ\\n \\nوزارت\\n \\nآﻣوزش\\n \\nو \\n \\nﭘرورش\\n \\nﺑرﮔزار\\n \\nﻣﯽ ﮐﻧد،\\n \\nاﻗدام\\n \\nﻧﻣﺎﯾﻧد.\\n \\nدر\\n \\nﻏﯾر\\n \\nاﯾن\\n \\nﺻورت،\\n \\nﺑرای\\n \\nھر\\n \\nدرس\\n \\nﮐﮫ\\n \\nﺳﺎﺑﻘﮫ\\n \\nﺗﺣﺻﯾﻠﯽ\\n \\nوﺟود\\n \\nﻧداﺷﺗﮫ\\n \\nﺑﺎﺷد،\\n \\nﻧﻣره\\n \\nﺧﺎم\\n \\nﺻﻔر\\n \\nﻟﺣﺎظ\\n \\nﻣﯽ ﺷود)اﯾن\\n \\nﻧﻣره\\n \\nﭘس\\n \\nاز\\n \\nﺗﺑدﯾل\\n \\nﺑﮫ\\n \\nﻧﻣره\\n \\nﺗراز\\n \\nدر\\n \\nﻧﻣره\\n \\nﮐل\\n \\nﺳﺎﺑﻘﮫ\\n \\nﺗﺣﺻﯾﻠﯽ\\n \\nﻣﺣﺎﺳﺑﮫ\\n \\nﺧواھد\\n \\nﺷد(. 5- ﺑراﺳﺎس  ﺑﻧد  2 - 2  ﻣﺻوﺑﮫ  ﺟﻠﺳﮫ  843  ﻣورخ  15/04/1400  ﺷورای   ﻋﺎﻟﯽ  اﻧﻘﻼب  ﻓرھﻧﮕﯽ،  ﻧﻣره  ﮐل  \\nﺳﺎﺑﻘﮫ\\n \\nﺗﺣﺻﯾﻠﯽ\\n \\nﻋﺑﺎرت\\n \\nاﺳت\\n \\nاز:\\n \\nﻣﯾﺎﻧﮕﯾن\\n \\nوزﻧﯽ\\n \\nﻧﻣرات\\n \\nﺗراز\\n \\nﺷده\\n \\nدروس\\n \\nﻋﻣوﻣﯽ\\n \\nو\\n \\nﺗﺧﺻﺻﯽ.\\n \\nﺑر\\n \\nاﯾن\\n \\n اﺳﺎس،\\n \\nدر\\n \\nﻣﺣﺎﺳﺑﮫ\\n \\nﻧﻣره\\n \\nﮐل\\n \\nﺳﺎﺑﻘﮫ\\n \\nﺗﺣﺻﯾﻠﯽ،\\n \\nﻧﻣره\\n \\nﺗراز\\n \\nﻣﻼک\\n \\nﻋﻣل\\n \\nاﺳت؛\\n \\nﻟذا،\\n \\nﻧﻣرات\\n \\nﺧﺎم\\n \\nآزﻣون\\n \\nاﺑﺗدا\\n \\nﺑﮫ\\n \\nﻧﻣرات\\n \\nﺗراز\\n \\nﺗﺑدﯾل\\n \\nو\\n \\nﺳﭘس\\n \\nﺑﺎ\\n \\nدر\\n \\nﻧظر\\n \\nﮔرﻓﺗن\\n \\nﺿراﯾب\\n \\nﻣﺻوب\\n \\nﺷورای\\n \\nﺳﻧﺟش\\n \\nو\\n \\nﭘذﯾرش\\n \\nداﻧﺷﺟو\\n \\nﺑﮫ\\n \\n ﺻورت\\n \\nﻧﻣره\\n \\nﮐل\\n \\nﺳﺎﺑﻘﮫ\\n \\nﺗﺣﺻﯾﻠﯽ\\n \\nﻣﺣﺎﺳﺑﮫ\\n \\nﻣﯽ ﺷوﻧد.\\n \\nدر\\n \\nﺧﺻوص\\n \\nﻧﻣرات\\n \\nﺗراز\\n \\nو\\n \\nﻧﻣره\\n \\nﮐل\\n \\nﺳﺎﺑﻘﮫ\\n \\nﺗﺣﺻﯾﻠﯽ\\n \\nﺗوﺟﮫ\\n \\nﺑﮫ\\n \\nﻣوارد\\n \\nزﯾر\\n \\nﺣﺎﺋز\\n \\nاھﻣﯾت\\n \\nاﺳت:\\n \\n4'),\n",
              " Document(metadata={'producer': 'Skia/PDF m137 Google Docs Renderer', 'creator': 'PyPDF', 'creationdate': '', 'title': '__شیوه نامه ایجاد و ترمیم سابقه تحصیلی - اصلاح شده نهایی 25 فروردین_', 'source': 'sample_doc.pdf', 'total_pages': 6, 'page': 4, 'page_label': '5'}, page_content='5-1- ﻏﯾﺑت  در  آزﻣون  ﻧﮭﺎﯾﯽ  ﺧردادﻣﺎه)ﻣوﺟﮫ  ﯾﺎ  ﻏﯾرﻣوﺟﮫ(  ﺑرای  اﯾﺟﺎد  ﺳﺎﺑﻘﮫ  ﺗﺣﺻﯾﻠﯽ،  ﺑﮫ  ﻣﻧزﻟﮫ  \\nدرج\\n \\nﻧﻣره\\n \\nﺧﺎم\\n \\nﺻﻔر\\n \\nدر\\n \\nﻣﺣﺎﺳﺑﮫ\\n \\nﻧﻣره\\n \\nﮐل\\n \\nﺳﺎﺑﻘﮫ\\n \\nﺗﺣﺻﯾﻠﯽ\\n \\nاﺳت.\\n 5-2-در ھر  ﺳﺎل،  ﺑرای  ھر  داوطﻠب  ﭘﻧﺞ  ﻧﻣره  ﮐل  ﺑﮫ  ﺗﻔﮑﯾﮏ  ﭘﻧﺞ  ﮔروه  آزﻣﺎﯾﺷﯽ)ﻋﻠوم  رﯾﺎﺿﯽ  و  \\nﻓﻧﯽ،\\n \\nﻋﻠوم ﺗﺟرﺑﯽ،\\n \\nﻋﻠوم اﻧﺳﺎﻧﯽ،\\n \\nزﺑﺎن ھﺎی\\n \\nﺧﺎرﺟﯽ\\n \\nو\\n \\nھﻧر(\\n \\nﻣﺣﺎﺳﺑﮫ\\n \\nو\\n \\nاز\\n \\nﺑﯾن\\n \\nآن ھﺎ،\\n \\nﻧﻣره\\n \\nﮐل\\n \\nﻣرﺑوط\\n \\nﺑﮫ\\n \\nﮔروه\\n \\nﯾﺎ\\n \\nﮔروه ھﺎی\\n \\nآزﻣﺎﯾﺷﯽ\\n \\nاﻧﺗﺧﺎﺑﯽ\\n \\nداوطﻠب\\n \\nﻣﻼک\\n \\nﻋﻣل\\n \\nﻗرار\\n \\nﻣﯽ ﮔﯾرد.\\n 5-3-ﺗراز ﻧﻣره  ﮐل  ﺳﺎﺑﻘﮫ  ﺗﺣﺻﯾﻠﯽ  ﯾﮏ ﻣرﺗﺑﮫ  در  ھر  ﺳﺎل  اﻋﻼم  و  ﺻرﻓﺎً  ﺑرای  ﭘذﯾرش  در  ھﻣﺎن  \\nﺳﺎل\\n \\nﻣﻌﺗﺑر\\n \\nاﺳت\\n \\nو\\n \\nﺑرای\\n \\nﺳﺎل ھﺎی\\n \\nﺑﻌد\\n \\nﺑﺎﺗوﺟﮫ ﺑﮫ\\n \\nﺟﻣﻌﯾت\\n \\nداوطﻠﺑﺎن\\n و ﺿراﯾب ﺟدﯾد، ﻣﺟدداً  ﻣﺣﺎﺳﺑﮫ  \\nﺧواھد\\n \\nﺷد.\\n 5-4-ﺑر اﺳﺎس  ﺑﻧد  9 - 3  ﻣﺻوﺑﮫ  ﺟﻠﺳﮫ  33  ﺷورای  ﺳﻧﺟش  و  ﭘذﯾرش  ﺗراز  ھر  ﯾﮏ  از  دروس  \\nﺳواﺑق\\n \\nﺗﺣﺻﯾﻠﯽ،\\n \\nﺑﮫ \\n \\nﺻورت\\n \\nﻣﺟزا\\n \\nدر\\n \\nھر\\n \\nدرس\\n \\nو\\n \\nﺳﺎل\\n \\nﻣﺣﺎﺳﺑﮫ\\n \\nﻣﯽ ﺷود)ﺗراز\\n \\nﯾﮏ\\n \\nﻧﻣره\\n \\nﻣﻌﯾن،\\n \\nﻣﯽ ﺗواﻧد\\n \\nدر\\n \\nﺳﺎل ھﺎی\\n \\nﻣﺧﺗﻠف\\n \\nﻣﺗﻔﺎوت\\n \\nﺑﺎﺷد(.\\n \\nﺳﺎل\\n \\nﻣدﻧظر\\n \\nدر\\n \\nﻣﺣﺎﺳﺑﮫ\\n \\nﻧﻣره\\n \\nﺗراز،\\n \\nﺳﺎل\\n \\nاﺧذ\\n \\nآزﻣون\\n \\nﻣﯽ ﺑﺎﺷد\\n \\nو\\n \\nﺑﮫ\\n \\nﺳﺎل\\n \\nﻓﺎرغ اﻟﺗﺣﺻﯾﻠﯽ\\n \\nو\\n \\nﯾﺎ\\n \\nﻣؤﻟﻔﮫ ھﺎی\\n \\nدﯾﮕر\\n \\nارﺗﺑﺎطﯽ\\n \\nﻧدارد.\\n 5-5-ﺑرای داوطﻠﺑﺎﻧﯽ  ﮐﮫ  دارای  ﺑﯾش  از  ﯾﮏ  دﯾﭘﻠم  ﻣﯽ ﺑﺎﺷﻧد،  ﻧﻣره  ﮐل  ﺳﺎﺑﻘﮫ  ﺗﺣﺻﯾﻠﯽ ﺑﮫ ﺗﻔﮑﯾﮏ  \\nھرﯾﮏ\\n \\nاز\\n \\nدﯾﭘﻠم ھﺎ و ﺑراﺳﺎس  ﺑﯾﺷﺗرﯾن  ﻧﻣره  ﺗراز  دروس  ﻣؤﺛر  و  ﻣﻌﺗﺑر  ﻣﺣﺎﺳﺑﮫ  و ﺑﯾﺷﯾﻧﮫ  آن ھﺎ  \\nﺑﮫ ﻋﻧوان\\n \\nﻧﻣره\\n \\nﮐل\\n \\nﺳﺎﺑﻘﮫ\\n \\nﺗﺣﺻﯾﻠﯽ\\n \\nﻧﮭﺎﯾﯽ\\n \\nﻣﻼک\\n \\nﻋﻣل\\n \\nﻗرار\\n \\nﻣﯽ ﮔﯾرد. 5-6-ﺑرای ﻣﺣﺎﺳﺑﮫ  ﻧﻣرات  ﺗراز  ﻧﯾﺎز  ﺑﮫ  دردﺳت داﺷﺗن  ﺗﻣﺎﻣﯽ  ﻧﻣرات  ﺷرﮐت ﮐﻧﻧده  در  آزﻣون  \\nﻣﯽ ﺑﺎﺷد.\\n 5-7-ﻣﺷﻣوﻻن ﺗرﻣﯾم  ﺳﺎﺑﻘﮫ  ﺗﺣﺻﯾﻠﯽ،  ﺑﺎ  ھر  ﻧﻣره ای  اﻣﮑﺎن  ﺗرﻣﯾم  ﺳﺎﺑﻘﮫ  ﺗﺣﺻﯾﻠﯽ  در  ﺧردادﻣﺎه  را  \\nدارﻧد.\\n 6-ﻧﺣوه اﯾﺟﺎد  و  ﯾﺎ  ﺗرﻣﯾم  ﺳﺎﺑﻘﮫ  ﺗﺣﺻﯾﻠﯽ  ﺑرای  داوطﻠﺑﺎن  ورود  ﺑﮫ  داﻧﺷﮕﺎه  ﻓرھﻧﮕﯾﺎن  و  ﺷﮭﯾد  رﺟﺎﯾﯽ  ﻣﺷﺎﺑﮫ  \\nﻣﺗﻘﺎﺿﯾﺎن\\n \\nﭘذﯾرش\\n \\nدر\\n \\nرﺷﺗﮫ\\n \\nﻣﺣل ھﺎی\\n \\nﺑﺎ\\n \\nآزﻣون)ﻣوﺿوع\\n \\nﻣﺻوﺑﮫ\\n \\nﺟﻠﺳﮫ\\n \\n843\\n \\nﺷورای\\n \\n ﻋﺎﻟﯽ\\n \\nاﻧﻘﻼب \\n \\nﻓرھﻧﮕﯽ(\\n \\nاﺳت.\\n 7-ﻣدﯾر ﻣدرﺳﮫ  ﻣﺣل  ﺗﺣﺻﯾل  ﻣوظف  ﺑﮫ  ﺗﮑﻣﯾل،  ﺗﺄﯾﯾد  و  ﻧﮭﺎﯾﯽ  ﺳﺎزی  ﻓراﯾﻧد  ﺛﺑت ﻧﺎم  داﻧش آﻣوزان  ﻣﺗﻘﺎﺿﯽ  \\nاﯾﺟﺎد\\n \\nﯾﺎ\\n \\nﺗرﻣﯾم\\n \\nﺳﺎﺑﻘﮫ\\n \\nﺗﺣﺻﯾﻠﯽ،\\n \\nﺑﺎ\\n \\nرﻋﺎﯾت\\n \\nﺿواﺑط\\n \\nو\\n \\nﻣﻘررات\\n \\nﻣرﺑوط\\n \\nو\\n \\nﺟداول\\n \\nدروس\\n \\nﻣﯽ ﺑﺎﺷد.\\n 8-ﻣﺗﻘﺎﺿﯾﺎﻧﯽ ﮐﮫ  ﻓﺎرغ اﻟﺗﺣﺻﯾﻠﯽ  آن ھﺎ  در  ﺳﺎﻣﺎﻧﮫ  اﺣراز  ﻧﻣﯽ ﺷود،  ﻣﻠزم  ﺑﮫ  درﺧواﺳت  ﺻدور  ﺗﺄﯾﯾدﯾﮫ  \\nﺗﺣﺻﯾﻠﯽ\\n \\nﻣﯽ ﺑﺎﺷﻧد.\\n 9-ﺛﺑت ﻧﺎم  از  ﻣﺗﻘﺎﺿﯾﺎن  اﯾﺟﺎد  و  ﯾﺎ  ﺗرﻣﯾم  ﺳﺎﺑﻘﮫ  ﺗﺣﺻﯾﻠﯽ  ﺣداﮐﺛر  ﺗﺎ  2  ھﻔﺗﮫ  ﻗﺑل  از  ﺑرﮔزاری  آزﻣون ھﺎی  \\nﻧﮭﺎﯾﯽ\\n \\nﺧرداد\\n \\nو\\n \\nدر\\n \\nﺑﺎزه\\n \\nزﻣﺎﻧﯽ\\n \\nﺣداﮐﺛر\\n \\n10\\n \\nروزه\\n \\nاﻧﺟﺎم\\n \\nﻣﯽ ﺷود.\\n ﻣوﺿوع: اﺻﻼﺣﺎت  ﺷﯾوه  ﻧﺎﻣﮫ  اﺟراﯾﯽ  ﻧﺣوه  اﯾﺟﺎد  ﺳﺎﺑﻘﮫ  ﺗﺣﺻﯾﻠﯽ  و  ﺗرﻣﯾم  ﺳﺎﺑﻘﮫ  ﺗﺣﺻﯾﻠﯽ  آﻣون  ھﺎی  \\nﻧﮭﺎﯾﯽ\\n \\nدوره\\n \\nدوم\\n \\nﻣﺗوﺳطﮫ\\n \\nدر\\n \\nودوﻣﯾن ﺷﺻت\\n \\nﺟﻠﺳﮫ\\n \\nﮐﻣﯾﺳﯾون\\n \\nﻣﻌﯾن\\n \\nﺷورای\\n \\nﻋﺎﻟﯽ\\n \\nآﻣوزش\\n \\nو\\n \\nﭘرورش\\n \\nﺗﺎرﯾﺦ\\n \\n24/01/1404\\n \\nﺑﮫ\\n \\nﺗﺻوﯾب\\n \\nرﺳﯾد.\\n                      ﻣﺣﻣود  اﻣﺎﻧﯽ   \\n5'),\n",
              " Document(metadata={'producer': 'Skia/PDF m137 Google Docs Renderer', 'creator': 'PyPDF', 'creationdate': '', 'title': '__شیوه نامه ایجاد و ترمیم سابقه تحصیلی - اصلاح شده نهایی 25 فروردین_', 'source': 'sample_doc.pdf', 'total_pages': 6, 'page': 5, 'page_label': '6'}, page_content='دﺑﯾرﮐل ﺷورای ﻋﺎﻟﯽ  آﻣوزش  و  ﭘرورش    اﺻﻼﺣﺎت ﺷﯾوه ﻧﺎﻣﮫ  اﺟراﯾﯽ  ﻧﺣوه  اﯾﺟﺎد  ﺳﺎﺑﻘﮫ  ﺗﺣﺻﯾﻠﯽ  و  ﺗرﻣﯾم  ﺳﺎﺑﻘﮫ  ﺗﺣﺻﯾﻠﯽ  آزﻣون  ھﺎی  ﻧﮭﺎﯾﯽ  دوره  \\nدوم\\n \\nﻣﺗوﺳطﮫ\\n \\nﻣورد\\n \\nﺗﺄﯾﯾد\\n \\nاﺳت،\\n \\nﺑﮫ\\n \\nﻣورد\\n \\nاﺟرا\\n \\nﮔذاﺷﺗﮫ\\n \\nﺷود.\\n            ﻋﻠﯾرﺿﺎ  ﮐﺎظﻣﯽ                  وزﯾر  آﻣوزش  و  ﭘرورش     \\n6')]"
            ]
          },
          "metadata": {},
          "execution_count": 15
        }
      ],
      "source": [
        "from langchain_community.document_loaders import PyPDFLoader\n",
        "\n",
        "\n",
        "loader = PyPDFLoader(\"sample_doc.pdf\")\n",
        "pages = loader.load_and_split()\n",
        "#pages = loader.load()\n",
        "pages"
      ]
    },
    {
      "cell_type": "code",
      "execution_count": 16,
      "metadata": {
        "id": "O3uihNd4gVVs",
        "outputId": "dc24a01e-a9ef-47fd-b7e8-d67419f1a4ad",
        "colab": {
          "base_uri": "https://localhost:8080/"
        }
      },
      "outputs": [
        {
          "output_type": "execute_result",
          "data": {
            "text/plain": [
              "[Document(metadata={'producer': 'Skia/PDF m137 Google Docs Renderer', 'creator': 'PyPDF', 'creationdate': '', 'title': '__شیوه نامه ایجاد و ترمیم سابقه تحصیلی - اصلاح شده نهایی 25 فروردین_', 'source': 'sample_doc.pdf', 'total_pages': 6, 'page': 0, 'page_label': '1'}, page_content='ﺑﺎﺳﻣﮫ ﺗﻌﺎﻟﯽ    اﺻﻼح ﻧﺎﻣﮫ ﺷﯾوه اﺟراﯾﯽ  ﻧﺣوه  اﯾﺟﺎد  و  ﺗرﻣﯾم  ﺳﺎﺑﻘﮫ  ﺗﺣﺻﯾﻠﯽ  ھﺎی آزﻣون  ﻧﮭﺎﯾﯽ  دوره  دوم  ﻣﺗوﺳطﮫ  ﻣﺻوب  \\nﭘﻧﺟﺎه وھﻔﺗﻣﯾن)\\n57\\n(\\n \\nﺟﻠﺳﮫ\\n \\nﮐﻣﯾﺳﯾون\\n \\nﻣﻌﯾن\\n \\nﺷورای ﻋﺎﻟﯽ\\n \\nآﻣوزش\\n \\nو\\n \\nﭘرورش\\n \\nﺗﺎرﯾﺦ\\n \\n27/9/1402\\n  ﺑﮫ اﺳﺗﻧﺎد  ﻣﺻوﺑﮫ  ﺟﻠﺳﮫ  1053  ﺗﺎرﯾﺦ  04/12/1403  ﻣوﺿوع  ﻋﻧﺎوﯾن  دروس  آزﻣون  ﻧﮭﺎﯾﯽ  دوره  دوم  \\nﻣﺗوﺳطﮫ\\n \\nو\\n \\nﭼﮕوﻧﮕﯽ\\n \\nﺗرﻣﯾم\\n \\nﺳﺎﺑﻘﮫ\\n \\nﺗﺣﺻﯾﻠﯽ\\n \\nﺳواﺑق\\n \\nﺗﺣﺻﯾﻠﯽ،\\n \\nﺷﯾوه ﻧﺎﻣﮫ\\n \\nاﺟراﯾﯽ\\n \\nﻧﺣوه\\n \\nاﯾﺟﺎد\\n \\nﺳﺎﺑﻘﮫ\\n \\nﺗﺣﺻﯾﻠﯽ\\n \\nو\\n \\nﺗرﻣﯾم\\n \\nﺳﺎﺑﻘﮫ\\n \\nﺗﺣﺻﯾﻠﯽ\\n \\nآزﻣون ھﺎی\\n \\nﻧﮭﺎﯾﯽ\\n \\nدوره\\n \\nدوم\\n \\nﻣﺗوﺳطﮫ)اﺻﻼﺣﯾﮫ\\n \\nﺷﯾوه ﻧﺎﻣﮫ\\n \\nﻣﺻوب\\n \\nﭘﻧﺟﺎه\\n \\nو\\n \\nھﻔﺗﻣﯾن\\n \\nﺟﻠﺳﮫ\\n \\nﮐﻣﯾﺳﯾون\\n \\nﻣﻌﯾن\\n \\nﺷورای\\n \\nﻋﺎﻟﯽ\\n \\nآﻣوزش\\n \\nو\\n \\nﭘرورش\\n \\nﺗﺎرﯾﺦ\\n \\n27/09/1402\\n(و\\n \\nﻣﺻوﺑﮫ\\n \\nﺟﻠﺳﮫ\\n \\n915\\n \\nﺷورای\\n \\nﻋﺎﻟﯽ\\n \\nاﻧﻘﻼب\\n \\nﻓرھﻧﮕﯽ\\n \\nﺗﺎرﯾﺦ.......\\n \\nﺑﮫ\\n \\nﺷرح\\n \\nزﯾر\\n \\nﺑﮫ\\n \\nﺗﺻوﯾب\\n \\nرﺳﯾد.\\n ﺗﻌﺎرﯾف(اﻟف ﺳﺎﺑﻘﮫ ﺗﺣﺻﯾﻠﯽ:  ﻣطﺎﺑق  ﻣﺎده١  ﻣﺻوﺑﮫ  ﺟﻠﺳﮫ  ٣۴٨  ﺗﺎرﯾﺦ  15/04/1400  ﺷورای  ﻋﺎﻟﯽ  اﻧﻘﻼب  ﻓرھﻧﮕﯽ،  \\nﺳﺎﺑﻘﮫ\\n \\nﺗﺣﺻﯾﻠﯽ\\n \\nﻋﺑﺎرت\\n \\nاﺳت\\n \\nاز؛\\n \\nﻧﻣرات\\n \\nدروس\\n \\nﻋﻣوﻣﯽ\\n \\nو\\n \\nﺗﺧﺻﺻﯽ\\n \\nدوره\\n \\nدوم\\n \\nﻣﺗوﺳطﮫ\\n \\nدر\\n \\nﻧظﺎم\\n \\nآﻣوزﺷﯽ\\n \\n3\\n-\\n3\\n-\\n3\\n-\\n3\\n \\nو\\n \\nدﯾﭘﻠم\\n \\nو\\n \\nﭘﯾش داﻧﺷﮕﺎھﯽ\\n \\nدر\\n \\nﻧظﺎم\\n \\nآﻣوزﺷﯽ\\n \\nﻗﺑﻠﯽ\\n \\nھر\\n \\nرﺷﺗﮫ\\n \\nﺗﺣﺻﯾﻠﯽ\\n \\nدوره\\n \\nﻣﺗوﺳطﮫ\\n \\nاﺳت\\n \\nﮐﮫ\\n \\nاﻣﺗﺣﺎﻧﺎت)آزﻣون ھﺎی(\\n \\nآن\\n \\nﻣطﺎﺑق\\n \\nاﺻول\\n \\nﺳﻧﺟش\\n \\nو\\n \\nاﻧدازه ﮔﯾری،\\n \\nﺑﮫ\\n \\nطور\\n \\nاﺳﺗﺎﻧدارد\\n \\nو\\n \\nﮐﯾﻔﯽ\\n \\nﺗوﺳط\\n \\nوزارت\\n \\nآﻣوزش\\n \\nو\\n \\nﭘرورش\\n \\nﺑﮫ\\n \\nﺻورت\\n \\nﺳراﺳری\\n \\nو\\n \\nﻧﮭﺎﯾﯽ)ﮐﺗﺑﯽ(\\n \\nدر\\n \\nﺳﻧوات\\n \\nﻣﺧﺗﻠف\\n \\nﻣطﺎﺑق\\n \\nﻣﺻوﺑﺎت\\n \\nﺷورای\\n \\nﻋﺎﻟﯽ\\n \\nآﻣوزش\\n \\nو\\n \\nﭘرورش\\n \\nﺑرﮔزار\\n \\nﺷده\\n \\nﺑﺎﺷد.\\n دوره :ﻣﺗوﺳطﮫ اﯾن  دوره  ﺷﺎﻣل  ﻧظﺎم ھﺎی  آﻣوزﺷﯽ  دوره  ﺷش ﺳﺎﻟﮫ  ﻣﺗوﺳطﮫ،  دوره  ﭼﮭﺎرﺳﺎﻟﮫ  ﻣﺗوﺳطﮫ،  \\nدوره\\n \\nﻣﺗوﺳطﮫ\\n \\nﺳﮫ ﺳﺎﻟﮫ\\n \\nﻧﯾم ﺳﺎﻟﯽ\\n \\nواﺣدی/\\n \\nﺳﺎﻟﯽ واﺣدی،\\n \\nدوره\\n \\nﭘﯾش داﻧﺷﮕﺎھﯽ\\n \\nﻧﯾم ﺳﺎﻟﯽ\\n \\nواﺣدی/\\n \\nﺳﺎﻟﯽ\\n \\nواﺣدی\\n \\nو\\n \\nدوره\\n \\nدوم\\n \\nﻣﺗوﺳطﮫ\\n \\nﻧظﺎم\\n \\n3\\n-\\n3\\n-\\n3\\n-\\n3\\n \\nﻣﯽ ﺑﺎﺷد\\n اﯾﺟﺎد ﺳﺎﺑﻘﮫ :ﺗﺣﺻﯾﻠﯽ  ﺷرﮐت  اﻓراد  واﺟد  ﺷراﯾط  و  ﻓﺎﻗد  ﺳﺎﺑﻘﮫ  ﺗﺣﺻﯾﻠﯽ  در  آزﻣون ھﺎی ﻧﮭﺎﯾﯽ ﻧوﺑت  \\nﺧردادﻣﺎه.\\n ﺗرﻣﯾم ﺳﺎﺑﻘﮫ :ﺗﺣﺻﯾﻠﯽ  ﺷرﮐت  ﻣﺟدد  اﻓراد  واﺟد  ﺷراﯾط  و  دارای  ﺳﺎﺑﻘﮫ  ﺗﺣﺻﯾﻠﯽ  در  ﻣﺟﻣوﻋﮫ   آزﻣون  \\nدروس\\n \\nﻧﮭﺎﯾﯽ)دارای\\n \\nﺳﺎﺑﻘﮫ(\\n \\nﯾﮏ ﭘﺎﯾﮫ.\\n دروس ﻣؤﺛر:  دروس  ﻧﮭﺎﯾﯽ  ﮐﮫ  ﺑر  اﺳﺎس  ﻧﺗﺎﯾﺞ  آﻧﮭﺎ  ﻧﻣره  ﮐل  ﺳﺎﺑﻘﮫ  ﺗﺣﺻﯾﻠﯽ  ﻣﺣﺎﺳﺑﮫ  ﻣﯽ ﺷود.  ﻧﻣره ﮐل ﺳﺎﺑﻘﮫ  :ﺗﺣﺻﯾﻠﯽ  ﺑراﺳﺎس  ﺑﻧد  2 - 2  ﻣﺻوﺑﮫ  ﺟﻠﺳﮫ  843  ﻣورخ  15/04/1400  ﺷورای  ﻋﺎﻟﯽ  \\nاﻧﻘﻼب\\n \\nﻓرھﻧﮕﯽ\\n \\nﻧﻣره\\n \\nﮐل\\n \\nﺳﺎﺑﻘﮫ\\n \\nﺗﺣﺻﯾﻠﯽ\\n \\nﻋﺑﺎرت\\n \\nاﺳت\\n \\nاز\\n \\nﻣﯾﺎﻧﮕﯾن\\n \\nﻧﻣره\\n \\nوزﻧﯽ\\n \\nﻧﻣرات\\n \\nﺗراز\\n \\nﺷده\\n \\nدروس\\n \\nﻋﻣوﻣﯽ\\n \\nو\\n \\nﺗﺧﺻﺻﯽ.\\n ھﺎی ﮔروه آزﻣﺎﯾﺷﯽ:  ﺗﻘﺳﯾم ﺑﻧدی  رﺷﺗﮫ ھﺎی  ﺗﺣﺻﯾﻠﯽ  آﻣوزش  ﻋﺎﻟﯽ  ﮐﮫ  ﺷﺎﻣل  ﭘﻧﺞ  ﮔروه:  ﻋﻠوم  رﯾﺎﺿﯽ  و  ﻓﻧﯽ،  \\nﻋﻠوم ﺗﺟرﺑﯽ\\n \\nو\\n \\nﻋﻠوم اﻧﺳﺎﻧﯽ)ﮔروه ھﺎی\\n \\nاﺻﻠﯽ(\\n \\nو\\n \\nزﺑﺎن ھﺎی\\n \\nﺧﺎرﺟﯽ\\n \\nو\\n \\nھﻧر)ﮔروه ھﺎی\\n \\nﻏﯾراﺻﻠﯽ(\\n \\nﻣﯽ ﺑﺎﺷﻧد.\\n (ب ﻣﺷﻣوﻻن اﯾﺟﺎد  ﺳﺎﺑﻘﮫ  :ﺗﺣﺻﯾﻠﯽ  داﻧش آﻣوزان ﺷﺎﺧﮫ  ﻧظری  ﺷﺎﻏل  ﺑﮫ  ﺗﺣﺻﯾل  در  ﭘﺎﯾﮫ ھﺎی  ﯾﺎزدھم  و  دوازدھم،  ﺑﺎ  ﺷرﮐت  در  آزﻣون ھﺎی  \\nﻧﮭﺎﯾﯽ\\n \\nﻧوﺑت\\n \\nﺧردادﻣﺎه،\\n \\nﺳﺎﺑﻘﮫ\\n \\nﺗﺣﺻﯾﻠﯽ\\n \\nﺑرای\\n \\nﮔروه\\n \\nآزﻣﺎﯾﺷﯽ\\n \\nﻣﺗﻧﺎظر\\n \\nﺑﺎ\\n \\nرﺷﺗﮫ\\n \\nﺗﺣﺻﯾﻠﯽ\\n \\nﺧود\\n \\nرا\\n \\nاﯾﺟﺎد\\n \\nﻣﯽ ﻧﻣﺎﯾﻧد.\\n \\nﺳﺎﯾر\\n \\nاﻓراد\\n \\nﮐﮫ\\n \\nﺳﺎﺑﻘﮫ\\n \\nﺗﺣﺻﯾﻠﯽ\\n \\nﻧدارﻧد،\\n \\nﻣﯽ ﺗواﻧﻧد\\n \\nﺻرﻓﺎً\\n \\nﺑرای\\n \\nدروس\\n \\nﻣؤﺛر\\n \\nﯾﮏ\\n \\nﮔروه\\n \\nآزﻣﺎﯾﺷﯽ\\n \\n1'),\n",
              " Document(metadata={'producer': 'Skia/PDF m137 Google Docs Renderer', 'creator': 'PyPDF', 'creationdate': '', 'title': '__شیوه نامه ایجاد و ترمیم سابقه تحصیلی - اصلاح شده نهایی 25 فروردین_', 'source': 'sample_doc.pdf', 'total_pages': 6, 'page': 1, 'page_label': '2'}, page_content='اﺻﻠﯽ و  ﯾﺎ  ﯾﮏ  ﮔروه  آزﻣﺎﯾﺷﯽ  ﻏﯾراﺻﻠﯽ  ﺑر  اﺳﺎس  ﺟداول  ﻋﻧﺎوﯾن  و  ﺿراﯾب  دروس  ﺳواﺑق  ﺗﺣﺻﯾﻠﯽ\\n1 \\n و  \\nﺑﺎ\\n \\nرﻋﺎﯾت\\n \\nﻣوارد\\n \\nزﯾر\\n \\nاﯾﺟﺎد\\n \\nﺳﺎﺑﻘﮫ\\n \\nﻧﻣﺎﯾﻧد:\\n 1-داﻧش آﻣوزان ﭘﺎﯾﮫ  دوازدھم  در  ﺻورت  اﻧﺗﺧﺎب  ﮔروه  آزﻣﺎﯾﺷﯽ  ﻏﯾر  ﻣﺗﻧﺎظر  ﺑﺎ  رﺷﺗﮫ  ﺗﺣﺻﯾﻠﯽ  ﺧود،  \\nﻣﯽ ﺗواﻧﻧد\\n \\nدر\\n \\nدروس\\n \\nﻧﮭﺎﯾﯽ\\n \\nﭘﺎﯾﮫ ھﺎی\\n \\nﯾﺎزدھم\\n \\nو\\n \\nدوازدھم\\n \\nآن\\n \\nﮔروه\\n \\nآزﻣﺎﯾﺷﯽ\\n \\nاﯾﺟﺎد\\n \\nﺳﺎﺑﻘﮫ\\n \\nﮐﻧﻧد.\\n 2- در  ﺻورت  ﺗداﺧل  زﻣﺎﻧﯽ  آزﻣون  درس  اﻧﺗﺧﺎﺑﯽ  ﺑرای  اﯾﺟﺎد  ﺳﺎﺑﻘﮫ  ﺗﺣﺻﯾﻠﯽ  ﺑﺎ  آزﻣون  درس  رﺷﺗﮫ  \\nﺗﺣﺻﯾﻠﯽ،\\n \\nﻣﺗﻘﺎﺿﯽ\\n \\nﺑﺎﯾد\\n \\nدر\\n \\nآزﻣون\\n \\nدرس\\n \\nاﻧﺗﺧﺎﺑﯽ\\n \\nدر\\n \\nﺧردادﻣﺎه\\n \\nو\\n \\nآزﻣون\\n \\nدرس\\n \\nرﺷﺗﮫ\\n \\nﺗﺣﺻﯾﻠﯽ\\n \\nﺧود\\n \\nدر\\n \\nﺷﮭرﯾورﻣﺎه\\n \\nﺷرﮐت\\n \\nﻧﻣﺎﯾد)وﺿﻌﯾت\\n \\nاﯾن\\n \\nدرس\\n \\nدر\\n \\nﺧردادﻣﺎه،\\n \\nﺑﮫ ﻋﻧوان\\n \\nﻏﯾﺑت\\n \\nﻣوﺟﮫ\\n \\nﺛﺑت\\n \\nﻣﯽ ﺷود(.\\n 3- داﻧش آﻣوزان  ﻣدارس  ﺑزرﮔﺳﺎﻻن،  آﻣوزش  از  راه  دور،  اﯾﺛﺎرﮔران  و  داوطﻠب  آزاد  ﮐﮫ  در  آزﻣون  دروس  \\nﻧﮭﺎﯾﯽ\\n \\nﻧوﺑت\\n \\nدی\\n \\nو\\n \\nﺷﮭرﯾورﻣﺎه)ﻧﺎظر\\n \\nﺑﮫ\\n \\nﺑﻧد\\n \\n1\\n \\nﻗﺳﻣت\\n \\nت(\\n \\nﺷرﮐت\\n \\nﻧﻣوده اﻧد،\\n \\nﺑﮫ\\n \\nﺷرط\\n \\nﮐﺳب\\n \\nﺣد\\n \\nﻧﺻﺎب\\n \\nﻗﺑوﻟﯽ\\n \\nدر\\n \\nﻧوﺑت ھﺎی\\n \\nﻣذﮐور،\\n \\nﺑﺎﯾد\\n \\nدر\\n \\nﺧردادﻣﺎه،\\n \\nﺻرﻓﺎً\\n \\nدر\\n \\nآزﻣون\\n \\nاﯾﺟﺎد\\n \\nﺳﺎﺑﻘﮫ\\n \\nآن\\n \\nدروس\\n \\nﺷرﮐت\\n \\nﻧﻣﺎﯾﻧد.\\n 4- ھﻧرﺟوﯾﺎن  ﺷﺎﺧﮫ ھﺎی  ﻓﻧﯽ  و  ﺣرﻓﮫ ای  و  ﮐﺎرداﻧش  ﭘﺎﯾﮫ ھﺎی  ﯾﺎزدھم)ﺻرﻓﺎً  دروس  ﻧﮭﺎﯾﯽ  ﭘﺎﯾﮫ  ﯾﺎزدھم(  و  \\nدوازدھم\\n \\n)دروس\\n \\nﻧﮭﺎﯾﯽ\\n \\nﭘﺎﯾﮫ ھﺎی\\n \\nﯾﺎزدھم\\n \\nو\\n \\nدوازدھم(\\n \\nﻣﯽ ﺗواﻧﻧد\\n \\nدر\\n \\nﯾﮏ\\n \\nﮔروه\\n \\nآزﻣﺎﯾﺷﯽ\\n \\nاﺻﻠﯽ\\n \\nو\\n \\nﯾﺎ\\n \\nﯾﮏ\\n \\nﮔروه\\n \\nآزﻣﺎﯾﺷﯽ\\n \\nﻏﯾراﺻﻠﯽ\\n \\nﻣورد\\n \\nﺗﻘﺎﺿﺎ\\n \\nﺑرای\\n \\nاﯾﺟﺎد\\n \\nﺳﺎﺑﻘﮫ\\n \\nﺗﺣﺻﯾﻠﯽ\\n \\nﺷرﮐت\\n \\nﻧﻣﺎﯾﻧد.\\n 5- ﺗﻣﺎم  ﻓﺎرغ اﻟﺗﺣﺻﯾﻼن  ﺷﺎﺧﮫ  ﻧظری  دﯾﭘﻠم  ﻗﺑل  از  ﺳﺎل  1384  و  ﭘﯾش داﻧﺷﮕﺎھﯽ  ﻗﺑل  از  ﺳﺎل  1391 .  6-داﻧش آﻣوزان و  ﻓﺎرغ اﻟﺗﺣﺻﯾﻼﻧﯽ  ﮐﮫ  ﺳواﺑق  ﺗﺣﺻﯾﻠﯽ  آﻧﺎن  ﻣﻧﻘﺿﯽ  ﺷده  اﺳت.  ﺗﺑﺻره: ﺗﺎ  ﺳﺎل1405،  ﺳواﺑق  ﺗﺣﺻﯾﻠﯽ  ﺷﺎﻣل  ﻧﺗﺎﯾﺞ  آزﻣون ھﺎی  ﻧﮭﺎﯾﯽ  ﺧردادﻣﺎه  1384)دﯾﭘﻠم  و  \\nﺳﺎل\\n1391\\n \\n)ﭘﯾش داﻧﺷﮕﺎھﯽ\\n \\nو\\n \\nﭘس\\n \\nاز\\n \\nآن\\n \\nﻣﯽ ﺑﺎﺷد\\n \\nو\\n \\nدر\\n \\nﺳﺎل ھﺎی\\n \\nﺑﻌدی،\\n \\nزﻣﺎن\\n \\nاﻋﺗﺑﺎر\\n \\nﺳواﺑق\\n \\nﺗﺣﺻﯾﻠﯽ\\n \\nﺗوﺳط\\n \\nﮐﻣﯾﺳﯾون\\n \\nﻣﻌﯾن\\n \\nﺷورای\\n \\nﻋﺎﻟﯽ\\n \\nآﻣوزش\\n \\nو\\n \\nﭘرورش\\n \\nﻣﺷﺧص\\n \\nﻣﯽ ﺷود.\\n 7- ﻓﺎرغ اﻟﺗﺣﺻﯾﻼن  ﺷﺎﺧﮫ  ﻧظری  داوطﻠب  ﺷرﮐت  در  ﮔروه  آزﻣﺎﯾﺷﯽ  ﻏﯾر  ﻣﺗﻧﺎظر  ﺑﺎ  رﺷﺗﮫ  ﺗﺣﺻﯾﻠﯽ  ﺧود.  8- ﻓﺎرغ اﻟﺗﺣﺻﯾﻼن  ﺷﺎﺧﮫ ھﺎی  ﻓﻧﯽ  و  ﺣرﻓﮫ ای  و  ﮐﺎرداﻧش  دوره  ﻣﺗوﺳطﮫ.  9- ﻓﺎرغ اﻟﺗﺣﺻﯾﻼن  ﻣدارس  ﺑﯾن اﻟﻣﻠل  و  دارﻧدﮔﺎن  ﮔواھﯾﻧﺎﻣﮫ  ﻣﻌﺎدل  دوره  ﻣﺗوﺳطﮫ  و  ﭘﯾش داﻧﺷﮕﺎھﯽ  ﺻﺎدره  \\nاز\\n \\nﮐﻣﯾﺳﯾون\\n \\nارزﺷﯾﺎﺑﯽ\\n \\nﻣدارک\\n \\nﺗﺣﺻﯾﻠﯽ\\n \\nﺧﺎرﺟﯽ.\\n 10- طﻼب  ﺣوزه ھﺎی  ﻋﻠﻣﯾﮫ  ﮐﮫ  دارای  ﻣدرک  ﺳطﺢ  ﯾﮏ  ﺣوزوی  ﻣﯽ ﺑﺎﺷﻧد  ﺻرﻓﺎً  در  دروس  ﻣؤﺛر  ﮔروه  \\nآزﻣﺎﯾﺷﯽ\\n \\nﻋﻠوم اﻧﺳﺎﻧﯽ\\n2\\n.\\n 11- ﺳﺎﯾر  ﻓﺎرغ اﻟﺗﺣﺻﯾﻼن  و  داﻧش آﻣوزان  دوره  ﻣﺗوﺳطﮫ  ﻓﺎﻗد  ﺗﻣﺎم  ﯾﺎ  ﺑﺧﺷﯽ  از  ﺳواﺑق  ﺗﺣﺻﯾﻠﯽ.  (پ ﻣﺷﻣوﻻن ﺗرﻣﯾم  ﺳﺎﺑﻘﮫ  :ﺗﺣﺻﯾﻠﯽ   ﺗﻣﺎﻣﯽ اﻓرادی  ﮐﮫ  دارای  ﺳﺎﺑﻘﮫ  ﺗﺣﺻﯾﻠﯽ  ھﺳﺗﻧد؛  ازﺟﻣﻠﮫ  داﻧش آﻣوزان  و  ھﻧرﺟوﯾﺎن  ﭘﺎﯾﮫ  دوازدھم  و  \\nﻓﺎرغ اﻟﺗﺣﺻﯾﻼن\\n \\nﺷﺎﺧﮫ ھﺎی\\n \\nﻧظری،\\n \\nﻓﻧﯽ\\n \\nو\\n \\nﺣرﻓﮫ ای\\n \\nو\\n \\nﮐﺎرداﻧش\\n \\nﺻرﻓﺎً\\n \\nﺑرای\\n \\nدروس\\n \\nﻣؤﺛر\\n \\nﯾﮏ\\n \\nﮔروه\\n \\nآزﻣﺎﯾﺷﯽ\\n \\nاﺻﻠﯽ\\n \\nو\\n \\nﯾﺎ\\n \\nﯾﮏ\\n \\nﮔروه\\n \\nآزﻣﺎﯾﺷﯽ\\n \\nﻏﯾراﺻﻠﯽ\\n \\nﺑر\\n \\nاﺳﺎس\\n \\nﺟداول\\n \\nﻋﻧﺎوﯾن\\n \\nو\\n \\nﺿراﯾب\\n \\nدروس\\n \\nﺳواﺑق\\n \\nﺗﺣﺻﯾﻠﯽ.\\n \\n2\\n   \\nﺑﺮ\\n \\nاﺳﺎس\\n \\nﻣﺼﻮﺑات\\n \\nﺟﻠﺴﮫ\\n \\n548\\n \\nﻣﻮرخ\\n \\n28/07/1383\\n \\nو\\n \\nﺟﻠﺳﮫ\\n \\n368\\n \\nﻣورخ\\n \\n03/11/1374\\n \\nﺷورای\\n \\nﻋﺎﻟﻲ\\n \\nاﻧﻘﻼب\\n \\nﻓﺮھﻨﮕﻲ\\n \\nدرﺧﺻوص\\n \\nاداﻣﮫ\\n \\nﺗﺣﺻﯾل\\n \\nدارﻧدﮔﺎن\\n \\nﻣدارک\\n \\nﺗﺣﺻﯾﻠﯽ\\n \\nﺣوزوی\\n \\nدر\\n \\nداﻧﺷﮕﺎه ھﺎ،\\n \\nدارﻧدﮔﺎن\\n \\nﻣدارک\\n \\nﺣوزوی\\n \\nﻣﯽ ﺗواﻧﻧد\\n \\nﭘس\\n \\nاز\\n \\nﻗﺑوﻟﯽ\\n \\nدر\\n \\nآزﻣون\\n \\nﺳراﺳری\\n \\nدرﺗﻣﺎﻣﯽ\\n \\nرﺷﺗﮫ ھﺎی\\n \\nﻋﻠوم\\n \\nاﻧﺳﺎﻧﯽ\\n \\nدر\\n \\nداﻧﺷﮕﺎه ھﺎ\\n \\nاداﻣﮫ\\n \\nﺗﺣﺻﯾل\\n \\nدھﻧد.\\n \\n1\\n اﯾن ﺟداول  در  ﺻورت  ﻧﯾﺎز  ﺗوﺳط  ﻣﻌﺎوﻧت  آﻣوزش  ﻣﺗوﺳطﮫ/  ﻣرﮐز  ارزﺷﯾﺎﺑﯽ  و  ﺗﺿﻣﯾن  ﮐﯾﻔﯾت  ﻧظﺎم  آﻣوزش  و  ﭘرورش،  ﭘس  از  ﺗﺻوﯾب  در  ﺷورای  ﺳﻧﺟش  و  \\nﭘذﯾرش\\n \\nداﻧﺷﺟو\\n \\nاطﻼع رﺳﺎﻧﯽ\\n \\nﻣﯽ ﺷود.\\n \\n2'),\n",
              " Document(metadata={'producer': 'Skia/PDF m137 Google Docs Renderer', 'creator': 'PyPDF', 'creationdate': '', 'title': '__شیوه نامه ایجاد و ترمیم سابقه تحصیلی - اصلاح شده نهایی 25 فروردین_', 'source': 'sample_doc.pdf', 'total_pages': 6, 'page': 2, 'page_label': '3'}, page_content='(ت ﺷراﯾط اﯾﺟﺎد  و  ﺗرﻣﯾم  ﺳﺎﺑﻘﮫ  ﺗﺣﺻﯾﻠﯽ  1-ﻣﺗﻘﺎﺿﯾﺎن ﻣﯽ ﺗواﻧﻧد  ﺑرای  اﯾﺟﺎد  ﺳﺎﺑﻘﮫ  ﺗﺣﺻﯾﻠﯽ  درس/دروس  ﻣوردﻧظر  ﺧود  را  ﺻرﻓﺎً  در  ﻧوﺑت  \\nﺧردادﻣﺎه\\n3\\n \\nاﻧﺗﺧﺎب\\n \\nو\\n \\nدر\\n \\nآزﻣون\\n \\nﻣرﺑوط\\n \\nﺷرﮐت\\n \\nﻧﻣﺎﯾﻧد.\\n 2-ﺗرﻣﯾم ﺳﺎﺑﻘﮫ  ﺗﺣﺻﯾﻠﯽ  ﺻرﻓﺎً  در  ﺻورت  ﺷرﮐت  در  ﻣﺟﻣوع  دروس  ﻣوﺛر  دارای  ﺳﺎﺑﻘﮫ  ھر  ﭘﺎﯾﮫ  در  ﯾﮏ  \\nﮔروه\\n \\nآزﻣﺎﯾﺷﯽ\\n \\nاﺻﻠﯽ\\n \\nو\\n \\nﯾﺎ\\n \\nﯾﮏ\\n \\nﮔروه\\n \\nآزﻣﺎﯾﺷﯽ\\n \\nﻏﯾراﺻﻠﯽ\\n ﺻرﻓﺎً در ﻧوﺑت  ﺧردادﻣﺎه  و  ﺑدون  ﻣﺣدودﯾت  از  \\nﻣﻧظر\\n \\nﺗﻌداد\\n \\nدﻓﻌﺎت\\n \\nﺷرﮐت\\n \\nدر\\n \\nآزﻣون\\n \\nاﻣﮑﺎن ﭘذﯾر\\n \\nاﺳت.\\n :ﺗﺑﺻره ﺻرﻓﺎً در  ﻧوﺑت  ﺧرداد  1404،  داوطﻠﺑﺎن  ﺗرﻣﯾم  ﺳﺎﺑﻘﮫ  ﺗﺣﺻﯾﻠﯽ  ﺑرای  اوﻟﯾن  ﻣرﺗﺑﮫ،  ﻣﺟﺎز  ﺑﮫ  \\nاﻧﺗﺧﺎب\\n \\nﺗﮏ\\n \\nدرس\\n \\nﻣﯽ\\n \\nﺑﺎﺷﻧد.\\n \\nﺑرای\\n \\nاﯾن\\n \\nﮔروه\\n \\nاز\\n \\nداوطﻠﺑﺎن\\n \\nﮐﮫ\\n \\nدر\\n \\nﯾﮏ\\n \\nدرس\\n \\nدارای\\n \\nﭼﻧد\\n \\nﻧﻣره\\n \\nﻣﯽ\\n \\nﺑﺎﺷﻧد،\\n \\nﺑﯾﺷﺗرﯾن\\n \\nﻧﻣره\\n \\nﺗراز\\n \\nھر\\n \\nدرس\\n \\nﺑرای\\n \\nﻣﺣﺎﺳﺑﮫ\\n \\nﻧﻣره\\n \\nﮐل\\n \\nﺳﺎﺑﻘﮫ\\n \\nﺗﺣﺻﯾﻠﯽ\\n \\nﻟﺣﺎظ\\n \\nﻣﯽ ﺷود. 3- ﺑرای  داوطﻠﺑﺎن  ﺗرﻣﯾم  ﺳﺎﺑﻘﮫ  ﺗﺣﺻﯾﻠﯽ،  در  ﺻورت  ﻋدم  ﺷرﮐت  و  ﻏﯾﺑت)ﻣوﺟﮫ  ﯾﺎ  ﻏﯾرﻣوﺟﮫ(  در  ﯾﮏ  ﯾﺎ  \\nﭼﻧد\\n \\nآزﻣون\\n \\nاﻧﺗﺧﺎب\\n \\nﺷده،\\n \\nﻧﻣرات\\n \\nﮐﺳب\\n \\nﺷده\\n \\nدر\\n \\nﺳﺎﯾر\\n \\nآزﻣون ھﺎی\\n \\nآن\\n \\nﻧوﺑت\\n \\nﻧﯾز\\n \\nﺑﮫ ﻋﻧوان\\n \\nﺳﺎﺑﻘﮫ\\n \\nﺗﺣﺻﯾﻠﯽ\\n \\nﻣﻧظور\\n \\nﻧﺧواھد\\n \\nﺷد)ﺳﺎﺑﻘﮫ\\n \\nﺗﺣﺻﯾﻠﯽ\\n \\nﻣﻌﺗﺑر\\n \\nﭘﯾﺷﯾن\\n \\nﻣﻼک\\n \\nﻋﻣل\\n \\nﻗرار\\n \\nﻣﯽ ﮔﯾرد(.\\n 4-ﻧﻣرات اﯾﺟﺎد  ﺳﺎﺑﻘﮫ  ﺗﺣﺻﯾﻠﯽ  و  ﺗرﻣﯾم  ﺳﺎﺑﻘﮫ  ﺗﺣﺻﯾﻠﯽ  ﺻرﻓﺎً  ﺑﮫ ﻋﻧوان  ﺳﺎﺑﻘﮫ  ﺗﺣﺻﯾﻠﯽ  اﻋﺗﺑﺎر  ﺧواھد  \\nداﺷت\\n \\nو\\n \\nدر\\n \\nﮐﺎرﻧﺎﻣﮫ\\n \\nﺗﺣﺻﯾﻠﯽ\\n \\nﻣﺗﻘﺎﺿﯽ\\n \\nﻣﻧظور\\n \\nﻧﻣﯽ ﺷود.\\n :ﺗﺑﺻره در  ﺻورت  ﺗﻘﺎﺿﺎی  ﮔواھﯽ  ﻧﻣرات  آزﻣون  ﺗرﻣﯾم  ﺳﺎﺑﻘﮫ  ﺗﺣﺻﯾﻠﯽ  ﺗوﺳط  ذی ﻧﻔﻌﺎن  ﺑرای  اراﺋﮫ  ﺑﮫ  \\nﻣراﮐز\\n \\nو\\n \\nﻣؤﺳﺳﺎت\\n \\nآﻣوزﺷﯽ\\n \\nﺧﺎرج\\n \\nاز\\n \\nﮐﺷور\\n \\nو\\n \\nارﺳﺎل\\n \\nدرﺧواﺳت\\n \\nاﯾﺷﺎن\\n \\nاز\\n \\nطرﯾق\\n \\nﻣرﮐز\\n \\nاﻣور\\n \\nﺑﯾن اﻟﻣﻠل\\n \\nو\\n \\nﻣدارس\\n \\nﺧﺎرج\\n \\nاز\\n \\nﮐﺷور،\\n \\nﺻدور\\n \\nﮔواھﯽ\\n \\nﻣذﮐور\\n \\nﺗوﺳط\\n \\nﻣرﮐز\\n \\nارزﺷﯾﺎﺑﯽ\\n \\nو\\n \\nﺗﺿﻣﯾن\\n \\nﮐﯾﻔﯾت\\n \\nﻧظﺎم\\n \\nآﻣوزش\\n \\nو\\n \\nﭘرورش\\n \\nﺑﻼﻣﺎﻧﻊ\\n \\nاﺳت. 5-ﻓراﯾﻧدھﺎی ﺛﺑت ﻧﺎم  و  اﻋﻼم  ﻧﺗﺎﯾﺞ  ﻗطﻌﯽ  آزﻣون ھﺎی  اﯾﺟﺎد  و  ﯾﺎ  ﺗرﻣﯾم  ﺳﺎﺑﻘﮫ  ﺗﺣﺻﯾﻠﯽ،  ﺑدون  ﻣراﺟﻌﮫ  \\nﺣﺿوری\\n \\nﺑﮫ\\n \\nﻣدرﺳﮫ\\n \\nو\\n \\nﺑﮫ ﺻورت\\n \\nاﻟﮑﺗروﻧﯾﮑﯽ\\n \\nاز\\n \\nطرﯾق\\n \\nﭘﻧﺟره\\n \\nواﺣد\\n \\nﺧدﻣﺎت\\n \\nاﻟﮑﺗروﻧﯾﮏ\\n \\nوزارت\\n \\nآﻣوزش وﭘرورش\\n \\nاﻧﺟﺎم\\n \\nﻣﯽ ﺷود)ﮔواھﯽ\\n \\nﯾﺎ\\n \\nﮐﺎرﻧﺎﻣﮫ ای\\n \\nﺑرای\\n \\nﺷرﮐت\\n \\nﮐﻧﻧدﮔﺎن\\n \\nﺻﺎدر\\n \\nﻧﺧواھد\\n \\nﺷد(.\\n ﺗﺑﺻره 1:  ﺑرای  داوطﻠﺑﺎن  ﻣﺷﻐول  ﺑﮫ  ﺗﺣﺻﯾل)داﻧش  آﻣوزان(  درﺧواﺳت  ﺛﺑت  ﺷده،  ﺗوﺳط  ﻣدﯾر  ﻣدرﺳﮫ  \\nﻣﺣل\\n \\nﺗﺣﺻﯾل\\n \\nﺗﮑﻣﯾل،\\n \\nﺗﺄﯾﯾد\\n \\nو\\n \\nﻧﮭﺎﯾﯽ\\n \\nﻣﯽ ﺷود.\\n \\n ﺗﺑﺻره 2:  ﺑرای  ھﻧرﺟوﯾﺎﻧﯽ  ﮐﮫ  در  آزﻣون  ﻧﮭﺎﯾﯽ  دروس  ﻣؤﺛر  در  ﮔروه  آزﻣﺎﯾﺷﯽ  ھﻧر  و  ﻣرﺑوط  ﺑﮫ  رﺷﺗﮫ  \\nﺗﺣﺻﯾﻠﯽ\\n \\nﺧود\\n \\nﺷرﮐت\\n \\nﻣﯽ ﮐﻧﻧد،\\n \\nﻧﻣرات\\n \\nﮐﺳب\\n \\nﺷده\\n \\nﻣﯽ ﺗواﻧد\\n \\nﺑﺎ\\n \\nدرﺧواﺳت\\n \\nذی ﻧﻔﻊ\\n \\nدر\\n \\nﮐﺎرﻧﺎﻣﮫ\\n \\nﺗﺣﺻﯾﻠﯽ\\n \\nﺛﺑت\\n \\n ﺷود.\\n ﺗﺑﺻره 3: ﻧﻣرات  ﺷرﮐت  ﮐﻧﻧدﮔﺎن  آزﻣون ھﺎی  ﻧﮭﺎﯾﯽ  در  ﺣوزه ھﺎی  ﺧﺎرج  از  ﮐﺷور  ﺑﮫ  ﺷرط  اﺣراز  ﺿواﺑط  \\nو\\n \\nﻣﻘررات\\n \\nﺗﺷﮑﯾل\\n \\nﻣرﮐز\\n \\nآزﻣون\\n \\nﻣطﺎﺑق\\n \\nﺷﯾوه\\n \\nﻧﺎﻣﮫ\\n \\nﻣرﺑوط،\\n \\nﺑﮫ\\n \\nﻋﻧوان\\n \\nﺳﺎﺑﻘﮫ\\n \\nﺗﺣﺻﯾﻠﯽ\\n \\nﺑﮫ\\n \\nﺳﺎزﻣﺎن\\n \\nﺳﻧﺟش\\n \\nآﻣوزش\\n \\nﮐﺷور\\n \\nارﺳﺎل\\n \\nﻣﯽ\\n \\nﺷود.\\n \\n3 \\nاز ﻧوﺑت  اﻣﺗﺣﺎﻧﯽ  ﺧردادﻣﺎه  ﺳﺎل1402  و  ﭘس  از  آن،  ﺳﺎﺑﻘﮫ  ﺗﺣﺻﯾﻠﯽ  ﺻرﻓﺎً  ﺷﺎﻣل  ﻧﺗﺎﯾﺞ  آزﻣون ھﺎی  ﻧوﺑت  ﺧردادﻣﺎه  ﻣﯽ ﺑﺎﺷد.  ﺑﮫ  ﻋﺑﺎرت  دﯾﮕر،  از  اﯾن  ﻧوﺑت  آزﻣوﻧﯽ  \\nﺑﮫ\\n \\nﺑﻌد،\\n \\nﻧﻣرات\\n \\nﮐﺳب\\n \\nﺷده\\n \\nدر\\n \\nﻧوﺑت ھﺎی\\n \\nﺷﮭرﯾور\\n \\nو\\n \\nدی ﻣﺎه\\n \\nﺑﮫ\\n \\nﻋﻧوان\\n \\nﺳﺎﺑﻘﮫ\\n \\nﺗﺣﺻﯾﻠﯽ\\n \\nﻟﺣﺎظ\\n \\nﻧﺧواھﻧد\\n \\nﺷد.\\n \\n3'),\n",
              " Document(metadata={'producer': 'Skia/PDF m137 Google Docs Renderer', 'creator': 'PyPDF', 'creationdate': '', 'title': '__شیوه نامه ایجاد و ترمیم سابقه تحصیلی - اصلاح شده نهایی 25 فروردین_', 'source': 'sample_doc.pdf', 'total_pages': 6, 'page': 3, 'page_label': '4'}, page_content='ﺗﺑﺻره 4: ﺑرای  ﺗﺳﮭﯾل  ﺛﺑت ﻧﺎم  ﻣﺗﻘﺎﺿﯾﺎن  اﯾﺟﺎد  و  ﯾﺎ  ﺗرﻣﯾم  ﺳﺎﺑﻘﮫ  ﺗﺣﺻﯾﻠﯽ  در  ﺧﺎرج  از  ﮐﺷور،  ﻣرﮐز  اﻣور  \\nﺑﯾن\\n \\nاﻟﻣﻠل\\n \\nو\\n \\nﻣدارس\\n \\nﺧﺎرج\\n \\nاز\\n \\nﮐﺷور\\n \\nﻧﺳﺑت\\n \\nﺑﮫ\\n \\nاﺧذ\\n \\nﺗﻘﺎﺿﺎ\\n \\nاز\\n \\nﻣﺗﻘﺎﺿﯾﺎن\\n \\nﺑﮫ\\n \\nطرﯾق\\n \\nﻣﻘﺗﺿﯽ\\n \\nاﻗدام\\n \\nو\\n \\nدر\\n \\nﺑﺎزه\\n \\nزﻣﺎﻧﯽ\\n \\nاﻋﻼم\\n \\nﺷده\\n \\nﺑرای\\n \\nﺛﺑت\\n \\nﻧﺎم\\n \\nدر\\n \\nﺳﺎﻣﺎﻧﮫ\\n \\nﻣرﺑوط\\n \\nﺛﺑت\\n \\nﻣﯽ ﻧﻣﺎﯾد.\\n 6-ھزﯾﻧﮫ ﺷرﮐت  در  آزﻣون ھﺎی  ﻧﮭﺎﯾﯽ  ﺑرای  اﯾﺟﺎد  و  ﯾﺎ  ﺗرﻣﯾم  ﺳﺎﺑﻘﮫ  ﺗﺣﺻﯾﻠﯽ  ﺑﮫ  ﺗﻔﮑﯾﮏ  ھر  درس  و  ﻣطﺎﺑق  \\nﻣﺻوﺑﮫ\\n \\nھﯾﺋت\\n \\nوزﯾران\\n \\nاﺧذ\\n \\nﻣﯽ ﺷود.\\n (ث ﺳﺎﯾر ﺿواﺑط  و  ﻧﮑﺎت  :ﺗوﺟﮫ ﻗﺎﺑل  1- ﻧﺣوه  و  ﻣﯾزان  ﮐﺎرﺑرد  ﻧﺗﺎﯾﺞ  ھرﯾﮏ  از  ﺳواﻻت  آزﻣون ھﺎی  ﻧﮭﺎﯾﯽ  در  ﻓراﯾﻧدھﺎی  ﺗوﻟﯾد  ﺳﺎﺑﻘﮫ  ﺗﺣﺻﯾﻠﯽ  و  \\nﻋﻣﻠﮑرد\\n \\n)ﮐﺎرﻧﺎﻣﮫ(\\n \\nﺗﺣﺻﯾﻠﯽ\\n \\nﺗوﺳط\\n \\nﻣرﮐز\\n \\nارزﺷﯾﺎﺑﯽ\\n \\nو\\n \\nﺗﺿﻣﯾن\\n \\nﮐﯾﻔﯾت\\n \\nﻧظﺎم\\n \\nآﻣوزش و ﭘرورش\\n \\nﺗﻌﯾﯾن\\n \\nو\\n \\nاﻋﻣﺎل\\n \\nﻣﯽ ﺷود.\\n 2- داﻧش آﻣوزان  ﺷﺎﺧﮫ  ﻧظری  ﺷﺎﻏل  ﺑﮫ  ﺗﺣﺻﯾل  در  ﻣدارس  ﺑزرﮔﺳﺎﻻن،  آﻣوزش  از  راه  دور،  اﯾﺛﺎرﮔران  و  \\nداوطﻠﺑﺎن\\n \\nآزاد\\n \\nﻣﺟﺎزﻧد\\n \\nﺑدون\\n \\nﻧﯾﺎز\\n \\nﺑﮫ\\n \\nاﺧذ\\n \\nﻣﺟوز\\n \\nاز\\n \\nﮐﻣﯾﺳﯾون\\n \\nﺧﺎص\\n \\nﺗﻣﺎم\\n \\nدروس)ﻧﮭﺎﯾﯽ\\n \\nو\\n \\nﻏﯾر\\n \\nﻧﮭﺎﯾﯽ(\\n \\nرا\\n \\nﻣﻌﺎدل\\n \\nﺑﺎ\\n \\nﯾﮏ ﭘﺎﯾﮫ\\n \\nﺗﺣﺻﯾﻠﯽ\\n \\nﺑﺎ\\n \\nرﻋﺎﯾت\\n \\nﺗواﻟﯽ\\n \\nدروس\\n \\nدر\\n \\nﻧﯾم ﺳﺎل\\n \\nدوم\\n \\nﺳﺎل\\n \\nﺗﺣﺻﯾﻠﯽ\\n \\nاﻧﺗﺧﺎب\\n \\nو\\n \\nدر\\n \\nآزﻣون\\n \\nﺧردادﻣﺎه\\n \\nﺷرﮐت\\n \\nﻧﻣﺎﯾﻧد.\\n 3-  ﺑرای  ﭘذﯾرش  داوطﻠﺑﺎن  ورود  ﺑﮫ  ﻣراﮐز  و  ﻣوﺳﺳﺎت  آﻣوزش  ﻋﺎﻟﯽ  در  ﺳﺎل  ﺗﺣﺻﯾﻠﯽ  \\n1405\\n-\\n1404\\n)ﺧرداد\\n \\n1404\\n(،\\n \\nﺳواﺑق\\n \\nﺗﺣﺻﯾﻠﯽ\\n \\nﭘﺎﯾﮫ\\n \\nﯾﺎزدھم\\n \\nﺑﮫ\\n \\nﺻورت\\n \\nﻣﺛﺑت\\n \\nو\\n \\nﺳواﺑق\\n \\nﺗﺣﺻﯾﻠﯽ\\n \\nﭘﺎﯾﮫ\\n \\nدوازدھم\\n \\nﺑﮫ\\n \\nﺻورت\\n \\nﻗطﻌﯽ\\n \\nاﻋﻣﺎل\\n \\nﻣﯽ\\n \\nﺷود؛\\n \\nﻟذا،\\n \\nﺻرﻓﺎً\\n \\nﺑرای\\n \\nاﯾن\\n \\nﺳﺎل،\\n \\nﻧﻣره\\n \\nﮐل\\n \\nﺳﺎﺑﻘﮫ\\n \\nﺗﺣﺻﯾﻠﯽ\\n \\nﺑراﺳﺎس\\n \\nدو\\n \\nﻣﺟﻣوﻋﮫ\\n \\nﺿراﯾب)ﻣﺟﻣوع\\n \\nﭘﺎﯾﮫ ھﺎی\\n \\nﯾﺎزدھم\\n \\nو\\n \\nدوازدھم\\n \\n/\\n \\nدوازدھم(\\n \\nﻣﺣﺎﺳﺑﮫ\\n \\nو\\n \\nﺑﯾﺷﺗرﯾن\\n \\nﻧﻣره\\n \\nﮐل\\n \\nﺑﺎ\\n \\nﺳﮭم\\n \\nﺷﺻت\\n \\nدرﺻدی\\n \\nدر\\n \\nﭘذﯾرش\\n \\nداوطﻠﺑﺎن\\n \\nورود\\n \\nﺑﮫ\\n \\nرﺷﺗﮫ\\n \\nﻣﺣل ھﺎی\\n \\nﭘرﻣﺗﻘﺎﺿﯽ\\n \\nاﻋﻣﺎل\\n \\nﻣﯽ ﺷود.\\n \\nﺑرای\\n \\nﭘذﯾرش\\n \\nدر\\n \\nﺳﺎل\\n \\nﺗﺣﺻﯾﻠﯽ\\n \\n1406\\n-\\n1405\\n)ﺧرداد\\n \\n1405\\n(\\n \\nو\\n \\nﭘس\\n \\nاز\\n \\nآن،\\n \\nﻧﻣره\\n \\nﮐل\\n \\nﺳﺎﺑﻘﮫ\\n \\nﺗﺣﺻﯾﻠﯽ\\n \\nﺑﺎ\\n \\nﺗرﮐﯾب\\n \\nﻣﺟﻣوع\\n \\nﻧﺗﺎﯾﺞ\\n \\nﺳواﺑق\\n \\nﭘﺎﯾﮫ ھﺎی\\n \\nﯾﺎزدھم\\n \\nو\\n \\nدوازدھم\\n \\nﻣﺣﺎﺳﺑﮫ\\n \\nو\\n \\nﺑﺎ\\n \\nﺳﮭم\\n \\nﺷﺻت\\n \\nدرﺻدی)ﺑﯾﺳت\\n \\nدرﺻد\\n \\nﭘﺎﯾﮫ\\n \\nﯾﺎزدھم\\n \\nو\\n \\nﭼﮭل\\n \\nدرﺻد\\n \\nﭘﺎﯾﮫ\\n \\nدوازدھم(\\n \\nو\\n \\nﺑﮫ\\n \\nﺻورت\\n \\nﻗطﻌﯽ\\n \\nاﻋﻣﺎل\\n \\nﻣﯽ ﺷود.\\n 4- ﺑر  اﺳﺎس  ﻣﺻوﺑﮫ  ﺟﻠﺳﮫ  33  ﺗﺎرﯾﺦ  12/09/1401  ﺷورای  ﺳﻧﺟش  و  ﭘذﯾرش  داﻧﺷﺟو،  ﺳﮭم  ﻧﻣره  ﮐل  \\nﺳﺎﺑﻘﮫ\\n \\nﺗﺣﺻﯾﻠﯽ\\n \\nﻗﺎﺑل \\n \\nﺟﺎﯾﮕزﯾﻧﯽ\\n \\nﺑﺎ\\n \\nآزﻣون\\n \\nاﺧﺗﺻﺎﺻﯽ)ﺳراﺳری(\\n \\nﻧﯾﺳت.\\n \\nﻟذا،\\n \\nﺗﻣﺎﻣﯽ\\n \\nداوطﻠﺑﺎن\\n \\nﻓﺎﻗد\\n \\nﺳﺎﺑﻘﮫ\\n \\nﺗﺣﺻﯾﻠﯽ\\n \\nﯾﺎ\\n \\nدارای\\n \\nﺳﺎﺑﻘﮫ\\n \\nﺗﺣﺻﯾﻠﯽ\\n \\nﻧﺎﻗص،\\n \\nﺑﺎﯾد\\n \\nﻧﺳﺑت\\n \\nﺑﮫ\\n \\nاﯾﺟﺎد\\n \\nﺳﺎﺑﻘﮫ\\n \\nﺗﺣﺻﯾﻠﯽ\\n \\nاز\\n \\nطرﯾق\\n \\nﺷرﮐت\\n \\nدر\\n \\nآزﻣون ھﺎی\\n \\nﻧﮭﺎﯾﯽ)ﻧظﺎم\\n \\n3\\n-\\n3\\n-\\n6\\n(\\n \\nﮐﮫ\\n \\nوزارت\\n \\nآﻣوزش\\n \\nو \\n \\nﭘرورش\\n \\nﺑرﮔزار\\n \\nﻣﯽ ﮐﻧد،\\n \\nاﻗدام\\n \\nﻧﻣﺎﯾﻧد.\\n \\nدر\\n \\nﻏﯾر\\n \\nاﯾن\\n \\nﺻورت،\\n \\nﺑرای\\n \\nھر\\n \\nدرس\\n \\nﮐﮫ\\n \\nﺳﺎﺑﻘﮫ\\n \\nﺗﺣﺻﯾﻠﯽ\\n \\nوﺟود\\n \\nﻧداﺷﺗﮫ\\n \\nﺑﺎﺷد،\\n \\nﻧﻣره\\n \\nﺧﺎم\\n \\nﺻﻔر\\n \\nﻟﺣﺎظ\\n \\nﻣﯽ ﺷود)اﯾن\\n \\nﻧﻣره\\n \\nﭘس\\n \\nاز\\n \\nﺗﺑدﯾل\\n \\nﺑﮫ\\n \\nﻧﻣره\\n \\nﺗراز\\n \\nدر\\n \\nﻧﻣره\\n \\nﮐل\\n \\nﺳﺎﺑﻘﮫ\\n \\nﺗﺣﺻﯾﻠﯽ\\n \\nﻣﺣﺎﺳﺑﮫ\\n \\nﺧواھد\\n \\nﺷد(. 5- ﺑراﺳﺎس  ﺑﻧد  2 - 2  ﻣﺻوﺑﮫ  ﺟﻠﺳﮫ  843  ﻣورخ  15/04/1400  ﺷورای   ﻋﺎﻟﯽ  اﻧﻘﻼب  ﻓرھﻧﮕﯽ،  ﻧﻣره  ﮐل  \\nﺳﺎﺑﻘﮫ\\n \\nﺗﺣﺻﯾﻠﯽ\\n \\nﻋﺑﺎرت\\n \\nاﺳت\\n \\nاز:\\n \\nﻣﯾﺎﻧﮕﯾن\\n \\nوزﻧﯽ\\n \\nﻧﻣرات\\n \\nﺗراز\\n \\nﺷده\\n \\nدروس\\n \\nﻋﻣوﻣﯽ\\n \\nو\\n \\nﺗﺧﺻﺻﯽ.\\n \\nﺑر\\n \\nاﯾن\\n \\n اﺳﺎس،\\n \\nدر\\n \\nﻣﺣﺎﺳﺑﮫ\\n \\nﻧﻣره\\n \\nﮐل\\n \\nﺳﺎﺑﻘﮫ\\n \\nﺗﺣﺻﯾﻠﯽ،\\n \\nﻧﻣره\\n \\nﺗراز\\n \\nﻣﻼک\\n \\nﻋﻣل\\n \\nاﺳت؛\\n \\nﻟذا،\\n \\nﻧﻣرات\\n \\nﺧﺎم\\n \\nآزﻣون\\n \\nاﺑﺗدا\\n \\nﺑﮫ\\n \\nﻧﻣرات\\n \\nﺗراز\\n \\nﺗﺑدﯾل\\n \\nو\\n \\nﺳﭘس\\n \\nﺑﺎ\\n \\nدر\\n \\nﻧظر\\n \\nﮔرﻓﺗن\\n \\nﺿراﯾب\\n \\nﻣﺻوب\\n \\nﺷورای\\n \\nﺳﻧﺟش\\n \\nو\\n \\nﭘذﯾرش\\n \\nداﻧﺷﺟو\\n \\nﺑﮫ\\n \\n ﺻورت\\n \\nﻧﻣره\\n \\nﮐل\\n \\nﺳﺎﺑﻘﮫ\\n \\nﺗﺣﺻﯾﻠﯽ\\n \\nﻣﺣﺎﺳﺑﮫ\\n \\nﻣﯽ ﺷوﻧد.\\n \\nدر\\n \\nﺧﺻوص\\n \\nﻧﻣرات\\n \\nﺗراز\\n \\nو\\n \\nﻧﻣره\\n \\nﮐل\\n \\nﺳﺎﺑﻘﮫ\\n \\nﺗﺣﺻﯾﻠﯽ\\n \\nﺗوﺟﮫ\\n \\nﺑﮫ\\n \\nﻣوارد\\n \\nزﯾر\\n \\nﺣﺎﺋز\\n \\nاھﻣﯾت\\n \\nاﺳت:\\n \\n4'),\n",
              " Document(metadata={'producer': 'Skia/PDF m137 Google Docs Renderer', 'creator': 'PyPDF', 'creationdate': '', 'title': '__شیوه نامه ایجاد و ترمیم سابقه تحصیلی - اصلاح شده نهایی 25 فروردین_', 'source': 'sample_doc.pdf', 'total_pages': 6, 'page': 4, 'page_label': '5'}, page_content='5-1- ﻏﯾﺑت  در  آزﻣون  ﻧﮭﺎﯾﯽ  ﺧردادﻣﺎه)ﻣوﺟﮫ  ﯾﺎ  ﻏﯾرﻣوﺟﮫ(  ﺑرای  اﯾﺟﺎد  ﺳﺎﺑﻘﮫ  ﺗﺣﺻﯾﻠﯽ،  ﺑﮫ  ﻣﻧزﻟﮫ  \\nدرج\\n \\nﻧﻣره\\n \\nﺧﺎم\\n \\nﺻﻔر\\n \\nدر\\n \\nﻣﺣﺎﺳﺑﮫ\\n \\nﻧﻣره\\n \\nﮐل\\n \\nﺳﺎﺑﻘﮫ\\n \\nﺗﺣﺻﯾﻠﯽ\\n \\nاﺳت.\\n 5-2-در ھر  ﺳﺎل،  ﺑرای  ھر  داوطﻠب  ﭘﻧﺞ  ﻧﻣره  ﮐل  ﺑﮫ  ﺗﻔﮑﯾﮏ  ﭘﻧﺞ  ﮔروه  آزﻣﺎﯾﺷﯽ)ﻋﻠوم  رﯾﺎﺿﯽ  و  \\nﻓﻧﯽ،\\n \\nﻋﻠوم ﺗﺟرﺑﯽ،\\n \\nﻋﻠوم اﻧﺳﺎﻧﯽ،\\n \\nزﺑﺎن ھﺎی\\n \\nﺧﺎرﺟﯽ\\n \\nو\\n \\nھﻧر(\\n \\nﻣﺣﺎﺳﺑﮫ\\n \\nو\\n \\nاز\\n \\nﺑﯾن\\n \\nآن ھﺎ،\\n \\nﻧﻣره\\n \\nﮐل\\n \\nﻣرﺑوط\\n \\nﺑﮫ\\n \\nﮔروه\\n \\nﯾﺎ\\n \\nﮔروه ھﺎی\\n \\nآزﻣﺎﯾﺷﯽ\\n \\nاﻧﺗﺧﺎﺑﯽ\\n \\nداوطﻠب\\n \\nﻣﻼک\\n \\nﻋﻣل\\n \\nﻗرار\\n \\nﻣﯽ ﮔﯾرد.\\n 5-3-ﺗراز ﻧﻣره  ﮐل  ﺳﺎﺑﻘﮫ  ﺗﺣﺻﯾﻠﯽ  ﯾﮏ ﻣرﺗﺑﮫ  در  ھر  ﺳﺎل  اﻋﻼم  و  ﺻرﻓﺎً  ﺑرای  ﭘذﯾرش  در  ھﻣﺎن  \\nﺳﺎل\\n \\nﻣﻌﺗﺑر\\n \\nاﺳت\\n \\nو\\n \\nﺑرای\\n \\nﺳﺎل ھﺎی\\n \\nﺑﻌد\\n \\nﺑﺎﺗوﺟﮫ ﺑﮫ\\n \\nﺟﻣﻌﯾت\\n \\nداوطﻠﺑﺎن\\n و ﺿراﯾب ﺟدﯾد، ﻣﺟدداً  ﻣﺣﺎﺳﺑﮫ  \\nﺧواھد\\n \\nﺷد.\\n 5-4-ﺑر اﺳﺎس  ﺑﻧد  9 - 3  ﻣﺻوﺑﮫ  ﺟﻠﺳﮫ  33  ﺷورای  ﺳﻧﺟش  و  ﭘذﯾرش  ﺗراز  ھر  ﯾﮏ  از  دروس  \\nﺳواﺑق\\n \\nﺗﺣﺻﯾﻠﯽ،\\n \\nﺑﮫ \\n \\nﺻورت\\n \\nﻣﺟزا\\n \\nدر\\n \\nھر\\n \\nدرس\\n \\nو\\n \\nﺳﺎل\\n \\nﻣﺣﺎﺳﺑﮫ\\n \\nﻣﯽ ﺷود)ﺗراز\\n \\nﯾﮏ\\n \\nﻧﻣره\\n \\nﻣﻌﯾن،\\n \\nﻣﯽ ﺗواﻧد\\n \\nدر\\n \\nﺳﺎل ھﺎی\\n \\nﻣﺧﺗﻠف\\n \\nﻣﺗﻔﺎوت\\n \\nﺑﺎﺷد(.\\n \\nﺳﺎل\\n \\nﻣدﻧظر\\n \\nدر\\n \\nﻣﺣﺎﺳﺑﮫ\\n \\nﻧﻣره\\n \\nﺗراز،\\n \\nﺳﺎل\\n \\nاﺧذ\\n \\nآزﻣون\\n \\nﻣﯽ ﺑﺎﺷد\\n \\nو\\n \\nﺑﮫ\\n \\nﺳﺎل\\n \\nﻓﺎرغ اﻟﺗﺣﺻﯾﻠﯽ\\n \\nو\\n \\nﯾﺎ\\n \\nﻣؤﻟﻔﮫ ھﺎی\\n \\nدﯾﮕر\\n \\nارﺗﺑﺎطﯽ\\n \\nﻧدارد.\\n 5-5-ﺑرای داوطﻠﺑﺎﻧﯽ  ﮐﮫ  دارای  ﺑﯾش  از  ﯾﮏ  دﯾﭘﻠم  ﻣﯽ ﺑﺎﺷﻧد،  ﻧﻣره  ﮐل  ﺳﺎﺑﻘﮫ  ﺗﺣﺻﯾﻠﯽ ﺑﮫ ﺗﻔﮑﯾﮏ  \\nھرﯾﮏ\\n \\nاز\\n \\nدﯾﭘﻠم ھﺎ و ﺑراﺳﺎس  ﺑﯾﺷﺗرﯾن  ﻧﻣره  ﺗراز  دروس  ﻣؤﺛر  و  ﻣﻌﺗﺑر  ﻣﺣﺎﺳﺑﮫ  و ﺑﯾﺷﯾﻧﮫ  آن ھﺎ  \\nﺑﮫ ﻋﻧوان\\n \\nﻧﻣره\\n \\nﮐل\\n \\nﺳﺎﺑﻘﮫ\\n \\nﺗﺣﺻﯾﻠﯽ\\n \\nﻧﮭﺎﯾﯽ\\n \\nﻣﻼک\\n \\nﻋﻣل\\n \\nﻗرار\\n \\nﻣﯽ ﮔﯾرد. 5-6-ﺑرای ﻣﺣﺎﺳﺑﮫ  ﻧﻣرات  ﺗراز  ﻧﯾﺎز  ﺑﮫ  دردﺳت داﺷﺗن  ﺗﻣﺎﻣﯽ  ﻧﻣرات  ﺷرﮐت ﮐﻧﻧده  در  آزﻣون  \\nﻣﯽ ﺑﺎﺷد.\\n 5-7-ﻣﺷﻣوﻻن ﺗرﻣﯾم  ﺳﺎﺑﻘﮫ  ﺗﺣﺻﯾﻠﯽ،  ﺑﺎ  ھر  ﻧﻣره ای  اﻣﮑﺎن  ﺗرﻣﯾم  ﺳﺎﺑﻘﮫ  ﺗﺣﺻﯾﻠﯽ  در  ﺧردادﻣﺎه  را  \\nدارﻧد.\\n 6-ﻧﺣوه اﯾﺟﺎد  و  ﯾﺎ  ﺗرﻣﯾم  ﺳﺎﺑﻘﮫ  ﺗﺣﺻﯾﻠﯽ  ﺑرای  داوطﻠﺑﺎن  ورود  ﺑﮫ  داﻧﺷﮕﺎه  ﻓرھﻧﮕﯾﺎن  و  ﺷﮭﯾد  رﺟﺎﯾﯽ  ﻣﺷﺎﺑﮫ  \\nﻣﺗﻘﺎﺿﯾﺎن\\n \\nﭘذﯾرش\\n \\nدر\\n \\nرﺷﺗﮫ\\n \\nﻣﺣل ھﺎی\\n \\nﺑﺎ\\n \\nآزﻣون)ﻣوﺿوع\\n \\nﻣﺻوﺑﮫ\\n \\nﺟﻠﺳﮫ\\n \\n843\\n \\nﺷورای\\n \\n ﻋﺎﻟﯽ\\n \\nاﻧﻘﻼب \\n \\nﻓرھﻧﮕﯽ(\\n \\nاﺳت.\\n 7-ﻣدﯾر ﻣدرﺳﮫ  ﻣﺣل  ﺗﺣﺻﯾل  ﻣوظف  ﺑﮫ  ﺗﮑﻣﯾل،  ﺗﺄﯾﯾد  و  ﻧﮭﺎﯾﯽ  ﺳﺎزی  ﻓراﯾﻧد  ﺛﺑت ﻧﺎم  داﻧش آﻣوزان  ﻣﺗﻘﺎﺿﯽ  \\nاﯾﺟﺎد\\n \\nﯾﺎ\\n \\nﺗرﻣﯾم\\n \\nﺳﺎﺑﻘﮫ\\n \\nﺗﺣﺻﯾﻠﯽ،\\n \\nﺑﺎ\\n \\nرﻋﺎﯾت\\n \\nﺿواﺑط\\n \\nو\\n \\nﻣﻘررات\\n \\nﻣرﺑوط\\n \\nو\\n \\nﺟداول\\n \\nدروس\\n \\nﻣﯽ ﺑﺎﺷد.\\n 8-ﻣﺗﻘﺎﺿﯾﺎﻧﯽ ﮐﮫ  ﻓﺎرغ اﻟﺗﺣﺻﯾﻠﯽ  آن ھﺎ  در  ﺳﺎﻣﺎﻧﮫ  اﺣراز  ﻧﻣﯽ ﺷود،  ﻣﻠزم  ﺑﮫ  درﺧواﺳت  ﺻدور  ﺗﺄﯾﯾدﯾﮫ  \\nﺗﺣﺻﯾﻠﯽ\\n \\nﻣﯽ ﺑﺎﺷﻧد.\\n 9-ﺛﺑت ﻧﺎم  از  ﻣﺗﻘﺎﺿﯾﺎن  اﯾﺟﺎد  و  ﯾﺎ  ﺗرﻣﯾم  ﺳﺎﺑﻘﮫ  ﺗﺣﺻﯾﻠﯽ  ﺣداﮐﺛر  ﺗﺎ  2  ھﻔﺗﮫ  ﻗﺑل  از  ﺑرﮔزاری  آزﻣون ھﺎی  \\nﻧﮭﺎﯾﯽ\\n \\nﺧرداد\\n \\nو\\n \\nدر\\n \\nﺑﺎزه\\n \\nزﻣﺎﻧﯽ\\n \\nﺣداﮐﺛر\\n \\n10\\n \\nروزه\\n \\nاﻧﺟﺎم\\n \\nﻣﯽ ﺷود.\\n ﻣوﺿوع: اﺻﻼﺣﺎت  ﺷﯾوه  ﻧﺎﻣﮫ  اﺟراﯾﯽ  ﻧﺣوه  اﯾﺟﺎد  ﺳﺎﺑﻘﮫ  ﺗﺣﺻﯾﻠﯽ  و  ﺗرﻣﯾم  ﺳﺎﺑﻘﮫ  ﺗﺣﺻﯾﻠﯽ  آﻣون  ھﺎی  \\nﻧﮭﺎﯾﯽ\\n \\nدوره\\n \\nدوم\\n \\nﻣﺗوﺳطﮫ\\n \\nدر\\n \\nودوﻣﯾن ﺷﺻت\\n \\nﺟﻠﺳﮫ\\n \\nﮐﻣﯾﺳﯾون\\n \\nﻣﻌﯾن\\n \\nﺷورای\\n \\nﻋﺎﻟﯽ\\n \\nآﻣوزش\\n \\nو\\n \\nﭘرورش\\n \\nﺗﺎرﯾﺦ\\n \\n24/01/1404\\n \\nﺑﮫ\\n \\nﺗﺻوﯾب\\n \\nرﺳﯾد.\\n                      ﻣﺣﻣود  اﻣﺎﻧﯽ   \\n5'),\n",
              " Document(metadata={'producer': 'Skia/PDF m137 Google Docs Renderer', 'creator': 'PyPDF', 'creationdate': '', 'title': '__شیوه نامه ایجاد و ترمیم سابقه تحصیلی - اصلاح شده نهایی 25 فروردین_', 'source': 'sample_doc.pdf', 'total_pages': 6, 'page': 5, 'page_label': '6'}, page_content='دﺑﯾرﮐل ﺷورای ﻋﺎﻟﯽ  آﻣوزش  و  ﭘرورش    اﺻﻼﺣﺎت ﺷﯾوه ﻧﺎﻣﮫ  اﺟراﯾﯽ  ﻧﺣوه  اﯾﺟﺎد  ﺳﺎﺑﻘﮫ  ﺗﺣﺻﯾﻠﯽ  و  ﺗرﻣﯾم  ﺳﺎﺑﻘﮫ  ﺗﺣﺻﯾﻠﯽ  آزﻣون  ھﺎی  ﻧﮭﺎﯾﯽ  دوره  \\nدوم\\n \\nﻣﺗوﺳطﮫ\\n \\nﻣورد\\n \\nﺗﺄﯾﯾد\\n \\nاﺳت،\\n \\nﺑﮫ\\n \\nﻣورد\\n \\nاﺟرا\\n \\nﮔذاﺷﺗﮫ\\n \\nﺷود.\\n            ﻋﻠﯾرﺿﺎ  ﮐﺎظﻣﯽ                  وزﯾر  آﻣوزش  و  ﭘرورش     \\n6')]"
            ]
          },
          "metadata": {},
          "execution_count": 16
        }
      ],
      "source": [
        "from langchain.text_splitter import RecursiveCharacterTextSplitter\n",
        "\n",
        "text_splitter = RecursiveCharacterTextSplitter(chunk_size=1024, chunk_overlap=256)\n",
        "text_documents = text_splitter.split_documents(pages)[:5]\n",
        "\n",
        "pages"
      ]
    },
    {
      "cell_type": "code",
      "execution_count": 20,
      "metadata": {
        "id": "Uc8_qHjygVVs",
        "outputId": "86876e7f-8154-436e-bb23-b2c25be58781",
        "colab": {
          "base_uri": "https://localhost:8080/"
        }
      },
      "outputs": [
        {
          "output_type": "stream",
          "name": "stderr",
          "text": [
            "/usr/local/lib/python3.11/dist-packages/pydantic/_migration.py:283: UserWarning: `pydantic.error_wrappers:ValidationError` has been moved to `pydantic:ValidationError`.\n",
            "  warnings.warn(f'`{import_path}` has been moved to `{new_location}`.')\n"
          ]
        }
      ],
      "source": [
        "from langchain_community.vectorstores import DocArrayInMemorySearch\n",
        "\n",
        "vectorstore = DocArrayInMemorySearch.from_documents(text_documents, embedding=embeddings)"
      ]
    },
    {
      "cell_type": "code",
      "execution_count": 21,
      "metadata": {
        "id": "W-Yxe12xgVVs",
        "outputId": "332993df-8b1f-4b93-ee92-ed19b303bc27",
        "colab": {
          "base_uri": "https://localhost:8080/"
        }
      },
      "outputs": [
        {
          "output_type": "execute_result",
          "data": {
            "text/plain": [
              "[Document(metadata={'producer': 'Skia/PDF m137 Google Docs Renderer', 'creator': 'PyPDF', 'creationdate': '', 'title': '__شیوه نامه ایجاد و ترمیم سابقه تحصیلی - اصلاح شده نهایی 25 فروردین_', 'source': 'sample_doc.pdf', 'total_pages': 6, 'page': 0, 'page_label': '1'}, page_content='ﺑﺎﺳﻣﮫ ﺗﻌﺎﻟﯽ    اﺻﻼح ﻧﺎﻣﮫ ﺷﯾوه اﺟراﯾﯽ  ﻧﺣوه  اﯾﺟﺎد  و  ﺗرﻣﯾم  ﺳﺎﺑﻘﮫ  ﺗﺣﺻﯾﻠﯽ  ھﺎی آزﻣون  ﻧﮭﺎﯾﯽ  دوره  دوم  ﻣﺗوﺳطﮫ  ﻣﺻوب  \\nﭘﻧﺟﺎه وھﻔﺗﻣﯾن)\\n57\\n(\\n \\nﺟﻠﺳﮫ\\n \\nﮐﻣﯾﺳﯾون\\n \\nﻣﻌﯾن\\n \\nﺷورای ﻋﺎﻟﯽ\\n \\nآﻣوزش\\n \\nو\\n \\nﭘرورش\\n \\nﺗﺎرﯾﺦ\\n \\n27/9/1402\\n  ﺑﮫ اﺳﺗﻧﺎد  ﻣﺻوﺑﮫ  ﺟﻠﺳﮫ  1053  ﺗﺎرﯾﺦ  04/12/1403  ﻣوﺿوع  ﻋﻧﺎوﯾن  دروس  آزﻣون  ﻧﮭﺎﯾﯽ  دوره  دوم  \\nﻣﺗوﺳطﮫ\\n \\nو\\n \\nﭼﮕوﻧﮕﯽ\\n \\nﺗرﻣﯾم\\n \\nﺳﺎﺑﻘﮫ\\n \\nﺗﺣﺻﯾﻠﯽ\\n \\nﺳواﺑق\\n \\nﺗﺣﺻﯾﻠﯽ،\\n \\nﺷﯾوه ﻧﺎﻣﮫ\\n \\nاﺟراﯾﯽ\\n \\nﻧﺣوه\\n \\nاﯾﺟﺎد\\n \\nﺳﺎﺑﻘﮫ\\n \\nﺗﺣﺻﯾﻠﯽ\\n \\nو\\n \\nﺗرﻣﯾم\\n \\nﺳﺎﺑﻘﮫ\\n \\nﺗﺣﺻﯾﻠﯽ\\n \\nآزﻣون ھﺎی\\n \\nﻧﮭﺎﯾﯽ\\n \\nدوره\\n \\nدوم\\n \\nﻣﺗوﺳطﮫ)اﺻﻼﺣﯾﮫ\\n \\nﺷﯾوه ﻧﺎﻣﮫ\\n \\nﻣﺻوب\\n \\nﭘﻧﺟﺎه\\n \\nو\\n \\nھﻔﺗﻣﯾن\\n \\nﺟﻠﺳﮫ\\n \\nﮐﻣﯾﺳﯾون\\n \\nﻣﻌﯾن\\n \\nﺷورای\\n \\nﻋﺎﻟﯽ\\n \\nآﻣوزش\\n \\nو\\n \\nﭘرورش\\n \\nﺗﺎرﯾﺦ\\n \\n27/09/1402\\n(و\\n \\nﻣﺻوﺑﮫ\\n \\nﺟﻠﺳﮫ\\n \\n915\\n \\nﺷورای\\n \\nﻋﺎﻟﯽ\\n \\nاﻧﻘﻼب\\n \\nﻓرھﻧﮕﯽ\\n \\nﺗﺎرﯾﺦ.......\\n \\nﺑﮫ\\n \\nﺷرح\\n \\nزﯾر\\n \\nﺑﮫ\\n \\nﺗﺻوﯾب\\n \\nرﺳﯾد.\\n ﺗﻌﺎرﯾف(اﻟف ﺳﺎﺑﻘﮫ ﺗﺣﺻﯾﻠﯽ:  ﻣطﺎﺑق  ﻣﺎده١  ﻣﺻوﺑﮫ  ﺟﻠﺳﮫ  ٣۴٨  ﺗﺎرﯾﺦ  15/04/1400  ﺷورای  ﻋﺎﻟﯽ  اﻧﻘﻼب  ﻓرھﻧﮕﯽ،  \\nﺳﺎﺑﻘﮫ\\n \\nﺗﺣﺻﯾﻠﯽ\\n \\nﻋﺑﺎرت\\n \\nاﺳت\\n \\nاز؛\\n \\nﻧﻣرات\\n \\nدروس\\n \\nﻋﻣوﻣﯽ\\n \\nو\\n \\nﺗﺧﺻﺻﯽ\\n \\nدوره\\n \\nدوم\\n \\nﻣﺗوﺳطﮫ\\n \\nدر\\n \\nﻧظﺎم\\n \\nآﻣوزﺷﯽ\\n \\n3\\n-\\n3\\n-\\n3\\n-\\n3\\n \\nو\\n \\nدﯾﭘﻠم\\n \\nو\\n \\nﭘﯾش داﻧﺷﮕﺎھﯽ\\n \\nدر\\n \\nﻧظﺎم'),\n",
              " Document(metadata={'producer': 'Skia/PDF m137 Google Docs Renderer', 'creator': 'PyPDF', 'creationdate': '', 'title': '__شیوه نامه ایجاد و ترمیم سابقه تحصیلی - اصلاح شده نهایی 25 فروردین_', 'source': 'sample_doc.pdf', 'total_pages': 6, 'page': 0, 'page_label': '1'}, page_content='ﺳﺎﺑﻘﮫ\\n \\nﺗﺣﺻﯾﻠﯽ\\n \\nﻋﺑﺎرت\\n \\nاﺳت\\n \\nاز؛\\n \\nﻧﻣرات\\n \\nدروس\\n \\nﻋﻣوﻣﯽ\\n \\nو\\n \\nﺗﺧﺻﺻﯽ\\n \\nدوره\\n \\nدوم\\n \\nﻣﺗوﺳطﮫ\\n \\nدر\\n \\nﻧظﺎم\\n \\nآﻣوزﺷﯽ\\n \\n3\\n-\\n3\\n-\\n3\\n-\\n3\\n \\nو\\n \\nدﯾﭘﻠم\\n \\nو\\n \\nﭘﯾش داﻧﺷﮕﺎھﯽ\\n \\nدر\\n \\nﻧظﺎم\\n \\nآﻣوزﺷﯽ\\n \\nﻗﺑﻠﯽ\\n \\nھر\\n \\nرﺷﺗﮫ\\n \\nﺗﺣﺻﯾﻠﯽ\\n \\nدوره\\n \\nﻣﺗوﺳطﮫ\\n \\nاﺳت\\n \\nﮐﮫ\\n \\nاﻣﺗﺣﺎﻧﺎت)آزﻣون ھﺎی(\\n \\nآن\\n \\nﻣطﺎﺑق\\n \\nاﺻول\\n \\nﺳﻧﺟش\\n \\nو\\n \\nاﻧدازه ﮔﯾری،\\n \\nﺑﮫ\\n \\nطور\\n \\nاﺳﺗﺎﻧدارد\\n \\nو\\n \\nﮐﯾﻔﯽ\\n \\nﺗوﺳط\\n \\nوزارت\\n \\nآﻣوزش\\n \\nو\\n \\nﭘرورش\\n \\nﺑﮫ\\n \\nﺻورت\\n \\nﺳراﺳری\\n \\nو\\n \\nﻧﮭﺎﯾﯽ)ﮐﺗﺑﯽ(\\n \\nدر\\n \\nﺳﻧوات\\n \\nﻣﺧﺗﻠف\\n \\nﻣطﺎﺑق\\n \\nﻣﺻوﺑﺎت\\n \\nﺷورای\\n \\nﻋﺎﻟﯽ\\n \\nآﻣوزش\\n \\nو\\n \\nﭘرورش\\n \\nﺑرﮔزار\\n \\nﺷده\\n \\nﺑﺎﺷد.\\n دوره :ﻣﺗوﺳطﮫ اﯾن  دوره  ﺷﺎﻣل  ﻧظﺎم ھﺎی  آﻣوزﺷﯽ  دوره  ﺷش ﺳﺎﻟﮫ  ﻣﺗوﺳطﮫ،  دوره  ﭼﮭﺎرﺳﺎﻟﮫ  ﻣﺗوﺳطﮫ،  \\nدوره\\n \\nﻣﺗوﺳطﮫ\\n \\nﺳﮫ ﺳﺎﻟﮫ\\n \\nﻧﯾم ﺳﺎﻟﯽ\\n \\nواﺣدی/\\n \\nﺳﺎﻟﯽ واﺣدی،\\n \\nدوره\\n \\nﭘﯾش داﻧﺷﮕﺎھﯽ\\n \\nﻧﯾم ﺳﺎﻟﯽ\\n \\nواﺣدی/\\n \\nﺳﺎﻟﯽ\\n \\nواﺣدی\\n \\nو\\n \\nدوره\\n \\nدوم\\n \\nﻣﺗوﺳطﮫ\\n \\nﻧظﺎم\\n \\n3\\n-\\n3\\n-\\n3\\n-\\n3\\n \\nﻣﯽ ﺑﺎﺷد\\n اﯾﺟﺎد ﺳﺎﺑﻘﮫ :ﺗﺣﺻﯾﻠﯽ  ﺷرﮐت  اﻓراد  واﺟد  ﺷراﯾط  و  ﻓﺎﻗد  ﺳﺎﺑﻘﮫ  ﺗﺣﺻﯾﻠﯽ  در  آزﻣون ھﺎی ﻧﮭﺎﯾﯽ ﻧوﺑت  \\nﺧردادﻣﺎه.\\n ﺗرﻣﯾم ﺳﺎﺑﻘﮫ :ﺗﺣﺻﯾﻠﯽ  ﺷرﮐت  ﻣﺟدد  اﻓراد  واﺟد  ﺷراﯾط  و  دارای  ﺳﺎﺑﻘﮫ  ﺗﺣﺻﯾﻠﯽ  در  ﻣﺟﻣوﻋﮫ   آزﻣون  \\nدروس\\n \\nﻧﮭﺎﯾﯽ)دارای\\n \\nﺳﺎﺑﻘﮫ('),\n",
              " Document(metadata={'producer': 'Skia/PDF m137 Google Docs Renderer', 'creator': 'PyPDF', 'creationdate': '', 'title': '__شیوه نامه ایجاد و ترمیم سابقه تحصیلی - اصلاح شده نهایی 25 فروردین_', 'source': 'sample_doc.pdf', 'total_pages': 6, 'page': 1, 'page_label': '2'}, page_content='اﺻﻠﯽ و  ﯾﺎ  ﯾﮏ  ﮔروه  آزﻣﺎﯾﺷﯽ  ﻏﯾراﺻﻠﯽ  ﺑر  اﺳﺎس  ﺟداول  ﻋﻧﺎوﯾن  و  ﺿراﯾب  دروس  ﺳواﺑق  ﺗﺣﺻﯾﻠﯽ\\n1 \\n و  \\nﺑﺎ\\n \\nرﻋﺎﯾت\\n \\nﻣوارد\\n \\nزﯾر\\n \\nاﯾﺟﺎد\\n \\nﺳﺎﺑﻘﮫ\\n \\nﻧﻣﺎﯾﻧد:\\n 1-داﻧش آﻣوزان ﭘﺎﯾﮫ  دوازدھم  در  ﺻورت  اﻧﺗﺧﺎب  ﮔروه  آزﻣﺎﯾﺷﯽ  ﻏﯾر  ﻣﺗﻧﺎظر  ﺑﺎ  رﺷﺗﮫ  ﺗﺣﺻﯾﻠﯽ  ﺧود،  \\nﻣﯽ ﺗواﻧﻧد\\n \\nدر\\n \\nدروس\\n \\nﻧﮭﺎﯾﯽ\\n \\nﭘﺎﯾﮫ ھﺎی\\n \\nﯾﺎزدھم\\n \\nو\\n \\nدوازدھم\\n \\nآن\\n \\nﮔروه\\n \\nآزﻣﺎﯾﺷﯽ\\n \\nاﯾﺟﺎد\\n \\nﺳﺎﺑﻘﮫ\\n \\nﮐﻧﻧد.\\n 2- در  ﺻورت  ﺗداﺧل  زﻣﺎﻧﯽ  آزﻣون  درس  اﻧﺗﺧﺎﺑﯽ  ﺑرای  اﯾﺟﺎد  ﺳﺎﺑﻘﮫ  ﺗﺣﺻﯾﻠﯽ  ﺑﺎ  آزﻣون  درس  رﺷﺗﮫ  \\nﺗﺣﺻﯾﻠﯽ،\\n \\nﻣﺗﻘﺎﺿﯽ\\n \\nﺑﺎﯾد\\n \\nدر\\n \\nآزﻣون\\n \\nدرس\\n \\nاﻧﺗﺧﺎﺑﯽ\\n \\nدر\\n \\nﺧردادﻣﺎه\\n \\nو\\n \\nآزﻣون\\n \\nدرس\\n \\nرﺷﺗﮫ\\n \\nﺗﺣﺻﯾﻠﯽ\\n \\nﺧود\\n \\nدر\\n \\nﺷﮭرﯾورﻣﺎه\\n \\nﺷرﮐت\\n \\nﻧﻣﺎﯾد)وﺿﻌﯾت\\n \\nاﯾن\\n \\nدرس\\n \\nدر\\n \\nﺧردادﻣﺎه،\\n \\nﺑﮫ ﻋﻧوان\\n \\nﻏﯾﺑت\\n \\nﻣوﺟﮫ\\n \\nﺛﺑت\\n \\nﻣﯽ ﺷود(.\\n 3- داﻧش آﻣوزان  ﻣدارس  ﺑزرﮔﺳﺎﻻن،  آﻣوزش  از  راه  دور،  اﯾﺛﺎرﮔران  و  داوطﻠب  آزاد  ﮐﮫ  در  آزﻣون  دروس  \\nﻧﮭﺎﯾﯽ\\n \\nﻧوﺑت\\n \\nدی\\n \\nو\\n \\nﺷﮭرﯾورﻣﺎه)ﻧﺎظر\\n \\nﺑﮫ\\n \\nﺑﻧد\\n \\n1\\n \\nﻗﺳﻣت\\n \\nت(\\n \\nﺷرﮐت\\n \\nﻧﻣوده اﻧد،\\n \\nﺑﮫ\\n \\nﺷرط\\n \\nﮐﺳب\\n \\nﺣد\\n \\nﻧﺻﺎب\\n \\nﻗﺑوﻟﯽ\\n \\nدر\\n \\nﻧوﺑت ھﺎی\\n \\nﻣذﮐور،\\n \\nﺑﺎﯾد\\n \\nدر\\n \\nﺧردادﻣﺎه،\\n \\nﺻرﻓﺎً\\n \\nدر\\n \\nآزﻣون\\n \\nاﯾﺟﺎد\\n \\nﺳﺎﺑﻘﮫ\\n \\nآن\\n \\nدروس\\n \\nﺷرﮐت'),\n",
              " Document(metadata={'producer': 'Skia/PDF m137 Google Docs Renderer', 'creator': 'PyPDF', 'creationdate': '', 'title': '__شیوه نامه ایجاد و ترمیم سابقه تحصیلی - اصلاح شده نهایی 25 فروردین_', 'source': 'sample_doc.pdf', 'total_pages': 6, 'page': 0, 'page_label': '1'}, page_content='3\\n-\\n3\\n \\nﻣﯽ ﺑﺎﺷد\\n اﯾﺟﺎد ﺳﺎﺑﻘﮫ :ﺗﺣﺻﯾﻠﯽ  ﺷرﮐت  اﻓراد  واﺟد  ﺷراﯾط  و  ﻓﺎﻗد  ﺳﺎﺑﻘﮫ  ﺗﺣﺻﯾﻠﯽ  در  آزﻣون ھﺎی ﻧﮭﺎﯾﯽ ﻧوﺑت  \\nﺧردادﻣﺎه.\\n ﺗرﻣﯾم ﺳﺎﺑﻘﮫ :ﺗﺣﺻﯾﻠﯽ  ﺷرﮐت  ﻣﺟدد  اﻓراد  واﺟد  ﺷراﯾط  و  دارای  ﺳﺎﺑﻘﮫ  ﺗﺣﺻﯾﻠﯽ  در  ﻣﺟﻣوﻋﮫ   آزﻣون  \\nدروس\\n \\nﻧﮭﺎﯾﯽ)دارای\\n \\nﺳﺎﺑﻘﮫ(\\n \\nﯾﮏ ﭘﺎﯾﮫ.\\n دروس ﻣؤﺛر:  دروس  ﻧﮭﺎﯾﯽ  ﮐﮫ  ﺑر  اﺳﺎس  ﻧﺗﺎﯾﺞ  آﻧﮭﺎ  ﻧﻣره  ﮐل  ﺳﺎﺑﻘﮫ  ﺗﺣﺻﯾﻠﯽ  ﻣﺣﺎﺳﺑﮫ  ﻣﯽ ﺷود.  ﻧﻣره ﮐل ﺳﺎﺑﻘﮫ  :ﺗﺣﺻﯾﻠﯽ  ﺑراﺳﺎس  ﺑﻧد  2 - 2  ﻣﺻوﺑﮫ  ﺟﻠﺳﮫ  843  ﻣورخ  15/04/1400  ﺷورای  ﻋﺎﻟﯽ  \\nاﻧﻘﻼب\\n \\nﻓرھﻧﮕﯽ\\n \\nﻧﻣره\\n \\nﮐل\\n \\nﺳﺎﺑﻘﮫ\\n \\nﺗﺣﺻﯾﻠﯽ\\n \\nﻋﺑﺎرت\\n \\nاﺳت\\n \\nاز\\n \\nﻣﯾﺎﻧﮕﯾن\\n \\nﻧﻣره\\n \\nوزﻧﯽ\\n \\nﻧﻣرات\\n \\nﺗراز\\n \\nﺷده\\n \\nدروس\\n \\nﻋﻣوﻣﯽ\\n \\nو\\n \\nﺗﺧﺻﺻﯽ.\\n ھﺎی ﮔروه آزﻣﺎﯾﺷﯽ:  ﺗﻘﺳﯾم ﺑﻧدی  رﺷﺗﮫ ھﺎی  ﺗﺣﺻﯾﻠﯽ  آﻣوزش  ﻋﺎﻟﯽ  ﮐﮫ  ﺷﺎﻣل  ﭘﻧﺞ  ﮔروه:  ﻋﻠوم  رﯾﺎﺿﯽ  و  ﻓﻧﯽ،  \\nﻋﻠوم ﺗﺟرﺑﯽ\\n \\nو\\n \\nﻋﻠوم اﻧﺳﺎﻧﯽ)ﮔروه ھﺎی\\n \\nاﺻﻠﯽ(\\n \\nو\\n \\nزﺑﺎن ھﺎی\\n \\nﺧﺎرﺟﯽ\\n \\nو\\n \\nھﻧر)ﮔروه ھﺎی\\n \\nﻏﯾراﺻﻠﯽ(\\n \\nﻣﯽ ﺑﺎﺷﻧد.\\n (ب ﻣﺷﻣوﻻن اﯾﺟﺎد  ﺳﺎﺑﻘﮫ  :ﺗﺣﺻﯾﻠﯽ  داﻧش آﻣوزان ﺷﺎﺧﮫ  ﻧظری  ﺷﺎﻏل  ﺑﮫ  ﺗﺣﺻﯾل  در  ﭘﺎﯾﮫ ھﺎی  ﯾﺎزدھم  و  دوازدھم،  ﺑﺎ  ﺷرﮐت  در  آزﻣون ھﺎی  \\nﻧﮭﺎﯾﯽ\\n \\nﻧوﺑت\\n \\nﺧردادﻣﺎه،\\n \\nﺳﺎﺑﻘﮫ\\n \\nﺗﺣﺻﯾﻠﯽ\\n \\nﺑرای\\n \\nﮔروه\\n \\nآزﻣﺎﯾﺷﯽ\\n \\nﻣﺗﻧﺎظر\\n \\nﺑﺎ')]"
            ]
          },
          "metadata": {},
          "execution_count": 21
        }
      ],
      "source": [
        "query = \"نمونه سوال\"\n",
        "retriever = vectorstore.as_retriever()\n",
        "retriever.invoke(query)\n"
      ]
    },
    {
      "cell_type": "code",
      "execution_count": 22,
      "metadata": {
        "id": "eJlHnE5ogVVt"
      },
      "outputs": [],
      "source": [
        "retrieved_context = retriever.invoke(query)"
      ]
    },
    {
      "cell_type": "code",
      "execution_count": 25,
      "metadata": {
        "id": "ZxpIUCH8gVVt",
        "outputId": "91d479d5-d5e7-4e2f-c787-c1046d1826d8",
        "colab": {
          "base_uri": "https://localhost:8080/"
        }
      },
      "outputs": [
        {
          "output_type": "stream",
          "name": "stderr",
          "text": [
            "You seem to be using the pipelines sequentially on GPU. In order to maximize efficiency please use a dataset\n"
          ]
        },
        {
          "output_type": "stream",
          "name": "stdout",
          "text": [
            "Question: کی از متقاضیان ثبت نام انجام میگیرد؟\n",
            "Answer: متقاضیان ثبت نام در  آزماون ها ی نهایی  در **مرحله  نوّبّت  خردادماه** انجام میگیرد. \n",
            "\n",
            "\n"
          ]
        }
      ],
      "source": [
        "questions = [\n",
        "    \"کی از متقاضیان ثبت نام انجام میگیرد؟\"\n",
        "]\n",
        "\n",
        "for question in questions:\n",
        "    retrieved_context = retriever.invoke(question)\n",
        "    formatted_prompt = prompt.format(context=retrieved_context, question=question)\n",
        "    response_from_model = apply_chat_template_and_response(formatted_prompt)\n",
        "    parsed_response = parser.parse(response_from_model)\n",
        "\n",
        "    print(f\"Question: {question}\")\n",
        "    print(f\"Answer: {parsed_response}\")\n",
        "    print()"
      ]
    },
    {
      "cell_type": "code",
      "source": [
        "questions = [\n",
        "    \"نمره کل سابقه چگونه محاسبه میشود؟\"\n",
        "]\n",
        "\n",
        "for question in questions:\n",
        "    retrieved_context = retriever.invoke(question)\n",
        "    formatted_prompt = prompt.format(context=retrieved_context, question=question)\n",
        "    response_from_model = apply_chat_template_and_response(formatted_prompt)\n",
        "    parsed_response = parser.parse(response_from_model)\n",
        "\n",
        "    print(f\"Question: {question}\")\n",
        "    print(f\"Answer: {parsed_response}\")\n",
        "    print()"
      ],
      "metadata": {
        "id": "ByL0tftt2_DF",
        "outputId": "c3f01df0-903c-4713-8745-aedb75b553fa",
        "colab": {
          "base_uri": "https://localhost:8080/"
        }
      },
      "execution_count": 26,
      "outputs": [
        {
          "output_type": "stream",
          "name": "stdout",
          "text": [
            "Question: نمره کل سابقه چگونه محاسبه میشود؟\n",
            "Answer: نمره کل سابقه تحصیلی براساس میانگین نمره وزنی نمره های  دروس عمومی و تخصصی محاسبه می شود. \n",
            "\n",
            "\n",
            "\n",
            "\n"
          ]
        }
      ]
    },
    {
      "cell_type": "code",
      "source": [
        "questions = [\n",
        "    \"نمره کل بر اساس چه بندی و چه مصوبه ای حساب میشه؟\"\n",
        "]\n",
        "\n",
        "for question in questions:\n",
        "    retrieved_context = retriever.invoke(question)\n",
        "    formatted_prompt = prompt.format(context=retrieved_context, question=question)\n",
        "    response_from_model = apply_chat_template_and_response(formatted_prompt)\n",
        "    parsed_response = parser.parse(response_from_model)\n",
        "\n",
        "    print(f\"Question: {question}\")\n",
        "    print(f\"Answer: {parsed_response}\")\n",
        "    print()"
      ],
      "metadata": {
        "id": "bw_Zc89E3Mc-",
        "outputId": "c5717624-0667-4e58-f897-d907e2bced73",
        "colab": {
          "base_uri": "https://localhost:8080/"
        }
      },
      "execution_count": 27,
      "outputs": [
        {
          "output_type": "stream",
          "name": "stdout",
          "text": [
            "Question: نمره کل بر اساس چه بندی و چه مصوبه ای حساب میشه؟\n",
            "Answer: نمره کل سابقه تحصیلی بر اساس بند 2 - 2 مصوبه 843 مورخ 15/04/1400 شورای عالی انقلابی فرهنگی است. \n",
            "\n",
            "\n"
          ]
        }
      ]
    },
    {
      "cell_type": "code",
      "execution_count": 31,
      "metadata": {
        "id": "PcIYWAGcgVVt",
        "outputId": "8e8c0baf-6eaa-40a3-a3f3-5febf4744ce1",
        "colab": {
          "base_uri": "https://localhost:8080/"
        }
      },
      "outputs": [
        {
          "output_type": "stream",
          "name": "stdout",
          "text": [
            "Say 'exit' or 'quit' to exit the loop\n",
            "User question: سلام\n",
            "Question: سلام\n",
            "Answer: سلام \n",
            "\n",
            "\n",
            "Say 'exit' or 'quit' to exit the loop\n",
            "User question: نمره کل بر اساس چه بندی و چه مصوبه ای حساب میشه؟\n",
            "Question: نمره کل بر اساس چه بندی و چه مصوبه ای حساب میشه؟\n",
            "Answer: نمره کل سوابق تحصیلی بر اساس بند 2 - 2 مصوبه جلسه 843 مورخ 15/04/1400 شورای عالی انقلاب فرهنگی حساب می شود. \n",
            "\n",
            "\n",
            "Say 'exit' or 'quit' to exit the loop\n",
            "User question: قرمه سبزی چه طوری پخته میشه؟\n",
            "Question: قرمه سبزی چه طوری پخته میشه؟\n",
            "Answer: متاسفانه اطلاعاتی در مورد این مورد ندارم. \n",
            "\n",
            "\n",
            "Say 'exit' or 'quit' to exit the loop\n",
            "User question: exit\n",
            "Question: exit\n",
            "Exiting the conversation. Goodbye!\n"
          ]
        }
      ],
      "source": [
        "while True:\n",
        "    print(\"Say 'exit' or 'quit' to exit the loop\")\n",
        "    question = input('User question: ')\n",
        "    print(f\"Question: {question}\")\n",
        "    if question.lower() in [\"exit\", \"quit\"]:\n",
        "        print(\"Exiting the conversation. Goodbye!\")\n",
        "        break\n",
        "    formatted_prompt = prompt.format(context=retrieved_context, question=question)\n",
        "    response_from_model = apply_chat_template_and_response(formatted_prompt)\n",
        "    parsed_response = parser.parse(response_from_model)\n",
        "    print(f\"Answer: {parsed_response}\")\n",
        "    print()"
      ]
    }
  ],
  "metadata": {
    "kernelspec": {
      "display_name": "Python 3",
      "name": "python3"
    },
    "language_info": {
      "codemirror_mode": {
        "name": "ipython",
        "version": 3
      },
      "file_extension": ".py",
      "mimetype": "text/x-python",
      "name": "python",
      "nbconvert_exporter": "python",
      "pygments_lexer": "ipython3",
      "version": "3.10.12"
    },
    "colab": {
      "provenance": [],
      "gpuType": "T4"
    },
    "accelerator": "GPU",
    "widgets": {
      "application/vnd.jupyter.widget-state+json": {
        "35b191fd3b85405e91a60c9472ebd215": {
          "model_module": "@jupyter-widgets/controls",
          "model_name": "HBoxModel",
          "model_module_version": "1.5.0",
          "state": {
            "_dom_classes": [],
            "_model_module": "@jupyter-widgets/controls",
            "_model_module_version": "1.5.0",
            "_model_name": "HBoxModel",
            "_view_count": null,
            "_view_module": "@jupyter-widgets/controls",
            "_view_module_version": "1.5.0",
            "_view_name": "HBoxView",
            "box_style": "",
            "children": [
              "IPY_MODEL_50135fc29dee4733a545414bbf193be2",
              "IPY_MODEL_30ef5cfd95c74b3d8d59407435ec67dc",
              "IPY_MODEL_8e125145224a4a409ffaaa7db074fc34"
            ],
            "layout": "IPY_MODEL_56954f3d493f4b1983120826f01f4a23"
          }
        },
        "50135fc29dee4733a545414bbf193be2": {
          "model_module": "@jupyter-widgets/controls",
          "model_name": "HTMLModel",
          "model_module_version": "1.5.0",
          "state": {
            "_dom_classes": [],
            "_model_module": "@jupyter-widgets/controls",
            "_model_module_version": "1.5.0",
            "_model_name": "HTMLModel",
            "_view_count": null,
            "_view_module": "@jupyter-widgets/controls",
            "_view_module_version": "1.5.0",
            "_view_name": "HTMLView",
            "description": "",
            "description_tooltip": null,
            "layout": "IPY_MODEL_45a923d3bf644244aa236bcda810991b",
            "placeholder": "​",
            "style": "IPY_MODEL_a6c35e578064434c8f700611832f5a45",
            "value": "Loading checkpoint shards: 100%"
          }
        },
        "30ef5cfd95c74b3d8d59407435ec67dc": {
          "model_module": "@jupyter-widgets/controls",
          "model_name": "FloatProgressModel",
          "model_module_version": "1.5.0",
          "state": {
            "_dom_classes": [],
            "_model_module": "@jupyter-widgets/controls",
            "_model_module_version": "1.5.0",
            "_model_name": "FloatProgressModel",
            "_view_count": null,
            "_view_module": "@jupyter-widgets/controls",
            "_view_module_version": "1.5.0",
            "_view_name": "ProgressView",
            "bar_style": "success",
            "description": "",
            "description_tooltip": null,
            "layout": "IPY_MODEL_898253d5f3ee449ba16dd3d00f8e8434",
            "max": 4,
            "min": 0,
            "orientation": "horizontal",
            "style": "IPY_MODEL_be289233c9604a36b5bb3c42c46dbe79",
            "value": 4
          }
        },
        "8e125145224a4a409ffaaa7db074fc34": {
          "model_module": "@jupyter-widgets/controls",
          "model_name": "HTMLModel",
          "model_module_version": "1.5.0",
          "state": {
            "_dom_classes": [],
            "_model_module": "@jupyter-widgets/controls",
            "_model_module_version": "1.5.0",
            "_model_name": "HTMLModel",
            "_view_count": null,
            "_view_module": "@jupyter-widgets/controls",
            "_view_module_version": "1.5.0",
            "_view_name": "HTMLView",
            "description": "",
            "description_tooltip": null,
            "layout": "IPY_MODEL_573aedbe53be4c218ed71c7129dce25b",
            "placeholder": "​",
            "style": "IPY_MODEL_de7d2205a2044c4bacc80111b0c9c75c",
            "value": " 4/4 [01:55&lt;00:00, 28.10s/it]"
          }
        },
        "56954f3d493f4b1983120826f01f4a23": {
          "model_module": "@jupyter-widgets/base",
          "model_name": "LayoutModel",
          "model_module_version": "1.2.0",
          "state": {
            "_model_module": "@jupyter-widgets/base",
            "_model_module_version": "1.2.0",
            "_model_name": "LayoutModel",
            "_view_count": null,
            "_view_module": "@jupyter-widgets/base",
            "_view_module_version": "1.2.0",
            "_view_name": "LayoutView",
            "align_content": null,
            "align_items": null,
            "align_self": null,
            "border": null,
            "bottom": null,
            "display": null,
            "flex": null,
            "flex_flow": null,
            "grid_area": null,
            "grid_auto_columns": null,
            "grid_auto_flow": null,
            "grid_auto_rows": null,
            "grid_column": null,
            "grid_gap": null,
            "grid_row": null,
            "grid_template_areas": null,
            "grid_template_columns": null,
            "grid_template_rows": null,
            "height": null,
            "justify_content": null,
            "justify_items": null,
            "left": null,
            "margin": null,
            "max_height": null,
            "max_width": null,
            "min_height": null,
            "min_width": null,
            "object_fit": null,
            "object_position": null,
            "order": null,
            "overflow": null,
            "overflow_x": null,
            "overflow_y": null,
            "padding": null,
            "right": null,
            "top": null,
            "visibility": null,
            "width": null
          }
        },
        "45a923d3bf644244aa236bcda810991b": {
          "model_module": "@jupyter-widgets/base",
          "model_name": "LayoutModel",
          "model_module_version": "1.2.0",
          "state": {
            "_model_module": "@jupyter-widgets/base",
            "_model_module_version": "1.2.0",
            "_model_name": "LayoutModel",
            "_view_count": null,
            "_view_module": "@jupyter-widgets/base",
            "_view_module_version": "1.2.0",
            "_view_name": "LayoutView",
            "align_content": null,
            "align_items": null,
            "align_self": null,
            "border": null,
            "bottom": null,
            "display": null,
            "flex": null,
            "flex_flow": null,
            "grid_area": null,
            "grid_auto_columns": null,
            "grid_auto_flow": null,
            "grid_auto_rows": null,
            "grid_column": null,
            "grid_gap": null,
            "grid_row": null,
            "grid_template_areas": null,
            "grid_template_columns": null,
            "grid_template_rows": null,
            "height": null,
            "justify_content": null,
            "justify_items": null,
            "left": null,
            "margin": null,
            "max_height": null,
            "max_width": null,
            "min_height": null,
            "min_width": null,
            "object_fit": null,
            "object_position": null,
            "order": null,
            "overflow": null,
            "overflow_x": null,
            "overflow_y": null,
            "padding": null,
            "right": null,
            "top": null,
            "visibility": null,
            "width": null
          }
        },
        "a6c35e578064434c8f700611832f5a45": {
          "model_module": "@jupyter-widgets/controls",
          "model_name": "DescriptionStyleModel",
          "model_module_version": "1.5.0",
          "state": {
            "_model_module": "@jupyter-widgets/controls",
            "_model_module_version": "1.5.0",
            "_model_name": "DescriptionStyleModel",
            "_view_count": null,
            "_view_module": "@jupyter-widgets/base",
            "_view_module_version": "1.2.0",
            "_view_name": "StyleView",
            "description_width": ""
          }
        },
        "898253d5f3ee449ba16dd3d00f8e8434": {
          "model_module": "@jupyter-widgets/base",
          "model_name": "LayoutModel",
          "model_module_version": "1.2.0",
          "state": {
            "_model_module": "@jupyter-widgets/base",
            "_model_module_version": "1.2.0",
            "_model_name": "LayoutModel",
            "_view_count": null,
            "_view_module": "@jupyter-widgets/base",
            "_view_module_version": "1.2.0",
            "_view_name": "LayoutView",
            "align_content": null,
            "align_items": null,
            "align_self": null,
            "border": null,
            "bottom": null,
            "display": null,
            "flex": null,
            "flex_flow": null,
            "grid_area": null,
            "grid_auto_columns": null,
            "grid_auto_flow": null,
            "grid_auto_rows": null,
            "grid_column": null,
            "grid_gap": null,
            "grid_row": null,
            "grid_template_areas": null,
            "grid_template_columns": null,
            "grid_template_rows": null,
            "height": null,
            "justify_content": null,
            "justify_items": null,
            "left": null,
            "margin": null,
            "max_height": null,
            "max_width": null,
            "min_height": null,
            "min_width": null,
            "object_fit": null,
            "object_position": null,
            "order": null,
            "overflow": null,
            "overflow_x": null,
            "overflow_y": null,
            "padding": null,
            "right": null,
            "top": null,
            "visibility": null,
            "width": null
          }
        },
        "be289233c9604a36b5bb3c42c46dbe79": {
          "model_module": "@jupyter-widgets/controls",
          "model_name": "ProgressStyleModel",
          "model_module_version": "1.5.0",
          "state": {
            "_model_module": "@jupyter-widgets/controls",
            "_model_module_version": "1.5.0",
            "_model_name": "ProgressStyleModel",
            "_view_count": null,
            "_view_module": "@jupyter-widgets/base",
            "_view_module_version": "1.2.0",
            "_view_name": "StyleView",
            "bar_color": null,
            "description_width": ""
          }
        },
        "573aedbe53be4c218ed71c7129dce25b": {
          "model_module": "@jupyter-widgets/base",
          "model_name": "LayoutModel",
          "model_module_version": "1.2.0",
          "state": {
            "_model_module": "@jupyter-widgets/base",
            "_model_module_version": "1.2.0",
            "_model_name": "LayoutModel",
            "_view_count": null,
            "_view_module": "@jupyter-widgets/base",
            "_view_module_version": "1.2.0",
            "_view_name": "LayoutView",
            "align_content": null,
            "align_items": null,
            "align_self": null,
            "border": null,
            "bottom": null,
            "display": null,
            "flex": null,
            "flex_flow": null,
            "grid_area": null,
            "grid_auto_columns": null,
            "grid_auto_flow": null,
            "grid_auto_rows": null,
            "grid_column": null,
            "grid_gap": null,
            "grid_row": null,
            "grid_template_areas": null,
            "grid_template_columns": null,
            "grid_template_rows": null,
            "height": null,
            "justify_content": null,
            "justify_items": null,
            "left": null,
            "margin": null,
            "max_height": null,
            "max_width": null,
            "min_height": null,
            "min_width": null,
            "object_fit": null,
            "object_position": null,
            "order": null,
            "overflow": null,
            "overflow_x": null,
            "overflow_y": null,
            "padding": null,
            "right": null,
            "top": null,
            "visibility": null,
            "width": null
          }
        },
        "de7d2205a2044c4bacc80111b0c9c75c": {
          "model_module": "@jupyter-widgets/controls",
          "model_name": "DescriptionStyleModel",
          "model_module_version": "1.5.0",
          "state": {
            "_model_module": "@jupyter-widgets/controls",
            "_model_module_version": "1.5.0",
            "_model_name": "DescriptionStyleModel",
            "_view_count": null,
            "_view_module": "@jupyter-widgets/base",
            "_view_module_version": "1.2.0",
            "_view_name": "StyleView",
            "description_width": ""
          }
        }
      }
    }
  },
  "nbformat": 4,
  "nbformat_minor": 0
}
