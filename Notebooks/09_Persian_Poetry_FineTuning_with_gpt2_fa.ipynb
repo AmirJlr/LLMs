{
  "cells": [
    {
      "cell_type": "markdown",
      "metadata": {
        "id": "pKzDal8Ms5TO"
      },
      "source": [
        "This notebook demonstrates how to fine-tune a Persian GPT-2 model ([HooshvareLab/gpt2-fa](https://huggingface.co/HooshvareLab/gpt2-fa)) for conditional poetry generation ([HooshvareLab/gpt2-fa-poetry](https://huggingface.co/HooshvareLab/gpt2-fa-poetry)). HooshvareLab/gpt2-fa, a Persian-optimized version of GPT-2 developed by HooshvareLab.\n",
        "\n",
        "The model learns to generate poetry in the style of specific Persian poets based on a prompt containing the poet's name."
      ]
    },
    {
      "cell_type": "code",
      "execution_count": 6,
      "metadata": {
        "id": "LjuVHWEN-OeN"
      },
      "outputs": [],
      "source": [
        "!pip install -qU transformers\n",
        "#!pip install -qU hazm"
      ]
    },
    {
      "cell_type": "code",
      "execution_count": null,
      "metadata": {
        "id": "uOC4y5rm-QNX"
      },
      "outputs": [],
      "source": [
        "'''\n",
        "import hazm\n",
        "\n",
        "\n",
        "normalizer = hazm.Normalizer(persian_numbers=False)\n",
        "\n",
        "def normalize_input(text):\n",
        "    text = normalizer.normalize(text)\n",
        "    return text\n",
        "'''"
      ]
    },
    {
      "cell_type": "code",
      "execution_count": 2,
      "metadata": {
        "colab": {
          "base_uri": "https://localhost:8080/"
        },
        "id": "NzgbX_uE34rV",
        "outputId": "c2dd35ab-aa14-4f11-93eb-ab08f7a3e540"
      },
      "outputs": [
        {
          "output_type": "stream",
          "name": "stdout",
          "text": [
            "Cloning into 'poems'...\n",
            "remote: Enumerating objects: 39, done.\u001b[K\n",
            "remote: Counting objects: 100% (6/6), done.\u001b[K\n",
            "remote: Compressing objects: 100% (6/6), done.\u001b[K\n",
            "remote: Total 39 (delta 2), reused 0 (delta 0), pack-reused 33 (from 1)\u001b[K\n",
            "Receiving objects: 100% (39/39), 34.27 MiB | 9.44 MiB/s, done.\n",
            "Resolving deltas: 100% (19/19), done.\n",
            "Updating files: 100% (8/8), done.\n"
          ]
        }
      ],
      "source": [
        "# Load dataset\n",
        "!git clone https://github.com/aghasemi/ChronologicalPersianPoetryDataset.git poems"
      ]
    },
    {
      "cell_type": "code",
      "execution_count": 7,
      "metadata": {
        "id": "m_2U9J1o5Gtu"
      },
      "outputs": [],
      "source": [
        "import json\n",
        "import os\n",
        "import glob\n",
        "\n",
        "import numpy as np\n",
        "import pandas as pd\n",
        "\n",
        "from tqdm import tqdm"
      ]
    },
    {
      "cell_type": "code",
      "source": [
        "df = pd.read_csv(\"/content/poems/poems.tsv\", sep=\"\\t\")\n"
      ],
      "metadata": {
        "id": "Fn6CIa12X9K9"
      },
      "execution_count": 8,
      "outputs": []
    },
    {
      "cell_type": "code",
      "execution_count": 9,
      "metadata": {
        "id": "Osc729oi5U1w",
        "outputId": "4ded3dde-bcfd-4087-f429-9c34cf6b5fe7",
        "colab": {
          "base_uri": "https://localhost:8080/",
          "height": 206
        }
      },
      "outputs": [
        {
          "output_type": "execute_result",
          "data": {
            "text/plain": [
              "    poet  century                                               poem  \\\n",
              "0  رودکی        3  گر من این دوستی تو ببرم تا لب گور    بزنم نعره...   \n",
              "1  رودکی        3  به حق نالم ز هجر دوست زارا    سحرگاهان چو بر گ...   \n",
              "2  رودکی        3  به نام نیک تو، خواجه، فریفته نشوم    که نام نی...   \n",
              "3  رودکی        3  دلا، تا کی همی جویی منی را؟    چه داری دوست هر...   \n",
              "4  رودکی        3  گرفت خواهم زلفین عنبرین ترا    به بوسه نقش‌کنم...   \n",
              "\n",
              "                                                text  \n",
              "0  رودکی<|startoftext|>گر من این دوستی تو ببرم تا...  \n",
              "1  رودکی<|startoftext|>به حق نالم ز هجر دوست زارا...  \n",
              "2  رودکی<|startoftext|>به نام نیک تو، خواجه، فریف...  \n",
              "3  رودکی<|startoftext|>دلا، تا کی همی جویی منی را...  \n",
              "4  رودکی<|startoftext|>گرفت خواهم زلفین عنبرین تر...  "
            ],
            "text/html": [
              "\n",
              "  <div id=\"df-f9a09145-931f-4fcb-a047-c49122a412d8\" class=\"colab-df-container\">\n",
              "    <div>\n",
              "<style scoped>\n",
              "    .dataframe tbody tr th:only-of-type {\n",
              "        vertical-align: middle;\n",
              "    }\n",
              "\n",
              "    .dataframe tbody tr th {\n",
              "        vertical-align: top;\n",
              "    }\n",
              "\n",
              "    .dataframe thead th {\n",
              "        text-align: right;\n",
              "    }\n",
              "</style>\n",
              "<table border=\"1\" class=\"dataframe\">\n",
              "  <thead>\n",
              "    <tr style=\"text-align: right;\">\n",
              "      <th></th>\n",
              "      <th>poet</th>\n",
              "      <th>century</th>\n",
              "      <th>poem</th>\n",
              "      <th>text</th>\n",
              "    </tr>\n",
              "  </thead>\n",
              "  <tbody>\n",
              "    <tr>\n",
              "      <th>0</th>\n",
              "      <td>رودکی</td>\n",
              "      <td>3</td>\n",
              "      <td>گر من این دوستی تو ببرم تا لب گور    بزنم نعره...</td>\n",
              "      <td>رودکی&lt;|startoftext|&gt;گر من این دوستی تو ببرم تا...</td>\n",
              "    </tr>\n",
              "    <tr>\n",
              "      <th>1</th>\n",
              "      <td>رودکی</td>\n",
              "      <td>3</td>\n",
              "      <td>به حق نالم ز هجر دوست زارا    سحرگاهان چو بر گ...</td>\n",
              "      <td>رودکی&lt;|startoftext|&gt;به حق نالم ز هجر دوست زارا...</td>\n",
              "    </tr>\n",
              "    <tr>\n",
              "      <th>2</th>\n",
              "      <td>رودکی</td>\n",
              "      <td>3</td>\n",
              "      <td>به نام نیک تو، خواجه، فریفته نشوم    که نام نی...</td>\n",
              "      <td>رودکی&lt;|startoftext|&gt;به نام نیک تو، خواجه، فریف...</td>\n",
              "    </tr>\n",
              "    <tr>\n",
              "      <th>3</th>\n",
              "      <td>رودکی</td>\n",
              "      <td>3</td>\n",
              "      <td>دلا، تا کی همی جویی منی را؟    چه داری دوست هر...</td>\n",
              "      <td>رودکی&lt;|startoftext|&gt;دلا، تا کی همی جویی منی را...</td>\n",
              "    </tr>\n",
              "    <tr>\n",
              "      <th>4</th>\n",
              "      <td>رودکی</td>\n",
              "      <td>3</td>\n",
              "      <td>گرفت خواهم زلفین عنبرین ترا    به بوسه نقش‌کنم...</td>\n",
              "      <td>رودکی&lt;|startoftext|&gt;گرفت خواهم زلفین عنبرین تر...</td>\n",
              "    </tr>\n",
              "  </tbody>\n",
              "</table>\n",
              "</div>\n",
              "    <div class=\"colab-df-buttons\">\n",
              "\n",
              "  <div class=\"colab-df-container\">\n",
              "    <button class=\"colab-df-convert\" onclick=\"convertToInteractive('df-f9a09145-931f-4fcb-a047-c49122a412d8')\"\n",
              "            title=\"Convert this dataframe to an interactive table.\"\n",
              "            style=\"display:none;\">\n",
              "\n",
              "  <svg xmlns=\"http://www.w3.org/2000/svg\" height=\"24px\" viewBox=\"0 -960 960 960\">\n",
              "    <path d=\"M120-120v-720h720v720H120Zm60-500h600v-160H180v160Zm220 220h160v-160H400v160Zm0 220h160v-160H400v160ZM180-400h160v-160H180v160Zm440 0h160v-160H620v160ZM180-180h160v-160H180v160Zm440 0h160v-160H620v160Z\"/>\n",
              "  </svg>\n",
              "    </button>\n",
              "\n",
              "  <style>\n",
              "    .colab-df-container {\n",
              "      display:flex;\n",
              "      gap: 12px;\n",
              "    }\n",
              "\n",
              "    .colab-df-convert {\n",
              "      background-color: #E8F0FE;\n",
              "      border: none;\n",
              "      border-radius: 50%;\n",
              "      cursor: pointer;\n",
              "      display: none;\n",
              "      fill: #1967D2;\n",
              "      height: 32px;\n",
              "      padding: 0 0 0 0;\n",
              "      width: 32px;\n",
              "    }\n",
              "\n",
              "    .colab-df-convert:hover {\n",
              "      background-color: #E2EBFA;\n",
              "      box-shadow: 0px 1px 2px rgba(60, 64, 67, 0.3), 0px 1px 3px 1px rgba(60, 64, 67, 0.15);\n",
              "      fill: #174EA6;\n",
              "    }\n",
              "\n",
              "    .colab-df-buttons div {\n",
              "      margin-bottom: 4px;\n",
              "    }\n",
              "\n",
              "    [theme=dark] .colab-df-convert {\n",
              "      background-color: #3B4455;\n",
              "      fill: #D2E3FC;\n",
              "    }\n",
              "\n",
              "    [theme=dark] .colab-df-convert:hover {\n",
              "      background-color: #434B5C;\n",
              "      box-shadow: 0px 1px 3px 1px rgba(0, 0, 0, 0.15);\n",
              "      filter: drop-shadow(0px 1px 2px rgba(0, 0, 0, 0.3));\n",
              "      fill: #FFFFFF;\n",
              "    }\n",
              "  </style>\n",
              "\n",
              "    <script>\n",
              "      const buttonEl =\n",
              "        document.querySelector('#df-f9a09145-931f-4fcb-a047-c49122a412d8 button.colab-df-convert');\n",
              "      buttonEl.style.display =\n",
              "        google.colab.kernel.accessAllowed ? 'block' : 'none';\n",
              "\n",
              "      async function convertToInteractive(key) {\n",
              "        const element = document.querySelector('#df-f9a09145-931f-4fcb-a047-c49122a412d8');\n",
              "        const dataTable =\n",
              "          await google.colab.kernel.invokeFunction('convertToInteractive',\n",
              "                                                    [key], {});\n",
              "        if (!dataTable) return;\n",
              "\n",
              "        const docLinkHtml = 'Like what you see? Visit the ' +\n",
              "          '<a target=\"_blank\" href=https://colab.research.google.com/notebooks/data_table.ipynb>data table notebook</a>'\n",
              "          + ' to learn more about interactive tables.';\n",
              "        element.innerHTML = '';\n",
              "        dataTable['output_type'] = 'display_data';\n",
              "        await google.colab.output.renderOutput(dataTable, element);\n",
              "        const docLink = document.createElement('div');\n",
              "        docLink.innerHTML = docLinkHtml;\n",
              "        element.appendChild(docLink);\n",
              "      }\n",
              "    </script>\n",
              "  </div>\n",
              "\n",
              "\n",
              "    <div id=\"df-e0140cbd-efa2-425c-8539-3e04cb4a3d50\">\n",
              "      <button class=\"colab-df-quickchart\" onclick=\"quickchart('df-e0140cbd-efa2-425c-8539-3e04cb4a3d50')\"\n",
              "                title=\"Suggest charts\"\n",
              "                style=\"display:none;\">\n",
              "\n",
              "<svg xmlns=\"http://www.w3.org/2000/svg\" height=\"24px\"viewBox=\"0 0 24 24\"\n",
              "     width=\"24px\">\n",
              "    <g>\n",
              "        <path d=\"M19 3H5c-1.1 0-2 .9-2 2v14c0 1.1.9 2 2 2h14c1.1 0 2-.9 2-2V5c0-1.1-.9-2-2-2zM9 17H7v-7h2v7zm4 0h-2V7h2v10zm4 0h-2v-4h2v4z\"/>\n",
              "    </g>\n",
              "</svg>\n",
              "      </button>\n",
              "\n",
              "<style>\n",
              "  .colab-df-quickchart {\n",
              "      --bg-color: #E8F0FE;\n",
              "      --fill-color: #1967D2;\n",
              "      --hover-bg-color: #E2EBFA;\n",
              "      --hover-fill-color: #174EA6;\n",
              "      --disabled-fill-color: #AAA;\n",
              "      --disabled-bg-color: #DDD;\n",
              "  }\n",
              "\n",
              "  [theme=dark] .colab-df-quickchart {\n",
              "      --bg-color: #3B4455;\n",
              "      --fill-color: #D2E3FC;\n",
              "      --hover-bg-color: #434B5C;\n",
              "      --hover-fill-color: #FFFFFF;\n",
              "      --disabled-bg-color: #3B4455;\n",
              "      --disabled-fill-color: #666;\n",
              "  }\n",
              "\n",
              "  .colab-df-quickchart {\n",
              "    background-color: var(--bg-color);\n",
              "    border: none;\n",
              "    border-radius: 50%;\n",
              "    cursor: pointer;\n",
              "    display: none;\n",
              "    fill: var(--fill-color);\n",
              "    height: 32px;\n",
              "    padding: 0;\n",
              "    width: 32px;\n",
              "  }\n",
              "\n",
              "  .colab-df-quickchart:hover {\n",
              "    background-color: var(--hover-bg-color);\n",
              "    box-shadow: 0 1px 2px rgba(60, 64, 67, 0.3), 0 1px 3px 1px rgba(60, 64, 67, 0.15);\n",
              "    fill: var(--button-hover-fill-color);\n",
              "  }\n",
              "\n",
              "  .colab-df-quickchart-complete:disabled,\n",
              "  .colab-df-quickchart-complete:disabled:hover {\n",
              "    background-color: var(--disabled-bg-color);\n",
              "    fill: var(--disabled-fill-color);\n",
              "    box-shadow: none;\n",
              "  }\n",
              "\n",
              "  .colab-df-spinner {\n",
              "    border: 2px solid var(--fill-color);\n",
              "    border-color: transparent;\n",
              "    border-bottom-color: var(--fill-color);\n",
              "    animation:\n",
              "      spin 1s steps(1) infinite;\n",
              "  }\n",
              "\n",
              "  @keyframes spin {\n",
              "    0% {\n",
              "      border-color: transparent;\n",
              "      border-bottom-color: var(--fill-color);\n",
              "      border-left-color: var(--fill-color);\n",
              "    }\n",
              "    20% {\n",
              "      border-color: transparent;\n",
              "      border-left-color: var(--fill-color);\n",
              "      border-top-color: var(--fill-color);\n",
              "    }\n",
              "    30% {\n",
              "      border-color: transparent;\n",
              "      border-left-color: var(--fill-color);\n",
              "      border-top-color: var(--fill-color);\n",
              "      border-right-color: var(--fill-color);\n",
              "    }\n",
              "    40% {\n",
              "      border-color: transparent;\n",
              "      border-right-color: var(--fill-color);\n",
              "      border-top-color: var(--fill-color);\n",
              "    }\n",
              "    60% {\n",
              "      border-color: transparent;\n",
              "      border-right-color: var(--fill-color);\n",
              "    }\n",
              "    80% {\n",
              "      border-color: transparent;\n",
              "      border-right-color: var(--fill-color);\n",
              "      border-bottom-color: var(--fill-color);\n",
              "    }\n",
              "    90% {\n",
              "      border-color: transparent;\n",
              "      border-bottom-color: var(--fill-color);\n",
              "    }\n",
              "  }\n",
              "</style>\n",
              "\n",
              "      <script>\n",
              "        async function quickchart(key) {\n",
              "          const quickchartButtonEl =\n",
              "            document.querySelector('#' + key + ' button');\n",
              "          quickchartButtonEl.disabled = true;  // To prevent multiple clicks.\n",
              "          quickchartButtonEl.classList.add('colab-df-spinner');\n",
              "          try {\n",
              "            const charts = await google.colab.kernel.invokeFunction(\n",
              "                'suggestCharts', [key], {});\n",
              "          } catch (error) {\n",
              "            console.error('Error during call to suggestCharts:', error);\n",
              "          }\n",
              "          quickchartButtonEl.classList.remove('colab-df-spinner');\n",
              "          quickchartButtonEl.classList.add('colab-df-quickchart-complete');\n",
              "        }\n",
              "        (() => {\n",
              "          let quickchartButtonEl =\n",
              "            document.querySelector('#df-e0140cbd-efa2-425c-8539-3e04cb4a3d50 button');\n",
              "          quickchartButtonEl.style.display =\n",
              "            google.colab.kernel.accessAllowed ? 'block' : 'none';\n",
              "        })();\n",
              "      </script>\n",
              "    </div>\n",
              "    </div>\n",
              "  </div>\n"
            ],
            "application/vnd.google.colaboratory.intrinsic+json": {
              "type": "dataframe",
              "variable_name": "df",
              "summary": "{\n  \"name\": \"df\",\n  \"rows\": 54524,\n  \"fields\": [\n    {\n      \"column\": \"poet\",\n      \"properties\": {\n        \"dtype\": \"category\",\n        \"num_unique_values\": 67,\n        \"samples\": [\n          \"\\u0648\\u062d\\u0634\\u06cc\",\n          \"\\u062e\\u0627\\u0642\\u0627\\u0646\\u06cc\",\n          \"\\u0645\\u0646\\u0648\\u0686\\u0647\\u0631\\u06cc\"\n        ],\n        \"semantic_type\": \"\",\n        \"description\": \"\"\n      }\n    },\n    {\n      \"column\": \"century\",\n      \"properties\": {\n        \"dtype\": \"number\",\n        \"std\": 2,\n        \"min\": 3,\n        \"max\": 15,\n        \"num_unique_values\": 13,\n        \"samples\": [\n          14,\n          12,\n          3\n        ],\n        \"semantic_type\": \"\",\n        \"description\": \"\"\n      }\n    },\n    {\n      \"column\": \"poem\",\n      \"properties\": {\n        \"dtype\": \"string\",\n        \"num_unique_values\": 54426,\n        \"samples\": [\n          \"\\u0686\\u0648 \\u0647\\u062c\\u0631 \\u0631\\u0627\\u0647 \\u0645\\u0646 \\u062a\\u0634\\u0646\\u0647 \\u062f\\u0631 \\u0633\\u0631\\u0627\\u0628 \\u0627\\u0646\\u062f\\u0627\\u062e\\u062a    \\u0633\\u06a9\\u0648\\u0646 \\u0633\\u0641\\u06cc\\u0646\\u0647 \\u0628\\u0647 \\u06af\\u0631\\u062f\\u0627\\u0628 \\u0627\\u0636\\u0637\\u0631\\u0627\\u0628 \\u0627\\u0646\\u062f\\u0627\\u062e\\u062a    \\u0641\\u0644\\u06a9 \\u0632 \\u0628\\u062f \\u0645\\u062f\\u062f\\u06cc\\u0647\\u0627 \\u062a\\u0645\\u0627\\u0645 \\u06cc\\u0627\\u0631\\u0627\\u0646 \\u0631\\u0627    \\u0686\\u0648 \\u062f\\u0633\\u062a \\u0628\\u0633\\u062a \\u06af\\u0644\\u06cc\\u0645 \\u0645\\u0631\\u0627 \\u062f\\u0631 \\u0622\\u0628 \\u0627\\u0646\\u062f\\u0627\\u062e\\u062a    \\u0632\\u0645\\u0627\\u0646\\u0647 \\u062f\\u0633\\u062a \\u0645\\u0646 \\u0627\\u0648\\u0644 \\u0628\\u0647 \\u062d\\u06cc\\u0644\\u0647 \\u0628\\u0633\\u062a \\u0622\\u0646 \\u06af\\u0647    \\u0632 \\u0686\\u0647\\u0631\\u0647 \\u0634\\u0627\\u0647\\u062f \\u0645\\u0642\\u0635\\u0648\\u062f \\u0631\\u0627 \\u0646\\u0642\\u0627\\u0628 \\u0627\\u0646\\u062f\\u0627\\u062e\\u062a    \\u0628\\u0647 \\u062c\\u0646\\u0628\\u0634\\u06cc \\u06a9\\u0647 \\u0646\\u0645\\u0648\\u062f \\u0627\\u0632 \\u0646\\u0633\\u06cc\\u0645 \\u06a9\\u0627\\u06a9\\u0644 \\u0627\\u0648    \\u0647\\u0632\\u0627\\u0631 \\u0631\\u0634\\u062a\\u0647\\u0654 \\u062c\\u0627\\u0646 \\u0631\\u0627 \\u0628\\u0647 \\u067e\\u06cc\\u0686 \\u0648 \\u062a\\u0627\\u0628 \\u0627\\u0646\\u062f\\u0627\\u062e\\u062a    \\u06af\\u0631\\u0641\\u062a \\u0645\\u062d\\u062a\\u0634\\u0645 \\u0627\\u0632 \\u0633\\u0627\\u0642\\u06cc \\u063a\\u0645\\u0634 \\u062c\\u0627\\u0645\\u06cc    \\u06a9\\u0647 \\u0628\\u0648\\u06cc \\u0627\\u0648 \\u0645\\u0646 \\u0645\\u06cc\\u062e\\u0648\\u0627\\u0631\\u0647 \\u0631\\u0627 \\u062e\\u0631\\u0627\\u0628 \\u0627\\u0646\\u062f\\u0627\\u062e\\u062a\",\n          \"\\u0628\\u0631 \\u0635\\u0641\\u062d\\u0647\\u0654 \\u0631\\u062e \\u0627\\u0632 \\u062e\\u0637 \\u0645\\u0634\\u06a9\\u06cc\\u0646 \\u0631\\u0642\\u0645 \\u0645\\u0632\\u0646    \\u0628\\u0631 \\u0646\\u0627\\u0645\\u0647\\u0654 \\u062d\\u06cc\\u0627\\u062a \\u0645\\u062d\\u0628\\u0627\\u0646 \\u0642\\u0644\\u0645 \\u0645\\u0632\\u0646    \\u062a\\u06cc\\u063a \\u0639\\u062a\\u0627\\u0628 \\u0628\\u0631 \\u0633\\u0631 \\u0627\\u0647\\u0644 \\u0648\\u0641\\u0627 \\u0645\\u06a9\\u0634    \\u062a\\u06cc\\u0631 \\u0647\\u0644\\u0627\\u06a9 \\u0628\\u0631 \\u062f\\u0644 \\u0635\\u06cc\\u062f \\u062d\\u0631\\u0645 \\u0645\\u0632\\u0646    \\u0627\\u0641\\u062a\\u0627\\u062f\\u06af\\u0627\\u0646 \\u0628\\u0646\\u062f \\u062a\\u0648 \\u062c\\u0627\\u06cc\\u06cc \\u0646\\u0645\\u06cc\\u200c\\u0631\\u0648\\u0646\\u062f    \\u0645\\u0631\\u063a\\u0627\\u0646 \\u0628\\u0627\\u0644 \\u0628\\u0633\\u062a\\u0647 \\u0628\\u0647 \\u0633\\u0646\\u06af \\u0633\\u062a\\u0645 \\u0645\\u0632\\u0646    \\u0632\\u0644\\u0641\\u06cc \\u06a9\\u0647 \\u062c\\u0627\\u06cc\\u06af\\u0627\\u0647 \\u062f\\u062e\\u0644 \\u062e\\u0644\\u0642 \\u0639\\u0627\\u0644\\u0645 \\u0627\\u0633\\u062a    \\u0628\\u0631 \\u06cc\\u06a9\\u062f\\u06af\\u0631 \\u0645\\u06cc\\u0641\\u06a9\\u0646 \\u0648 \\u0639\\u0627\\u0644\\u0645 \\u0628\\u0647 \\u0647\\u0645 \\u0645\\u0632\\u0646    \\u0631\\u0646\\u06af\\u06cc \\u0646\\u0645\\u0627\\u0646\\u062f \\u067e\\u06cc\\u0634 \\u0631\\u062e\\u062a \\u0647\\u06cc\\u0686 \\u0628\\u0627\\u063a \\u0631\\u0627    \\u0628\\u0631\\u0642\\u0639 \\u0628\\u067e\\u0648\\u0634 \\u0648 \\u0637\\u0639\\u0646\\u0647 \\u0628\\u0647 \\u0628\\u0627\\u063a \\u0627\\u0631\\u0645 \\u0645\\u0632\\u0646    \\u06af\\u0641\\u062a\\u06cc \\u06a9\\u0647 \\u06a9\\u0627\\u0645 \\u062f\\u06cc\\u062f\\u06cc \\u0627\\u0632 \\u0622\\u0646 \\u0686\\u0627\\u06a9 \\u067e\\u06cc\\u0631\\u0647\\u0646    \\u067e\\u06cc\\u0631\\u0627\\u0647\\u0646 \\u062f\\u0631\\u06cc\\u062f\\u0647\\u0654 \\u0645\\u0646 \\u0628\\u06cc\\u0646 \\u0648 \\u062f\\u0645 \\u0645\\u0632\\u0646    \\u062f\\u0631 \\u062c\\u0644\\u0648\\u0647\\u200c\\u06af\\u0627\\u0647 \\u062f\\u0648\\u0633\\u062a \\u0646\\u06af\\u0627\\u0647\\u06cc \\u0641\\u0632\\u0648\\u0646 \\u0645\\u062e\\u0648\\u0627\\u0647    \\u062f\\u0631 \\u06a9\\u0627\\u0631\\u06af\\u0627\\u0647 \\u0639\\u0634\\u0642 \\u062f\\u0645 \\u0627\\u0632 \\u0628\\u06cc\\u0634 \\u0648 \\u06a9\\u0645 \\u0645\\u0632\\u0646    \\u0628\\u06cc \\u062a\\u0631\\u06a9 \\u0633\\u0631 \\u0632 \\u0631\\u0627\\u0647 \\u0627\\u0631\\u0627\\u062f\\u062a \\u0646\\u0634\\u0627\\u0646 \\u0645\\u062c\\u0648    \\u0628\\u06cc \\u0631\\u0627\\u0647\\u0628\\u0631 \\u0628\\u0647 \\u06a9\\u0648\\u06cc \\u0645\\u062d\\u0628\\u062a \\u0642\\u062f\\u0645 \\u0645\\u0632\\u0646    \\u06af\\u0631 \\u0622\\u0633\\u0645\\u0627\\u0646 \\u0628\\u0647 \\u06a9\\u0627\\u0645 \\u062a\\u0648 \\u06af\\u0631\\u062f\\u062f \\u0641\\u0631\\u0648\\u063a\\u06cc\\u0627    \\u0628\\u0631 \\u0622\\u0633\\u0645\\u0627\\u0646 \\u0645\\u06cc\\u06a9\\u062f\\u0647 \\u062c\\u0632 \\u062c\\u0627\\u0645 \\u062c\\u0645 \\u0645\\u0632\\u0646\",\n          \"\\u0627\\u062f\\u0628\\u200c\\u0633\\u0646\\u062c \\u0628\\u06cc\\u0627\\u0646 \\u062d\\u0631\\u0641\\u06cc \\u0627\\u0632 \\u0622\\u0646 \\u0644\\u0628 \\u0647\\u0631\\u06a9\\u062c\\u0627 \\u062f\\u0627\\u0631\\u062f    \\u062e\\u0631\\u0627\\u0645 \\u0645\\u0648\\u062c\\u200c\\u06af\\u0648\\u0647\\u0631 \\u067e\\u0627 \\u0628\\u0647 \\u062f\\u0627\\u0645\\u0627\\u0646 \\u062d\\u06cc\\u0627 \\u062f\\u0627\\u0631\\u062f    \\u06a9\\u0641 \\u062e\\u0627\\u06a9\\u06cc\\u0645 \\u062f\\u0631 \\u0645\\u0627 \\u062f\\u06cc\\u06af\\u0631\\u0627\\u0646\\u062f\\u0627\\u0632 \\u0631\\u0633\\u0627\\u06cc\\u06cc\\u200c\\u06a9\\u0648    \\u06a9\\u0647 \\u062f\\u0633\\u062a \\u0639\\u062c\\u0632 \\u0627\\u06af\\u0631 \\u062f\\u0627\\u0631\\u062f \\u0628\\u0644\\u0646\\u062f\\u06cc \\u062f\\u0631 \\u062f\\u0639\\u0627 \\u062f\\u0627\\u0631\\u062f    \\u0628\\u062e\\u0627\\u0631 \\u0627\\u0632\\u06af\\u0644\\u200c\\u060c\\u200c\\u06af\\u0647\\u0631 \\u0627\\u0632 \\u0622\\u0628 \\u0633\\u0631 \\u0628\\u0631\\u0645\\u06cc\\u200c\\u06a9\\u0634\\u062f \\u0627\\u06cc\\u0646\\u062c\\u0627    \\u0646\\u06af\\u0648\\u0650\\u0650\\u06cc\\u06cc \\u0645\\u0631\\u062f\\u0647 \\u0631\\u0641\\u062a\\u0627\\u0631\\u06cc \\u0646\\u062f\\u0627\\u0631\\u062f \\u0632\\u0646\\u062f\\u0647 \\u067e\\u0627 \\u062f\\u0627\\u0631\\u062f    \\u063a\\u0645 \\u0648 \\u0634\\u0627\\u062f\\u06cc \\u0646\\u062f\\u0627\\u0631\\u062f \\u067e\\u0627 \\u0648 \\u0633\\u0631 \\u067e\\u0646 \\u0645\\u0627\\u062c\\u0631\\u0627 \\u0628\\u06af\\u0630\\u0631    \\u0686\\u0648 \\u0645\\u062d\\u0645\\u0644 \\u062a\\u0647\\u0645\\u062a \\u0628\\u06cc\\u062f\\u0627\\u0631\\u06cc \\u0645\\u0627 \\u062e\\u0648\\u0627\\u0628\\u0647\\u0627 \\u062f\\u0627\\u0631\\u062f    \\u0627\\u0632\\u06cc\\u0646 \\u200c\\u06a9\\u0644\\u0641\\u062a\\u200c \\u0633\\u0631\\u0627 \\u0628\\u0631\\u062e\\u06cc\\u0632 \\u0648 \\u067e\\u0627 \\u0628\\u0631 \\u0642\\u0635\\u0631 \\u06af\\u0631\\u062f\\u0648\\u0646 \\u0632\\u0646    \\u0642\\u06cc\\u0627\\u0645\\u062a \\u0641\\u062a\\u0646\\u0647\\u200c\\u0627\\u06cc \\u0627\\u0632 \\u062f\\u0627\\u0645\\u0646\\u062a \\u0633\\u0631 \\u062f\\u0631 \\u0647\\u0648\\u0627 \\u062f\\u0627\\u0631\\u062f    \\u0627\\u06af\\u0631 \\u0635\\u062f \\u0646\\u0627\\u0645 \\u0628\\u0646\\u062f\\u06cc \\u0628\\u0631 \\u0635\\u0641\\u06cc\\u0631 \\u062f\\u0639\\u0648\\u062a \\u0639\\u0646\\u0642\\u0627    \\u0647\\u0645\\u0627 \\u0627\\u0632 \\u0628\\u06cc\\u200c\\u0646\\u06cc\\u0627\\u0632\\u06cc \\u0633\\u0631 \\u0628\\u0647 \\u0627\\u0648\\u062c\\u200c\\u06a9\\u0628\\u0631\\u06cc\\u0627 \\u062f\\u0627\\u0631\\u062f    \\u0628\\u0642\\u0627\\u06cc \\u062c\\u0627\\u0647 \\u0645\\u0648\\u0642\\u0648\\u0641\\u200c\\u0633\\u062a \\u0628\\u0631 \\u0627\\u0646\\u0639\\u0627\\u0645 \\u0628\\u06cc\\u200c\\u0628\\u0631\\u06af\\u0627\\u0646    \\u063a\\u0646\\u0627 \\u0645\\u0647\\u0631 \\u0633\\u0631\\u06af\\u0646\\u062c\\u0634 \\u0647\\u0645\\u0627\\u0646 \\u062f\\u0633\\u062a\\u200c\\u06af\\u062f\\u0627 \\u062f\\u0627\\u0631\\u062f    \\u0633\\u0631 \\u0633\\u0648\\u062f\\u0627\\u06cc\\u06cc \\u0645\\u0646 \\u062e\\u0627\\u06a9 \\u0631\\u0627\\u0647 \\u06cc\\u0627\\u062f \\u062f\\u0644\\u062f\\u0627\\u0631\\u06cc    \\u06a9\\u0647 \\u0646\\u0627\\u0645\\u0634 \\u062a\\u0627 \\u0631\\u0633\\u062f \\u0628\\u0631 \\u0644\\u0628 \\u062f\\u0647\\u0646 \\u062d\\u0645\\u062f \\u062e\\u062f\\u0627 \\u062f\\u0627\\u0631\\u062f    \\u0632\\u0645\\u06cc\\u0646 \\u0627\\u0646\\u0642\\u0644\\u0627\\u0628 \\u0646\\u0638\\u0645 \\u063a\\u06cc\\u0631\\u062a \\u0646\\u06cc\\u0633\\u062a \\u0646\\u0627\\u0645\\u0648\\u0632\\u0648\\u0646    \\u0646\\u0634\\u0633\\u062a \\u200c\\u06af\\u0631\\u062f \\u0645\\u06cc\\u062f\\u0627\\u0646 \\u0628\\u0631 \\u0633\\u0631 \\u0645\\u0631\\u062f\\u0627\\u0646 \\u0627\\u062f\\u0627 \\u062f\\u0627\\u0631\\u062f    \\u0645\\u06af\\u0631\\u062f\\u0627\\u063a \\u062a\\u0648\\u062f\\u0648\\u0632\\u062f \\u0686\\u0634\\u0645 \\u0628\\u0631 \\u062f\\u0631\\u062f \\u0645\\u0646 \\u0628\\u06cc\\u062f\\u0644    \\u0648\\u06af\\u0631\\u0646\\u0647 \\u0627\\u06cc\\u0646 \\u06af\\u0644\\u0633\\u062a\\u0627\\u0646\\u200c\\u06a9\\u06cc \\u0633\\u0631 \\u0628\\u0648\\u06cc \\u0648\\u0641\\u0627 \\u062f\\u0627\\u0631\\u062f\"\n        ],\n        \"semantic_type\": \"\",\n        \"description\": \"\"\n      }\n    },\n    {\n      \"column\": \"text\",\n      \"properties\": {\n        \"dtype\": \"string\",\n        \"num_unique_values\": 54430,\n        \"samples\": [\n          \"\\u0645\\u0644\\u06a9\\u200c\\u0627\\u0644\\u0634\\u0639\\u0631\\u0627\\u06cc \\u0628\\u0647\\u0627\\u0631<|startoftext|>\\u0627\\u06cc \\u0634\\u0648\\u06a9\\u062a \\u0627\\u06cc \\u0634\\u06a9\\u0633\\u062a\\u0647 \\u062f\\u0644 \\u062f\\u0648\\u0633\\u062a\\u0627\\u0646 \\u062e\\u0648\\u06cc\\u0634<sep>\\u0628\\u0631 \\u062c\\u0627\\u0646 \\u0639\\u0627\\u0634\\u0642\\u0627\\u0646 \\u0645\\u0632\\u0646 \\u0627\\u0632 \\u0647\\u062c\\u0631 \\u062e\\u0648\\u06cc\\u0634 \\u0646\\u06cc\\u0634<sep>\\u06af\\u0631 \\u0628\\u0646\\u06af\\u0631\\u06cc \\u062f\\u0631 \\u0622\\u06cc\\u0646\\u0647\\u0654 \\u0642\\u0644\\u0628 \\u062e\\u0648\\u06cc\\u0634\\u062a\\u0646<sep>\\u0628\\u06cc\\u0646\\u06cc \\u0628\\u0647 \\u062e\\u0648\\u062f \\u0627\\u0631\\u0627\\u062f\\u062a \\u06cc\\u0627\\u0631\\u0627\\u0646 \\u0632\\u067e\\u06cc\\u0634 \\u0628\\u06cc\\u0634<sep>\\u0627\\u0648\\u0642\\u0627\\u062a \\u062f\\u0648\\u0633\\u062a\\u0627\\u0646 \\u0645\\u06a9\\u0646 \\u0627\\u0632 \\u0632\\u0647\\u0631 \\u0639\\u0634\\u0648\\u0647 \\u062a\\u0644\\u062e<sep>\\u0642\\u0644\\u0628 \\u0641\\u0633\\u0631\\u062f\\u06af\\u0627\\u0646 \\u0645\\u06a9\\u0646 \\u0627\\u0632 \\u0646\\u06cc\\u0634 \\u063a\\u0645\\u0632\\u0647 \\u0631\\u06cc\\u0634<sep>\\u0648\\u0635\\u0644 \\u062a\\u0648 \\u062f\\u0627\\u0634\\u062a \\u062d\\u0648\\u0632\\u0647\\u0654 \\u0627\\u0631\\u0628\\u0627\\u0628 \\u0630\\u0648\\u0642 \\u062c\\u0645\\u0639<sep>\\u0647\\u062c\\u0631 \\u062a\\u0648 \\u06a9\\u0631\\u062f \\u062e\\u0627\\u0637\\u0631 \\u0645\\u062c\\u0645\\u0648\\u0639\\u0634\\u0627\\u0646 \\u067e\\u0631\\u06cc\\u0634<sep>\\u06af\\u0648\\u06cc\\u0646\\u062f \\u0627\\u0632 \\u0622\\u0646 \\u0644\\u0628 \\u0634\\u06a9\\u0631\\u06cc\\u0646 \\u062a\\u0644\\u062e \\u06af\\u0641\\u062a\\u0647\\u200c\\u0627\\u06cc<sep>\\u062a\\u0644\\u062e\\u06cc \\u0628\\u0647 \\u0634\\u06a9\\u0631 \\u062a\\u0648 \\u0646\\u0686\\u0633\\u0628\\u062f \\u0628\\u0647 \\u0635\\u062f \\u0633\\u0631\\u06cc\\u0634<sep>\\u06af\\u06cc\\u0631\\u0645 \\u06a9\\u0647 \\u0645\\u0631\\u062f\\u06a9 \\u0647\\u0631\\u0648\\u06cc \\u062e\\u0648\\u0631\\u062f\\u0647 \\u0634\\u06a9\\u0631\\u06cc<sep>\\u0645\\u0627 \\u0648 \\u062a\\u0648 \\u0622\\u0646 \\u06af\\u0631\\u0641\\u062a \\u0646\\u0628\\u0627\\u06cc\\u0633\\u062a\\u0645\\u0627\\u0646 \\u0628\\u0647 \\u0631\\u06cc\\u0634\\u200c<sep>\\u0637\\u0628\\u0639 \\u062d\\u0633\\u0648\\u062f \\u067e\\u0646\\u062c\\u0647 \\u06af\\u0634\\u0627\\u06cc\\u062f \\u0628\\u0647 \\u0647\\u0631 \\u062f\\u0631\\u0648\\u063a<sep>\\u0645\\u0631\\u062f \\u063a\\u0631\\u06cc\\u0642 \\u062f\\u0633\\u062a \\u06af\\u0630\\u0627\\u0631\\u062f \\u0628\\u0647 \\u0647\\u0631 \\u062d\\u0634\\u06cc\\u0634<sep>\\u06cc\\u06a9 \\u0634\\u0628 \\u0639\\u06cc\\u0627\\u062f\\u062a \\u0645\\u0646 \\u0628\\u06cc\\u0645\\u0627\\u0631 \\u067e\\u06cc\\u0634 \\u06af\\u06cc\\u0631<sep>\\u0646\\u0628\\u0648\\u062f \\u06af\\u0646\\u0647 \\u0639\\u06cc\\u0627\\u062f\\u062a \\u06cc\\u0627\\u0631\\u0627\\u0646 \\u0628\\u0647 \\u0647\\u06cc\\u0686 \\u06a9\\u06cc\\u0634<sep>\\u0627\\u06cc\\u0646\\u062c\\u0627 \\u062f\\u0644\\u06cc\\u0633\\u062a \\u062e\\u0633\\u062a\\u0647 \\u0648 \\u0645\\u0634\\u062a\\u06cc \\u06af\\u0644 \\u0648 \\u06a9\\u062a\\u0627\\u0628<sep>\\u0648\\u0627\\u0646\\u062f\\u0631 \\u0646\\u0647\\u0627\\u062f\\u0647 \\u0645\\u062c\\u0645\\u0631\\u0647\\u0654 \\u0632\\u0631\\u062f \\u0647\\u0634\\u062a \\u067e\\u06cc\\u0634<sep>\\u0648\\u0627\\u0646 \\u0634\\u0627\\u0647\\u062f \\u0635\\u063a\\u06cc\\u0631 \\u0628\\u0647 \\u0622\\u0647\\u0646\\u06af \\u0628\\u0645 \\u0648 \\u0632\\u0628\\u0631<sep>\\u0628\\u0627 \\u0630\\u06a9\\u0631 \\u06cc\\u0627 \\u0645\\u062c\\u06cc\\u0631 \\u0628\\u0648\\u062f \\u06af\\u0631\\u0645 \\u06a9\\u0627\\u0631 \\u062e\\u0648\\u06cc\\u0634<sep>\\u0633\\u0648\\u06cc \\u062f\\u06af\\u0631 \\u0646\\u062f\\u06cc\\u0645 \\u0633\\u0628\\u06a9\\u0631\\u0648\\u062d \\u062a\\u0644\\u062e\\u200c\\u0648\\u0634<sep>\\u0628\\u06cc\\u06af\\u0627\\u0646\\u0647 \\u0628\\u0627 \\u0645\\u062f\\u0651\\u0644\\u0633 \\u0648 \\u0628\\u0627 \\u0627\\u0647\\u0644 \\u0630\\u0648\\u0642 \\u062e\\u0648\\u06cc\\u0634<sep>\\u0686\\u0646\\u06af \\u0648 \\u062f\\u0641 \\u0648 \\u062a\\u0631\\u0627\\u0646\\u0647 \\u06af\\u0631\\u062a \\u0646\\u06cc\\u0632 \\u0622\\u0631\\u0632\\u0648\\u0633\\u062a<sep>\\u0647\\u0645\\u0631\\u0627\\u0647 \\u062e\\u0648\\u062f \\u0628\\u06cc\\u0627\\u0631 \\u0648\\u0644\\u06cc \\u0628\\u06cc \\u0633\\u0628\\u06cc\\u0644 \\u0648 \\u0631\\u06cc\\u0634!\",\n          \"\\u0627\\u0642\\u0628\\u0627\\u0644 \\u0644\\u0627\\u0647\\u0648\\u0631\\u06cc<|startoftext|>\\u0627\\u0632 \\u0646\\u0648\\u0627 \\u0628\\u0631 \\u0645\\u0646 \\u0642\\u06cc\\u0627\\u0645\\u062a \\u0631\\u0641\\u062a \\u0648 \\u06a9\\u0633 \\u0622\\u06af\\u0627\\u0647 \\u0646\\u06cc\\u0633\\u062a<sep>\\u067e\\u06cc\\u0634 \\u0645\\u062d\\u0641\\u0644 \\u062c\\u0632 \\u0628\\u0645 \\u0648 \\u0632\\u06cc\\u0631 \\u0648 \\u0645\\u0642\\u0627\\u0645 \\u0648 \\u0631\\u0627\\u0647 \\u0646\\u06cc\\u0633\\u062a<sep>\\u062f\\u0631 \\u0646\\u0647\\u0627\\u062f\\u0645 \\u0639\\u0634\\u0642 \\u0628\\u0627 \\u0641\\u06a9\\u0631 \\u0628\\u0644\\u0646\\u062f \\u0622\\u0645\\u06cc\\u062e\\u062a\\u0646\\u062f<sep>\\u0646\\u0627\\u062a\\u0645\\u0627\\u0645 \\u062c\\u0627\\u0648\\u062f\\u0627\\u0646\\u0645 \\u06a9\\u0627\\u0631 \\u0645\\u0646 \\u0686\\u0648\\u0646 \\u0645\\u0627\\u0647 \\u0646\\u06cc\\u0633\\u062a<sep>\\u0644\\u0628 \\u0641\\u0631\\u0648\\u0628\\u0646\\u062f \\u0627\\u0632 \\u0641\\u063a\\u0627\\u0646 \\u062f\\u0631 \\u0633\\u0627\\u0632 \\u0628\\u0627 \\u062f\\u0631\\u062f \\u0641\\u0631\\u0627\\u0642<sep>\\u0639\\u0634\\u0642 \\u062a\\u0627 \\u0622\\u0647\\u06cc \\u06a9\\u0634\\u062f \\u0627\\u0632 \\u062c\\u0630\\u0628 \\u062e\\u0648\\u06cc\\u0634 \\u0622\\u06af\\u0627\\u0647 \\u0646\\u06cc\\u0633\\u062a<sep>\\u0634\\u0639\\u0644\\u0647 \\u0626\\u06cc \\u0645\\u06cc\\u0628\\u0627\\u0634 \\u0648 \\u062e\\u0627\\u0634\\u0627\\u06a9\\u06cc \\u06a9\\u0647 \\u067e\\u06cc\\u0634 \\u0622\\u06cc\\u062f \\u0628\\u0633\\u0648\\u0632<sep>\\u062e\\u0627\\u06a9\\u06cc\\u0627\\u0646 \\u0631\\u0627 \\u062f\\u0631 \\u062d\\u0631\\u06cc\\u0645 \\u0632\\u0646\\u062f\\u06af\\u0627\\u0646\\u06cc \\u0631\\u0627\\u0647 \\u0646\\u06cc\\u0633\\u062a<sep>\\u062c\\u0631\\u0647 \\u0634\\u0627\\u0647\\u06cc\\u0646\\u06cc \\u0628\\u0645\\u0631\\u063a\\u0627\\u0646 \\u0633\\u0631\\u0627 \\u0635\\u062d\\u0628\\u062a \\u0645\\u06af\\u06cc\\u0631<sep>\\u062e\\u06cc\\u0632 \\u0648 \\u0628\\u0627\\u0644 \\u0648 \\u067e\\u0631 \\u06af\\u0634\\u0627 \\u067e\\u0631\\u0648\\u0627\\u0632 \\u062a\\u0648 \\u06a9\\u0648\\u062a\\u0627\\u0647 \\u0646\\u06cc\\u0633\\u062a<sep>\\u06a9\\u0631\\u0645 \\u0634\\u0628 \\u062a\\u0627\\u0628 \\u0627\\u0633\\u062a \\u0634\\u0627\\u0639\\u0631 \\u062f\\u0631 \\u0634\\u0628\\u0633\\u062a\\u0627\\u0646 \\u0648\\u062c\\u0648\\u062f<sep>\\u062f\\u0631 \\u067e\\u0631 \\u0648 \\u0628\\u0627\\u0644\\u0634 \\u0641\\u0631\\u0648\\u063a\\u06cc \\u06af\\u0627\\u0647 \\u0647\\u0633\\u062a \\u0648 \\u06af\\u0627\\u0647 \\u0646\\u06cc\\u0633\\u062a<sep>\\u062f\\u0631 \\u063a\\u0632\\u0644 \\u0627\\u0642\\u0628\\u0627\\u0644 \\u0627\\u062d\\u0648\\u0627\\u0644 \\u062e\\u0648\\u062f\\u06cc \\u0631\\u0627 \\u0641\\u0627\\u0634 \\u06af\\u0641\\u062a<sep>\\u0632\\u0627\\u0646\\u06a9\\u0647 \\u0627\\u06cc\\u0646 \\u0646\\u0648 \\u06a9\\u0627\\u0641\\u0631 \\u0627\\u0632 \\u0622\\u0626\\u06cc\\u0646 \\u062f\\u06cc\\u0631 \\u0622\\u06af\\u0627\\u0647 \\u0646\\u06cc\\u0633\\u062a\",\n          \"\\u0628\\u06cc\\u062f\\u0644 \\u062f\\u0647\\u0644\\u0648\\u06cc<|startoftext|>\\u0646\\u0647 \\u0641\\u062e\\u0631 \\u0645\\u06cc\\u200c\\u062f\\u0645\\u062f \\u0627\\u06cc\\u0646\\u062c\\u0627 \\u0646\\u0647 \\u0646\\u0646\\u06af \\u0645\\u06cc\\u200c\\u0628\\u0627\\u0631\\u062f<sep>\\u0628\\u0631 \\u0627\\u06cc\\u0646 \\u0646\\u0634\\u0627\\u0646\\u200c\\u06a9\\u0647 \\u062a\\u0648 \\u062f\\u0627\\u0631\\u06cc \\u062e\\u062f\\u0646\\u06af \\u0645\\u06cc\\u200c\\u0628\\u0627\\u0631\\u062f<sep>\\u0641\\u0631\\u06cc\\u0628 \\u0627\\u0628\\u0631 \\u06a9\\u0631\\u0645 \\u062e\\u0648\\u0631\\u062f\\u0647\\u200c\\u0627\\u06cc \\u0627\\u0632 \\u0627\\u06cc\\u0646 \\u063a\\u0627\\u0641\\u0644<sep>\\u06a9\\u0647 \\u0642\\u0637\\u0631\\u0647 \\u0642\\u0637\\u0631\\u0647 \\u0647\\u0645\\u0627\\u0646 \\u0686\\u0634\\u0645 \\u062a\\u0646\\u06af \\u0645\\u06cc\\u200c\\u0628\\u0627\\u0631\\u062f<sep>\\u062f\\u06af\\u0631 \\u0686\\u0647 \\u0686\\u0627\\u0631\\u0647 \\u0628\\u0647 \\u062c\\u0632 \\u062e\\u0627\\u0645\\u0634\\u06cc \\u06a9\\u0647 \\u0647\\u0645\\u0686\\u0648 \\u062d\\u0628\\u0627\\u0628<sep>\\u0628\\u0631 \\u0622\\u0628\\u06af\\u06cc\\u0646\\u0647\\u0654 \\u0645\\u0627 \\u0622\\u0647 \\u0633\\u0646\\u06af \\u0645\\u06cc\\u200c\\u0628\\u0627\\u0631\\u062f<sep>\\u0648\\u062f\\u0627\\u0639 \\u0641\\u0631\\u0635\\u062a \\u0628\\u0631\\u0642 \\u0648 \\u0634\\u0631\\u0627\\u0631 \\u062e\\u0631\\u0645\\u0646 \\u06a9\\u0646<sep>\\u0628\\u0647 \\u0645\\u0632\\u0631\\u0639\\u06cc \\u06a9\\u0647 \\u0634\\u062a\\u0627\\u0628 \\u0627\\u0632 \\u062f\\u0631\\u0646\\u06af \\u0645\\u06cc\\u200c\\u0628\\u0627\\u0631\\u062f<sep>\\u0628\\u0647\\u0627\\u0631 \\u0627\\u06cc\\u0646 \\u0686\\u0645\\u0646 \\u0627\\u0632 \\u0628\\u0633\\u06a9\\u0647 \\u0648\\u062d\\u0634\\u062a\\u200c\\u0627\\u0646\\u062f\\u0648\\u062f\\u0633\\u062a<sep>\\u0632 \\u062f\\u0627\\u063a \\u0644\\u0627\\u0644\\u0647 \\u062c\\u0646\\u0648\\u0646 \\u067e\\u0644\\u0646\\u06af \\u0645\\u06cc\\u200c\\u0628\\u0627\\u0631\\u062f<sep>\\u0628\\u0647 \\u067e\\u0631\\u0633\\u0634 \\u062f\\u0644 \\u0686\\u0627\\u06a9 \\u06a9\\u0647 \\u0633\\u0648\\u062f\\u0647\\u200c\\u0627\\u06cc \\u0646\\u0627\\u062e\\u0646<sep>\\u06a9\\u0647 \\u0631\\u0646\\u06af \\u062e\\u0648\\u0646 \\u0628\\u0647\\u0627\\u0631\\u062a \\u0632 \\u0686\\u0646\\u06af \\u0645\\u06cc\\u200c\\u0628\\u0627\\u0631\\u062f\\u061f<sep>\\u0628\\u0647 \\u062d\\u06cc\\u0631\\u062a\\u0645 \\u06a9\\u0647 \\u0646\\u06af\\u0627\\u0647 \\u0627\\u0632 \\u0686\\u0647 \\u062d\\u06cc\\u0631\\u062a \\u0622\\u0628 \\u062f\\u0647\\u0645<sep>\\u0632 \\u062e\\u0627\\u0631 \\u0648\\u06af\\u0644 \\u0647\\u0645\\u0647 \\u062d\\u0633\\u0646 \\u0641\\u0631\\u0646\\u06af \\u0645\\u06cc\\u200c\\u0628\\u0627\\u0631\\u062f<sep>\\u062f\\u0644 \\u0634\\u06a9\\u0633\\u062a\\u0647 \\u062e\\u0645\\u0633\\u062a\\u0627\\u0646 \\u06cc\\u0627\\u062f \\u0646\\u0631\\u06af\\u0633 \\u06a9\\u06cc\\u0633\\u062a<sep>\\u06a9\\u0647 \\u0627\\u0634\\u06a9\\u0645 \\u0627\\u0632 \\u0645\\u0698\\u0647 \\u0633\\u0627\\u063a\\u0631 \\u0628\\u0647 \\u0686\\u0646\\u06af \\u0645\\u06cc \\u0628\\u0627\\u0631\\u062f<sep>\\u0645\\u062e\\u0648\\u0631 \\u0641\\u0631\\u06cc\\u0628 \\u0645\\u0631\\u0648\\u062a \\u0632 \\u0686\\u0631\\u062e \\u0645\\u06cc\\u0646\\u0627\\u0631\\u0646\\u06af<sep>\\u06a9\\u0647 \\u062c\\u0627\\u06cc \\u0628\\u0627\\u062f\\u0647 \\u0627\\u0632 \\u0627\\u06cc\\u0646 \\u0634\\u06cc\\u0634\\u0647 \\u0633\\u0646\\u06af \\u0645\\u06cc\\u200c\\u0628\\u0627\\u0631\\u062f<sep>\\u0632 \\u0622\\u0628\\u06cc\\u0627\\u0631\\u06cc \\u06a9\\u0634\\u062a \\u062d\\u0633\\u062f \\u062a\\u0628\\u0631\\u0627 \\u06a9\\u0646<sep>\\u06a9\\u0647 \\u062e\\u0648\\u0646 \\u0639\\u0627\\u0641\\u06cc\\u062a \\u0627\\u0632 \\u0633\\u0627\\u0632 \\u062c\\u0646\\u06af \\u0645\\u06cc\\u200c\\u0628\\u0627\\u0631\\u062f<sep>\\u062e\\u0637\\u0627\\u0633\\u062a \\u062a\\u0647\\u0645\\u062a \\u062c\\u0631\\u0627\\u062a \\u0628\\u0647 \\u0639\\u062c\\u0632 \\u0645\\u0627 \\u0628\\u0633\\u062a\\u0646<sep>\\u0647\\u0632\\u0627\\u0631 \\u0622\\u0628\\u0644\\u0647 \\u0628\\u0631 \\u067e\\u0627\\u06cc \\u0644\\u0646\\u06af \\u0645\\u06cc\\u200c\\u0628\\u0627\\u0631\\u062f<sep>\\u0645\\u062e\\u0648\\u0627\\u0647 \\u063a\\u06cc\\u0631 \\u062a\\u0648\\u0647\\u0645 \\u0632 \\u0627\\u063a\\u0646\\u06cc\\u0627 \\u0628\\u06cc\\u062f\\u0644<sep>\\u06a9\\u0647 \\u0627\\u0628\\u0631 \\u0645\\u0632\\u0631\\u0639 \\u0627\\u06cc\\u0646 \\u0642\\u0648\\u0645 \\u0628\\u0646\\u06af \\u0645\\u06cc\\u200c\\u0628\\u0627\\u0631\\u062f\"\n        ],\n        \"semantic_type\": \"\",\n        \"description\": \"\"\n      }\n    }\n  ]\n}"
            }
          },
          "metadata": {},
          "execution_count": 9
        }
      ],
      "source": [
        "# Depends on you\n",
        "#df[\"poem\"] = df[\"poem\"].apply(lambda t: normalize_input(t))\n",
        "\n",
        "df[\"text\"] = df[\"poet\"] + \"<|startoftext|>\" + df[\"poem\"].apply(lambda t: t.replace(\"    \", \"<sep>\").replace(\"\\t\", \"<sep>\"))\n",
        "df = df.dropna()\n",
        "df = df.reset_index(drop=True)\n",
        "df.head()"
      ]
    },
    {
      "cell_type": "code",
      "execution_count": 10,
      "metadata": {
        "id": "sQVeZMuMGmkL"
      },
      "outputs": [],
      "source": [
        "poets = list(df[\"poet\"].unique())"
      ]
    },
    {
      "cell_type": "code",
      "execution_count": 13,
      "metadata": {
        "id": "PbOSID0q8IU9",
        "outputId": "156939c5-7e78-4566-d308-9713aa42394c",
        "colab": {
          "base_uri": "https://localhost:8080/"
        }
      },
      "outputs": [
        {
          "output_type": "stream",
          "name": "stdout",
          "text": [
            "5540\n",
            "سنایی\n",
            "ای ز آب زندگانی آتشی افروخته    واندر او ایمان و کفر عاشقان را سوخته    ای تف عشقت به یک ساعت به چاه انداخته    هر چه در صد سال عقل ما ز جان اندوخته    ای کمالت کمزنان را صبرها پرداخته    وی جمالت مفلسان را کیسه‌ها بردوخته    گه به قهر از جزع مشکین تیغها افراخته    گه به لطف از لعل نوشین شمعها افروخته    هر چه در سی سال کرده خاتم مشکینت وام    آن نگین لعل نوشین در زمانی توخته    ما به جان بخریده عشق لایزالی را تو باز    لاابالی گفته و بر ما جهان بفروخته    ای ز آب روی خویش اندر دبیرستان عشق    تختهٔ عمر سنایی شسته از آموخته\n",
            "سنایی<|startoftext|>ای ز آب زندگانی آتشی افروخته<sep>واندر او ایمان و کفر عاشقان را سوخته<sep>ای تف عشقت به یک ساعت به چاه انداخته<sep>هر چه در صد سال عقل ما ز جان اندوخته<sep>ای کمالت کمزنان را صبرها پرداخته<sep>وی جمالت مفلسان را کیسه‌ها بردوخته<sep>گه به قهر از جزع مشکین تیغها افراخته<sep>گه به لطف از لعل نوشین شمعها افروخته<sep>هر چه در سی سال کرده خاتم مشکینت وام<sep>آن نگین لعل نوشین در زمانی توخته<sep>ما به جان بخریده عشق لایزالی را تو باز<sep>لاابالی گفته و بر ما جهان بفروخته<sep>ای ز آب روی خویش اندر دبیرستان عشق<sep>تختهٔ عمر سنایی شسته از آموخته\n"
          ]
        }
      ],
      "source": [
        "idx = np.random.randint(0, len(df))\n",
        "print(idx)\n",
        "print(df.iloc[idx][\"poet\"])\n",
        "print(df.iloc[idx][\"poem\"])\n",
        "print(df.iloc[idx][\"text\"])"
      ]
    },
    {
      "cell_type": "code",
      "execution_count": 14,
      "metadata": {
        "id": "ho5oIfRjEHhh"
      },
      "outputs": [],
      "source": [
        "import numpy as np\n",
        "\n",
        "from pathlib import Path\n",
        "\n",
        "import torch\n",
        "from transformers import AutoTokenizer, AutoConfig, AutoModelForCausalLM\n",
        "\n",
        "from IPython import display"
      ]
    },
    {
      "cell_type": "code",
      "execution_count": 15,
      "metadata": {
        "colab": {
          "base_uri": "https://localhost:8080/"
        },
        "id": "RdnnYyAeEt5H",
        "outputId": "1bb75225-c8a2-4ded-c270-4f8dcee878d6"
      },
      "outputs": [
        {
          "output_type": "stream",
          "name": "stderr",
          "text": [
            "/usr/local/lib/python3.11/dist-packages/huggingface_hub/utils/_auth.py:94: UserWarning: \n",
            "The secret `HF_TOKEN` does not exist in your Colab secrets.\n",
            "To authenticate with the Hugging Face Hub, create a token in your settings tab (https://huggingface.co/settings/tokens), set it as secret in your Google Colab and restart your session.\n",
            "You will be able to reuse this secret in all of your notebooks.\n",
            "Please note that authentication is recommended but still optional to access public models or datasets.\n",
            "  warnings.warn(\n"
          ]
        }
      ],
      "source": [
        "model_name_or_path = \"HooshvareLab/gpt2-fa\"\n",
        "\n",
        "tokenizer = AutoTokenizer.from_pretrained(\n",
        "    model_name_or_path,\n",
        "    bos_token='<s>',\n",
        "    eos_token='</s>',\n",
        "    pad_token='<pad>',\n",
        "    unk_token='<unk>'\n",
        ")\n",
        "tokenizer.add_special_tokens({\n",
        "    \"bos_token\": '</s>',\n",
        "    \"eos_token\": '</s>',\n",
        "    \"pad_token\": '<pad>',\n",
        "    \"unk_token\": '<unk>'\n",
        "})\n",
        "\n",
        "config = AutoConfig.from_pretrained(\n",
        "    model_name_or_path,\n",
        "    bos_token_id=tokenizer(\"<s>\")[\"input_ids\"][0],\n",
        "    eos_token_id=tokenizer(\"</s>\")[\"input_ids\"][0],\n",
        "    pad_token_id=tokenizer(\"<pad>\")[\"input_ids\"][0],\n",
        "    unk_token_id=tokenizer(\"<unk>\")[\"input_ids\"][0],\n",
        ")\n",
        "\n",
        "tokenizer.save_pretrained(\"/content/gpt2/\")\n",
        "config.save_pretrained(\"/content/gpt2/\")\n"
      ]
    },
    {
      "cell_type": "code",
      "execution_count": 16,
      "metadata": {
        "colab": {
          "base_uri": "https://localhost:8080/"
        },
        "id": "iBjblscYmr8X",
        "outputId": "704f4f38-a6a3-4a22-a549-da448d60109f"
      },
      "outputs": [
        {
          "output_type": "stream",
          "name": "stdout",
          "text": [
            "--2025-05-18 08:30:18--  https://huggingface.co/HooshvareLab/gpt2-fa/resolve/main/pytorch_model.bin\n",
            "Resolving huggingface.co (huggingface.co)... 3.165.160.11, 3.165.160.12, 3.165.160.59, ...\n",
            "Connecting to huggingface.co (huggingface.co)|3.165.160.11|:443... connected.\n",
            "HTTP request sent, awaiting response... 302 Found\n",
            "Location: https://cdn-lfs.hf.co/HooshvareLab/gpt2-fa/46b0b806c740a0f0a9f056f5574c5fa896166fe844945fd3c849bf34365e5060?response-content-disposition=inline%3B+filename*%3DUTF-8%27%27pytorch_model.bin%3B+filename%3D%22pytorch_model.bin%22%3B&response-content-type=application%2Foctet-stream&Expires=1747560618&Policy=eyJTdGF0ZW1lbnQiOlt7IkNvbmRpdGlvbiI6eyJEYXRlTGVzc1RoYW4iOnsiQVdTOkVwb2NoVGltZSI6MTc0NzU2MDYxOH19LCJSZXNvdXJjZSI6Imh0dHBzOi8vY2RuLWxmcy5oZi5jby9Ib29zaHZhcmVMYWIvZ3B0Mi1mYS80NmIwYjgwNmM3NDBhMGYwYTlmMDU2ZjU1NzRjNWZhODk2MTY2ZmU4NDQ5NDVmZDNjODQ5YmYzNDM2NWU1MDYwP3Jlc3BvbnNlLWNvbnRlbnQtZGlzcG9zaXRpb249KiZyZXNwb25zZS1jb250ZW50LXR5cGU9KiJ9XX0_&Signature=KGb9OmaBA6igNKLsYccLIsfHBlI14Qxmxs-Zp1ZQfKJ2LU-U2DO1-d6jkANBMuHDOuWU96z2%7EOse7ltIwy7zZz6INTRt67EdlqXYu7hN6A9oXo7uluINAcLZZvaSZyBRWOeDFM%7Eb1pXFAXxrcOzW3FMZAEdkAAAZzHFb68omngrStJ5ax2qwce4G4snd%7EFyH5uEWfw2lVvA7nsHCRhErLbJz6WqsidZvsnU5m4QAK-JEqG1t0aXypDQZtMTnEt4e7RK-CDwonoeOtS%7EgpcsumEU6%7Ek153eNxI5I0a0g752O2YeGGLvgfUDB7SwhUaHBsv4FoM7f2IKrA2ji6Y2EAVg__&Key-Pair-Id=K3RPWS32NSSJCE [following]\n",
            "--2025-05-18 08:30:18--  https://cdn-lfs.hf.co/HooshvareLab/gpt2-fa/46b0b806c740a0f0a9f056f5574c5fa896166fe844945fd3c849bf34365e5060?response-content-disposition=inline%3B+filename*%3DUTF-8%27%27pytorch_model.bin%3B+filename%3D%22pytorch_model.bin%22%3B&response-content-type=application%2Foctet-stream&Expires=1747560618&Policy=eyJTdGF0ZW1lbnQiOlt7IkNvbmRpdGlvbiI6eyJEYXRlTGVzc1RoYW4iOnsiQVdTOkVwb2NoVGltZSI6MTc0NzU2MDYxOH19LCJSZXNvdXJjZSI6Imh0dHBzOi8vY2RuLWxmcy5oZi5jby9Ib29zaHZhcmVMYWIvZ3B0Mi1mYS80NmIwYjgwNmM3NDBhMGYwYTlmMDU2ZjU1NzRjNWZhODk2MTY2ZmU4NDQ5NDVmZDNjODQ5YmYzNDM2NWU1MDYwP3Jlc3BvbnNlLWNvbnRlbnQtZGlzcG9zaXRpb249KiZyZXNwb25zZS1jb250ZW50LXR5cGU9KiJ9XX0_&Signature=KGb9OmaBA6igNKLsYccLIsfHBlI14Qxmxs-Zp1ZQfKJ2LU-U2DO1-d6jkANBMuHDOuWU96z2%7EOse7ltIwy7zZz6INTRt67EdlqXYu7hN6A9oXo7uluINAcLZZvaSZyBRWOeDFM%7Eb1pXFAXxrcOzW3FMZAEdkAAAZzHFb68omngrStJ5ax2qwce4G4snd%7EFyH5uEWfw2lVvA7nsHCRhErLbJz6WqsidZvsnU5m4QAK-JEqG1t0aXypDQZtMTnEt4e7RK-CDwonoeOtS%7EgpcsumEU6%7Ek153eNxI5I0a0g752O2YeGGLvgfUDB7SwhUaHBsv4FoM7f2IKrA2ji6Y2EAVg__&Key-Pair-Id=K3RPWS32NSSJCE\n",
            "Resolving cdn-lfs.hf.co (cdn-lfs.hf.co)... 18.172.170.108, 18.172.170.29, 18.172.170.5, ...\n",
            "Connecting to cdn-lfs.hf.co (cdn-lfs.hf.co)|18.172.170.108|:443... connected.\n",
            "HTTP request sent, awaiting response... 200 OK\n",
            "Length: 485044198 (463M) [application/octet-stream]\n",
            "Saving to: ‘/content/gpt2/pytorch_model.bin’\n",
            "\n",
            "pytorch_model.bin   100%[===================>] 462.57M   306MB/s    in 1.5s    \n",
            "\n",
            "2025-05-18 08:30:20 (306 MB/s) - ‘/content/gpt2/pytorch_model.bin’ saved [485044198/485044198]\n",
            "\n",
            "--2025-05-18 08:30:20--  https://huggingface.co/HooshvareLab/gpt2-fa/resolve/main/tokenizer.json\n",
            "Resolving huggingface.co (huggingface.co)... 3.165.160.11, 3.165.160.12, 3.165.160.59, ...\n",
            "Connecting to huggingface.co (huggingface.co)|3.165.160.11|:443... connected.\n",
            "HTTP request sent, awaiting response... 200 OK\n",
            "Length: 2748949 (2.6M) [text/plain]\n",
            "Saving to: ‘/content/gpt2/tokenizer.json.1’\n",
            "\n",
            "tokenizer.json.1    100%[===================>]   2.62M  9.98MB/s    in 0.3s    \n",
            "\n",
            "2025-05-18 08:30:20 (9.98 MB/s) - ‘/content/gpt2/tokenizer.json.1’ saved [2748949/2748949]\n",
            "\n"
          ]
        }
      ],
      "source": [
        "!wget \"https://huggingface.co/HooshvareLab/gpt2-fa/resolve/main/pytorch_model.bin\" -P /content/gpt2/\n",
        "!wget \"https://huggingface.co/HooshvareLab/gpt2-fa/resolve/main/tokenizer.json\" -P /content/gpt2/"
      ]
    },
    {
      "cell_type": "code",
      "execution_count": 17,
      "metadata": {
        "colab": {
          "base_uri": "https://localhost:8080/"
        },
        "id": "_rOYPUa9GWuI",
        "outputId": "8426e092-b1fa-40d2-96c7-63b002480554"
      },
      "outputs": [
        {
          "output_type": "stream",
          "name": "stdout",
          "text": [
            "[8906, 327, 512]\n",
            "[0]\n",
            "[2]\n",
            "[1]\n",
            "[6]\n",
            "[9]\n"
          ]
        }
      ],
      "source": [
        "tokenizer = AutoTokenizer.from_pretrained(\n",
        "    \"/content/gpt2\",\n",
        "    bos_token='<s>',\n",
        "    eos_token='</s>',\n",
        "    pad_token='<pad>'\n",
        ")\n",
        "\n",
        "print(tokenizer.encode(\"سلام بر شما\"))\n",
        "print(tokenizer.encode(\"<s>\"))\n",
        "print(tokenizer.encode(\"</s>\"))\n",
        "print(tokenizer.encode(\"<pad>\"))\n",
        "print(tokenizer.encode(\"<|startoftext|>\"))\n",
        "print(tokenizer.encode(\"<sep>\"))"
      ]
    },
    {
      "cell_type": "code",
      "execution_count": 21,
      "metadata": {
        "colab": {
          "base_uri": "https://localhost:8080/"
        },
        "id": "2Pv98AHjH4jF",
        "outputId": "e31f3707-7e45-42fe-dca7-57fe7ad06ddb"
      },
      "outputs": [
        {
          "output_type": "stream",
          "name": "stdout",
          "text": [
            "54524\n"
          ]
        }
      ],
      "source": [
        "texts = df[\"text\"].values.tolist()\n",
        "\n",
        "print(len(texts))"
      ]
    },
    {
      "cell_type": "code",
      "execution_count": 22,
      "metadata": {
        "colab": {
          "base_uri": "https://localhost:8080/",
          "height": 423
        },
        "id": "R8F8i_KK2SuJ",
        "outputId": "00838aef-9351-4e76-a963-511fd93145c5"
      },
      "outputs": [
        {
          "output_type": "execute_result",
          "data": {
            "text/plain": [
              "       poet  century                                               poem  \\\n",
              "24358  حافظ        8  جز نقش تو در نظر نیامد ما را    جز کوی تو رهگذ...   \n",
              "24359  حافظ        8  بر گیر شراب طرب‌انگیز و بیا    پنهان ز رقیب سف...   \n",
              "24360  حافظ        8  گفتم که لبت، گفت لبم آب حیات    گفتم دهنت، گفت...   \n",
              "24361  حافظ        8  ماهی که قدش به سرو می‌ماند راست    آیینه به دس...   \n",
              "24362  حافظ        8  من باکمر تو در میان کردم دست    پنداشتمش که در...   \n",
              "...     ...      ...                                                ...   \n",
              "27427  حافظ        8  به جد و جهد چو کاری نمی رود از پیش    به کردگا...   \n",
              "27428  حافظ        8  رهروان را عشق بس باشد دلیل    آب چشم اندر رهش ...   \n",
              "27429  حافظ        8  روز عید است و من امروز در آن تدبیرم    که دهم ...   \n",
              "27430  حافظ        8  ای در چمن خوبی رویت چو گل خودرو    چین شکن زلف...   \n",
              "27431  حافظ        8  ای از فروغ رویت روشن چراغ دیده    خوشتر ز چشم ...   \n",
              "\n",
              "                                                    text  \n",
              "24358  حافظ<|startoftext|>جز نقش تو در نظر نیامد ما ر...  \n",
              "24359  حافظ<|startoftext|>بر گیر شراب طرب‌انگیز و بیا...  \n",
              "24360  حافظ<|startoftext|>گفتم که لبت، گفت لبم آب حیا...  \n",
              "24361  حافظ<|startoftext|>ماهی که قدش به سرو می‌ماند ...  \n",
              "24362  حافظ<|startoftext|>من باکمر تو در میان کردم دس...  \n",
              "...                                                  ...  \n",
              "27427  حافظ<|startoftext|>به جد و جهد چو کاری نمی رود...  \n",
              "27428  حافظ<|startoftext|>رهروان را عشق بس باشد دلیل<...  \n",
              "27429  حافظ<|startoftext|>روز عید است و من امروز در آ...  \n",
              "27430  حافظ<|startoftext|>ای در چمن خوبی رویت چو گل خ...  \n",
              "27431  حافظ<|startoftext|>ای از فروغ رویت روشن چراغ د...  \n",
              "\n",
              "[595 rows x 4 columns]"
            ],
            "text/html": [
              "\n",
              "  <div id=\"df-edd472e1-c777-4595-bc9c-11cd1a525492\" class=\"colab-df-container\">\n",
              "    <div>\n",
              "<style scoped>\n",
              "    .dataframe tbody tr th:only-of-type {\n",
              "        vertical-align: middle;\n",
              "    }\n",
              "\n",
              "    .dataframe tbody tr th {\n",
              "        vertical-align: top;\n",
              "    }\n",
              "\n",
              "    .dataframe thead th {\n",
              "        text-align: right;\n",
              "    }\n",
              "</style>\n",
              "<table border=\"1\" class=\"dataframe\">\n",
              "  <thead>\n",
              "    <tr style=\"text-align: right;\">\n",
              "      <th></th>\n",
              "      <th>poet</th>\n",
              "      <th>century</th>\n",
              "      <th>poem</th>\n",
              "      <th>text</th>\n",
              "    </tr>\n",
              "  </thead>\n",
              "  <tbody>\n",
              "    <tr>\n",
              "      <th>24358</th>\n",
              "      <td>حافظ</td>\n",
              "      <td>8</td>\n",
              "      <td>جز نقش تو در نظر نیامد ما را    جز کوی تو رهگذ...</td>\n",
              "      <td>حافظ&lt;|startoftext|&gt;جز نقش تو در نظر نیامد ما ر...</td>\n",
              "    </tr>\n",
              "    <tr>\n",
              "      <th>24359</th>\n",
              "      <td>حافظ</td>\n",
              "      <td>8</td>\n",
              "      <td>بر گیر شراب طرب‌انگیز و بیا    پنهان ز رقیب سف...</td>\n",
              "      <td>حافظ&lt;|startoftext|&gt;بر گیر شراب طرب‌انگیز و بیا...</td>\n",
              "    </tr>\n",
              "    <tr>\n",
              "      <th>24360</th>\n",
              "      <td>حافظ</td>\n",
              "      <td>8</td>\n",
              "      <td>گفتم که لبت، گفت لبم آب حیات    گفتم دهنت، گفت...</td>\n",
              "      <td>حافظ&lt;|startoftext|&gt;گفتم که لبت، گفت لبم آب حیا...</td>\n",
              "    </tr>\n",
              "    <tr>\n",
              "      <th>24361</th>\n",
              "      <td>حافظ</td>\n",
              "      <td>8</td>\n",
              "      <td>ماهی که قدش به سرو می‌ماند راست    آیینه به دس...</td>\n",
              "      <td>حافظ&lt;|startoftext|&gt;ماهی که قدش به سرو می‌ماند ...</td>\n",
              "    </tr>\n",
              "    <tr>\n",
              "      <th>24362</th>\n",
              "      <td>حافظ</td>\n",
              "      <td>8</td>\n",
              "      <td>من باکمر تو در میان کردم دست    پنداشتمش که در...</td>\n",
              "      <td>حافظ&lt;|startoftext|&gt;من باکمر تو در میان کردم دس...</td>\n",
              "    </tr>\n",
              "    <tr>\n",
              "      <th>...</th>\n",
              "      <td>...</td>\n",
              "      <td>...</td>\n",
              "      <td>...</td>\n",
              "      <td>...</td>\n",
              "    </tr>\n",
              "    <tr>\n",
              "      <th>27427</th>\n",
              "      <td>حافظ</td>\n",
              "      <td>8</td>\n",
              "      <td>به جد و جهد چو کاری نمی رود از پیش    به کردگا...</td>\n",
              "      <td>حافظ&lt;|startoftext|&gt;به جد و جهد چو کاری نمی رود...</td>\n",
              "    </tr>\n",
              "    <tr>\n",
              "      <th>27428</th>\n",
              "      <td>حافظ</td>\n",
              "      <td>8</td>\n",
              "      <td>رهروان را عشق بس باشد دلیل    آب چشم اندر رهش ...</td>\n",
              "      <td>حافظ&lt;|startoftext|&gt;رهروان را عشق بس باشد دلیل&lt;...</td>\n",
              "    </tr>\n",
              "    <tr>\n",
              "      <th>27429</th>\n",
              "      <td>حافظ</td>\n",
              "      <td>8</td>\n",
              "      <td>روز عید است و من امروز در آن تدبیرم    که دهم ...</td>\n",
              "      <td>حافظ&lt;|startoftext|&gt;روز عید است و من امروز در آ...</td>\n",
              "    </tr>\n",
              "    <tr>\n",
              "      <th>27430</th>\n",
              "      <td>حافظ</td>\n",
              "      <td>8</td>\n",
              "      <td>ای در چمن خوبی رویت چو گل خودرو    چین شکن زلف...</td>\n",
              "      <td>حافظ&lt;|startoftext|&gt;ای در چمن خوبی رویت چو گل خ...</td>\n",
              "    </tr>\n",
              "    <tr>\n",
              "      <th>27431</th>\n",
              "      <td>حافظ</td>\n",
              "      <td>8</td>\n",
              "      <td>ای از فروغ رویت روشن چراغ دیده    خوشتر ز چشم ...</td>\n",
              "      <td>حافظ&lt;|startoftext|&gt;ای از فروغ رویت روشن چراغ د...</td>\n",
              "    </tr>\n",
              "  </tbody>\n",
              "</table>\n",
              "<p>595 rows × 4 columns</p>\n",
              "</div>\n",
              "    <div class=\"colab-df-buttons\">\n",
              "\n",
              "  <div class=\"colab-df-container\">\n",
              "    <button class=\"colab-df-convert\" onclick=\"convertToInteractive('df-edd472e1-c777-4595-bc9c-11cd1a525492')\"\n",
              "            title=\"Convert this dataframe to an interactive table.\"\n",
              "            style=\"display:none;\">\n",
              "\n",
              "  <svg xmlns=\"http://www.w3.org/2000/svg\" height=\"24px\" viewBox=\"0 -960 960 960\">\n",
              "    <path d=\"M120-120v-720h720v720H120Zm60-500h600v-160H180v160Zm220 220h160v-160H400v160Zm0 220h160v-160H400v160ZM180-400h160v-160H180v160Zm440 0h160v-160H620v160ZM180-180h160v-160H180v160Zm440 0h160v-160H620v160Z\"/>\n",
              "  </svg>\n",
              "    </button>\n",
              "\n",
              "  <style>\n",
              "    .colab-df-container {\n",
              "      display:flex;\n",
              "      gap: 12px;\n",
              "    }\n",
              "\n",
              "    .colab-df-convert {\n",
              "      background-color: #E8F0FE;\n",
              "      border: none;\n",
              "      border-radius: 50%;\n",
              "      cursor: pointer;\n",
              "      display: none;\n",
              "      fill: #1967D2;\n",
              "      height: 32px;\n",
              "      padding: 0 0 0 0;\n",
              "      width: 32px;\n",
              "    }\n",
              "\n",
              "    .colab-df-convert:hover {\n",
              "      background-color: #E2EBFA;\n",
              "      box-shadow: 0px 1px 2px rgba(60, 64, 67, 0.3), 0px 1px 3px 1px rgba(60, 64, 67, 0.15);\n",
              "      fill: #174EA6;\n",
              "    }\n",
              "\n",
              "    .colab-df-buttons div {\n",
              "      margin-bottom: 4px;\n",
              "    }\n",
              "\n",
              "    [theme=dark] .colab-df-convert {\n",
              "      background-color: #3B4455;\n",
              "      fill: #D2E3FC;\n",
              "    }\n",
              "\n",
              "    [theme=dark] .colab-df-convert:hover {\n",
              "      background-color: #434B5C;\n",
              "      box-shadow: 0px 1px 3px 1px rgba(0, 0, 0, 0.15);\n",
              "      filter: drop-shadow(0px 1px 2px rgba(0, 0, 0, 0.3));\n",
              "      fill: #FFFFFF;\n",
              "    }\n",
              "  </style>\n",
              "\n",
              "    <script>\n",
              "      const buttonEl =\n",
              "        document.querySelector('#df-edd472e1-c777-4595-bc9c-11cd1a525492 button.colab-df-convert');\n",
              "      buttonEl.style.display =\n",
              "        google.colab.kernel.accessAllowed ? 'block' : 'none';\n",
              "\n",
              "      async function convertToInteractive(key) {\n",
              "        const element = document.querySelector('#df-edd472e1-c777-4595-bc9c-11cd1a525492');\n",
              "        const dataTable =\n",
              "          await google.colab.kernel.invokeFunction('convertToInteractive',\n",
              "                                                    [key], {});\n",
              "        if (!dataTable) return;\n",
              "\n",
              "        const docLinkHtml = 'Like what you see? Visit the ' +\n",
              "          '<a target=\"_blank\" href=https://colab.research.google.com/notebooks/data_table.ipynb>data table notebook</a>'\n",
              "          + ' to learn more about interactive tables.';\n",
              "        element.innerHTML = '';\n",
              "        dataTable['output_type'] = 'display_data';\n",
              "        await google.colab.output.renderOutput(dataTable, element);\n",
              "        const docLink = document.createElement('div');\n",
              "        docLink.innerHTML = docLinkHtml;\n",
              "        element.appendChild(docLink);\n",
              "      }\n",
              "    </script>\n",
              "  </div>\n",
              "\n",
              "\n",
              "    <div id=\"df-0ceb86fa-ab00-4304-a950-3f04cde5a8c6\">\n",
              "      <button class=\"colab-df-quickchart\" onclick=\"quickchart('df-0ceb86fa-ab00-4304-a950-3f04cde5a8c6')\"\n",
              "                title=\"Suggest charts\"\n",
              "                style=\"display:none;\">\n",
              "\n",
              "<svg xmlns=\"http://www.w3.org/2000/svg\" height=\"24px\"viewBox=\"0 0 24 24\"\n",
              "     width=\"24px\">\n",
              "    <g>\n",
              "        <path d=\"M19 3H5c-1.1 0-2 .9-2 2v14c0 1.1.9 2 2 2h14c1.1 0 2-.9 2-2V5c0-1.1-.9-2-2-2zM9 17H7v-7h2v7zm4 0h-2V7h2v10zm4 0h-2v-4h2v4z\"/>\n",
              "    </g>\n",
              "</svg>\n",
              "      </button>\n",
              "\n",
              "<style>\n",
              "  .colab-df-quickchart {\n",
              "      --bg-color: #E8F0FE;\n",
              "      --fill-color: #1967D2;\n",
              "      --hover-bg-color: #E2EBFA;\n",
              "      --hover-fill-color: #174EA6;\n",
              "      --disabled-fill-color: #AAA;\n",
              "      --disabled-bg-color: #DDD;\n",
              "  }\n",
              "\n",
              "  [theme=dark] .colab-df-quickchart {\n",
              "      --bg-color: #3B4455;\n",
              "      --fill-color: #D2E3FC;\n",
              "      --hover-bg-color: #434B5C;\n",
              "      --hover-fill-color: #FFFFFF;\n",
              "      --disabled-bg-color: #3B4455;\n",
              "      --disabled-fill-color: #666;\n",
              "  }\n",
              "\n",
              "  .colab-df-quickchart {\n",
              "    background-color: var(--bg-color);\n",
              "    border: none;\n",
              "    border-radius: 50%;\n",
              "    cursor: pointer;\n",
              "    display: none;\n",
              "    fill: var(--fill-color);\n",
              "    height: 32px;\n",
              "    padding: 0;\n",
              "    width: 32px;\n",
              "  }\n",
              "\n",
              "  .colab-df-quickchart:hover {\n",
              "    background-color: var(--hover-bg-color);\n",
              "    box-shadow: 0 1px 2px rgba(60, 64, 67, 0.3), 0 1px 3px 1px rgba(60, 64, 67, 0.15);\n",
              "    fill: var(--button-hover-fill-color);\n",
              "  }\n",
              "\n",
              "  .colab-df-quickchart-complete:disabled,\n",
              "  .colab-df-quickchart-complete:disabled:hover {\n",
              "    background-color: var(--disabled-bg-color);\n",
              "    fill: var(--disabled-fill-color);\n",
              "    box-shadow: none;\n",
              "  }\n",
              "\n",
              "  .colab-df-spinner {\n",
              "    border: 2px solid var(--fill-color);\n",
              "    border-color: transparent;\n",
              "    border-bottom-color: var(--fill-color);\n",
              "    animation:\n",
              "      spin 1s steps(1) infinite;\n",
              "  }\n",
              "\n",
              "  @keyframes spin {\n",
              "    0% {\n",
              "      border-color: transparent;\n",
              "      border-bottom-color: var(--fill-color);\n",
              "      border-left-color: var(--fill-color);\n",
              "    }\n",
              "    20% {\n",
              "      border-color: transparent;\n",
              "      border-left-color: var(--fill-color);\n",
              "      border-top-color: var(--fill-color);\n",
              "    }\n",
              "    30% {\n",
              "      border-color: transparent;\n",
              "      border-left-color: var(--fill-color);\n",
              "      border-top-color: var(--fill-color);\n",
              "      border-right-color: var(--fill-color);\n",
              "    }\n",
              "    40% {\n",
              "      border-color: transparent;\n",
              "      border-right-color: var(--fill-color);\n",
              "      border-top-color: var(--fill-color);\n",
              "    }\n",
              "    60% {\n",
              "      border-color: transparent;\n",
              "      border-right-color: var(--fill-color);\n",
              "    }\n",
              "    80% {\n",
              "      border-color: transparent;\n",
              "      border-right-color: var(--fill-color);\n",
              "      border-bottom-color: var(--fill-color);\n",
              "    }\n",
              "    90% {\n",
              "      border-color: transparent;\n",
              "      border-bottom-color: var(--fill-color);\n",
              "    }\n",
              "  }\n",
              "</style>\n",
              "\n",
              "      <script>\n",
              "        async function quickchart(key) {\n",
              "          const quickchartButtonEl =\n",
              "            document.querySelector('#' + key + ' button');\n",
              "          quickchartButtonEl.disabled = true;  // To prevent multiple clicks.\n",
              "          quickchartButtonEl.classList.add('colab-df-spinner');\n",
              "          try {\n",
              "            const charts = await google.colab.kernel.invokeFunction(\n",
              "                'suggestCharts', [key], {});\n",
              "          } catch (error) {\n",
              "            console.error('Error during call to suggestCharts:', error);\n",
              "          }\n",
              "          quickchartButtonEl.classList.remove('colab-df-spinner');\n",
              "          quickchartButtonEl.classList.add('colab-df-quickchart-complete');\n",
              "        }\n",
              "        (() => {\n",
              "          let quickchartButtonEl =\n",
              "            document.querySelector('#df-0ceb86fa-ab00-4304-a950-3f04cde5a8c6 button');\n",
              "          quickchartButtonEl.style.display =\n",
              "            google.colab.kernel.accessAllowed ? 'block' : 'none';\n",
              "        })();\n",
              "      </script>\n",
              "    </div>\n",
              "    </div>\n",
              "  </div>\n"
            ],
            "application/vnd.google.colaboratory.intrinsic+json": {
              "type": "dataframe",
              "summary": "{\n  \"name\": \"df[df['poet']=='\\u062d\\u0627\\u0641\\u0638']\",\n  \"rows\": 595,\n  \"fields\": [\n    {\n      \"column\": \"poet\",\n      \"properties\": {\n        \"dtype\": \"category\",\n        \"num_unique_values\": 1,\n        \"samples\": [\n          \"\\u062d\\u0627\\u0641\\u0638\"\n        ],\n        \"semantic_type\": \"\",\n        \"description\": \"\"\n      }\n    },\n    {\n      \"column\": \"century\",\n      \"properties\": {\n        \"dtype\": \"number\",\n        \"std\": 0,\n        \"min\": 8,\n        \"max\": 8,\n        \"num_unique_values\": 1,\n        \"samples\": [\n          8\n        ],\n        \"semantic_type\": \"\",\n        \"description\": \"\"\n      }\n    },\n    {\n      \"column\": \"poem\",\n      \"properties\": {\n        \"dtype\": \"string\",\n        \"num_unique_values\": 595,\n        \"samples\": [\n          \"\\u067e\\u06cc\\u0631\\u0627\\u0646\\u0647 \\u0633\\u0631\\u0645 \\u0639\\u0634\\u0642 \\u062c\\u0648\\u0627\\u0646\\u06cc \\u0628\\u0647 \\u0633\\u0631 \\u0627\\u0641\\u062a\\u0627\\u062f    \\u0648\\u0627\\u0646 \\u0631\\u0627\\u0632 \\u06a9\\u0647 \\u062f\\u0631 \\u062f\\u0644 \\u0628\\u0646\\u0647\\u0641\\u062a\\u0645 \\u0628\\u0647 \\u062f\\u0631\\u0627\\u0641\\u062a\\u0627\\u062f    \\u0627\\u0632 \\u0631\\u0627\\u0647 \\u0646\\u0638\\u0631 \\u0645\\u0631\\u063a \\u062f\\u0644\\u0645 \\u06af\\u0634\\u062a \\u0647\\u0648\\u0627\\u06af\\u06cc\\u0631    \\u0627\\u06cc \\u062f\\u06cc\\u062f\\u0647 \\u0646\\u06af\\u0647 \\u06a9\\u0646 \\u06a9\\u0647 \\u0628\\u0647 \\u062f\\u0627\\u0645 \\u06a9\\u0647 \\u062f\\u0631\\u0627\\u0641\\u062a\\u0627\\u062f    \\u062f\\u0631\\u062f\\u0627 \\u06a9\\u0647 \\u0627\\u0632 \\u0622\\u0646 \\u0622\\u0647\\u0648\\u06cc \\u0645\\u0634\\u06a9\\u06cc\\u0646 \\u0633\\u06cc\\u0647 \\u0686\\u0634\\u0645    \\u0686\\u0648\\u0646 \\u0646\\u0627\\u0641\\u0647 \\u0628\\u0633\\u06cc \\u062e\\u0648\\u0646 \\u062f\\u0644\\u0645 \\u062f\\u0631 \\u062c\\u06af\\u0631 \\u0627\\u0641\\u062a\\u0627\\u062f    \\u0627\\u0632 \\u0631\\u0647\\u06af\\u0630\\u0631 \\u062e\\u0627\\u06a9 \\u0633\\u0631 \\u06a9\\u0648\\u06cc \\u0634\\u0645\\u0627 \\u0628\\u0648\\u062f    \\u0647\\u0631 \\u0646\\u0627\\u0641\\u0647 \\u06a9\\u0647 \\u062f\\u0631 \\u062f\\u0633\\u062a \\u0646\\u0633\\u06cc\\u0645 \\u0633\\u062d\\u0631 \\u0627\\u0641\\u062a\\u0627\\u062f    \\u0645\\u0698\\u06af\\u0627\\u0646 \\u062a\\u0648 \\u062a\\u0627 \\u062a\\u06cc\\u063a \\u062c\\u0647\\u0627\\u0646 \\u06af\\u06cc\\u0631 \\u0628\\u0631\\u0622\\u0648\\u0631\\u062f    \\u0628\\u0633 \\u06a9\\u0634\\u062a\\u0647 \\u062f\\u0644 \\u0632\\u0646\\u062f\\u0647 \\u06a9\\u0647 \\u0628\\u0631 \\u06cc\\u06a9 \\u062f\\u06af\\u0631 \\u0627\\u0641\\u062a\\u0627\\u062f    \\u0628\\u0633 \\u062a\\u062c\\u0631\\u0628\\u0647 \\u06a9\\u0631\\u062f\\u06cc\\u0645 \\u062f\\u0631 \\u0627\\u06cc\\u0646 \\u062f\\u06cc\\u0631 \\u0645\\u06a9\\u0627\\u0641\\u0627\\u062a    \\u0628\\u0627 \\u062f\\u0631\\u062f\\u06a9\\u0634\\u0627\\u0646 \\u0647\\u0631 \\u06a9\\u0647 \\u062f\\u0631\\u0627\\u0641\\u062a\\u0627\\u062f \\u0628\\u0631\\u0627\\u0641\\u062a\\u0627\\u062f    \\u06af\\u0631 \\u062c\\u0627\\u0646 \\u0628\\u062f\\u0647\\u062f \\u0633\\u0646\\u06af \\u0633\\u06cc\\u0647 \\u0644\\u0639\\u0644 \\u0646\\u06af\\u0631\\u062f\\u062f    \\u0628\\u0627 \\u0637\\u06cc\\u0646\\u062a \\u0627\\u0635\\u0644\\u06cc \\u0686\\u0647 \\u06a9\\u0646\\u062f \\u0628\\u062f\\u06af\\u0647\\u0631 \\u0627\\u0641\\u062a\\u0627\\u062f    \\u062d\\u0627\\u0641\\u0638 \\u06a9\\u0647 \\u0633\\u0631 \\u0632\\u0644\\u0641 \\u0628\\u062a\\u0627\\u0646 \\u062f\\u0633\\u062a \\u06a9\\u0634\\u0634 \\u0628\\u0648\\u062f    \\u0628\\u0633 \\u0637\\u0631\\u0641\\u0647 \\u062d\\u0631\\u06cc\\u0641\\u06cc\\u0633\\u062a \\u06a9\\u0634 \\u0627\\u06a9\\u0646\\u0648\\u0646 \\u0628\\u0647 \\u0633\\u0631 \\u0627\\u0641\\u062a\\u0627\\u062f\"\n        ],\n        \"semantic_type\": \"\",\n        \"description\": \"\"\n      }\n    },\n    {\n      \"column\": \"text\",\n      \"properties\": {\n        \"dtype\": \"string\",\n        \"num_unique_values\": 595,\n        \"samples\": [\n          \"\\u062d\\u0627\\u0641\\u0638<|startoftext|>\\u067e\\u06cc\\u0631\\u0627\\u0646\\u0647 \\u0633\\u0631\\u0645 \\u0639\\u0634\\u0642 \\u062c\\u0648\\u0627\\u0646\\u06cc \\u0628\\u0647 \\u0633\\u0631 \\u0627\\u0641\\u062a\\u0627\\u062f<sep>\\u0648\\u0627\\u0646 \\u0631\\u0627\\u0632 \\u06a9\\u0647 \\u062f\\u0631 \\u062f\\u0644 \\u0628\\u0646\\u0647\\u0641\\u062a\\u0645 \\u0628\\u0647 \\u062f\\u0631\\u0627\\u0641\\u062a\\u0627\\u062f<sep>\\u0627\\u0632 \\u0631\\u0627\\u0647 \\u0646\\u0638\\u0631 \\u0645\\u0631\\u063a \\u062f\\u0644\\u0645 \\u06af\\u0634\\u062a \\u0647\\u0648\\u0627\\u06af\\u06cc\\u0631<sep>\\u0627\\u06cc \\u062f\\u06cc\\u062f\\u0647 \\u0646\\u06af\\u0647 \\u06a9\\u0646 \\u06a9\\u0647 \\u0628\\u0647 \\u062f\\u0627\\u0645 \\u06a9\\u0647 \\u062f\\u0631\\u0627\\u0641\\u062a\\u0627\\u062f<sep>\\u062f\\u0631\\u062f\\u0627 \\u06a9\\u0647 \\u0627\\u0632 \\u0622\\u0646 \\u0622\\u0647\\u0648\\u06cc \\u0645\\u0634\\u06a9\\u06cc\\u0646 \\u0633\\u06cc\\u0647 \\u0686\\u0634\\u0645<sep>\\u0686\\u0648\\u0646 \\u0646\\u0627\\u0641\\u0647 \\u0628\\u0633\\u06cc \\u062e\\u0648\\u0646 \\u062f\\u0644\\u0645 \\u062f\\u0631 \\u062c\\u06af\\u0631 \\u0627\\u0641\\u062a\\u0627\\u062f<sep>\\u0627\\u0632 \\u0631\\u0647\\u06af\\u0630\\u0631 \\u062e\\u0627\\u06a9 \\u0633\\u0631 \\u06a9\\u0648\\u06cc \\u0634\\u0645\\u0627 \\u0628\\u0648\\u062f<sep>\\u0647\\u0631 \\u0646\\u0627\\u0641\\u0647 \\u06a9\\u0647 \\u062f\\u0631 \\u062f\\u0633\\u062a \\u0646\\u0633\\u06cc\\u0645 \\u0633\\u062d\\u0631 \\u0627\\u0641\\u062a\\u0627\\u062f<sep>\\u0645\\u0698\\u06af\\u0627\\u0646 \\u062a\\u0648 \\u062a\\u0627 \\u062a\\u06cc\\u063a \\u062c\\u0647\\u0627\\u0646 \\u06af\\u06cc\\u0631 \\u0628\\u0631\\u0622\\u0648\\u0631\\u062f<sep>\\u0628\\u0633 \\u06a9\\u0634\\u062a\\u0647 \\u062f\\u0644 \\u0632\\u0646\\u062f\\u0647 \\u06a9\\u0647 \\u0628\\u0631 \\u06cc\\u06a9 \\u062f\\u06af\\u0631 \\u0627\\u0641\\u062a\\u0627\\u062f<sep>\\u0628\\u0633 \\u062a\\u062c\\u0631\\u0628\\u0647 \\u06a9\\u0631\\u062f\\u06cc\\u0645 \\u062f\\u0631 \\u0627\\u06cc\\u0646 \\u062f\\u06cc\\u0631 \\u0645\\u06a9\\u0627\\u0641\\u0627\\u062a<sep>\\u0628\\u0627 \\u062f\\u0631\\u062f\\u06a9\\u0634\\u0627\\u0646 \\u0647\\u0631 \\u06a9\\u0647 \\u062f\\u0631\\u0627\\u0641\\u062a\\u0627\\u062f \\u0628\\u0631\\u0627\\u0641\\u062a\\u0627\\u062f<sep>\\u06af\\u0631 \\u062c\\u0627\\u0646 \\u0628\\u062f\\u0647\\u062f \\u0633\\u0646\\u06af \\u0633\\u06cc\\u0647 \\u0644\\u0639\\u0644 \\u0646\\u06af\\u0631\\u062f\\u062f<sep>\\u0628\\u0627 \\u0637\\u06cc\\u0646\\u062a \\u0627\\u0635\\u0644\\u06cc \\u0686\\u0647 \\u06a9\\u0646\\u062f \\u0628\\u062f\\u06af\\u0647\\u0631 \\u0627\\u0641\\u062a\\u0627\\u062f<sep>\\u062d\\u0627\\u0641\\u0638 \\u06a9\\u0647 \\u0633\\u0631 \\u0632\\u0644\\u0641 \\u0628\\u062a\\u0627\\u0646 \\u062f\\u0633\\u062a \\u06a9\\u0634\\u0634 \\u0628\\u0648\\u062f<sep>\\u0628\\u0633 \\u0637\\u0631\\u0641\\u0647 \\u062d\\u0631\\u06cc\\u0641\\u06cc\\u0633\\u062a \\u06a9\\u0634 \\u0627\\u06a9\\u0646\\u0648\\u0646 \\u0628\\u0647 \\u0633\\u0631 \\u0627\\u0641\\u062a\\u0627\\u062f\"\n        ],\n        \"semantic_type\": \"\",\n        \"description\": \"\"\n      }\n    }\n  ]\n}"
            }
          },
          "metadata": {},
          "execution_count": 22
        }
      ],
      "source": [
        "df[df['poet']=='حافظ']"
      ]
    },
    {
      "cell_type": "code",
      "execution_count": 23,
      "metadata": {
        "colab": {
          "base_uri": "https://localhost:8080/",
          "height": 53
        },
        "id": "o0BJmzYg2L86",
        "outputId": "66e5197e-c3ad-43a2-f6a7-cc069b722b9f"
      },
      "outputs": [
        {
          "output_type": "execute_result",
          "data": {
            "text/plain": [
              "'حافظ<|startoftext|>جز نقش تو در نظر نیامد ما را<sep>جز کوی تو رهگذر نیامد ما را<sep>خواب ارچه خوش آمد همه را در عهدت<sep>حقا که به چشم در نیامد ما را'"
            ],
            "application/vnd.google.colaboratory.intrinsic+json": {
              "type": "string"
            }
          },
          "metadata": {},
          "execution_count": 23
        }
      ],
      "source": [
        "texts[24358]"
      ]
    },
    {
      "cell_type": "code",
      "execution_count": 24,
      "metadata": {
        "id": "19fApJsoIJA1"
      },
      "outputs": [],
      "source": [
        "max_seq = 256"
      ]
    },
    {
      "cell_type": "code",
      "execution_count": 25,
      "metadata": {
        "id": "cWNpmPTcHmBf"
      },
      "outputs": [],
      "source": [
        "from torch.utils.data import Dataset\n",
        "import torch\n",
        "\n",
        "torch.manual_seed(42)\n",
        "\n",
        "class MTGDataset(Dataset):\n",
        "    def __init__(self, txt_list, tokenizer, max_length=1024):\n",
        "        self.tokenizer = tokenizer\n",
        "        self.data = []\n",
        "\n",
        "        for txt in txt_list:\n",
        "            encodings_dict = tokenizer(\n",
        "                '<s>' + txt + '</s>',\n",
        "                truncation=True,\n",
        "                max_length=max_length,\n",
        "                padding=\"max_length\",\n",
        "                return_tensors=\"pt\"\n",
        "            )\n",
        "\n",
        "            self.data.append({\n",
        "                \"input_ids\": encodings_dict[\"input_ids\"].squeeze(0),  # Remove batch dim\n",
        "                \"attention_mask\": encodings_dict[\"attention_mask\"].squeeze(0),\n",
        "                \"labels\": encodings_dict[\"input_ids\"].squeeze(0)  # Labels are the same as input\n",
        "            })\n",
        "\n",
        "    def __len__(self):\n",
        "        return len(self.data)\n",
        "\n",
        "    def __getitem__(self, idx):\n",
        "        return self.data[idx]  # Returns a dict (Trainer requires dict format)\n"
      ]
    },
    {
      "cell_type": "code",
      "execution_count": 26,
      "metadata": {
        "colab": {
          "base_uri": "https://localhost:8080/",
          "height": 36
        },
        "id": "FAWCQ4WEHp30",
        "outputId": "7f46fdbc-be11-40b6-ffe7-14c960ccb57e"
      },
      "outputs": [
        {
          "output_type": "execute_result",
          "data": {
            "text/plain": [
              "'There are 49071 samples for training, and 5453 samples for validation testing'"
            ],
            "application/vnd.google.colaboratory.intrinsic+json": {
              "type": "string"
            }
          },
          "metadata": {},
          "execution_count": 26
        }
      ],
      "source": [
        "from torch.utils.data import random_split\n",
        "\n",
        "dataset = MTGDataset(texts, tokenizer, max_length=max_seq)\n",
        "\n",
        "# Split into training and validation sets\n",
        "train_size = int(0.9 * len(dataset))\n",
        "val_size = len(dataset) - train_size\n",
        "train_dataset, val_dataset = random_split(dataset, [train_size, val_size])\n",
        "\n",
        "f'There are {len(train_dataset)} samples for training, and {len(val_dataset)} samples for validation testing'"
      ]
    },
    {
      "cell_type": "markdown",
      "metadata": {
        "id": "MsS6Py1hHqjZ"
      },
      "source": [
        "---"
      ]
    },
    {
      "cell_type": "code",
      "execution_count": 27,
      "metadata": {
        "colab": {
          "base_uri": "https://localhost:8080/"
        },
        "id": "lplxA4inIReU",
        "outputId": "480fa761-ed1b-47b1-cdd4-85a293291b19"
      },
      "outputs": [
        {
          "output_type": "stream",
          "name": "stdout",
          "text": [
            "tensor([    0, 40719,     6,   476,  1061,  5634,   953,   991,   403,   312,\n",
            "         1352,  9540,     9, 29930,   287,   421,  9268, 11042,  3645,   327,\n",
            "         4141,   293,  7323,     9,  8101,   303,   798, 18085,   390,   326,\n",
            "         2728, 18369,     9,  2076,   817,  1013,   484,  1733,  1801,   303,\n",
            "          798, 18085,     9,   316, 24744,   571,   330, 39148,   546,   303,\n",
            "         3590,  6306,   742,     9,   278,  5748,  8503,   395,   312,   451,\n",
            "         2167,   440,  8768,   751,     9,  2076, 11392,   960,   318,  3645,\n",
            "          326,  1323, 26680,  2511, 15987,     9,   458,  3735,   314,  4446,\n",
            "        20927,   310,   285, 19581,  3645,  7935,     9,  2802,   773,  3982,\n",
            "         8776,   457,   293, 14162,  7607,   486,   451,     9,   589,   747])\n",
            "<s>حافظ<|startoftext|>افسر سلطان گل پیدا شد از طرف چمن<sep>مقدمش یا رب مبارک باد بر سرو و سمن<sep>خوش به جای خویشتن بود این نشست خسروی<sep>تا نشیند هر کسی اکنون به جای خویشتن<sep>خاتم جم را بشارت ده به حسن خاتمت<sep>کاسم اعظم کرد از او کوتاه دست اهرمن<sep>تا ابد معمور باد این خانه کز خاک درش<sep>هر نفس با بوی رحمان می‌وزد باد یمن<sep>شوکت پور پشنگ و تیغ عالمگیر او<sep>در همه\n"
          ]
        }
      ],
      "source": [
        "index = 1053\n",
        "print(train_dataset[index]['input_ids'][:100])\n",
        "print(tokenizer.decode(train_dataset[index]['input_ids'][:100]))"
      ]
    },
    {
      "cell_type": "markdown",
      "metadata": {
        "id": "dH_ejzHHp1hn"
      },
      "source": [
        "#Training model using huggingface Trainer API\n",
        "\n",
        "---\n",
        "\n"
      ]
    },
    {
      "cell_type": "code",
      "execution_count": 28,
      "metadata": {
        "id": "hOJz6PPnqqik"
      },
      "outputs": [],
      "source": [
        "import random\n",
        "import numpy as np\n",
        "import torch\n",
        "from transformers import AutoConfig, AutoModelForCausalLM\n",
        "\n",
        "# Load configuration automatically\n",
        "configuration = AutoConfig.from_pretrained('./gpt2', output_hidden_states=False)\n",
        "\n",
        "# Load model with the config\n",
        "model = AutoModelForCausalLM.from_pretrained(\"./gpt2\", config=configuration)\n",
        "model.resize_token_embeddings(len(tokenizer))\n",
        "\n",
        "device = torch.device(\"cuda\")\n",
        "model.to(device)\n",
        "\n",
        "# Optional: for reproducibility\n",
        "seed_val = 42\n",
        "random.seed(seed_val)\n",
        "np.random.seed(seed_val)\n",
        "torch.manual_seed(seed_val)\n",
        "torch.cuda.manual_seed_all(seed_val)\n"
      ]
    },
    {
      "cell_type": "code",
      "execution_count": null,
      "metadata": {
        "colab": {
          "base_uri": "https://localhost:8080/",
          "height": 383
        },
        "id": "90s9JD9pp8JQ",
        "outputId": "a90f6bc9-3e31-4bfb-bb06-cb986cde16cc"
      },
      "outputs": [
        {
          "metadata": {
            "tags": null
          },
          "name": "stderr",
          "output_type": "stream",
          "text": [
            "<ipython-input-29-dd08751bc724>:27: FutureWarning: `tokenizer` is deprecated and will be removed in version 5.0.0 for `Trainer.__init__`. Use `processing_class` instead.\n",
            "  trainer = Trainer(\n",
            "`loss_type=None` was set in the config but it is unrecognised.Using the default loss: `ForCausalLMLoss`.\n"
          ]
        },
        {
          "data": {
            "text/html": [
              "\n",
              "    <div>\n",
              "      \n",
              "      <progress value='2973' max='18402' style='width:300px; height:20px; vertical-align: middle;'></progress>\n",
              "      [ 2973/18402 29:03 < 2:30:53, 1.70 it/s, Epoch 0.48/3]\n",
              "    </div>\n",
              "    <table border=\"1\" class=\"dataframe\">\n",
              "  <thead>\n",
              " <tr style=\"text-align: left;\">\n",
              "      <th>Step</th>\n",
              "      <th>Training Loss</th>\n",
              "      <th>Validation Loss</th>\n",
              "    </tr>\n",
              "  </thead>\n",
              "  <tbody>\n",
              "    <tr>\n",
              "      <td>2000</td>\n",
              "      <td>2.935400</td>\n",
              "      <td>2.728100</td>\n",
              "    </tr>\n",
              "  </tbody>\n",
              "</table><p>"
            ],
            "text/plain": [
              "<IPython.core.display.HTML object>"
            ]
          },
          "metadata": {},
          "output_type": "display_data"
        },
        {
          "output_type": "display_data",
          "data": {
            "text/plain": [
              "<IPython.core.display.HTML object>"
            ],
            "text/html": [
              "\n",
              "    <div>\n",
              "      \n",
              "      <progress value='10001' max='18402' style='width:300px; height:20px; vertical-align: middle;'></progress>\n",
              "      [10001/18402 1:40:06 < 1:24:06, 1.66 it/s, Epoch 1.63/3]\n",
              "    </div>\n",
              "    <table border=\"1\" class=\"dataframe\">\n",
              "  <thead>\n",
              " <tr style=\"text-align: left;\">\n",
              "      <th>Step</th>\n",
              "      <th>Training Loss</th>\n",
              "      <th>Validation Loss</th>\n",
              "    </tr>\n",
              "  </thead>\n",
              "  <tbody>\n",
              "    <tr>\n",
              "      <td>2000</td>\n",
              "      <td>2.935400</td>\n",
              "      <td>2.728100</td>\n",
              "    </tr>\n",
              "    <tr>\n",
              "      <td>4000</td>\n",
              "      <td>2.717300</td>\n",
              "      <td>2.615328</td>\n",
              "    </tr>\n",
              "    <tr>\n",
              "      <td>6000</td>\n",
              "      <td>2.612300</td>\n",
              "      <td>2.545464</td>\n",
              "    </tr>\n",
              "    <tr>\n",
              "      <td>8000</td>\n",
              "      <td>2.499100</td>\n",
              "      <td>2.504992</td>\n",
              "    </tr>\n",
              "  </tbody>\n",
              "</table><p>\n",
              "    <div>\n",
              "      \n",
              "      <progress value='458' max='682' style='width:300px; height:20px; vertical-align: middle;'></progress>\n",
              "      [458/682 01:18 < 00:38, 5.82 it/s]\n",
              "    </div>\n",
              "    "
            ]
          },
          "metadata": {}
        }
      ],
      "source": [
        "import torch\n",
        "import random\n",
        "import time\n",
        "import datetime\n",
        "from transformers import Trainer, TrainingArguments\n",
        "\n",
        "epochs = 3\n",
        "\n",
        "\n",
        "# Define training arguments\n",
        "training_args = TrainingArguments(\n",
        "    output_dir=\"./results\",\n",
        "    eval_strategy=\"steps\",  # Evaluate at the end of each epoch\n",
        "    save_strategy=\"steps\",\n",
        "    save_steps=2000,\n",
        "    per_device_train_batch_size=8,\n",
        "    per_device_eval_batch_size=8,\n",
        "    num_train_epochs=epochs,\n",
        "    logging_dir=\"./logs\",\n",
        "    logging_steps=2000,\n",
        "    save_total_limit=3,           # Keep only last 3 checkpoints\n",
        "    load_best_model_at_end=True,\n",
        "    report_to=\"none\",             # Avoid sending logs to external trackers\n",
        ")\n",
        "\n",
        "# Define Trainer\n",
        "trainer = Trainer(\n",
        "    model=model,\n",
        "    args=training_args,\n",
        "    train_dataset=train_dataset,\n",
        "    eval_dataset=val_dataset,\n",
        "    tokenizer=tokenizer,\n",
        "    # compute_metrics=compute_metrics\n",
        ")\n",
        "\n",
        "# Train the model\n",
        "trainer.train()\n",
        "\n",
        "# Evaluate\n",
        "trainer.evaluate()\n"
      ]
    },
    {
      "cell_type": "code",
      "execution_count": null,
      "metadata": {
        "id": "bgnxR9mF2nZ1"
      },
      "outputs": [],
      "source": [
        "import re\n",
        "\n",
        "\n",
        "def generator(model, poet, max_length=128, num_return_sequences=3):\n",
        "    model.eval()\n",
        "    prompt = f\"<s>{poet}<|startoftext|>\"\n",
        "    print(prompt)\n",
        "\n",
        "    generated = torch.tensor(tokenizer.encode(prompt)).unsqueeze(0)\n",
        "    generated = generated.to(device)\n",
        "\n",
        "    decoded_outputs = model.generate(\n",
        "        generated,\n",
        "        do_sample=True,\n",
        "        top_k=50,\n",
        "        max_length=max_length,\n",
        "        top_p=0.95,\n",
        "        num_return_sequences=num_return_sequences\n",
        "    )\n",
        "\n",
        "\n",
        "    outputs = []\n",
        "    for i, output in enumerate(decoded_outputs):\n",
        "        o = tokenizer.decode(output, skip_special_tokens=False)\n",
        "        o = o.replace(\"<s>\", \"\").replace(\"</s>\", \"\")\n",
        "        outputs.append(o)\n",
        "\n",
        "\n",
        "\n",
        "    display.display(display.HTML(\"\"\"\n",
        "    <style>\n",
        "    @import url(\"https://cdn.jsdelivr.net/gh/rastikerdar/vazir-font@v27.1.0/dist/font-face.css\");\n",
        "\n",
        "    table.xxx {\n",
        "        margin-right: 15px;\n",
        "        font-size: 14px;\n",
        "        direction: rtl !important;\n",
        "        width: 100%;\n",
        "        display: flex;\n",
        "    }\n",
        "    table.xxx td {\n",
        "        min-width: 300px !important;\n",
        "        direction: rtl !important;\n",
        "        text-align: right !important;\n",
        "        font-family: \"Vazir\" !important;\n",
        "    }\n",
        "    </style>\n",
        "    \"\"\".strip()))\n",
        "\n",
        "\n",
        "    df = pd.DataFrame(outputs, columns=[\"generated\"])\n",
        "    df[\"generated\"] = df[\"generated\"].apply(lambda t: re.sub(\"\\n+\", \"\\n\", t.replace(\"<sep>\", \"\\n\")))\n",
        "    df[\"generated\"] = df[\"generated\"].apply(lambda t: \"<p>\" + t.replace(\"\\n\", \"<br/>\").replace(\"<|startoftext|>\", \"<br/>\").strip() + \"</p>\")\n",
        "\n",
        "\n",
        "    setup = {\n",
        "        'border': 2,\n",
        "        'show_dimensions': True,\n",
        "        'escape': False,\n",
        "        'justify': 'right',\n",
        "        'classes': 'xxx'\n",
        "    }\n",
        "    display.display(display.HTML(df.to_html(**setup)))"
      ]
    },
    {
      "cell_type": "code",
      "execution_count": null,
      "metadata": {
        "colab": {
          "base_uri": "https://localhost:8080/"
        },
        "id": "49RNJ30f29Tf",
        "outputId": "c1558098-08f0-4be6-ec17-d1274d5d0648"
      },
      "outputs": [
        {
          "data": {
            "text/plain": [
              "GPT2LMHeadModel(\n",
              "  (transformer): GPT2Model(\n",
              "    (wte): Embedding(42001, 768)\n",
              "    (wpe): Embedding(1024, 768)\n",
              "    (drop): Dropout(p=0.1, inplace=False)\n",
              "    (h): ModuleList(\n",
              "      (0-11): 12 x GPT2Block(\n",
              "        (ln_1): LayerNorm((768,), eps=1e-05, elementwise_affine=True)\n",
              "        (attn): GPT2Attention(\n",
              "          (c_attn): Conv1D(nf=2304, nx=768)\n",
              "          (c_proj): Conv1D(nf=768, nx=768)\n",
              "          (attn_dropout): Dropout(p=0.1, inplace=False)\n",
              "          (resid_dropout): Dropout(p=0.1, inplace=False)\n",
              "        )\n",
              "        (ln_2): LayerNorm((768,), eps=1e-05, elementwise_affine=True)\n",
              "        (mlp): GPT2MLP(\n",
              "          (c_fc): Conv1D(nf=3072, nx=768)\n",
              "          (c_proj): Conv1D(nf=768, nx=3072)\n",
              "          (act): NewGELUActivation()\n",
              "          (dropout): Dropout(p=0.1, inplace=False)\n",
              "        )\n",
              "      )\n",
              "    )\n",
              "    (ln_f): LayerNorm((768,), eps=1e-05, elementwise_affine=True)\n",
              "  )\n",
              "  (lm_head): Linear(in_features=768, out_features=42001, bias=False)\n",
              ")"
            ]
          },
          "execution_count": 32,
          "metadata": {},
          "output_type": "execute_result"
        }
      ],
      "source": [
        "from transformers import AutoModelForCausalLM, AutoTokenizer\n",
        "\n",
        "checkpoint = 4000  # after 4000 iteration\n",
        "# Load the best trained model\n",
        "model_path = \"./results/checkpoint-4000\"  # or any directory where the best model is saved\n",
        "hf_model = AutoModelForCausalLM.from_pretrained(model_path)\n",
        "hf_tokenizer = AutoTokenizer.from_pretrained(model_path)\n",
        "\n",
        "# Move model to GPU if available\n",
        "device = torch.device(\"cuda\" if torch.cuda.is_available() else \"cpu\")\n",
        "hf_model.to(device)\n",
        "hf_model.eval()"
      ]
    },
    {
      "cell_type": "code",
      "execution_count": null,
      "metadata": {
        "colab": {
          "base_uri": "https://localhost:8080/",
          "height": 515
        },
        "id": "IoCY-S402fAW",
        "outputId": "a4c1e7a0-a679-45f1-c64f-197184ed9be1"
      },
      "outputs": [
        {
          "name": "stdout",
          "output_type": "stream",
          "text": [
            "<s>حافظ<|startoftext|>\n"
          ]
        },
        {
          "data": {
            "text/html": [
              "<style>\n",
              "    @import url(\"https://cdn.jsdelivr.net/gh/rastikerdar/vazir-font@v27.1.0/dist/font-face.css\");\n",
              "\n",
              "    table.xxx {\n",
              "        margin-right: 15px;\n",
              "        font-size: 14px;\n",
              "        direction: rtl !important;\n",
              "        width: 100%;\n",
              "        display: flex;\n",
              "    }\n",
              "    table.xxx td {\n",
              "        min-width: 300px !important;\n",
              "        direction: rtl !important;\n",
              "        text-align: right !important;\n",
              "        font-family: \"Vazir\" !important;\n",
              "    }\n",
              "    </style>"
            ],
            "text/plain": [
              "<IPython.core.display.HTML object>"
            ]
          },
          "metadata": {},
          "output_type": "display_data"
        },
        {
          "data": {
            "text/html": [
              "<table border=\"2\" class=\"dataframe xxx\">\n",
              "  <thead>\n",
              "    <tr style=\"text-align: right;\">\n",
              "      <th></th>\n",
              "      <th>generated</th>\n",
              "    </tr>\n",
              "  </thead>\n",
              "  <tbody>\n",
              "    <tr>\n",
              "      <th>0</th>\n",
              "      <td><p>حافظ<br/>ای بی‌تو که در عالم افکنی چو حباب<br/>یا رب ای مرغزار و مرغزار و مرغزار<br/>از پی خلق جهان را بشکاف<br/>بر تو ز چه رو دست می‌بندی چو حباب<br/>دیوانه شو که نه من خود را از خود جدا می‌کنم<br/>در ره تو چو بر تو هم بی‌اختیار می‌کنم<br/>ای دل چو در کار تویی و چو تو نیز در کار<br/>تا به کی این راه به مقصد می‌کنی چو حباب<br/>این غزل غزل اگر آن روز به تو رسید دل<br/>بهر آن که به تو این جا نیز می‌کنی چو حباب</p></td>\n",
              "    </tr>\n",
              "    <tr>\n",
              "      <th>1</th>\n",
              "      <td><p>حافظ<br/>بگذر از لب یار که جان من است<br/>من دل و جان به من که جان من است<br/>بگذر ز خود آن دل که با دلم نشست<br/>دلم به من به جان که جان من است<br/>عرفی به زلف تو نتوان کرد دل<br/>گر نه در این کار که جان من است<br/>من ز وصل تو جان به جان و جان می‌دهم<br/>کز دل و جان به جان جان من است<br/>مطلب به کام دل که در دست است<br/>خوشا که تا زنده‌ام از دل دوست<br/>تا به کی بر این خاکدان جان من است<pad><pad><pad><pad><pad><pad><pad><pad></p></td>\n",
              "    </tr>\n",
              "  </tbody>\n",
              "</table>\n",
              "<p>2 rows × 1 columns</p>"
            ],
            "text/plain": [
              "<IPython.core.display.HTML object>"
            ]
          },
          "metadata": {},
          "output_type": "display_data"
        }
      ],
      "source": [
        "generator(hf_model, 'حافظ', num_return_sequences=2)"
      ]
    },
    {
      "cell_type": "code",
      "execution_count": null,
      "metadata": {
        "colab": {
          "base_uri": "https://localhost:8080/",
          "height": 342
        },
        "id": "2x8Ao0vX3JJt",
        "outputId": "29a8153f-aab6-424b-d841-2960f6e82b80"
      },
      "outputs": [
        {
          "name": "stdout",
          "output_type": "stream",
          "text": [
            "<s>سهراب سپهری<|startoftext|>\n"
          ]
        },
        {
          "data": {
            "text/html": [
              "<style>\n",
              "    @import url(\"https://cdn.jsdelivr.net/gh/rastikerdar/vazir-font@v27.1.0/dist/font-face.css\");\n",
              "\n",
              "    table.xxx {\n",
              "        margin-right: 15px;\n",
              "        font-size: 14px;\n",
              "        direction: rtl !important;\n",
              "        width: 100%;\n",
              "        display: flex;\n",
              "    }\n",
              "    table.xxx td {\n",
              "        min-width: 300px !important;\n",
              "        direction: rtl !important;\n",
              "        text-align: right !important;\n",
              "        font-family: \"Vazir\" !important;\n",
              "    }\n",
              "    </style>"
            ],
            "text/plain": [
              "<IPython.core.display.HTML object>"
            ]
          },
          "metadata": {},
          "output_type": "display_data"
        },
        {
          "data": {
            "text/html": [
              "<table border=\"2\" class=\"dataframe xxx\">\n",
              "  <thead>\n",
              "    <tr style=\"text-align: right;\">\n",
              "      <th></th>\n",
              "      <th>generated</th>\n",
              "    </tr>\n",
              "  </thead>\n",
              "  <tbody>\n",
              "    <tr>\n",
              "      <th>0</th>\n",
              "      <td><p>سهراب سپهری<br/>در این دشت پرآشوب، بیقراری ها می کنند، و به تاریکی های خود میپرند.  با این که این بیابان ها را به یکدیگر آورده است، اما اینجا، جاییست که از سادگی های دیگر لذت می برد. ، برای من هر شبی که می رفتم و به خواب رفته ام، و برای من بی خواب، و اگر می خوردم، به جایی، که تنها، مرا از برای خود می برند، و من بی خواب به تنهایی هستم. در این خانه اما، نمی توانم گذشت، و من بی خیال. اگر چه، اما، می دانم که چگونه در این مکان بیگانه،</p></td>\n",
              "    </tr>\n",
              "    <tr>\n",
              "      <th>1</th>\n",
              "      <td><p>سهراب سپهری<br/>در آن پنجره که از تو بیرون نیست<br/>پرتو را در سر ما و بیرون نیست<br/>آه، که می سوزد بر من، ای خوش، که در دل شب<br/>با من ای خوش نشین، ای بی باک، ای خوش نشین،<br/>در این میان، گر چه غم، غم از دل، آید<br/>از تو، می سوزد خون من، به امید دل، که در شب،<br/>گل می نوش، ای خوش می نوش، ای خوش خوش بیا، ای خوش<br/>گل می می بارد از دست و گر بر خاک می زنند<br/>بر سر ما، به هر گلی که</p></td>\n",
              "    </tr>\n",
              "  </tbody>\n",
              "</table>\n",
              "<p>2 rows × 1 columns</p>"
            ],
            "text/plain": [
              "<IPython.core.display.HTML object>"
            ]
          },
          "metadata": {},
          "output_type": "display_data"
        }
      ],
      "source": [
        "generator(hf_model, 'سهراب سپهری', num_return_sequences=2)"
      ]
    },
    {
      "cell_type": "markdown",
      "metadata": {
        "id": "-lDjFQHm3VLz"
      },
      "source": [
        "# Train  without Trainer API"
      ]
    },
    {
      "cell_type": "code",
      "source": [
        "# Function to format time\n",
        "def format_time(elapsed):\n",
        "    return str(datetime.timedelta(seconds=int(round((elapsed)))))"
      ],
      "metadata": {
        "id": "HDdPVQvtdTmi"
      },
      "execution_count": null,
      "outputs": []
    },
    {
      "cell_type": "code",
      "execution_count": null,
      "metadata": {
        "id": "94Y02Ojs3pWE"
      },
      "outputs": [],
      "source": [
        "# load agian\n",
        "\n",
        "import random\n",
        "from transformers import GPT2LMHeadModel, GPT2Config\n",
        "import numpy as np\n",
        "\n",
        "# Loading the model configuration and setting it to the GPT2 standard settings.\n",
        "configuration = GPT2Config.from_pretrained('./gpt2', output_hidden_states=False)\n",
        "\n",
        "# Create the instance of the model and set the token size embedding length\n",
        "model = GPT2LMHeadModel.from_pretrained(\"./gpt2\", config=configuration)\n",
        "model.resize_token_embeddings(len(tokenizer))\n",
        "\n",
        "# Tell pytorch to run this model on the GPU.\n",
        "device = torch.device(\"cuda\")\n",
        "model.cuda()\n",
        "\n",
        "# This step is optional but will enable reproducible runs.\n",
        "seed_val = 42\n",
        "\n",
        "random.seed(seed_val)\n",
        "np.random.seed(seed_val)\n",
        "torch.manual_seed(seed_val)\n",
        "torch.cuda.manual_seed_all(seed_val)"
      ]
    },
    {
      "cell_type": "code",
      "execution_count": null,
      "metadata": {
        "id": "8hxgySomITYV"
      },
      "outputs": [],
      "source": [
        "from torch.utils.data import DataLoader, RandomSampler, SequentialSampler\n",
        "\n",
        "train_dataloader = DataLoader(\n",
        "    train_dataset,\n",
        "    sampler=RandomSampler(train_dataset),\n",
        "    batch_size=8\n",
        ")\n",
        "\n",
        "validation_dataloader = DataLoader(\n",
        "    val_dataset,\n",
        "    sampler=SequentialSampler(val_dataset),\n",
        "    batch_size=8\n",
        ")"
      ]
    },
    {
      "cell_type": "code",
      "execution_count": null,
      "metadata": {
        "id": "2zgo4J21IaYc"
      },
      "outputs": [],
      "source": [
        "epochs = 3\n",
        "warmup_steps = 1e2\n",
        "sample_every = 1000"
      ]
    },
    {
      "cell_type": "code",
      "execution_count": null,
      "metadata": {
        "id": "t0C5AtZ8IdWa"
      },
      "outputs": [],
      "source": [
        "from transformers import AdamW\n",
        "\n",
        "# AdamW is a class from the huggingface library, it is the optimizer we will be using, and we will only be instantiating it with the default parameters.\n",
        "optimizer = AdamW(\n",
        "    model.parameters(),\n",
        "    lr=5e-4,\n",
        "    eps=1e-8\n",
        ")"
      ]
    },
    {
      "cell_type": "code",
      "execution_count": null,
      "metadata": {
        "id": "uiWGu9MsIcw8"
      },
      "outputs": [],
      "source": [
        "from transformers import get_linear_schedule_with_warmup\n",
        "\n",
        "\"\"\"\n",
        "Total training steps is the number of data points, times the number of epochs.\n",
        "Essentially, epochs are training cycles, how many times each point will be seen by the model.\n",
        "\"\"\"\n",
        "\n",
        "total_steps = len(train_dataloader) * epochs\n",
        "\n",
        "\"\"\"\n",
        "We can set a variable learning rate which will help scan larger areas of the\n",
        "problem space at higher LR earlier, then fine tune to find the exact model minima\n",
        "at lower LR later in training.\n",
        "\"\"\"\n",
        "scheduler = get_linear_schedule_with_warmup(\n",
        "    optimizer,\n",
        "    num_warmup_steps=warmup_steps,\n",
        "    num_training_steps=total_steps)\n"
      ]
    },
    {
      "cell_type": "markdown",
      "metadata": {
        "id": "GwdWKGAMEhVp"
      },
      "source": [
        "---"
      ]
    },
    {
      "cell_type": "code",
      "execution_count": null,
      "metadata": {
        "colab": {
          "base_uri": "https://localhost:8080/"
        },
        "id": "m-X-YWgdIgcT",
        "outputId": "957f6461-e83e-48da-ba1a-867292c51441"
      },
      "outputs": [
        {
          "name": "stderr",
          "output_type": "stream",
          "text": [
            "\r  0%|          | 0/3 [00:00<?, ?it/s]"
          ]
        },
        {
          "name": "stdout",
          "output_type": "stream",
          "text": [
            "Beginning epoch 1 of 3\n"
          ]
        },
        {
          "name": "stderr",
          "output_type": "stream",
          "text": [
            " 16%|█▋        | 1000/6134 [09:07<46:27,  1.84it/s]"
          ]
        },
        {
          "name": "stdout",
          "output_type": "stream",
          "text": [
            "\n",
            "Batch 1000 of 6134. Loss:3.04321026802063. Time:0:09:07\n",
            "Example output: رهی معیری\n",
            "آن سرو سرو که از می گل برکشید\n",
            "آن سرو که از گل برانداخت\n",
            "ز گل و بلبل و نسیم نوبهار\n",
            "بوی گل نمی‌آید هیچ که از باغ\n",
            "دلش به دست ما چون گل\n"
          ]
        },
        {
          "name": "stderr",
          "output_type": "stream",
          "text": [
            " 33%|███▎      | 2000/6134 [18:12<37:40,  1.83it/s]"
          ]
        },
        {
          "name": "stdout",
          "output_type": "stream",
          "text": [
            "\n",
            "Batch 2000 of 6134. Loss:3.6371259689331055. Time:0:18:13\n",
            "Example output: عطار\n",
            "در عشق تو با دل و جان تو کار دارم\n",
            "جانان و جان به جان تو کار دارم\n",
            "در هوای منی و تو را ز خود دور مگیر\n",
            "با روی تو کار دارم\n"
          ]
        },
        {
          "name": "stderr",
          "output_type": "stream",
          "text": [
            " 49%|████▉     | 3000/6134 [27:19<28:27,  1.84it/s]"
          ]
        },
        {
          "name": "stdout",
          "output_type": "stream",
          "text": [
            "\n",
            "Batch 3000 of 6134. Loss:1.5977991819381714. Time:0:27:19\n",
            "Example output: مهدی اخوان ثالث\n",
            "تو مرا در خانه خود از کجایی\n",
            "نه‌ای در آن کلبه که دورم\n",
            "نه‌ای در آن خانه که بر دیوار خانه و در کجایی\n",
            "نه‌ای در این خانه نه‌ای در آن اتاق‌\n"
          ]
        },
        {
          "name": "stderr",
          "output_type": "stream",
          "text": [
            " 65%|██████▌   | 4000/6134 [36:25<19:21,  1.84it/s]"
          ]
        },
        {
          "name": "stdout",
          "output_type": "stream",
          "text": [
            "\n",
            "Batch 4000 of 6134. Loss:2.7165448665618896. Time:0:36:25\n",
            "Example output: مهستی گنجوی\n",
            "یک کوزهٔ کان به روی آب آمد\n",
            "وان کوزه که گردون پر از آب آمد\n",
            "در بادیه رفت سوی کوه و دشت\n",
            "تا پیش ازین هر دو جهان آب آمد\n"
          ]
        },
        {
          "name": "stderr",
          "output_type": "stream",
          "text": [
            " 82%|████████▏ | 5000/6134 [45:30<10:18,  1.83it/s]"
          ]
        },
        {
          "name": "stdout",
          "output_type": "stream",
          "text": [
            "\n",
            "Batch 5000 of 6134. Loss:1.9140933752059937. Time:0:45:31\n",
            "Example output: سعدی\n",
            "عشق او مرا که در جهان عشقست\n",
            "می‌کشدم ولی به هیچ در خم عشقست\n",
            "عشقش که هست بر دلم چو عود\n",
            "آن را که دوست می‌خورم و می‌زنم\n"
          ]
        },
        {
          "name": "stderr",
          "output_type": "stream",
          "text": [
            " 98%|█████████▊| 6000/6134 [54:36<01:13,  1.83it/s]"
          ]
        },
        {
          "name": "stdout",
          "output_type": "stream",
          "text": [
            "\n",
            "Batch 6000 of 6134. Loss:2.5854153633117676. Time:0:54:37\n",
            "Example output: کسایی\n",
            "ای همه خوبان تو، ای همه خوبان تو\n",
            "همه خوبان تو، هر چند که بی‌خود تو\n",
            "گر تو گویم نهٔ خویش نه‌ای ز تو\n",
            "با تو گویمت چو منی و\n"
          ]
        },
        {
          "name": "stderr",
          "output_type": "stream",
          "text": [
            "100%|██████████| 6134/6134 [55:50<00:00,  1.83it/s]\n"
          ]
        },
        {
          "name": "stdout",
          "output_type": "stream",
          "text": [
            "\n",
            "Average Training Loss: 2.592026723142474. Epoch time: 0:55:51\n",
            "\n"
          ]
        },
        {
          "name": "stderr",
          "output_type": "stream",
          "text": [
            "100%|██████████| 682/682 [02:00<00:00,  5.66it/s]\n",
            " 33%|███▎      | 1/3 [57:51<1:55:42, 3471.10s/it]"
          ]
        },
        {
          "name": "stdout",
          "output_type": "stream",
          "text": [
            "\n",
            "Validation loss: 2.3212940832736555. Validation Time: 0:02:01\n",
            "\n",
            "Beginning epoch 2 of 3\n"
          ]
        },
        {
          "name": "stderr",
          "output_type": "stream",
          "text": [
            "  3%|▎         | 183/6134 [01:39<54:10,  1.83it/s]"
          ]
        }
      ],
      "source": [
        "import random\n",
        "import time\n",
        "import datetime\n",
        "from tqdm import tqdm\n",
        "\n",
        "\n",
        "def format_time(elapsed):\n",
        "    return str(datetime.timedelta(seconds=int(round((elapsed)))))\n",
        "\n",
        "\n",
        "total_t0 = time.time()\n",
        "\n",
        "training_stats = []\n",
        "\n",
        "model = model.to(device)\n",
        "\n",
        "for epoch_i in tqdm(range(0, epochs), position=0):\n",
        "\n",
        "    print(f'Beginning epoch {epoch_i + 1} of {epochs}')\n",
        "\n",
        "    t0 = time.time()\n",
        "\n",
        "    total_train_loss = 0\n",
        "\n",
        "    model.train()\n",
        "\n",
        "    for step, batch in tqdm(enumerate(train_dataloader), total=len(train_dataloader), position=0):\n",
        "\n",
        "        b_input_ids = batch['input_ids'].to(device)\n",
        "        b_labels = batch['input_ids'].to(device)\n",
        "        b_masks = batch['attention_mask'].to(device)\n",
        "\n",
        "        model.zero_grad()\n",
        "\n",
        "        outputs = model(b_input_ids, labels=b_labels, attention_mask=b_masks, token_type_ids=None)\n",
        "\n",
        "        loss = outputs[0]\n",
        "\n",
        "        batch_loss = loss.item()\n",
        "        total_train_loss += batch_loss\n",
        "\n",
        "        # Get sample every 1000 batches.\n",
        "        if step % sample_every == 0 and not step == 0:\n",
        "\n",
        "            elapsed = format_time(time.time() - t0)\n",
        "            print()\n",
        "            print(f'Batch {step} of {len(train_dataloader)}. Loss:{batch_loss}. Time:{elapsed}')\n",
        "\n",
        "            model.eval()\n",
        "\n",
        "            sample_poet = poets[np.random.randint(0, len(poets))]\n",
        "            sample_input = f\"<s>{sample_poet}<|startoftext|>\"\n",
        "            sample_input_ids = torch.tensor(tokenizer([sample_input])[\"input_ids\"])\n",
        "            sample_input_ids = sample_input_ids.to(device)\n",
        "\n",
        "            sample_outputs = model.generate(\n",
        "                input_ids=sample_input_ids,\n",
        "                # bos_token_id=random.randint(1, len(tokenizer.get_vocab())),\n",
        "                do_sample=True,\n",
        "                top_k=50,\n",
        "                max_length=50,\n",
        "                top_p=0.95,\n",
        "                num_return_sequences=1\n",
        "            )\n",
        "            for i, sample_output in enumerate(sample_outputs):\n",
        "                gen_sample_output = tokenizer.decode(sample_output, skip_special_tokens=False)\n",
        "                gen_sample_output = gen_sample_output.replace(\"<|startoftext|>\", \"\\n\")\n",
        "                gen_sample_output = gen_sample_output.replace(\"<s>\", \"\")\n",
        "                gen_sample_output = gen_sample_output.replace(\"</s>\", \"\")\n",
        "                gen_sample_output = gen_sample_output.replace(\"<sep>\", \"\\n\")\n",
        "\n",
        "                print(f'Example output: {gen_sample_output}')\n",
        "\n",
        "            model.train()\n",
        "\n",
        "        loss.backward()\n",
        "        optimizer.step()\n",
        "        scheduler.step()\n",
        "\n",
        "    # Calculate the average loss over all of the batches.\n",
        "    avg_train_loss = total_train_loss / len(train_dataloader)\n",
        "\n",
        "    # Measure how long this epoch took.\n",
        "    training_time = format_time(time.time() - t0)\n",
        "\n",
        "    print()\n",
        "    print(f'Average Training Loss: {avg_train_loss}. Epoch time: {training_time}')\n",
        "    print()\n",
        "\n",
        "    t0 = time.time()\n",
        "\n",
        "    model.eval()\n",
        "\n",
        "    total_eval_loss = 0\n",
        "    nb_eval_steps = 0\n",
        "\n",
        "    # Evaluate data for one epoch\n",
        "    for batch in tqdm(validation_dataloader, total=len(validation_dataloader), position=0):\n",
        "\n",
        "        b_input_ids = batch['input_ids'].to(device)\n",
        "        b_labels = batch['input_ids'].to(device)\n",
        "        b_masks = batch['attention_mask'].to(device)\n",
        "\n",
        "        with torch.no_grad():\n",
        "\n",
        "            outputs = model(b_input_ids, attention_mask=b_masks, labels=b_labels)\n",
        "\n",
        "            loss = outputs[0]\n",
        "\n",
        "        batch_loss = loss.item()\n",
        "        total_eval_loss += batch_loss\n",
        "\n",
        "    avg_val_loss = total_eval_loss / len(validation_dataloader)\n",
        "\n",
        "    validation_time = format_time(time.time() - t0)\n",
        "\n",
        "    print()\n",
        "    print(f'Validation loss: {avg_val_loss}. Validation Time: {validation_time}')\n",
        "    print()\n",
        "\n",
        "    # Record all statistics from this epoch.\n",
        "    training_stats.append(\n",
        "        {\n",
        "            'epoch': epoch_i + 1,\n",
        "            'Training Loss': avg_train_loss,\n",
        "            'Valid. Loss': avg_val_loss,\n",
        "            'Training Time': training_time,\n",
        "            'Validation Time': validation_time\n",
        "        }\n",
        "    )\n",
        "\n",
        "print(f'Total training took {format_time(time.time()-total_t0)}')"
      ]
    },
    {
      "cell_type": "code",
      "execution_count": null,
      "metadata": {
        "colab": {
          "base_uri": "https://localhost:8080/",
          "height": 426
        },
        "id": "uzzFo1-zIhna",
        "outputId": "630f5ad3-44e4-4539-cecf-b2ca7bc9b3f7"
      },
      "outputs": [
        {
          "data": {
            "image/png": "[encoded data removed]",
            "text/plain": [
              "<Figure size 864x432 with 1 Axes>"
            ]
          },
          "metadata": {
            "tags": []
          },
          "output_type": "display_data"
        }
      ],
      "source": [
        "import seaborn as sns\n",
        "import matplotlib.pyplot as plt\n",
        "%matplotlib inline\n",
        "\n",
        "pd.set_option('precision', 2)\n",
        "df_stats = pd.DataFrame(data=training_stats)\n",
        "df_stats = df_stats.set_index('epoch')\n",
        "\n",
        "# Use plot styling from seaborn.\n",
        "sns.set(style='darkgrid')\n",
        "\n",
        "# Increase the plot size and font size.\n",
        "sns.set(font_scale=1.5)\n",
        "plt.rcParams[\"figure.figsize\"] = (12,6)\n",
        "\n",
        "# Plot the learning curve.\n",
        "plt.plot(df_stats['Training Loss'], 'b-o', label=\"Training\")\n",
        "plt.plot(df_stats['Valid. Loss'], 'g-o', label=\"Validation\")\n",
        "\n",
        "# Label the plot.\n",
        "plt.title(\"Training & Validation Loss\")\n",
        "plt.xlabel(\"Epoch\")\n",
        "plt.ylabel(\"Loss\")\n",
        "plt.legend()\n",
        "plt.xticks([1, 2, 3, 4])\n",
        "\n",
        "plt.show()"
      ]
    },
    {
      "cell_type": "code",
      "execution_count": null,
      "metadata": {
        "id": "b7s2FziqJn1x"
      },
      "outputs": [],
      "source": [
        "import os\n",
        "\n",
        "output_dir = '/content/gpt2-fa-poetry'\n",
        "os.makedirs(output_dir, exist_ok=True)\n",
        "\n",
        "model.save_pretrained(output_dir)\n",
        "tokenizer.save_pretrained(output_dir)\n",
        "configuration.save_pretrained(output_dir)\n",
        "!cp /content/gpt2/tokenizer.json /content/gpt2-fa-poetry/"
      ]
    },
    {
      "cell_type": "code",
      "execution_count": null,
      "metadata": {
        "id": "Dh2FAX8CJueV"
      },
      "outputs": [],
      "source": [
        "import re\n",
        "\n",
        "\n",
        "def generator(model, poet, max_length=128, num_return_sequences=3):\n",
        "    model.eval()\n",
        "    prompt = f\"<s>{poet}<|startoftext|>\"\n",
        "    print(prompt)\n",
        "\n",
        "    generated = torch.tensor(tokenizer.encode(prompt)).unsqueeze(0)\n",
        "    generated = generated.to(device)\n",
        "\n",
        "    decoded_outputs = model.generate(\n",
        "        generated,\n",
        "        do_sample=True,\n",
        "        top_k=50,\n",
        "        max_length=max_length,\n",
        "        top_p=0.95,\n",
        "        num_return_sequences=num_return_sequences\n",
        "    )\n",
        "\n",
        "\n",
        "    outputs = []\n",
        "    for i, output in enumerate(decoded_outputs):\n",
        "        o = tokenizer.decode(output, skip_special_tokens=False)\n",
        "        o = o.replace(\"<s>\", \"\").replace(\"</s>\", \"\")\n",
        "        outputs.append(o)\n",
        "\n",
        "\n",
        "\n",
        "    display.display(display.HTML(\"\"\"\n",
        "    <style>\n",
        "    @import url(\"https://cdn.jsdelivr.net/gh/rastikerdar/vazir-font@v27.1.0/dist/font-face.css\");\n",
        "\n",
        "    table.xxx {\n",
        "        margin-right: 15px;\n",
        "        font-size: 14px;\n",
        "        direction: rtl !important;\n",
        "        width: 100%;\n",
        "        display: flex;\n",
        "    }\n",
        "    table.xxx td {\n",
        "        min-width: 300px !important;\n",
        "        direction: rtl !important;\n",
        "        text-align: right !important;\n",
        "        font-family: \"Vazir\" !important;\n",
        "    }\n",
        "    </style>\n",
        "    \"\"\".strip()))\n",
        "\n",
        "\n",
        "    df = pd.DataFrame(outputs, columns=[\"generated\"])\n",
        "    df[\"generated\"] = df[\"generated\"].apply(lambda t: re.sub(\"\\n+\", \"\\n\", t.replace(\"<sep>\", \"\\n\")))\n",
        "    df[\"generated\"] = df[\"generated\"].apply(lambda t: \"<p>\" + t.replace(\"\\n\", \"<br/>\").replace(\"<|startoftext|>\", \"<br/>\").strip() + \"</p>\")\n",
        "\n",
        "\n",
        "    setup = {\n",
        "        'border': 2,\n",
        "        'show_dimensions': True,\n",
        "        'escape': False,\n",
        "        'justify': 'right',\n",
        "        'classes': 'xxx'\n",
        "    }\n",
        "    display.display(display.HTML(df.to_html(**setup)))"
      ]
    },
    {
      "cell_type": "code",
      "execution_count": null,
      "metadata": {
        "colab": {
          "base_uri": "https://localhost:8080/"
        },
        "id": "nP2S_uv3jRCr",
        "outputId": "e2d229e9-3984-4eec-cbc6-d885929c11e1"
      },
      "outputs": [
        {
          "name": "stdout",
          "output_type": "stream",
          "text": [
            "رودکی\n",
            "فردوسی\n",
            "کسایی\n",
            "ناصرخسرو\n",
            "منوچهری\n",
            "فرخی سیستانی\n",
            "مسعود سعد سلمان\n",
            "ابوسعید ابوالخیر\n",
            "باباطاهر\n",
            "فخرالدین اسعد گرگانی\n",
            "اسدی توسی\n",
            "هجویری\n",
            "خیام\n",
            "نظامی\n",
            "عطار\n",
            "سنایی\n",
            "خاقانی\n",
            "انوری\n",
            "عبدالواسع جبلی\n",
            "نصرالله منشی\n",
            "مهستی گنجوی\n",
            "باباافضل کاشانی\n",
            "مولوی\n",
            "سعدی\n",
            "خواجوی کرمانی\n",
            "عراقی\n",
            "سیف فرغانی\n",
            "حافظ\n",
            "اوحدی\n",
            "شیخ محمود شبستری\n",
            "عبید زاکانی\n",
            "امیرخسرو دهلوی\n",
            "سلمان ساوجی\n",
            "شاه نعمت‌الله ولی\n",
            "جامی\n",
            "هلالی جغتایی\n",
            "وحشی\n",
            "محتشم کاشانی\n",
            "شیخ بهایی\n",
            "عرفی\n",
            "رضی‌الدین آرتیمانی\n",
            "صائب تبریزی\n",
            "فیض کاشانی\n",
            "بیدل دهلوی\n",
            "هاتف اصفهانی\n",
            "فروغی بسطامی\n",
            "قاآنی\n",
            "ملا هادی سبزواری\n",
            "پروین اعتصامی\n",
            "ملک‌الشعرای بهار\n",
            "شهریار\n",
            "رهی معیری\n",
            "اقبال لاهوری\n",
            "خلیل‌الله خلیلی\n",
            "شاطرعباس صبوحی\n",
            "نیما یوشیج ( آوای آزاد )\n",
            "احمد شاملو\n",
            "سهراب سپهری\n",
            "فروغ فرخزاد\n",
            "سیمین بهبهانی\n",
            "مهدی اخوان ثالث\n",
            "محمدحسن بارق شفیعی\n",
            "شیون فومنی\n",
            "کامبیز صدیقی کسمایی\n",
            "بهرام سالکی\n",
            "عبدالقهّار عاصی\n",
            "اِ لیـــار    (جبار محمدی )\n"
          ]
        }
      ],
      "source": [
        "print(\"\\n\".join(poets))"
      ]
    },
    {
      "cell_type": "markdown",
      "metadata": {
        "id": "4zgmx6yj6J97"
      },
      "source": [
        "## Test pretrained model loaded from \"HooshvareLab/gpt2-fa-poetry\":"
      ]
    },
    {
      "cell_type": "code",
      "execution_count": null,
      "metadata": {
        "colab": {
          "base_uri": "https://localhost:8080/"
        },
        "id": "F1XcY6Dh_ouk",
        "outputId": "a1f88053-48be-424a-d9ef-04feaf2ec737"
      },
      "outputs": [
        {
          "data": {
            "text/plain": [
              "GPT2LMHeadModel(\n",
              "  (transformer): GPT2Model(\n",
              "    (wte): Embedding(42001, 768)\n",
              "    (wpe): Embedding(1024, 768)\n",
              "    (drop): Dropout(p=0.1, inplace=False)\n",
              "    (h): ModuleList(\n",
              "      (0-11): 12 x GPT2Block(\n",
              "        (ln_1): LayerNorm((768,), eps=1e-05, elementwise_affine=True)\n",
              "        (attn): GPT2Attention(\n",
              "          (c_attn): Conv1D(nf=2304, nx=768)\n",
              "          (c_proj): Conv1D(nf=768, nx=768)\n",
              "          (attn_dropout): Dropout(p=0.1, inplace=False)\n",
              "          (resid_dropout): Dropout(p=0.1, inplace=False)\n",
              "        )\n",
              "        (ln_2): LayerNorm((768,), eps=1e-05, elementwise_affine=True)\n",
              "        (mlp): GPT2MLP(\n",
              "          (c_fc): Conv1D(nf=3072, nx=768)\n",
              "          (c_proj): Conv1D(nf=768, nx=3072)\n",
              "          (act): NewGELUActivation()\n",
              "          (dropout): Dropout(p=0.1, inplace=False)\n",
              "        )\n",
              "      )\n",
              "    )\n",
              "    (ln_f): LayerNorm((768,), eps=1e-05, elementwise_affine=True)\n",
              "  )\n",
              "  (lm_head): Linear(in_features=768, out_features=42001, bias=False)\n",
              ")"
            ]
          },
          "execution_count": 127,
          "metadata": {},
          "output_type": "execute_result"
        }
      ],
      "source": [
        "## load pretrained mdoel from huggingface\n",
        "from transformers import AutoTokenizer, AutoModelForCausalLM\n",
        "\n",
        "tokenizer = AutoTokenizer.from_pretrained(\"HooshvareLab/gpt2-fa-poetry\")\n",
        "pretrained_model = AutoModelForCausalLM.from_pretrained(\"HooshvareLab/gpt2-fa-poetry\")\n",
        "pretrained_model.to('cuda')"
      ]
    },
    {
      "cell_type": "code",
      "execution_count": null,
      "metadata": {
        "colab": {
          "base_uri": "https://localhost:8080/",
          "height": 567
        },
        "id": "_bmLmC3m_orw",
        "outputId": "6a8309ef-30b8-4c1d-e5e6-c86aeb567cf9"
      },
      "outputs": [
        {
          "name": "stdout",
          "output_type": "stream",
          "text": [
            "<s>حافظ<|startoftext|>\n"
          ]
        },
        {
          "data": {
            "text/html": [
              "<style>\n",
              "    @import url(\"https://cdn.jsdelivr.net/gh/rastikerdar/vazir-font@v27.1.0/dist/font-face.css\");\n",
              "\n",
              "    table.xxx {\n",
              "        margin-right: 15px;\n",
              "        font-size: 14px;\n",
              "        direction: rtl !important;\n",
              "        width: 100%;\n",
              "        display: flex;\n",
              "    }\n",
              "    table.xxx td {\n",
              "        min-width: 300px !important;\n",
              "        direction: rtl !important;\n",
              "        text-align: right !important;\n",
              "        font-family: \"Vazir\" !important;\n",
              "    }\n",
              "    </style>"
            ],
            "text/plain": [
              "<IPython.core.display.HTML object>"
            ]
          },
          "metadata": {},
          "output_type": "display_data"
        },
        {
          "data": {
            "text/html": [
              "<table border=\"2\" class=\"dataframe xxx\">\n",
              "  <thead>\n",
              "    <tr style=\"text-align: right;\">\n",
              "      <th></th>\n",
              "      <th>generated</th>\n",
              "    </tr>\n",
              "  </thead>\n",
              "  <tbody>\n",
              "    <tr>\n",
              "      <th>0</th>\n",
              "      <td><p>حافظ<br/>ای دل مکن از غصه که او یار منست<br/>دل شد گرفتار تو و دلدار منست<br/>بگذار ای طبیب که بیمار منست<br/>دل نیست جز آن غمزه که بیمار منست<br/>گوئی که صبر گوشه‌ای از من بگیر<br/>کانجا که عشق بر سر بازار منست<br/>سرها به باد رفت و من از دست رفت دل<br/>یارب چه کار در سر دستار منست<br/>مشنو ز من که از می و معشوق مست است<br/>مستقبلانه عشق که بسیار منست<br/>با آن که در دل و سینه دارم امید نیست<br/>این در وصال بود و در یار</p></td>\n",
              "    </tr>\n",
              "    <tr>\n",
              "      <th>1</th>\n",
              "      <td><p>حافظ<br/>یاد باد آنروز که از چشم تو ما را گله بودی<br/>محال است که در صومعه با دلق تناسخ بودیم<br/>با غیر خدا گفتم و ما را بطلبیدند<br/>می‌خواست که این یار هم از خویش بود هم از خدا هم<br/>گفتم نتوان گفت که از کوی خرابات درآمد<br/>گفت از نظرم غیر خدا هیچ مپرسید<br/>دل گفت بدارم به در صومعه با خود گفتم<br/>گفت از کرم شاه به خلوتگه شهنشاه<br/>حافظ ز برای سخن آمد همه را گفت<br/>تا آن که در میخانه دم از صدق زد و داد<br/>از دست و دلش توبه شکن بود و می و جام<br/>گفتم</p></td>\n",
              "    </tr>\n",
              "  </tbody>\n",
              "</table>\n",
              "<p>2 rows × 1 columns</p>"
            ],
            "text/plain": [
              "<IPython.core.display.HTML object>"
            ]
          },
          "metadata": {},
          "output_type": "display_data"
        }
      ],
      "source": [
        "generator(pretrained_model, 'حافظ', num_return_sequences=2)"
      ]
    },
    {
      "cell_type": "code",
      "execution_count": null,
      "metadata": {
        "colab": {
          "base_uri": "https://localhost:8080/",
          "height": 567
        },
        "id": "QcBsyfiELosS",
        "outputId": "707f80e4-a0a0-4652-c658-003f18209a5d"
      },
      "outputs": [
        {
          "name": "stdout",
          "output_type": "stream",
          "text": [
            "<s>شهریار<|startoftext|>\n"
          ]
        },
        {
          "data": {
            "text/html": [
              "<style>\n",
              "    @import url(\"https://cdn.jsdelivr.net/gh/rastikerdar/vazir-font@v27.1.0/dist/font-face.css\");\n",
              "\n",
              "    table.xxx {\n",
              "        margin-right: 15px;\n",
              "        font-size: 14px;\n",
              "        direction: rtl !important;\n",
              "        width: 100%;\n",
              "        display: flex;\n",
              "    }\n",
              "    table.xxx td {\n",
              "        min-width: 300px !important;\n",
              "        direction: rtl !important;\n",
              "        text-align: right !important;\n",
              "        font-family: \"Vazir\" !important;\n",
              "    }\n",
              "    </style>"
            ],
            "text/plain": [
              "<IPython.core.display.HTML object>"
            ]
          },
          "metadata": {},
          "output_type": "display_data"
        },
        {
          "data": {
            "text/html": [
              "<table border=\"2\" class=\"dataframe xxx\">\n",
              "  <thead>\n",
              "    <tr style=\"text-align: right;\">\n",
              "      <th></th>\n",
              "      <th>generated</th>\n",
              "    </tr>\n",
              "  </thead>\n",
              "  <tbody>\n",
              "    <tr>\n",
              "      <th>0</th>\n",
              "      <td><p>شهریار<br/>شب از من برد و غم از دل نبرد غمگسار ما<br/>شب از من برد و دل از جان نبرد غمگسار ما<br/>چو لاله از دل خونین فروچکید اشک و باز<br/>غزل آمد به گوش گل صدای سار ما<br/>ز آه سینه سوز سینه سوز ما گذشت<br/>ز دود سینه دم سرد روزگار ما<br/>به کام دل ز مژگان جگر خراش دمید<br/>چو آه گرم از دل بی تاب شهریار ما<br/>سپهر ما به سرگشتگی و چشم اشکبار<br/>به سوی آسمان چارده رفت و چارما<br/>غبار غم به دامان کوه غم نشست<br/>غبار غم به دامان کوه غم نشست</p></td>\n",
              "    </tr>\n",
              "    <tr>\n",
              "      <th>1</th>\n",
              "      <td><p>شهریار<br/>هر که از جور تو بی بهره نه مرد سفرست<br/>یارب این دیده که گریان شده شبگیر درست<br/>گرنه تنها به تو ای تازه گل باغ حیات<br/>گل سوری چرا بر رخ یاران به درست<br/>با غم عشق تو یک عمر چه باشد گرمیم<br/>کاروان همه شب ناله زار و جگرست<br/>گر چه عمری به سر کوی تو می آیم باز<br/>چشم گریان ز پی همرهی باد سحرست<br/>گر چه در سینه من عشق تو بی سوز بود<br/>آه من باد کز او ناله نی هم جگرست<br/>در گذر از دو سه روزی که به بازار وجود<br/>هر دو بازار وجود از</p></td>\n",
              "    </tr>\n",
              "  </tbody>\n",
              "</table>\n",
              "<p>2 rows × 1 columns</p>"
            ],
            "text/plain": [
              "<IPython.core.display.HTML object>"
            ]
          },
          "metadata": {},
          "output_type": "display_data"
        }
      ],
      "source": [
        "generator(pretrained_model, 'شهریار', num_return_sequences=2)"
      ]
    },
    {
      "cell_type": "code",
      "execution_count": null,
      "metadata": {
        "colab": {
          "base_uri": "https://localhost:8080/",
          "height": 341
        },
        "id": "wsB-3HZCNbaE",
        "outputId": "064067bf-9ed8-45bd-c9c8-e28abf4a8bd8"
      },
      "outputs": [
        {
          "name": "stdout",
          "output_type": "stream",
          "text": [
            "<s>سهراب سپهری<|startoftext|>\n"
          ]
        },
        {
          "data": {
            "text/html": [
              "<style>\n",
              "    @import url(\"https://cdn.jsdelivr.net/gh/rastikerdar/vazir-font@v27.1.0/dist/font-face.css\");\n",
              "\n",
              "    table.xxx {\n",
              "        margin-right: 15px;\n",
              "        font-size: 14px;\n",
              "        direction: rtl !important;\n",
              "        width: 100%;\n",
              "        display: flex;\n",
              "    }\n",
              "    table.xxx td {\n",
              "        min-width: 300px !important;\n",
              "        direction: rtl !important;\n",
              "        text-align: right !important;\n",
              "        font-family: \"Vazir\" !important;\n",
              "    }\n",
              "    </style>"
            ],
            "text/plain": [
              "<IPython.core.display.HTML object>"
            ]
          },
          "metadata": {},
          "output_type": "display_data"
        },
        {
          "data": {
            "text/html": [
              "<table border=\"2\" class=\"dataframe xxx\">\n",
              "  <thead>\n",
              "    <tr style=\"text-align: right;\">\n",
              "      <th></th>\n",
              "      <th>generated</th>\n",
              "    </tr>\n",
              "  </thead>\n",
              "  <tbody>\n",
              "    <tr>\n",
              "      <th>0</th>\n",
              "      <td><p>سهراب سپهری<br/>در گل و من ، ای نسیم سرد و باران ، ای نسیم روشن!<br/>ای بهار سبز! در این سبز میدان ، ای بهار شبنم!<br/>ای نسیم سرد، ای اشک گرمم ! ای نهال گل ، از این نسیم سوزان ، بگذر<br/>از میان گل و شبنم ، به سوی من نگاه کن<br/>ای نسیم صبح ، ای آب ، ای شبنم! ای شبنم! ای شبنم! ای شبنم! ای شبنم! ای شبنم!<br/>من چه دارم ؟ یا چه دارم ؟ ای شبنم!<br/>ای نسیم گل! این شبنم ، ای شبنم! ای شبنم! ای شبنم! ای شبنم!</p></td>\n",
              "    </tr>\n",
              "    <tr>\n",
              "      <th>1</th>\n",
              "      <td><p>سهراب سپهری<br/>در باغ ، و دیوار من ، دیوار من ، دیوار من ، در آب ، و دود چراغ من ، و دود چراغ من ، بر در می شکند .<br/>به چشم خودم ، در خواب ، و در رگ های خواب ، و صدا می شکند .<br/>در هر جنبشی این رنگ ، و در هر تار ، و در هر پرده ، صدایی می نشیند.<br/>می جوشد ، و می ریزد ، و می ریزد ، و می چسبد ، و در وزش زمزمه ، و در هیچ ، و در هر تپش این بوی، گل می بندد ، و می ریزد ، و می</p></td>\n",
              "    </tr>\n",
              "  </tbody>\n",
              "</table>\n",
              "<p>2 rows × 1 columns</p>"
            ],
            "text/plain": [
              "<IPython.core.display.HTML object>"
            ]
          },
          "metadata": {},
          "output_type": "display_data"
        }
      ],
      "source": [
        " generator(pretrained_model, 'سهراب سپهری', num_return_sequences=2)"
      ]
    }
  ],
  "metadata": {
    "accelerator": "GPU",
    "colab": {
      "gpuType": "T4",
      "provenance": []
    },
    "kernelspec": {
      "display_name": "Python 3",
      "name": "python3"
    }
  },
  "nbformat": 4,
  "nbformat_minor": 0
}
